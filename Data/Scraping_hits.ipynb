{
 "cells": [
  {
   "cell_type": "code",
   "execution_count": 4,
   "metadata": {
    "collapsed": true
   },
   "outputs": [],
   "source": [
    "import pandas as pd\n",
    "import numpy as np\n",
    "\n",
    "import psycopg2 as pg\n",
    "import pandas.io.sql as psql\n",
    "\n",
    "import matplotlib.pyplot as plt\n",
    "\n",
    "%matplotlib inline\n",
    "\n",
    "from algoliasearch import algoliasearch\n",
    "from pymongo import MongoClient\n",
    "\n",
    "import json\n",
    "import time\n"
   ]
  },
  {
   "cell_type": "code",
   "execution_count": 3,
   "metadata": {},
   "outputs": [
    {
     "data": {
      "text/plain": [
       "190"
      ]
     },
     "execution_count": 3,
     "metadata": {},
     "output_type": "execute_result"
    }
   ],
   "source": [
    "2*229000/60/40\n"
   ]
  },
  {
   "cell_type": "code",
   "execution_count": 5,
   "metadata": {
    "collapsed": true
   },
   "outputs": [],
   "source": [
    "connection = pg.connect(dbname='brent', user='brent', host='localhost', password='brent')\n",
    "cur = connection.cursor()"
   ]
  },
  {
   "cell_type": "code",
   "execution_count": 6,
   "metadata": {
    "collapsed": true
   },
   "outputs": [],
   "source": [
    "table_names = ['addresses','categories',\n",
    "            'categories_products','category_features','clients',\n",
    "               'companies','featured_items','invitations','order_items',\n",
    "               'orders','popular_items','products','projects','projects_collaborators',\n",
    "               'projects_products','proposal_product','proposals','saved_searches',\n",
    "               'schema_version','showrooms','showrooms_vendors','spring_session',\n",
    "               'spring_session_attributes','styles','user_addresses',\n",
    "               'users','vendors','vendors_styles']"
   ]
  },
  {
   "cell_type": "code",
   "execution_count": 7,
   "metadata": {},
   "outputs": [
    {
     "name": "stdout",
     "output_type": "stream",
     "text": [
      "categories_products\n"
     ]
    }
   ],
   "source": [
    "d = {}\n",
    "for i in table_names:\n",
    "    cur.execute('SELECT * FROM {}'.format(i))\n",
    "    the_data = cur.fetchall()\n",
    "    colnames = [desc[0] for desc in cur.description]\n",
    "\n",
    "    d[i] = pd.DataFrame(the_data)\n",
    "    if len(d[i].columns) == len(colnames):\n",
    "        d[i].columns = colnames\n",
    "    else:\n",
    "        print i"
   ]
  },
  {
   "cell_type": "code",
   "execution_count": 8,
   "metadata": {
    "collapsed": true
   },
   "outputs": [],
   "source": [
    "# d_dyn = {}\n",
    "# c = 0\n",
    "# for idx,i in enumerate(d['products']['dynamoid']):\n",
    "#     if c == 1000:\n",
    "#         break\n",
    "#     elif \"|\" not in i:\n",
    "#         d_dyn[d['products']['id'][idx]] = i\n",
    "#         c+=1\n",
    "#     else:\n",
    "#         d_dyn[d['products']['id'][idx]] = i.split('|')[-1]\n",
    "#         c+=1"
   ]
  },
  {
   "cell_type": "markdown",
   "metadata": {},
   "source": [
    "# Importing libraries"
   ]
  },
  {
   "cell_type": "code",
   "execution_count": 9,
   "metadata": {
    "collapsed": true
   },
   "outputs": [],
   "source": [
    "# pymongo.version\n",
    "import pprint\n",
    "import pymongo\n",
    "import pyspark\n",
    "import pandas as pd\n",
    "import numpy as np\n",
    "import json\n"
   ]
  },
  {
   "cell_type": "markdown",
   "metadata": {},
   "source": [
    "# Initialize Mongodb"
   ]
  },
  {
   "cell_type": "code",
   "execution_count": 10,
   "metadata": {
    "collapsed": true
   },
   "outputs": [],
   "source": [
    "cl = pymongo.MongoClient()\n",
    "\n",
    "coll = cl.desinc_collection.products_db"
   ]
  },
  {
   "cell_type": "markdown",
   "metadata": {},
   "source": [
    "# Initialize Algoliasearch"
   ]
  },
  {
   "cell_type": "code",
   "execution_count": 11,
   "metadata": {
    "collapsed": true
   },
   "outputs": [],
   "source": [
    "\n",
    "cl = algoliasearch.Client(\"88M6DNE4VR\", 'a1d710a60be87b6f6688be3d3b13221c')\n",
    "index = cl.init_index('di_raw_products_prod')\n"
   ]
  },
  {
   "cell_type": "markdown",
   "metadata": {},
   "source": [
    "# Initialization of search algorithm\n",
    "only to be run the first initialization.\n",
    "After initialization, hashed out."
   ]
  },
  {
   "cell_type": "code",
   "execution_count": 12,
   "metadata": {
    "collapsed": true
   },
   "outputs": [],
   "source": [
    "# Initialization of search algorithm\n",
    "# items_max = {}\n",
    "# items_max['max'] = 0\n",
    "# items = {}"
   ]
  },
  {
   "cell_type": "markdown",
   "metadata": {},
   "source": [
    "# Search / scrape algorithm\n",
    "\n",
    "### Steps\n",
    "Search using product dynamoids - unique ids used for lookup.\n",
    "\n",
    "I could not successfully search for more than one item, max hit results was 20, regardless. Method: search for 1 at a time, which would be next on the list of 'dynamoids', the unique product ids.\n",
    "\n",
    "Include a calculated break in the code for every 2+h of search.\n",
    "\n",
    "Record \"cursor\" as a mutable dictionary value, the index number of the dynamoid list, as {'max' : index#}\n",
    "\n",
    "Trial and error showed that a simple \"items\" {'dynamoid' : (hit result)} dictionary could be inputted one at a time \"insert_one() method\" into the mongodb.\n",
    "\n",
    "Added a counter, for every 1k, to verify that the process was running.\n",
    "\n",
    "If \"try\" was successful, then the \"items\" dictionary would be re-set to an empty dictionary.\n",
    "\n",
    "Except was added, in the event that the dynamoid yielded a failed result. 2p run failed after 39k calls... and constant failure after that point continued due to \"items = {}\" being below insert, rather than being freshly initiated at the beginning of the try loop. Re-ran and discovered only specific fails in this grouping.\n",
    "\n",
    "**in the future need to make a log for future troubleshooting**\n",
    "\n",
    "1953 fails.\n",
    "\n",
    "Typing those item ids into the website gets a result. For now, I need to move on with the data that I have available.\n",
    "\n",
    "\n",
    "### Testing\n",
    "Initially test for inputting 10 documents.\n",
    "\n",
    "Then test for 1000.\n",
    "\n",
    "Then run to complete groups of 100,000 documents.\n",
    "\n",
    "### Performance\n",
    "31k results could be gathered in 40min.\n",
    "\n",
    "For 400k results, scraping takes 8.6h.\n",
    "\n",
    "\n",
    "\n"
   ]
  },
  {
   "cell_type": "code",
   "execution_count": 20,
   "metadata": {
    "scrolled": true
   },
   "outputs": [
    {
     "name": "stdout",
     "output_type": "stream",
     "text": [
      "500\n",
      "1000\n",
      "1500\n",
      "2000\n",
      "2500\n",
      "3000\n",
      "3500\n",
      "4000\n",
      "4500\n",
      "5000\n",
      "5500\n",
      "6000\n",
      "6500\n",
      "7000\n",
      "7500\n",
      "8000\n",
      "8500\n",
      "9000\n",
      "9500\n",
      "10000\n",
      "10500\n",
      "11000\n",
      "11500\n",
      "12000\n",
      "12500\n",
      "13000\n",
      "13500\n",
      "14000\n",
      "14500\n",
      "15000\n",
      "15500\n",
      "16000\n",
      "16500\n",
      "17000\n",
      "17500\n",
      "18000\n",
      "18500\n",
      "19000\n",
      "19500\n",
      "20000\n",
      "20500\n",
      "21000\n",
      "21500\n",
      "22000\n",
      "22500\n",
      "23000\n",
      "23500\n",
      "24000\n",
      "24500\n",
      "25000\n",
      "25500\n",
      "26000\n",
      "26500\n",
      "27000\n",
      "27500\n",
      "28000\n",
      "28500\n",
      "29000\n",
      "fail: d8vEAp6-Malibu-Wl-78.75 29039\n",
      "fail: Q6gMO0q-Malibu-Wl-94.5 29285\n",
      "29500\n",
      "30000\n",
      "fail: aavKQ4Q-Malibu-NO-78.75 30395\n",
      "fail: Vl3oOGL-Malibu-NO-94.5 30396\n",
      "fail: xo7jNqj-Malibu-WO-78.75 30398\n",
      "fail: r7ajqEn-Malibu-WO-94.5 30399\n",
      "30500\n",
      "31000\n",
      "31500\n",
      "32000\n",
      "32500\n",
      "33000\n",
      "33500\n",
      "34000\n",
      "34500\n",
      "35000\n",
      "35500\n",
      "36000\n",
      "36500\n",
      "37000\n",
      "37500\n",
      "38000\n",
      "38500\n",
      "39000\n",
      "39500\n",
      "40000\n",
      "40500\n",
      "41000\n",
      "41500\n",
      "fail: bYjqeED-CZ-01 LT. BLUE 41642\n",
      "fail: rBMQg6a-CZ-01 LT. BLUE 41643\n",
      "fail: 80zKEo5-CZ-01 LT. BLUE 41644\n",
      "fail: 6XR1dEK-CZ-01 LT. BLUE 41645\n",
      "fail: mR8d33d-AF-04 ANT. IVORY / RUST 41803\n",
      "fail: DKwePPm-AF-04 ANT. IVORY / RUST 41804\n",
      "fail: AogAbby-AF-04 ANT. IVORY / RUST 41805\n",
      "fail: 2ZE7kko-AF-04 ANT. IVORY / RUST 41806\n",
      "fail: ewm541R-AF-04 ANT. IVORY / RUST 41807\n",
      "fail: N6a04Z3-AF-04 ANT. IVORY / RUST 41808\n",
      "fail: dq5Pdg6-AF-04 ANT. IVORY / RUST 41809\n",
      "fail: 47rxeYA-AF-04 ANT. IVORY / RUST 41810\n",
      "fail: EzLB5Ze-AF-04 ANT. IVORY / RUST 41811\n",
      "fail: R4JrQwG-AF-04 ANT. IVORY / RUST 41812\n",
      "fail: QMzboZE-AF-04 ANT. IVORY / RUST 41813\n",
      "fail: YGJ7rzR-AF-04 ANT. IVORY / RUST 41814\n",
      "fail: aYyJ2zY-AF-04 ANT. IVORY / RUST 41815\n",
      "fail: 07J9DEy-AF-04 ANT. IVORY / RUST 41816\n",
      "fail: N6a0443-CZ-01 LT. BLUE 41845\n",
      "fail: dq5Odd6-CZ-01 LT. BLUE 41846\n",
      "fail: 47rxeeA-CZ-01 LT. BLUE 41847\n",
      "fail: EzLB55e-CZ-01 LT. BLUE 41848\n",
      "42000\n",
      "fail: dq5ldXw-DL-04 GREY / LT. BLUE 42048\n",
      "fail: 47rxew5-DL-04 GREY / LT. BLUE 42049\n",
      "fail: EzLB5ld-DL-04 GREY / LT. BLUE 42050\n",
      "fail: oRdEbV5-DL-04 GREY / LT. BLUE 42051\n",
      "fail: QMzboRr-DL-04 GREY / LT. BLUE 42052\n",
      "fail: YGJ7rbB-DL-04 GREY / LT. BLUE 42053\n",
      "fail: XqXzbgw-DC-03 IVORY / LT. GREY 42099\n",
      "fail: wLmMgZA-DC-03 IVORY / LT. GREY 42100\n",
      "fail: BEykrbj-DC-03 IVORY / LT. GREY 42101\n",
      "fail: EzLB5gd-DL-04 GREY / LT. BLUE 42124\n",
      "fail: R4JrQVe-DL-04 GREY / LT. BLUE 42125\n",
      "fail: QMzboVr-DL-04 GREY / LT. BLUE 42126\n",
      "fail: YGJ7rjB-DL-04 GREY / LT. BLUE 42127\n",
      "fail: aYyJ2e7-DL-04 GREY / LT. BLUE 42128\n",
      "fail: 07J9D4k-DL-04 GREY / LT. BLUE 42129\n",
      "fail: yLArgmk-AF-07 SAND / LT. BLUE 42185\n",
      "fail: nRE4MVB-AF-07 SAND / LT. BLUE 42186\n",
      "fail: J7ao2k5-AF-07 SAND / LT. BLUE 42187\n",
      "fail: qRLogVz-AF-07 SAND / LT. BLUE 42188\n",
      "fail: XqXzbyw-AF-07 SAND / LT. BLUE 42189\n",
      "fail: wLmMgqA-AF-07 SAND / LT. BLUE 42190\n",
      "fail: BEykrVO-AF-07 SAND / LT. BLUE 42191\n",
      "fail: P0oMRVG-AF-07 SAND / LT. BLUE 42192\n",
      "fail: mR8d3M4-AF-07 SAND / LT. BLUE 42193\n",
      "fail: DKwePVo-AF-07 SAND / LT. BLUE 42194\n",
      "fail: kdNea0L-AF-07 SAND / LT. BLUE 42195\n",
      "fail: 2ZE7kRP-AF-07 SAND / LT. BLUE 42196\n",
      "fail: N6a04Vw-AF-07 SAND / LT. BLUE 42197\n",
      "fail: dq5Pd4w-AF-07 SAND / LT. BLUE 42198\n",
      "fail: WYb9MgB-AF-10 LT. BLUE / MIST 42255\n",
      "fail: 9qBnREz-AF-10 LT. BLUE / MIST 42256\n",
      "fail: 7Wgy49e-AF-10 LT. BLUE / MIST 42257\n",
      "fail: jLe2YZA-DC-03 IVORY / LT. GREY 42466\n",
      "fail: ld2N0Zw-DC-03 IVORY / LT. GREY 42467\n",
      "42500\n",
      "fail: dq5PdL4-FC-35 IVORY / LT. BLUE 42615\n",
      "fail: 47rxeG2-FC-35 IVORY / LT. BLUE 42616\n",
      "fail: ld2N0D6-FC-35 IVORY / LT. BLUE 42617\n",
      "fail: P0oMRAA-FC-35 IVORY / LT. BLUE 42618\n",
      "fail: 5yJGNZx-FC-35 IVORY / LT. BLUE 42619\n",
      "fail: VKXW35a-AF-10 LT. BLUE / MIST 42621\n",
      "fail: xxDbgew-AF-10 LT. BLUE / MIST 42622\n",
      "fail: G074DQ6-AF-10 LT. BLUE / MIST 42623\n",
      "fail: 17XzAbr-AF-10 LT. BLUE / MIST 42624\n",
      "fail: yLArgNA-AF-10 LT. BLUE / MIST 42625\n",
      "fail: K0yQe3k-AF-10 LT. BLUE / MIST 42626\n",
      "fail: nRE4MWY-AF-10 LT. BLUE / MIST 42627\n",
      "fail: J7ao207-AF-10 LT. BLUE / MIST 42628\n",
      "fail: qRLogPQ-AF-10 LT. BLUE / MIST 42629\n",
      "fail: XqXzbBO-AF-10 LT. BLUE / MIST 42630\n",
      "fail: gBADR32-AF-10 LT. BLUE / MIST 42631\n",
      "fail: wLmMg20-AF-11 ANT. IVORY / GOLD 42632\n",
      "fail: O0a3E8B-AF-11 ANT. IVORY / GOLD 42633\n",
      "fail: P0oMR6k-AF-11 ANT. IVORY / GOLD 42634\n",
      "fail: 5yJGNLW-AF-11 ANT. IVORY / GOLD 42635\n",
      "fail: mR8d3L2-AF-11 ANT. IVORY / GOLD 42636\n",
      "fail: DKwePEW-AF-11 ANT. IVORY / GOLD 42637\n",
      "fail: AogAbNX-AF-11 ANT. IVORY / GOLD 42638\n",
      "fail: kdNea8b-AF-11 ANT. IVORY / GOLD 42639\n",
      "fail: 2ZE7krk-AF-11 ANT. IVORY / GOLD 42640\n",
      "fail: ewm54a1-AF-11 ANT. IVORY / GOLD 42641\n",
      "fail: N6a04rd-AF-11 ANT. IVORY / GOLD 42642\n",
      "fail: dq5PdY4-AF-11 ANT. IVORY / GOLD 42643\n",
      "fail: EzLB5RR-AF-11 ANT. IVORY / GOLD 42644\n",
      "fail: EzLB5RR-AF-11 ANT. IVORY / GOLD-1 42645\n",
      "fail: oRdEb90-AF-11 ANT. IVORY / GOLD 42646\n",
      "fail: dq5PdL8-AF-14 LT. BLUE / IVORY 42690\n",
      "fail: EzLB5GD-AF-14 LT. BLUE / IVORY 42691\n",
      "fail: R4JrQ2d-AF-14 LT. BLUE / IVORY 42692\n",
      "fail: oRdEbBW-AF-14 LT. BLUE / IVORY 42693\n",
      "fail: aYyJ2Dd-AF-14 LT. BLUE / IVORY 42694\n",
      "fail: 47rxekD-AF-14 LT. BLUE / IVORY 42695\n",
      "fail: EzLB580-AF-14 LT. BLUE / IVORY 42696\n",
      "fail: R4JrQD4-AF-14 LT. BLUE / IVORY 42697\n",
      "fail: QMzbomd-AF-14 LT. BLUE / IVORY 42698\n",
      "fail: YGJ7r4P-AF-14 LT. BLUE / IVORY 42699\n",
      "fail: aYyJ23P-AF-14 LT. BLUE / IVORY 42700\n",
      "fail: 07J9D5q-AF-14 LT. BLUE / IVORY 42701\n",
      "fail: 37dV2AP-AF-14 LT. BLUE / IVORY 42702\n",
      "fail: rBMQgDA-AF-14 LT. BLUE / IVORY 42703\n",
      "fail: 6XR1deL-AF-15 IVORY / LT. GOLD 42704\n",
      "fail: WYb9MNP-AF-15 IVORY / LT. GOLD 42705\n",
      "fail: 9qBnR4R-AF-15 IVORY / LT. GOLD 42706\n",
      "fail: zLK8gEo-AF-15 IVORY / LT. GOLD 42707\n",
      "fail: 17XzAmG-AF-15 IVORY / LT. GOLD 42708\n",
      "fail: yLArg4z-AF-15 IVORY / LT. GOLD 42709\n",
      "fail: K0yQe74-AF-15 IVORY / LT. GOLD 42710\n",
      "fail: J7ao2zP-AF-15 IVORY / LT. GOLD 42711\n",
      "fail: qRLogmJ-AF-15 IVORY / LT. GOLD 42712\n",
      "fail: XqXzbd0-AF-15 IVORY / LT. GOLD 42713\n",
      "fail: gBADRL4-AF-15 IVORY / LT. GOLD 42714\n",
      "fail: wLmMgND-AF-15 IVORY / LT. GOLD 42715\n",
      "fail: BEykrMk-AF-15 IVORY / LT. GOLD 42716\n",
      "fail: BEykrMk-AF-15 IVORY / LT. GOLD-1 42717\n",
      "fail: P0oMR5e-AF-15 IVORY / LT. GOLD 42718\n",
      "fail: LyaYNgD-DC-03 IVORY / LT. GREY 42742\n",
      "fail: WYb9MgB-DC-03 IVORY / LT. GREY 42743\n",
      "fail: 9qBnREz-DC-03 IVORY / LT. GREY 42744\n",
      "fail: zLK8gdM-DC-03 IVORY / LT. GREY 42745\n",
      "fail: 7Wgy49e-DC-03 IVORY / LT. GREY 42746\n",
      "fail: ewm54W1-EU-06 LT. BLUE / NATURAL 42980\n",
      "43000\n",
      "fail: M06adD7-HH-05 LT. BLUE 43210\n",
      "fail: rBMQgnA-HH-05 LT. BLUE 43211\n",
      "fail: rBMQgnA-HH-05 LT. BLUE-1 43212\n",
      "fail: 6XR1doL-HH-05 LT. BLUE 43213\n",
      "fail: LyaYNmX-HH-05 LT. BLUE 43214\n",
      "fail: WYb9MoO-HH-05 LT. BLUE 43215\n",
      "fail: mR8d3nm-FC-59 LT. BLUE / SPICE 43400\n",
      "fail: DKwePdY-FC-59 LT. BLUE / SPICE 43401\n",
      "fail: AogAb2Q-FC-59 LT. BLUE / SPICE 43402\n",
      "43500\n",
      "fail: R4JrQ6X-EN-17 NAVY / LT. BLUE 43781\n",
      "fail: oRdEbJ6-EN-17 NAVY / LT. BLUE 43782\n",
      "fail: YGJ7rxz-EN-17 NAVY / LT. BLUE 43783\n",
      "fail: aYyJ2ZV-EN-17 NAVY / LT. BLUE 43784\n",
      "fail: 07J9D64-EN-17 NAVY / LT. BLUE 43785\n",
      "fail: J7ao2nE-EN-19 IVORY / LT. BLUE 43799\n",
      "fail: qRLogXE-EN-19 IVORY / LT. BLUE 43800\n",
      "fail: Z4bVOno-EN-19 IVORY / LT. BLUE 43801\n",
      "fail: gBADRnM-EN-19 IVORY / LT. BLUE 43802\n",
      "fail: wLmMgXm-EN-19 IVORY / LT. BLUE 43803\n",
      "fail: O0a3EwM-EN-19 IVORY / LT. BLUE 43804\n",
      "fail: vV53gXV-EN-19 IVORY / LT. BLUE 43805\n",
      "fail: 5yJGN0Q-EN-19 IVORY / LT. BLUE 43806\n",
      "fail: dq5PdJN-AF-19 TOBACCO / ANT. IVORY 43923\n",
      "fail: 47rxezX-AF-19 TOBACCO / ANT. IVORY 43924\n",
      "fail: EzLB54w-AF-19 TOBACCO / ANT. IVORY 43925\n",
      "fail: R4JrQ6X-AF-19 TOBACCO / ANT. IVORY 43926\n",
      "fail: oRdEbJ6-AF-19 TOBACCO / ANT. IVORY 43927\n",
      "fail: QMzbo8o-AF-19 TOBACCO / ANT. IVORY 43928\n",
      "fail: YGJ7rxz-AF-19 TOBACCO / ANT. IVORY 43929\n",
      "fail: aYyJ2ZV-AF-19 TOBACCO / ANT. IVORY 43930\n",
      "fail: 07J9D64-AF-19 TOBACCO / ANT. IVORY 43931\n",
      "fail: M06ad3b-AF-19 TOBACCO / ANT. IVORY 43932\n",
      "fail: rBMQgqb-AF-19 TOBACCO / ANT. IVORY 43933\n",
      "fail: 80zKEG8-AF-19 TOBACCO / ANT. IVORY 43934\n",
      "fail: 6XR1dVe-AF-19 TOBACCO / ANT. IVORY 43935\n",
      "fail: LyaYN0m-AF-19 TOBACCO / ANT. IVORY 43936\n",
      "44000\n",
      "fail: kdNeaJ1-FC-59 LT. BLUE / SPICE 44147\n",
      "fail: ewm54JG-FC-59 LT. BLUE / SPICE 44148\n",
      "fail: mR8d3GX-FO-01 LT. BLUE / IVORY 44451\n",
      "fail: AogAbWd-FO-01 LT. BLUE / IVORY 44452\n",
      "fail: ewm546n-FO-01 LT. BLUE / IVORY 44453\n",
      "fail: N6a04Pk-FO-01 LT. BLUE / IVORY 44454\n",
      "fail: dq5Pd8Q-FO-01 LT. BLUE / IVORY 44455\n",
      "fail: EzLB5BQ-FO-01 LT. BLUE / IVORY 44456\n",
      "fail: oRdEbEK-FO-01 LT. BLUE / IVORY 44457\n",
      "fail: QMzboby-FO-01 LT. BLUE / IVORY 44458\n",
      "fail: YGJ7r75-FO-01 LT. BLUE / IVORY 44459\n",
      "fail: aYyJ2Jb-FO-01 LT. BLUE / IVORY 44460\n",
      "fail: 07J9D9J-FO-01 LT. BLUE / IVORY 44461\n",
      "fail: 37dV2Vm-FO-01 LT. BLUE / IVORY 44462\n",
      "44500\n",
      "45000\n",
      "45500\n",
      "fail: aYyJ2rB-KH-05 BLUE / LT. BLUE 45592\n",
      "fail: 07J9Ddx-KH-05 BLUE / LT. BLUE 45593\n",
      "fail: 37dV2Y0-KH-05 BLUE / LT. BLUE 45594\n"
     ]
    },
    {
     "name": "stdout",
     "output_type": "stream",
     "text": [
      "fail: M06adLx-KH-05 BLUE / LT. BLUE 45595\n",
      "fail: rBMQgRq-KH-05 BLUE / LT. BLUE 45596\n",
      "fail: WYb9M5d-KH-05 BLUE / LT. BLUE 45597\n",
      "fail: 47rxYJe-PJ-03 CHAMPAGNE / LT. GREY 45874\n",
      "fail: ld2Nl1l-PJ-03 CHAMPAGNE / LT. GREY 45875\n",
      "fail: P0oMZqE-PJ-03 CHAMPAGNE / LT. GREY 45876\n",
      "fail: mR8dP9Z-PJ-03 CHAMPAGNE / LT. GREY 45877\n",
      "fail: DKweZQE-PJ-03 CHAMPAGNE / LT. GREY 45878\n",
      "fail: AogAZQG-PJ-03 CHAMPAGNE / LT. GREY 45879\n",
      "fail: kdNez3o-PJ-03 CHAMPAGNE / LT. GREY 45880\n",
      "fail: 2ZE7BNa-PJ-03 CHAMPAGNE / LT. GREY 45881\n",
      "fail: ewm51l8-PJ-03 CHAMPAGNE / LT. GREY 45882\n",
      "fail: N6a0Z3A-PJ-03 CHAMPAGNE / LT. GREY 45883\n",
      "fail: dq5PgbJ-PJ-03 CHAMPAGNE / LT. GREY 45884\n",
      "fail: 47rxYJa-PJ-03 CHAMPAGNE / LT. GREY 45885\n",
      "fail: EzLBZmK-PJ-03 CHAMPAGNE / LT. GREY 45886\n",
      "fail: R4Jrwb9-PJ-03 SILVER / LT. GREY 45887\n",
      "fail: oRdEm1y-PJ-03 SILVER / LT. GREY 45888\n",
      "fail: QMzbZ3b-PJ-03 SILVER / LT. GREY 45889\n",
      "fail: YGJ7zV6-PJ-03 SILVER / LT. GREY 45890\n",
      "fail: aYyJzdL-PJ-03 SILVER / LT. GREY 45891\n",
      "fail: 07J9EnA-PJ-03 SILVER / LT. GREY 45892\n",
      "fail: 37dVQrY-PJ-03 SILVER / LT. GREY 45893\n",
      "fail: M06aZM4-PJ-03 SILVER / LT. GREY 45894\n",
      "fail: bYlqK4D-PJ-03 SILVER / LT. GREY 45895\n",
      "fail: rBMQkaa-PJ-03 SILVER / LT. GREY 45896\n",
      "fail: 80zKM75-PJ-03 SILVER / LT. GREY 45897\n",
      "fail: 6XR102K-PJ-03 SILVER / LT. GREY 45898\n",
      "fail: LyaYZ2o-PJ-03 SILVER / LT. GREY 45899\n",
      "46000\n",
      "fail: vV53dxd-NV-05 LT. BLUE 46028\n",
      "fail: 5yJGaEY-NV-05 LT. BLUE 46029\n",
      "fail: mR8dl1Z-NV-05 LT. BLUE 46030\n",
      "fail: DKweZME-NV-05 LT. BLUE 46031\n",
      "fail: AogAZzG-NV-05 LT. BLUE 46032\n",
      "fail: 5yJGago-SG-01 LT. BLUE 46255\n",
      "fail: mR8dlWd-SG-01 LT. BLUE 46256\n",
      "fail: DKweZ5m-SG-01 LT. BLUE 46257\n",
      "fail: AogAZDy-SG-01 LT. BLUE 46258\n",
      "fail: kdNezgr-SG-01 LT. BLUE 46259\n",
      "fail: 2ZE7Bgo-SG-01 LT. BLUE 46260\n",
      "fail: ewm51GR-SG-01 LT. BLUE 46261\n",
      "46500\n",
      "fail: aYyJzXY-PU-03 ANT. IVORY / TAUPE 46516\n",
      "fail: 07J9EPy-PU-03 ANT. IVORY / TAUPE 46517\n",
      "fail: 37dVQK5-PU-03 ANT. IVORY / TAUPE 46518\n",
      "fail: bYlqKB5-PU-03 ANT. IVORY / TAUPE 46519\n",
      "fail: rBMQk10-PU-03 ANT. IVORY / TAUPE 46520\n",
      "fail: 80zKMBk-PU-03 ANT. IVORY / TAUPE 46521\n",
      "fail: 6XR10KJ-PU-03 ANT. IVORY / TAUPE 46522\n",
      "fail: R4JrwJe-KS-04 STONE / LT. BLUE 46883\n",
      "fail: oRdEmd5-KS-04 STONE / LT. BLUE 46884\n",
      "fail: QMzbZzr-KS-04 STONE / LT. BLUE 46885\n",
      "fail: YGJ7zJB-KS-04 STONE / LT. BLUE 46886\n",
      "fail: aYyJzy7-KS-04 STONE / LT. BLUE 46887\n",
      "fail: 07J9EJk-KS-04 STONE / LT. BLUE 46888\n",
      "fail: 37dVQd2-KS-04 STONE / LT. BLUE 46889\n",
      "fail: M06aZ6Z-KS-04 STONE / LT. BLUE 46890\n",
      "fail: bYOqKOV-KS-04 STONE / LT. BLUE 46891\n",
      "47000\n",
      "fail: aYyJzY6-VR-06 LT. BLUE / GREY 47469\n",
      "fail: 07J9E76-VR-06 LT. BLUE / GREY 47470\n",
      "fail: 37dVQ7B-VR-06 LT. BLUE / GREY 47471\n",
      "fail: bYvqKYk-VR-06 LT. BLUE / GREY 47472\n",
      "fail: rBMQkBJ-VR-06 LT. BLUE / GREY 47473\n",
      "fail: 6XR10X7-VR-06 LT. BLUE / GREY 47474\n",
      "47500\n",
      "48000\n",
      "fail: VKXWykN-RU-06 NAVY / LT. BLUE 48400\n",
      "48500\n",
      "fail: BEykZND-XV-12 NATURAL / LT. BLUE 48613\n",
      "fail: jLe2G09-XV-12 NATURAL / LT. BLUE 48614\n",
      "fail: 5yJGa1Q-XV-12 NATURAL / LT. BLUE 48615\n",
      "fail: mR8dlr7-XV-12 NATURAL / LT. BLUE 48616\n",
      "fail: AogAZea-XV-12 NATURAL / LT. BLUE 48617\n",
      "fail: kdNezWy-XV-12 NATURAL / LT. BLUE 48618\n",
      "49000\n",
      "49500\n",
      "50000\n",
      "50500\n",
      "51000\n",
      "51500\n",
      "52000\n",
      "52500\n",
      "53000\n",
      "53500\n",
      "54000\n",
      "54500\n",
      "55000\n",
      "55500\n",
      "56000\n",
      "56500\n",
      "57000\n",
      "57500\n",
      "58000\n",
      "58500\n",
      "59000\n",
      "59500\n",
      "60000\n",
      "60500\n",
      "61000\n",
      "61500\n",
      "62000\n"
     ]
    }
   ],
   "source": [
    "c = 0\n",
    "for idx,i in enumerate(d['products']['dynamoid']):\n",
    "    if c == 100000:\n",
    "        break\n",
    "    if idx > items_max['max']:\n",
    "        try:\n",
    "            items = {}\n",
    "            query = i\n",
    "            items[i] = index.search(query)['hits']\n",
    "            coll.insert_one(items)\n",
    "            items_max['max'] = idx\n",
    "            c+=1\n",
    "            if c%500 ==0:\n",
    "                print c\n",
    "            continue\n",
    "        except:\n",
    "            print 'fail: {}'.format(i), c\n",
    "            c +=1\n",
    "\n",
    "# len(items)\n",
    "# items = {}"
   ]
  },
  {
   "cell_type": "code",
   "execution_count": null,
   "metadata": {
    "collapsed": true
   },
   "outputs": [],
   "source": [
    "# cursor = coll.find({})\n",
    "# for document in cursor:\n",
    "#     print(document)"
   ]
  },
  {
   "cell_type": "code",
   "execution_count": 21,
   "metadata": {},
   "outputs": [
    {
     "data": {
      "text/plain": [
       "400092"
      ]
     },
     "execution_count": 21,
     "metadata": {},
     "output_type": "execute_result"
    }
   ],
   "source": [
    "coll.count()"
   ]
  },
  {
   "cell_type": "code",
   "execution_count": 22,
   "metadata": {},
   "outputs": [
    {
     "data": {
      "text/plain": [
       "401906"
      ]
     },
     "execution_count": 22,
     "metadata": {},
     "output_type": "execute_result"
    }
   ],
   "source": [
    "items_max['max']"
   ]
  },
  {
   "cell_type": "code",
   "execution_count": null,
   "metadata": {
    "collapsed": true
   },
   "outputs": [],
   "source": []
  }
 ],
 "metadata": {
  "kernelspec": {
   "display_name": "Python 2",
   "language": "python",
   "name": "python2"
  },
  "language_info": {
   "codemirror_mode": {
    "name": "ipython",
    "version": 2
   },
   "file_extension": ".py",
   "mimetype": "text/x-python",
   "name": "python",
   "nbconvert_exporter": "python",
   "pygments_lexer": "ipython2",
   "version": "2.7.13"
  }
 },
 "nbformat": 4,
 "nbformat_minor": 2
}
