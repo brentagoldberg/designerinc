{
 "cells": [
  {
   "cell_type": "code",
   "execution_count": 1,
   "metadata": {
    "collapsed": true
   },
   "outputs": [],
   "source": [
    "import pandas as pd\n",
    "import numpy as np\n",
    "import matplotlib.pyplot as plt\n",
    "%matplotlib inline"
   ]
  },
  {
   "cell_type": "code",
   "execution_count": 2,
   "metadata": {
    "collapsed": true
   },
   "outputs": [],
   "source": [
    "from sklearn.model_selection import train_test_split as tts\n",
    "from sklearn.ensemble import RandomForestClassifier\n",
    "from sklearn.metrics import confusion_matrix as coma"
   ]
  },
  {
   "cell_type": "code",
   "execution_count": null,
   "metadata": {
    "collapsed": true
   },
   "outputs": [],
   "source": [
    "#### import df\n",
    "#### translate as copy\n",
    "#### get column names for styles\n",
    "#### tts. identify rows for training - known of that style, known of NOT that style"
   ]
  },
  {
   "cell_type": "code",
   "execution_count": null,
   "metadata": {
    "collapsed": true
   },
   "outputs": [],
   "source": [
    "def prep_df_rfc_model(df,keep_cols,dummies):\n",
    "    df_test = df[keep_cols]\n",
    "    df_test = pd.get_dummies(dummies)\n",
    "    return df_test\n",
    "\n",
    "def rfc_for_style(df,style_col,col_indecies):\n",
    "    df = df_usable(df,style_col,col_indecies)\n",
    "    Y = df.pop(style_col)\n",
    "    X = df\n",
    "    X_train, X_test, Y_train, Y_test = tts(X,Y)\n",
    "    rfc = RandomForestClassifier(n_estimators=200,max_features=int(len(X.columns)**(0.5)+1))\n",
    "    rfc.fit(X_train,Y_train)\n",
    "    con_matrix(rfc,X_test,Y_test)\n",
    "    return rfc\n",
    "    \n",
    "def con_matrix(model,X_test,Y_test):\n",
    "    y_predict = model.predict(X_test)\n",
    "    conmatrix = coma(Y_test,y_predict)\n",
    "    tn,fp,fn,tp = conmatrix.ravel()\n",
    "    print conmatrix\n",
    "    print \"tn: \",tn,\"fp: \",fp,\"fn: \",fn,\"tp: \",tp\n",
    "    precision = tp / float(tp+fp)\n",
    "    recall = tp / float(tp+fn)\n",
    "    accuracy = (tp + tn) / float(tp + tn + fp + fn)\n",
    "    print \"Precision is: \", precision\n",
    "    print \"Recall is: \", recall\n",
    "    print \"Accuracy is: \", accuracy\n",
    "\n",
    "def df_usable(df_input,style_col,col_indecies):\n",
    "    dropped_rows = []\n",
    "    df_filtered = df_input.copy()\n",
    "    for idx,row in enumerate(df_input):\n",
    "        tags = sum(df_filtered[style_cols])\n",
    "        if row[col_indecies[style_col]] >=1:\n",
    "            continue\n",
    "        elif tags <= 1:\n",
    "            dropped_rows.append(idx)\n",
    "            df_filtered.drop([idx],axis=0,inplace=True)\n",
    "        elif tags == 2:\n",
    "            dropped_rows.append(idx)\n",
    "            df_filtered.drop([idx],axis=0,inplace=True)\n",
    "    return df_filtered, dropped_rows\n",
    "\n",
    "def style_col_index(df,style_cols):\n",
    "    col_indecies = {}\n",
    "    for idx,i in enumerate(list(df.columns)):\n",
    "        col_indecies[i] = idx\n",
    "    return col_indecies\n",
    "\n",
    "def get_rfc_models(df,keep_cols,dummies,style_cols):\n",
    "    df = prep_df_rfc_model(df,keep_cols,dummies)\n",
    "    df = \n",
    "    return"
   ]
  },
  {
   "cell_type": "code",
   "execution_count": 3,
   "metadata": {
    "collapsed": true
   },
   "outputs": [],
   "source": [
    "row = [1,2,3,4]"
   ]
  },
  {
   "cell_type": "code",
   "execution_count": 4,
   "metadata": {},
   "outputs": [
    {
     "name": "stdout",
     "output_type": "stream",
     "text": [
      "1\n"
     ]
    }
   ],
   "source": [
    "print row.index(2)"
   ]
  },
  {
   "cell_type": "code",
   "execution_count": null,
   "metadata": {
    "collapsed": true
   },
   "outputs": [],
   "source": []
  }
 ],
 "metadata": {
  "celltoolbar": "Raw Cell Format",
  "kernelspec": {
   "display_name": "Python 2",
   "language": "python",
   "name": "python2"
  },
  "language_info": {
   "codemirror_mode": {
    "name": "ipython",
    "version": 2
   },
   "file_extension": ".py",
   "mimetype": "text/x-python",
   "name": "python",
   "nbconvert_exporter": "python",
   "pygments_lexer": "ipython2",
   "version": "2.7.13"
  }
 },
 "nbformat": 4,
 "nbformat_minor": 2
}
