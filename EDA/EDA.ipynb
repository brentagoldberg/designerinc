{
 "cells": [
  {
   "cell_type": "code",
   "execution_count": 35,
   "metadata": {
    "collapsed": true
   },
   "outputs": [],
   "source": [
    "import pandas as pd\n",
    "import numpy as np\n",
    "\n",
    "import psycopg2 as pg\n",
    "import pandas.io.sql as psql\n",
    "\n",
    "import matplotlib.pyplot as plt\n",
    "\n",
    "%matplotlib inline"
   ]
  },
  {
   "cell_type": "code",
   "execution_count": 2,
   "metadata": {},
   "outputs": [
    {
     "name": "stdout",
     "output_type": "stream",
     "text": [
      "categories_products\n"
     ]
    }
   ],
   "source": [
    "connection = pg.connect(dbname='brent', user='brent', host='localhost', password='brent')\n",
    "cur = connection.cursor()\n",
    "table_names = ['addresses','categories',\n",
    "            'categories_products','category_features','clients',\n",
    "               'companies','featured_items','invitations','order_items',\n",
    "               'orders','popular_items','products','projects','projects_collaborators',\n",
    "               'projects_products','proposal_product','proposals','saved_searches',\n",
    "               'schema_version','showrooms','showrooms_vendors','spring_session',\n",
    "               'spring_session_attributes','styles','user_addresses',\n",
    "               'users','vendors','vendors_styles']\n",
    "d = {}\n",
    "for i in table_names:\n",
    "    cur.execute('SELECT * FROM {}'.format(i))\n",
    "    the_data = cur.fetchall()\n",
    "    colnames = [desc[0] for desc in cur.description]\n",
    "\n",
    "    d[i] = pd.DataFrame(the_data)\n",
    "    if len(d[i].columns) == len(colnames):\n",
    "        d[i].columns = colnames\n",
    "    else:\n",
    "        print i\n",
    "\n",
    "d_dyn = {}\n",
    "d_categories = {}\n",
    "# c = 0\n",
    "for idx,i in enumerate(d['products']['dynamoid']):\n",
    "#     if c == 1000:\n",
    "#         break\n",
    "    if \"|\" not in i:\n",
    "        d_dyn[d['products']['id'][idx]] = i\n",
    "#         c+=1\n",
    "    else:\n",
    "        ret = i.split('|')\n",
    "        d_dyn[d['products']['id'][idx]] = ret[-1]\n",
    "        d_categories[d['products']['id'][idx]] = ret[-2]\n",
    "#         c+=1\n"
   ]
  },
  {
   "cell_type": "code",
   "execution_count": 3,
   "metadata": {},
   "outputs": [
    {
     "name": "stdout",
     "output_type": "stream",
     "text": [
      "set(['3'])\n"
     ]
    }
   ],
   "source": [
    "cats = set()\n",
    "for key, val in d_categories.iteritems():\n",
    "    cats.update(val)\n",
    "print cats"
   ]
  },
  {
   "cell_type": "code",
   "execution_count": 4,
   "metadata": {},
   "outputs": [
    {
     "ename": "TypeError",
     "evalue": "'NoneType' object is not iterable",
     "output_type": "error",
     "traceback": [
      "\u001b[0;31m---------------------------------------------------------------------------\u001b[0m",
      "\u001b[0;31mTypeError\u001b[0m                                 Traceback (most recent call last)",
      "\u001b[0;32m<ipython-input-4-2470c7a4c51a>\u001b[0m in \u001b[0;36m<module>\u001b[0;34m()\u001b[0m\n\u001b[1;32m      1\u001b[0m \u001b[0mtitles\u001b[0m \u001b[0;34m=\u001b[0m \u001b[0mset\u001b[0m\u001b[0;34m(\u001b[0m\u001b[0;34m)\u001b[0m\u001b[0;34m\u001b[0m\u001b[0m\n\u001b[1;32m      2\u001b[0m \u001b[0;32mfor\u001b[0m \u001b[0midx\u001b[0m\u001b[0;34m,\u001b[0m \u001b[0mi\u001b[0m \u001b[0;32min\u001b[0m \u001b[0menumerate\u001b[0m\u001b[0;34m(\u001b[0m\u001b[0md\u001b[0m\u001b[0;34m[\u001b[0m\u001b[0;34m'products'\u001b[0m\u001b[0;34m]\u001b[0m\u001b[0;34m[\u001b[0m\u001b[0;34m'title'\u001b[0m\u001b[0;34m]\u001b[0m\u001b[0;34m)\u001b[0m\u001b[0;34m:\u001b[0m\u001b[0;34m\u001b[0m\u001b[0m\n\u001b[0;32m----> 3\u001b[0;31m     \u001b[0mtitles\u001b[0m\u001b[0;34m.\u001b[0m\u001b[0mupdate\u001b[0m\u001b[0;34m(\u001b[0m\u001b[0mi\u001b[0m\u001b[0;34m)\u001b[0m\u001b[0;34m\u001b[0m\u001b[0m\n\u001b[0m\u001b[1;32m      4\u001b[0m \u001b[0;32mprint\u001b[0m \u001b[0mlen\u001b[0m\u001b[0;34m(\u001b[0m\u001b[0mtitles\u001b[0m\u001b[0;34m)\u001b[0m\u001b[0;34m\u001b[0m\u001b[0m\n",
      "\u001b[0;31mTypeError\u001b[0m: 'NoneType' object is not iterable"
     ]
    }
   ],
   "source": [
    "titles = set()\n",
    "for idx, i in enumerate(d['products']['title']):\n",
    "    titles.update(i)\n",
    "print len(titles)"
   ]
  },
  {
   "cell_type": "code",
   "execution_count": null,
   "metadata": {},
   "outputs": [],
   "source": [
    "len(set(d['products'][\"title\"]))"
   ]
  },
  {
   "cell_type": "code",
   "execution_count": null,
   "metadata": {
    "scrolled": true
   },
   "outputs": [],
   "source": [
    "d['popular_items'].head()"
   ]
  },
  {
   "cell_type": "code",
   "execution_count": null,
   "metadata": {},
   "outputs": [],
   "source": [
    "d['popular_items']['item_type'].unique()"
   ]
  },
  {
   "cell_type": "code",
   "execution_count": null,
   "metadata": {},
   "outputs": [],
   "source": [
    "len(d['popular_items']['item_id'].unique())"
   ]
  },
  {
   "cell_type": "code",
   "execution_count": null,
   "metadata": {},
   "outputs": [],
   "source": [
    "d['popular_items']['score'].unique()"
   ]
  },
  {
   "cell_type": "code",
   "execution_count": null,
   "metadata": {},
   "outputs": [],
   "source": [
    "for i in d['popular_items'].columns:\n",
    "    print i, len(d['popular_items'][i].unique())"
   ]
  },
  {
   "cell_type": "markdown",
   "metadata": {},
   "source": [
    "## popular item counter"
   ]
  },
  {
   "cell_type": "code",
   "execution_count": 5,
   "metadata": {
    "collapsed": true
   },
   "outputs": [],
   "source": [
    "keys = []\n",
    "d_pop = {}\n",
    "for idx in range(0,len(d['popular_items'])):\n",
    "    if d['popular_items']['score'][idx] not in keys:\n",
    "        d_pop[d['popular_items']['score'][idx]] = list()\n",
    "        keys.append(d['popular_items']['score'][idx]) \n",
    "    d_pop[d['popular_items']['score'][idx]].append(d['popular_items']['item_id'])"
   ]
  },
  {
   "cell_type": "code",
   "execution_count": 6,
   "metadata": {
    "collapsed": true,
    "scrolled": true
   },
   "outputs": [],
   "source": [
    "popularity = []\n",
    "for key, val in d_pop.iteritems():\n",
    "    popularity.append([key, len(val)])"
   ]
  },
  {
   "cell_type": "code",
   "execution_count": 7,
   "metadata": {
    "collapsed": true
   },
   "outputs": [],
   "source": [
    "popu = pd.DataFrame(popularity)\n",
    "\n",
    "# plt.scatter(popularity)"
   ]
  },
  {
   "cell_type": "code",
   "execution_count": 8,
   "metadata": {
    "scrolled": false
   },
   "outputs": [],
   "source": [
    "import sys\n",
    "sys.path.append(\"..\")\n",
    "import Data.pull_df_from_mongo as pull_df\n",
    "import pandas as pd\n",
    "import numpy as np\n"
   ]
  },
  {
   "cell_type": "code",
   "execution_count": 11,
   "metadata": {},
   "outputs": [],
   "source": [
    "import model.transform_df as ld"
   ]
  },
  {
   "cell_type": "code",
   "execution_count": 12,
   "metadata": {},
   "outputs": [
    {
     "name": "stdout",
     "output_type": "stream",
     "text": [
      "set(['Mid-Century', 'Rustic', 'Arts and Crafts', 'Geometric', 'Rococo', 'Folk Art', 'nan', 'Regency', 'Neoclassical', 'Stripe', 'Floral', 'Coastal ', 'Mid Century', 'Country ', 'Transitional', 'Solid', 'Country', 'Tribal', 'Traditional', 'Victorian', 'Art Nouveau', 'Hollywood Regency', 'Baroque', 'Woven', 'Prints', 'Industrial', 'Classic', 'Abstract', 'Modern', 'Contemporary', 'Transitional ', 'Gothic', 'Asian', 'Coastal', 'Southwestern', 'Art Deco', 'Louis XVI'])\n"
     ]
    }
   ],
   "source": [
    "df = ld.main()"
   ]
  },
  {
   "cell_type": "code",
   "execution_count": null,
   "metadata": {},
   "outputs": [],
   "source": [
    "df.info()"
   ]
  },
  {
   "cell_type": "code",
   "execution_count": null,
   "metadata": {
    "collapsed": true
   },
   "outputs": [],
   "source": [
    "showrooms = df['showrooms']"
   ]
  },
  {
   "cell_type": "code",
   "execution_count": 33,
   "metadata": {},
   "outputs": [],
   "source": [
    "def check_see(col,n=5):\n",
    "    check = set(df[col])\n",
    "    c = 0\n",
    "    for i in check:\n",
    "        if c == n:\n",
    "            break\n",
    "        else:\n",
    "            print i\n",
    "        c+=1\n",
    "from collections import Counter\n",
    "def check_counter(col):\n",
    "    check = df[col]\n",
    "    counter = Counter(check)\n",
    "    print \"Total uniques:  \",len(list(counter.iterkeys()))\n",
    "    print counter\n",
    "\n",
    "def check_dict(col,n=5):\n",
    "    check = df[col]\n",
    "    c = 0\n",
    "    for i in check:\n",
    "        if c == n:\n",
    "            break\n",
    "        elif i in [[],np.nan]:\n",
    "            continue\n",
    "        else:\n",
    "            print i\n",
    "            c+=1\n",
    "\n",
    "\n"
   ]
  },
  {
   "cell_type": "code",
   "execution_count": 36,
   "metadata": {},
   "outputs": [
    {
     "name": "stdout",
     "output_type": "stream",
     "text": [
      "[{u'city': u'Dallas', u'state': u'TX', u'name': u'Dallas Design Center', u'id': 6}, {u'city': u'Honolulu', u'state': u'HI', u'name': u'Pacific Finishes LLC', u'id': 70}, {u'city': u'Atlanta', u'state': u'GA', u'name': u'ADAC', u'id': 4}, {u'city': u'Denver', u'state': u'CO', u'name': u'Town Studio - Denver', u'id': 43}, {u'city': u'Costa Mesa', u'state': u'CA', u'name': u'Stonemill Design Center', u'id': 53}, {u'city': u'Houston', u'state': u'TX', u'name': u'Decorative Center of Houston \\u2003 ', u'id': 9}, {u'city': u'High Point', u'state': u'NC', u'name': u'High Point', u'id': 33}, {u'city': u'West Hollywood', u'state': u'CA', u'name': u'Holly Hunt - LA', u'id': 72}, {u'city': u'Chicago', u'state': u'IL', u'name': u' Merchandise Mart ', u'id': 32}, {u'city': u'Minneapolis', u'state': u'MN', u'name': u'International Market Square', u'id': 10}, {u'city': u'Boston', u'state': u'MA', u'name': u'Boston Design Center', u'id': 3}, {u'city': u'New York', u'state': u'NY', u'name': u'D&D Building', u'id': 22}, {u'city': u'Lenexa', u'state': u'KS', u'name': u'KDR Designer Showrooms', u'id': 71}, {u'city': u'Laguna Niguel', u'state': u'CA', u'name': u'Laguna Design Center', u'id': 2}, {u'city': u'Fairfield', u'state': u'NJ', u'name': u'Phillip Jeffries', u'id': 69}, {u'city': u'Miami', u'state': u'FL', u'name': u'Holly Hunt - Miami', u'id': 73}]\n",
      "[{u'city': u'Las Vegas', u'state': u'NV', u'name': u'World Market Center', u'id': 92}, {u'city': u'Atlanta', u'state': u'GA', u'name': u'Americasmart ', u'id': 76}, {u'city': u'High Point', u'state': u'NC', u'name': u'High Point', u'id': 33}, {u'city': u'New York', u'state': u'NY', u'name': u'New York Design Center', u'id': 51}, {u'city': u'Dallas', u'state': u'TX', u'name': u'World Trade Center', u'id': 107}]\n",
      "[{u'city': u'High Point', u'state': u'NC', u'name': u'High Point', u'id': 33}, {u'city': u'New York', u'state': u'NY', u'name': u'New York Design Center', u'id': 51}, {u'city': u'Dallas', u'state': u'TX', u'name': u'World Trade Center', u'id': 107}, {u'city': u'Atlanta', u'state': u'GA', u'name': u'Americasmart ', u'id': 76}, {u'city': u'Las Vegas', u'state': u'NV', u'name': u'World Market Center', u'id': 92}]\n",
      "[{u'city': u'Las Vegas', u'state': u'NV', u'name': u'World Market Center', u'id': 92}, {u'city': u'Atlanta', u'state': u'GA', u'name': u'Americasmart ', u'id': 76}, {u'city': u'High Point', u'state': u'NC', u'name': u'High Point', u'id': 33}, {u'city': u'New York', u'state': u'NY', u'name': u'New York Design Center', u'id': 51}, {u'city': u'Dallas', u'state': u'TX', u'name': u'World Trade Center', u'id': 107}]\n",
      "[{u'city': u'High Point', u'state': u'NC', u'name': u'High Point', u'id': 33}, {u'city': u'New York', u'state': u'NY', u'name': u'New York Design Center', u'id': 51}, {u'city': u'Dallas', u'state': u'TX', u'name': u'World Trade Center', u'id': 107}, {u'city': u'Atlanta', u'state': u'GA', u'name': u'Americasmart ', u'id': 76}, {u'city': u'Las Vegas', u'state': u'NV', u'name': u'World Market Center', u'id': 92}]\n"
     ]
    }
   ],
   "source": [
    "check_dict(\"showrooms\")"
   ]
  },
  {
   "cell_type": "code",
   "execution_count": 17,
   "metadata": {
    "scrolled": false
   },
   "outputs": [],
   "source": [
    "from collections import Counter"
   ]
  },
  {
   "cell_type": "code",
   "execution_count": 31,
   "metadata": {},
   "outputs": [],
   "source": [
    "df_showrooms = pd.DataFrame()\n",
    "check = df[\"showrooms\"]\n",
    "col = []\n",
    "for idx,i in enumerate(check):\n",
    "    if i in [[],np.nan]:\n",
    "        col.append(0)\n",
    "    else:\n",
    "        lst = []\n",
    "        for group in i:\n",
    "            lst.append(\"id_{}\".format(group[\"id\"]))\n",
    "        col.append(lst)\n",
    "df['showroom_ids'] = col\n",
    "            "
   ]
  },
  {
   "cell_type": "code",
   "execution_count": 41,
   "metadata": {},
   "outputs": [
    {
     "name": "stdout",
     "output_type": "stream",
     "text": [
      "123021\n"
     ]
    }
   ],
   "source": [
    "showrm_ids = set()\n",
    "\n",
    "check = df['showroom_ids']\n",
    "c=0\n",
    "for showroom_ids in check:\n",
    "    if showroom_ids == 0:\n",
    "        c+=1\n",
    "        continue\n",
    "    else:\n",
    "        for i in showroom_ids:\n",
    "            showrm_ids.add(i)\n",
    "print c\n"
   ]
  },
  {
   "cell_type": "code",
   "execution_count": 45,
   "metadata": {},
   "outputs": [],
   "source": [
    "check = df['showroom_ids']\n",
    "\n",
    "for i in list(showrm_ids):\n",
    "    col = []\n",
    "    for idx in check:\n",
    "        if idx == 0:\n",
    "            col.append(0)\n",
    "        elif i in idx:\n",
    "            col.append(1)\n",
    "        else:\n",
    "            col.append(0)\n",
    "    df[i] = col"
   ]
  },
  {
   "cell_type": "code",
   "execution_count": 46,
   "metadata": {},
   "outputs": [
    {
     "name": "stdout",
     "output_type": "stream",
     "text": [
      "<class 'pandas.core.frame.DataFrame'>\n",
      "RangeIndex: 186626 entries, 0 to 186625\n",
      "Columns: 275 entries, brand to id_326\n",
      "dtypes: float64(29), int64(230), object(16)\n",
      "memory usage: 391.6+ MB\n"
     ]
    }
   ],
   "source": [
    "df.info()"
   ]
  },
  {
   "cell_type": "code",
   "execution_count": 47,
   "metadata": {
    "collapsed": true
   },
   "outputs": [],
   "source": [
    "use_col = []\n",
    "for i in list(df.columns):\n",
    "    if \"id_\" in i:\n",
    "        use_col.append(i)"
   ]
  },
  {
   "cell_type": "code",
   "execution_count": 49,
   "metadata": {},
   "outputs": [],
   "source": [
    "use_col.remove(\"Solid_style\")"
   ]
  },
  {
   "cell_type": "code",
   "execution_count": 50,
   "metadata": {},
   "outputs": [
    {
     "data": {
      "text/plain": [
       "['id_382',\n",
       " 'id_381',\n",
       " 'id_173',\n",
       " 'id_174',\n",
       " 'id_176',\n",
       " 'id_179',\n",
       " 'id_263',\n",
       " 'id_264',\n",
       " 'id_660',\n",
       " 'id_38',\n",
       " 'id_39',\n",
       " 'id_32',\n",
       " 'id_33',\n",
       " 'id_31',\n",
       " 'id_36',\n",
       " 'id_37',\n",
       " 'id_34',\n",
       " 'id_239',\n",
       " 'id_238',\n",
       " 'id_88',\n",
       " 'id_377',\n",
       " 'id_679',\n",
       " 'id_84',\n",
       " 'id_83',\n",
       " 'id_82',\n",
       " 'id_81',\n",
       " 'id_80',\n",
       " 'id_231',\n",
       " 'id_682',\n",
       " 'id_230',\n",
       " 'id_309',\n",
       " 'id_305',\n",
       " 'id_98',\n",
       " 'id_99',\n",
       " 'id_118',\n",
       " 'id_119',\n",
       " 'id_112',\n",
       " 'id_91',\n",
       " 'id_92',\n",
       " 'id_93',\n",
       " 'id_94',\n",
       " 'id_95',\n",
       " 'id_96',\n",
       " 'id_97',\n",
       " 'id_10',\n",
       " 'id_11',\n",
       " 'id_12',\n",
       " 'id_13',\n",
       " 'id_14',\n",
       " 'id_15',\n",
       " 'id_680',\n",
       " 'id_370',\n",
       " 'id_681',\n",
       " 'id_229',\n",
       " 'id_109',\n",
       " 'id_108',\n",
       " 'id_379',\n",
       " 'id_101',\n",
       " 'id_100',\n",
       " 'id_352',\n",
       " 'id_353',\n",
       " 'id_105',\n",
       " 'id_74',\n",
       " 'id_107',\n",
       " 'id_355',\n",
       " 'id_75',\n",
       " 'id_73',\n",
       " 'id_65',\n",
       " 'id_64',\n",
       " 'id_66',\n",
       " 'id_61',\n",
       " 'id_60',\n",
       " 'id_63',\n",
       " 'id_220',\n",
       " 'id_186',\n",
       " 'id_69',\n",
       " 'id_221',\n",
       " 'id_2',\n",
       " 'id_3',\n",
       " 'id_1',\n",
       " 'id_6',\n",
       " 'id_7',\n",
       " 'id_4',\n",
       " 'id_8',\n",
       " 'id_9',\n",
       " 'id_405',\n",
       " 'id_406',\n",
       " 'id_76',\n",
       " 'id_77',\n",
       " 'id_183',\n",
       " 'id_182',\n",
       " 'id_72',\n",
       " 'id_150',\n",
       " 'id_70',\n",
       " 'id_71',\n",
       " 'id_249',\n",
       " 'id_78',\n",
       " 'id_211',\n",
       " 'id_210',\n",
       " 'id_213',\n",
       " 'id_212',\n",
       " 'id_215',\n",
       " 'id_214',\n",
       " 'id_217',\n",
       " 'id_216',\n",
       " 'id_219',\n",
       " 'id_218',\n",
       " 'id_110',\n",
       " 'id_192',\n",
       " 'id_111',\n",
       " 'id_193',\n",
       " 'id_116',\n",
       " 'id_117',\n",
       " 'id_114',\n",
       " 'id_196',\n",
       " 'id_115',\n",
       " 'id_43',\n",
       " 'id_40',\n",
       " 'id_47',\n",
       " 'id_194',\n",
       " 'id_45',\n",
       " 'id_134',\n",
       " 'id_135',\n",
       " 'id_136',\n",
       " 'id_137',\n",
       " 'id_228',\n",
       " 'id_131',\n",
       " 'id_132',\n",
       " 'id_133',\n",
       " 'id_224',\n",
       " 'id_225',\n",
       " 'id_138',\n",
       " 'id_139',\n",
       " 'id_222',\n",
       " 'id_223',\n",
       " 'id_157',\n",
       " 'id_154',\n",
       " 'id_155',\n",
       " 'id_240',\n",
       " 'id_248',\n",
       " 'id_151',\n",
       " 'id_246',\n",
       " 'id_247',\n",
       " 'id_244',\n",
       " 'id_245',\n",
       " 'id_242',\n",
       " 'id_243',\n",
       " 'id_158',\n",
       " 'id_241',\n",
       " 'id_354',\n",
       " 'id_201',\n",
       " 'id_113',\n",
       " 'id_58',\n",
       " 'id_59',\n",
       " 'id_54',\n",
       " 'id_55',\n",
       " 'id_56',\n",
       " 'id_57',\n",
       " 'id_51',\n",
       " 'id_52',\n",
       " 'id_53',\n",
       " 'id_122',\n",
       " 'id_121',\n",
       " 'id_120',\n",
       " 'id_127',\n",
       " 'id_126',\n",
       " 'id_125',\n",
       " 'id_124',\n",
       " 'id_233',\n",
       " 'id_232',\n",
       " 'id_129',\n",
       " 'id_128',\n",
       " 'id_237',\n",
       " 'id_236',\n",
       " 'id_235',\n",
       " 'id_234',\n",
       " 'id_145',\n",
       " 'id_375',\n",
       " 'id_417',\n",
       " 'id_258',\n",
       " 'id_143',\n",
       " 'id_414',\n",
       " 'id_251',\n",
       " 'id_250',\n",
       " 'id_659',\n",
       " 'id_161',\n",
       " 'id_653',\n",
       " 'id_683',\n",
       " 'id_21',\n",
       " 'id_23',\n",
       " 'id_22',\n",
       " 'id_25',\n",
       " 'id_24',\n",
       " 'id_181',\n",
       " 'id_326']"
      ]
     },
     "execution_count": 50,
     "metadata": {},
     "output_type": "execute_result"
    }
   ],
   "source": [
    "use_col"
   ]
  },
  {
   "cell_type": "code",
   "execution_count": null,
   "metadata": {
    "collapsed": true
   },
   "outputs": [],
   "source": []
  }
 ],
 "metadata": {
  "kernelspec": {
   "display_name": "Python 2",
   "language": "python",
   "name": "python2"
  },
  "language_info": {
   "codemirror_mode": {
    "name": "ipython",
    "version": 2
   },
   "file_extension": ".py",
   "mimetype": "text/x-python",
   "name": "python",
   "nbconvert_exporter": "python",
   "pygments_lexer": "ipython2",
   "version": "2.7.13"
  }
 },
 "nbformat": 4,
 "nbformat_minor": 2
}
