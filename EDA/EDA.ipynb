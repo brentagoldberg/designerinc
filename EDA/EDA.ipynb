{
 "cells": [
  {
   "cell_type": "code",
   "execution_count": 1,
   "metadata": {
    "collapsed": true
   },
   "outputs": [],
   "source": [
    "import pandas as pd\n",
    "import numpy as np\n",
    "\n",
    "import psycopg2 as pg\n",
    "import pandas.io.sql as psql\n",
    "\n",
    "import matplotlib.pyplot as plt\n",
    "\n",
    "%matplotlib inline"
   ]
  },
  {
   "cell_type": "code",
   "execution_count": 2,
   "metadata": {},
   "outputs": [
    {
     "name": "stdout",
     "output_type": "stream",
     "text": [
      "categories_products\n"
     ]
    }
   ],
   "source": [
    "connection = pg.connect(dbname='brent', user='brent', host='localhost', password='brent')\n",
    "cur = connection.cursor()\n",
    "table_names = ['addresses','categories',\n",
    "            'categories_products','category_features','clients',\n",
    "               'companies','featured_items','invitations','order_items',\n",
    "               'orders','popular_items','products','projects','projects_collaborators',\n",
    "               'projects_products','proposal_product','proposals','saved_searches',\n",
    "               'schema_version','showrooms','showrooms_vendors','spring_session',\n",
    "               'spring_session_attributes','styles','user_addresses',\n",
    "               'users','vendors','vendors_styles']\n",
    "d = {}\n",
    "for i in table_names:\n",
    "    cur.execute('SELECT * FROM {}'.format(i))\n",
    "    the_data = cur.fetchall()\n",
    "    colnames = [desc[0] for desc in cur.description]\n",
    "\n",
    "    d[i] = pd.DataFrame(the_data)\n",
    "    if len(d[i].columns) == len(colnames):\n",
    "        d[i].columns = colnames\n",
    "    else:\n",
    "        print i\n",
    "\n",
    "d_dyn = {}\n",
    "d_categories = {}\n",
    "# c = 0\n",
    "for idx,i in enumerate(d['products']['dynamoid']):\n",
    "#     if c == 1000:\n",
    "#         break\n",
    "    if \"|\" not in i:\n",
    "        d_dyn[d['products']['id'][idx]] = i\n",
    "#         c+=1\n",
    "    else:\n",
    "        ret = i.split('|')\n",
    "        d_dyn[d['products']['id'][idx]] = ret[-1]\n",
    "        d_categories[d['products']['id'][idx]] = ret[-2]\n",
    "#         c+=1\n"
   ]
  },
  {
   "cell_type": "code",
   "execution_count": 3,
   "metadata": {},
   "outputs": [
    {
     "name": "stdout",
     "output_type": "stream",
     "text": [
      "set(['3'])\n"
     ]
    }
   ],
   "source": [
    "cats = set()\n",
    "for key, val in d_categories.iteritems():\n",
    "    cats.update(val)\n",
    "print cats"
   ]
  },
  {
   "cell_type": "code",
   "execution_count": 4,
   "metadata": {},
   "outputs": [
    {
     "ename": "TypeError",
     "evalue": "'NoneType' object is not iterable",
     "output_type": "error",
     "traceback": [
      "\u001b[0;31m---------------------------------------------------------------------------\u001b[0m",
      "\u001b[0;31mTypeError\u001b[0m                                 Traceback (most recent call last)",
      "\u001b[0;32m<ipython-input-4-2470c7a4c51a>\u001b[0m in \u001b[0;36m<module>\u001b[0;34m()\u001b[0m\n\u001b[1;32m      1\u001b[0m \u001b[0mtitles\u001b[0m \u001b[0;34m=\u001b[0m \u001b[0mset\u001b[0m\u001b[0;34m(\u001b[0m\u001b[0;34m)\u001b[0m\u001b[0;34m\u001b[0m\u001b[0m\n\u001b[1;32m      2\u001b[0m \u001b[0;32mfor\u001b[0m \u001b[0midx\u001b[0m\u001b[0;34m,\u001b[0m \u001b[0mi\u001b[0m \u001b[0;32min\u001b[0m \u001b[0menumerate\u001b[0m\u001b[0;34m(\u001b[0m\u001b[0md\u001b[0m\u001b[0;34m[\u001b[0m\u001b[0;34m'products'\u001b[0m\u001b[0;34m]\u001b[0m\u001b[0;34m[\u001b[0m\u001b[0;34m'title'\u001b[0m\u001b[0;34m]\u001b[0m\u001b[0;34m)\u001b[0m\u001b[0;34m:\u001b[0m\u001b[0;34m\u001b[0m\u001b[0m\n\u001b[0;32m----> 3\u001b[0;31m     \u001b[0mtitles\u001b[0m\u001b[0;34m.\u001b[0m\u001b[0mupdate\u001b[0m\u001b[0;34m(\u001b[0m\u001b[0mi\u001b[0m\u001b[0;34m)\u001b[0m\u001b[0;34m\u001b[0m\u001b[0m\n\u001b[0m\u001b[1;32m      4\u001b[0m \u001b[0;32mprint\u001b[0m \u001b[0mlen\u001b[0m\u001b[0;34m(\u001b[0m\u001b[0mtitles\u001b[0m\u001b[0;34m)\u001b[0m\u001b[0;34m\u001b[0m\u001b[0m\n",
      "\u001b[0;31mTypeError\u001b[0m: 'NoneType' object is not iterable"
     ]
    }
   ],
   "source": [
    "titles = set()\n",
    "for idx, i in enumerate(d['products']['title']):\n",
    "    titles.update(i)\n",
    "print len(titles)"
   ]
  },
  {
   "cell_type": "code",
   "execution_count": 5,
   "metadata": {},
   "outputs": [
    {
     "data": {
      "text/plain": [
       "32916"
      ]
     },
     "execution_count": 5,
     "metadata": {},
     "output_type": "execute_result"
    }
   ],
   "source": [
    "len(set(d['products'][\"title\"]))"
   ]
  },
  {
   "cell_type": "code",
   "execution_count": 6,
   "metadata": {
    "scrolled": true
   },
   "outputs": [
    {
     "data": {
      "text/html": [
       "<div>\n",
       "<style>\n",
       "    .dataframe thead tr:only-child th {\n",
       "        text-align: right;\n",
       "    }\n",
       "\n",
       "    .dataframe thead th {\n",
       "        text-align: left;\n",
       "    }\n",
       "\n",
       "    .dataframe tbody tr th {\n",
       "        vertical-align: top;\n",
       "    }\n",
       "</style>\n",
       "<table border=\"1\" class=\"dataframe\">\n",
       "  <thead>\n",
       "    <tr style=\"text-align: right;\">\n",
       "      <th></th>\n",
       "      <th>id</th>\n",
       "      <th>item_id</th>\n",
       "      <th>item_type</th>\n",
       "      <th>updated</th>\n",
       "      <th>score</th>\n",
       "      <th>is_hidden</th>\n",
       "    </tr>\n",
       "  </thead>\n",
       "  <tbody>\n",
       "    <tr>\n",
       "      <th>0</th>\n",
       "      <td>1</td>\n",
       "      <td>40624</td>\n",
       "      <td>PRODUCT</td>\n",
       "      <td>2017-03-06 10:44:55.065700</td>\n",
       "      <td>1</td>\n",
       "      <td>False</td>\n",
       "    </tr>\n",
       "    <tr>\n",
       "      <th>1</th>\n",
       "      <td>2</td>\n",
       "      <td>95888</td>\n",
       "      <td>PRODUCT</td>\n",
       "      <td>2017-03-06 10:44:55.065700</td>\n",
       "      <td>1</td>\n",
       "      <td>False</td>\n",
       "    </tr>\n",
       "    <tr>\n",
       "      <th>2</th>\n",
       "      <td>4</td>\n",
       "      <td>304157</td>\n",
       "      <td>PRODUCT</td>\n",
       "      <td>2017-03-06 10:44:55.065700</td>\n",
       "      <td>1</td>\n",
       "      <td>False</td>\n",
       "    </tr>\n",
       "    <tr>\n",
       "      <th>3</th>\n",
       "      <td>5</td>\n",
       "      <td>96139</td>\n",
       "      <td>PRODUCT</td>\n",
       "      <td>2017-03-06 10:44:55.065700</td>\n",
       "      <td>1</td>\n",
       "      <td>False</td>\n",
       "    </tr>\n",
       "    <tr>\n",
       "      <th>4</th>\n",
       "      <td>6</td>\n",
       "      <td>250117</td>\n",
       "      <td>PRODUCT</td>\n",
       "      <td>2017-03-06 10:44:55.065700</td>\n",
       "      <td>1</td>\n",
       "      <td>False</td>\n",
       "    </tr>\n",
       "  </tbody>\n",
       "</table>\n",
       "</div>"
      ],
      "text/plain": [
       "   id  item_id item_type                    updated  score  is_hidden\n",
       "0   1    40624   PRODUCT 2017-03-06 10:44:55.065700      1      False\n",
       "1   2    95888   PRODUCT 2017-03-06 10:44:55.065700      1      False\n",
       "2   4   304157   PRODUCT 2017-03-06 10:44:55.065700      1      False\n",
       "3   5    96139   PRODUCT 2017-03-06 10:44:55.065700      1      False\n",
       "4   6   250117   PRODUCT 2017-03-06 10:44:55.065700      1      False"
      ]
     },
     "execution_count": 6,
     "metadata": {},
     "output_type": "execute_result"
    }
   ],
   "source": [
    "d['popular_items'].head()"
   ]
  },
  {
   "cell_type": "code",
   "execution_count": 7,
   "metadata": {},
   "outputs": [
    {
     "data": {
      "text/plain": [
       "array(['PRODUCT'], dtype=object)"
      ]
     },
     "execution_count": 7,
     "metadata": {},
     "output_type": "execute_result"
    }
   ],
   "source": [
    "d['popular_items']['item_type'].unique()"
   ]
  },
  {
   "cell_type": "code",
   "execution_count": 8,
   "metadata": {},
   "outputs": [
    {
     "data": {
      "text/plain": [
       "11685"
      ]
     },
     "execution_count": 8,
     "metadata": {},
     "output_type": "execute_result"
    }
   ],
   "source": [
    "len(d['popular_items']['item_id'].unique())"
   ]
  },
  {
   "cell_type": "code",
   "execution_count": 9,
   "metadata": {},
   "outputs": [
    {
     "data": {
      "text/plain": [
       "array([ 1,  6,  2,  5,  7, 10, 12,  4, 11,  3, 13,  8, 28, 15,  9, 14, 19,\n",
       "       16, 31, 21, 23, 18, 17, 22, 25, 27, 20, 36])"
      ]
     },
     "execution_count": 9,
     "metadata": {},
     "output_type": "execute_result"
    }
   ],
   "source": [
    "d['popular_items']['score'].unique()"
   ]
  },
  {
   "cell_type": "code",
   "execution_count": 10,
   "metadata": {},
   "outputs": [
    {
     "name": "stdout",
     "output_type": "stream",
     "text": [
      "id 11685\n",
      "item_id 11685\n",
      "item_type 1\n",
      "updated 10341\n",
      "score 28\n",
      "is_hidden 1\n"
     ]
    }
   ],
   "source": [
    "for i in d['popular_items'].columns:\n",
    "    print i, len(d['popular_items'][i].unique())"
   ]
  },
  {
   "cell_type": "markdown",
   "metadata": {},
   "source": [
    "## popular item counter"
   ]
  },
  {
   "cell_type": "code",
   "execution_count": 11,
   "metadata": {
    "collapsed": true
   },
   "outputs": [],
   "source": [
    "keys = []\n",
    "d_pop = {}\n",
    "for idx in range(0,len(d['popular_items'])):\n",
    "    if d['popular_items']['score'][idx] not in keys:\n",
    "        d_pop[d['popular_items']['score'][idx]] = list()\n",
    "        keys.append(d['popular_items']['score'][idx]) \n",
    "    d_pop[d['popular_items']['score'][idx]].append(d['popular_items']['item_id'])"
   ]
  },
  {
   "cell_type": "code",
   "execution_count": 12,
   "metadata": {
    "collapsed": true,
    "scrolled": true
   },
   "outputs": [],
   "source": [
    "popularity = []\n",
    "for key, val in d_pop.iteritems():\n",
    "    popularity.append([key, len(val)])"
   ]
  },
  {
   "cell_type": "code",
   "execution_count": 13,
   "metadata": {
    "collapsed": true
   },
   "outputs": [],
   "source": [
    "popu = pd.DataFrame(popularity)\n",
    "\n",
    "# plt.scatter(popularity)"
   ]
  },
  {
   "cell_type": "code",
   "execution_count": 6,
   "metadata": {
    "scrolled": false
   },
   "outputs": [],
   "source": [
    "import sys\n",
    "sys.path.append(\"..\")\n",
    "import Data.pull_df_from_mongo as pull_df\n",
    "import pandas as pd\n",
    "import numpy as np\n"
   ]
  },
  {
   "cell_type": "code",
   "execution_count": 9,
   "metadata": {},
   "outputs": [],
   "source": [
    "import model.transform_df as ld"
   ]
  },
  {
   "cell_type": "code",
   "execution_count": 10,
   "metadata": {},
   "outputs": [
    {
     "name": "stdout",
     "output_type": "stream",
     "text": [
      "set(['Mid-Century', 'Rustic', 'Arts and Crafts', 'Geometric', 'Rococo', 'Folk Art', 'nan', 'Regency', 'Neoclassical', 'Stripe', 'Floral', 'Coastal ', 'Mid Century', 'Country ', 'Transitional', 'Solid', 'Country', 'Tribal', 'Traditional', 'Victorian', 'Art Nouveau', 'Hollywood Regency', 'Baroque', 'Woven', 'Prints', 'Industrial', 'Classic', 'Abstract', 'Modern', 'Contemporary', 'Transitional ', 'Gothic', 'Asian', 'Coastal', 'Southwestern', 'Art Deco', 'Louis XVI'])\n"
     ]
    }
   ],
   "source": [
    "df = ld.main()"
   ]
  },
  {
   "cell_type": "code",
   "execution_count": 11,
   "metadata": {},
   "outputs": [
    {
     "name": "stdout",
     "output_type": "stream",
     "text": [
      "<class 'pandas.core.frame.DataFrame'>\n",
      "RangeIndex: 186626 entries, 0 to 186625\n",
      "Data columns (total 82 columns):\n",
      "brand                     21554 non-null object\n",
      "directCategory            178158 non-null object\n",
      "images                    186626 non-null object\n",
      "objectID                  186626 non-null object\n",
      "priceLevel                128823 non-null object\n",
      "showrooms                 130123 non-null object\n",
      "site                      184116 non-null object\n",
      "styles                    42266 non-null object\n",
      "text                      165945 non-null object\n",
      "title                     186393 non-null object\n",
      "dim_diameter              186626 non-null float64\n",
      "dim_arm_width             186626 non-null float64\n",
      "dim_diam                  186626 non-null float64\n",
      "dim_projection            186626 non-null float64\n",
      "dim_wide                  186626 non-null float64\n",
      "dim_back_rail_height      186626 non-null int64\n",
      "dim_depth                 186626 non-null float64\n",
      "dim_deep                  186626 non-null float64\n",
      "dim_height                186626 non-null float64\n",
      "dim_width                 186626 non-null float64\n",
      "dim_length                186626 non-null float64\n",
      "dim_overall_height        186626 non-null float64\n",
      "dim_footboard_height      186626 non-null float64\n",
      "dim_tall                  186626 non-null int64\n",
      "dim_seat_height           186626 non-null float64\n",
      "dim_seat_width            186626 non-null float64\n",
      "dim_arm_height            186626 non-null float64\n",
      "dim_seat_depth            186626 non-null float64\n",
      "dim_armheight             186626 non-null float64\n",
      "dim_backplate             186626 non-null int64\n",
      "Categories_lvl2           186626 non-null object\n",
      "Categories_lvl3           186626 non-null object\n",
      "Categories_lvl0           186626 non-null object\n",
      "Categories_lvl1           186626 non-null object\n",
      "color_blue                186626 non-null float64\n",
      "color_brown               186626 non-null float64\n",
      "color_gray                186626 non-null float64\n",
      "color_purple              186626 non-null float64\n",
      "color_yellow              186626 non-null float64\n",
      "color_pink                186626 non-null float64\n",
      "color_green               186626 non-null float64\n",
      "color_teal                186626 non-null float64\n",
      "color_orange              186626 non-null float64\n",
      "color_black               186626 non-null float64\n",
      "color_white               186626 non-null float64\n",
      "color_red                 186626 non-null float64\n",
      "Mid-Century_style         186626 non-null int64\n",
      "Rustic_style              186626 non-null int64\n",
      "ArtsandCrafts_style       186626 non-null int64\n",
      "Geometric_style           186626 non-null int64\n",
      "Rococo_style              186626 non-null int64\n",
      "FolkArt_style             186626 non-null int64\n",
      "nan_style                 186626 non-null int64\n",
      "Regency_style             186626 non-null int64\n",
      "Neoclassical_style        186626 non-null int64\n",
      "Stripe_style              186626 non-null int64\n",
      "Floral_style              186626 non-null int64\n",
      "Country_style             186626 non-null int64\n",
      "Solid_style               186626 non-null int64\n",
      "Tribal_style              186626 non-null int64\n",
      "Traditional_style         186626 non-null int64\n",
      "Victorian_style           186626 non-null int64\n",
      "ArtNouveau_style          186626 non-null int64\n",
      "HollywoodRegency_style    186626 non-null int64\n",
      "Baroque_style             186626 non-null int64\n",
      "Woven_style               186626 non-null int64\n",
      "Prints_style              186626 non-null int64\n",
      "Industrial_style          186626 non-null int64\n",
      "Classic_style             186626 non-null int64\n",
      "Abstract_style            186626 non-null int64\n",
      "Modern_style              186626 non-null int64\n",
      "Contemporary_style        186626 non-null int64\n",
      "Gothic_style              186626 non-null int64\n",
      "Asian_style               186626 non-null int64\n",
      "Southwestern_style        186626 non-null int64\n",
      "ArtDeco_style             186626 non-null int64\n",
      "LouisXVI_style            186626 non-null int64\n",
      "new_text                  186626 non-null object\n",
      "c_style                   186626 non-null int64\n",
      "t_style                   186626 non-null int64\n",
      "Transitional_style        186626 non-null int64\n",
      "Coastal_style             186626 non-null int64\n",
      "dtypes: float64(29), int64(38), object(15)\n",
      "memory usage: 116.8+ MB\n"
     ]
    }
   ],
   "source": [
    "df.info()"
   ]
  },
  {
   "cell_type": "code",
   "execution_count": null,
   "metadata": {
    "collapsed": true
   },
   "outputs": [],
   "source": []
  }
 ],
 "metadata": {
  "kernelspec": {
   "display_name": "Python 2",
   "language": "python",
   "name": "python2"
  },
  "language_info": {
   "codemirror_mode": {
    "name": "ipython",
    "version": 2
   },
   "file_extension": ".py",
   "mimetype": "text/x-python",
   "name": "python",
   "nbconvert_exporter": "python",
   "pygments_lexer": "ipython2",
   "version": "2.7.13"
  }
 },
 "nbformat": 4,
 "nbformat_minor": 2
}
