{
 "cells": [
  {
   "cell_type": "code",
   "execution_count": 1,
   "metadata": {
    "collapsed": true
   },
   "outputs": [],
   "source": [
    "import pandas as pd\n",
    "import numpy as np\n",
    "\n",
    "import psycopg2 as pg\n",
    "import pandas.io.sql as psql\n",
    "\n",
    "import matplotlib.pyplot as plt\n",
    "\n",
    "%matplotlib inline\n",
    " \n",
    "# get connected to the database\n"
   ]
  },
  {
   "cell_type": "code",
   "execution_count": 2,
   "metadata": {
    "collapsed": true
   },
   "outputs": [],
   "source": [
    "furniture_finish = ['cherry','white','espresso', 'black','chrome','mahogony', 'walnut', 'oak','birch', 'gold', 'brass', 'beech', 'bronze', 'pine', 'silver']\n",
    "upholstery_material = [\"leather\", \"linen\", \"polyurethane\", \"polyester\", \"cotton\", \"vinyl\", \"velvet\", \"chenille\", \"microfiber\", \"wool\", \"faux leather\"]\n",
    "materials = [furniture_finish, \"wood\", upholstery_material, \"plastic\", \"fabric\", \"metal\", \"rattan\"]"
   ]
  },
  {
   "cell_type": "code",
   "execution_count": 3,
   "metadata": {
    "collapsed": true
   },
   "outputs": [],
   "source": [
    "furniture_finish = ['cherry','white','espresso', 'black','chrome','mahogony', 'walnut', 'oak','birch', 'gold', 'brass', 'beech', 'bronze', 'pine', 'silver']\n",
    "upholstery_material = [\"leather\", \"linen\", \"polyurethane\", \"polyester\", \"cotton\", \"vinyl\", \"velvet\", \"chenille\", \"microfiber\", \"wool\", \"faux leather\"]\n",
    "other_materials = [\"wood\", \"plastic\", \"fabric\", \"metal\", \"rattan\"]\n",
    "materials = set()\n",
    "materials.update(furniture_finish)\n",
    "materials.update(upholstery_material)\n",
    "materials.update(other_materials)"
   ]
  },
  {
   "cell_type": "code",
   "execution_count": 4,
   "metadata": {
    "scrolled": true
   },
   "outputs": [
    {
     "data": {
      "text/plain": [
       "{'beech',\n",
       " 'birch',\n",
       " 'black',\n",
       " 'brass',\n",
       " 'bronze',\n",
       " 'chenille',\n",
       " 'cherry',\n",
       " 'chrome',\n",
       " 'cotton',\n",
       " 'espresso',\n",
       " 'fabric',\n",
       " 'faux leather',\n",
       " 'gold',\n",
       " 'leather',\n",
       " 'linen',\n",
       " 'mahogony',\n",
       " 'metal',\n",
       " 'microfiber',\n",
       " 'oak',\n",
       " 'pine',\n",
       " 'plastic',\n",
       " 'polyester',\n",
       " 'polyurethane',\n",
       " 'rattan',\n",
       " 'silver',\n",
       " 'velvet',\n",
       " 'vinyl',\n",
       " 'walnut',\n",
       " 'white',\n",
       " 'wood',\n",
       " 'wool'}"
      ]
     },
     "execution_count": 4,
     "metadata": {},
     "output_type": "execute_result"
    }
   ],
   "source": [
    "materials"
   ]
  },
  {
   "cell_type": "code",
   "execution_count": 5,
   "metadata": {
    "collapsed": true
   },
   "outputs": [],
   "source": [
    "connection = pg.connect(dbname='brent', user='brent', host='localhost', password='brent')"
   ]
  },
  {
   "cell_type": "code",
   "execution_count": 6,
   "metadata": {
    "collapsed": true
   },
   "outputs": [],
   "source": [
    "cur = connection.cursor()"
   ]
  },
  {
   "cell_type": "code",
   "execution_count": 7,
   "metadata": {
    "collapsed": true
   },
   "outputs": [],
   "source": [
    "# result = cur.query(\"SELECT * FROM categories;\")"
   ]
  },
  {
   "cell_type": "code",
   "execution_count": 8,
   "metadata": {
    "collapsed": true
   },
   "outputs": [],
   "source": [
    "# cur.execute(\"SELECT * FROM categories;\")\n",
    "\n",
    "# the_data = cur.fetchall()\n",
    "\n",
    "# colnames = [desc[0] for desc in cur.description]\n",
    "\n",
    "# the_frame = pd.DataFrame(the_data)\n",
    "# the_frame.columns = colnames\n",
    "# the_frame.head()"
   ]
  },
  {
   "cell_type": "code",
   "execution_count": 9,
   "metadata": {
    "collapsed": true
   },
   "outputs": [],
   "source": [
    "# the_frame.head()"
   ]
  },
  {
   "cell_type": "code",
   "execution_count": null,
   "metadata": {
    "collapsed": true
   },
   "outputs": [],
   "source": [
    "# cur.description"
   ]
  },
  {
   "cell_type": "code",
   "execution_count": 10,
   "metadata": {
    "collapsed": true
   },
   "outputs": [],
   "source": [
    "table_names = ['addresses','categories',\n",
    "            'categories_products','category_features','clients',\n",
    "               'companies','featured_items','invitations','order_items',\n",
    "               'orders','popular_items','products','projects','projects_collaborators',\n",
    "               'projects_products','proposal_product','proposals','saved_searches',\n",
    "               'schema_version','showrooms','showrooms_vendors','spring_session',\n",
    "               'spring_session_attributes','styles','user_addresses',\n",
    "               'users','vendors','vendors_styles']"
   ]
  },
  {
   "cell_type": "code",
   "execution_count": 11,
   "metadata": {},
   "outputs": [
    {
     "name": "stdout",
     "output_type": "stream",
     "text": [
      "categories_products\n"
     ]
    }
   ],
   "source": [
    "d = {}\n",
    "for i in table_names:\n",
    "    cur.execute('SELECT * FROM {}'.format(i))\n",
    "    the_data = cur.fetchall()\n",
    "    colnames = [desc[0] for desc in cur.description]\n",
    "\n",
    "    d[i] = pd.DataFrame(the_data)\n",
    "    if len(d[i].columns) == len(colnames):\n",
    "        d[i].columns = colnames\n",
    "    else:\n",
    "        print i"
   ]
  },
  {
   "cell_type": "code",
   "execution_count": 12,
   "metadata": {},
   "outputs": [
    {
     "name": "stdout",
     "output_type": "stream",
     "text": [
      "addresses\n",
      "   id          address_line1 address_line2           city country state  \\\n",
      "0   1  28 Parker Ave Apt 202          None  San Francisco      US    CA   \n",
      "1   2              17287 abc          None       woodside      US    ca   \n",
      "2   3              17287 abc          None       woodside      US    ca   \n",
      "3   4  28 Parker Ave Apt 202          None  San Francisco      US    CA   \n",
      "4   5  28 Parker Ave Apt 202          None  San Francisco      US    CA   \n",
      "\n",
      "  zip_code phone company email contact  \n",
      "0    94118  None    None  None    None  \n",
      "1    94062  None    None  None    None  \n",
      "2    94062  None    None  None    None  \n",
      "3    94118  None    None  None    None  \n",
      "4    94118  None    None  None    None  \n",
      "categories\n",
      "   id                        breadcrumb                name  parent_id\n",
      "0   1                       Accessories         Accessories        NaN\n",
      "1   2    Accessories > Bath Accessories    Bath Accessories        1.0\n",
      "2   3  Accessories > Bedding and Throws  Bedding and Throws        1.0\n",
      "3   4   Accessories > Bowls and Baskets   Bowls and Baskets        1.0\n",
      "4   5               Accessories > Boxes               Boxes        1.0\n",
      "categories_products\n",
      "Empty DataFrame\n",
      "Columns: []\n",
      "Index: []\n",
      "category_features\n",
      "   category_id         feature\n",
      "0            1        door mat\n",
      "1            1     welcome mat\n",
      "2            1  indoor planter\n",
      "3            1         dog bed\n",
      "4            1         cat bed\n",
      "clients\n",
      "       id  deleted              name                      email  \\\n",
      "0  350121    False  Heather Gillette      heather@nousdecor.com   \n",
      "1  350131    False              mary                mmm@jjj.com   \n",
      "2  350134    False      Esther Smith         Smith@smithson.com   \n",
      "3  350142    False  heather gillette  heathergillette@gmail.com   \n",
      "4  350155    False   Dorothee Fisher   dorotheefisher@gmail.com   \n",
      "\n",
      "                  updated  user_id  \n",
      "0 2017-06-27 16:53:22.892   151223  \n",
      "1 2017-06-27 19:32:47.089   151238  \n",
      "2 2017-06-27 20:14:37.396   151224  \n",
      "3 2017-06-27 20:18:16.887   151224  \n",
      "4 2017-06-27 20:57:59.685   151234  \n",
      "companies\n",
      "   id      name\n",
      "0   1     tesla\n",
      "1   2   lumiata\n",
      "2   3    stripe\n",
      "3   4    radius\n",
      "4   5  facebook\n",
      "featured_items\n",
      "   id  related_id related_type               starts_at  rank  is_primary  \\\n",
      "0   2         133       VENDOR 2017-03-01 01:33:10.209     1       False   \n",
      "1   3       65494      PRODUCT 2017-03-01 00:00:00.000     1       False   \n",
      "2   4       65381      PRODUCT 2017-03-01 00:00:00.000     2       False   \n",
      "3   6       63853      PRODUCT 2017-03-01 00:00:00.000     4       False   \n",
      "4   7      159892      PRODUCT 2017-03-01 00:00:00.000     5       False   \n",
      "\n",
      "                                         imageurl  \n",
      "0  di/vendors/feature-images/hk40kdoqkqo3k0cfan3q  \n",
      "1                                            None  \n",
      "2                                            None  \n",
      "3                                            None  \n",
      "4                                            None  \n",
      "invitations\n",
      "   id             accepted_at              created_at              expires_at  \\\n",
      "0   1 2017-02-21 22:59:21.873 2017-02-21 22:51:55.213 2017-03-23 22:51:55.213   \n",
      "1   2                     NaT 2017-02-21 23:12:49.746 2017-03-23 23:12:49.746   \n",
      "2   3 2017-02-22 23:08:57.838 2017-02-22 23:08:40.198 2017-03-24 23:08:40.198   \n",
      "3   4 2017-02-23 21:18:53.947 2017-02-22 23:28:42.939 2017-03-24 23:28:42.939   \n",
      "4   5                     NaT 2017-03-05 01:38:19.818 2017-04-04 01:38:19.818   \n",
      "\n",
      "   invitation_token  is_accepted  is_enabled           recipient_email  \\\n",
      "0  4038ef0f644c282b         True        True     heather@nousdecor.com   \n",
      "1  336a6b33fdf4b90a        False        True      mark@designerinc.com   \n",
      "2   1f9c3ca076aa00b         True        True       emily@nousdecor.com   \n",
      "3  69ce4f8481793f2c         True        True       emily@nousdecor.com   \n",
      "4  342c1fba4c83b49a        False        True  lindagutierrez@gmail.com   \n",
      "\n",
      "   related_id related_type  recipient_id  sender_id  \n",
      "0      239386      PROJECT      151224.0     151223  \n",
      "1      223921      PROJECT           NaN     151224  \n",
      "2      342906      PROJECT      156305.0     151238  \n",
      "3      342909      PROJECT      156305.0     151238  \n",
      "4      342945      PROJECT           NaN     151234  \n",
      "order_items\n",
      "   id  price  quantity variation  order_id  product_id  note  is_custom   url  \\\n",
      "0   1  46.20         1      None         1     51380.0  None      False  None   \n",
      "1   2  77.00         1      None         1     51379.0  None      False  None   \n",
      "2   3   None         1      None         2    342405.0  None      False  None   \n",
      "3   4   None         1      None         2    342478.0  None      False  None   \n",
      "4   5   None         1      None         3    220919.0  None      False  None   \n",
      "\n",
      "  image title description  \n",
      "0  None  None        None  \n",
      "1  None  None        None  \n",
      "2  None  None        None  \n",
      "3  None  None        None  \n",
      "4  None  None        None  \n",
      "orders\n",
      "    id              created_on   order_number     status billing_address_id  \\\n",
      "0   77 2017-03-24 22:28:01.234  1490394481257  REQUESTED               None   \n",
      "1  118 2017-04-10 15:09:48.902  1491836988912  REQUESTED               None   \n",
      "2   78 2017-03-24 22:29:47.539  1490394587546   CHECKOUT               None   \n",
      "3   85 2017-03-27 18:41:28.115  1490640088147   CHECKOUT               None   \n",
      "4  119 2017-04-10 16:16:01.166  1491840961176  REQUESTED               None   \n",
      "\n",
      "   delivery_address_id   user_id  shopify_id stripe_charge_id  is_quote  \\\n",
      "0                100.0  151223.0         NaN             None      True   \n",
      "1                144.0  343041.0  75391622.0             None      True   \n",
      "2                101.0  151223.0  72576390.0             None      True   \n",
      "3                107.0  151223.0  72902470.0             None      True   \n",
      "4                145.0  342866.0  75415046.0             None      True   \n",
      "\n",
      "   receiver_address_id purchase_order sidemark quote_email_sends updated  \n",
      "0                  NaN           None     None                []     NaT  \n",
      "1                  NaN           None     None                []     NaT  \n",
      "2                  NaN           None     None                []     NaT  \n",
      "3                  NaN           None     None                []     NaT  \n",
      "4                  NaN           None     None                []     NaT  \n",
      "popular_items\n",
      "   id  item_id item_type                    updated  score  is_hidden\n",
      "0   1    40624   PRODUCT 2017-03-06 10:44:55.065700      1      False\n",
      "1   2    95888   PRODUCT 2017-03-06 10:44:55.065700      1      False\n",
      "2   4   304157   PRODUCT 2017-03-06 10:44:55.065700      1      False\n",
      "3   5    96139   PRODUCT 2017-03-06 10:44:55.065700      1      False\n",
      "4   6   250117   PRODUCT 2017-03-06 10:44:55.065700      1      False\n",
      "products\n",
      "   id              dynamoid price  shopify_id image title\n",
      "0   1  product|3|-810118740  None         NaN  None  None\n",
      "1   2  product|3|-810119018  None         NaN  None  None\n",
      "2   3  product|3|-810118923  None         NaN  None  None\n",
      "3   4  product|3|-810118769  None         NaN  None  None\n",
      "4   5  product|3|-810119019  None         NaN  None  None\n",
      "projects\n",
      "       id        name  user_id  is_sharing_enabled  archived\n",
      "0  156310        Rugs   151223               False     False\n",
      "1  163773  LivingRoom   151236               False     False\n",
      "2  163776         MCD   151238               False     False\n",
      "3  163777    AlleyWay   151224               False     False\n",
      "4  163779      sanbed   151238               False     False\n",
      "projects_collaborators\n",
      "   project_id  user_id\n",
      "0      239386   151224\n",
      "1      342906   156305\n",
      "2      342906   156305\n",
      "3      342909   156305\n",
      "4      350060   156305\n",
      "projects_products\n",
      "   project_id  product_id    id              created_at  author_id\n",
      "0      342904       40624  1664 2017-02-22 12:11:18.419     342802\n",
      "1      342906       95888  1665 2017-02-22 22:08:09.993     151238\n",
      "2      342907      304156  1666 2017-02-22 22:11:04.604     342905\n",
      "3      342907      304157  1667 2017-02-22 22:11:13.147     342905\n",
      "4      342907       96139  1668 2017-02-22 22:12:27.017     342905\n",
      "proposal_product\n",
      "       id          client_note client_price designer_note  display_order  \\\n",
      "0  366391                 None      1573.00          None              2   \n",
      "1  350130                            278.00          None              0   \n",
      "2  350128                              0.00          None              1   \n",
      "3  350129          Oh hell no!       255.67          None              2   \n",
      "4  350127  Looks too juvenile.       214.00          None              3   \n",
      "\n",
      "                                               image  quantity  status  \\\n",
      "0  https://cdn.shopify.com/s/files/1/1595/8663/pr...         1     NaN   \n",
      "1       di/products/e551c6c336ae0621b3be943da80018c7         1     0.0   \n",
      "2                   di/products/product|3|1261197341         8     0.0   \n",
      "3       di/products/ceb19954b768fdeae7e96c83d927004f         1     1.0   \n",
      "4       di/products/2a03bd6ff5dc7e8b5114c39a4330e5b9         1     1.0   \n",
      "\n",
      "                            title trade_price                 updated  \\\n",
      "0           Grasshopper Wall Lamp     1573.00 2017-08-30 01:40:44.306   \n",
      "1   Living on the Edge Sofa Table      241.50 2017-06-27 18:17:46.633   \n",
      "2            Colvin Console Table      458.00 2017-06-27 18:17:46.655   \n",
      "3                Claudius Cabinet      229.99 2017-06-27 18:17:46.672   \n",
      "4  Mid-Century 2 Dr Console Table      199.50 2017-06-27 18:17:46.685   \n",
      "\n",
      "  product_id  proposal_id description trade_shipping client_shipping  \n",
      "0       None       366390                       0.00            0.00  \n",
      "1       None       350122        None           0.00            0.00  \n",
      "2       None       350122        None           0.00            0.00  \n",
      "3       None       350122        None           0.00            0.00  \n",
      "4       None       350122        None           0.00            0.00  \n",
      "proposals\n",
      "       id additional_emails                 created     hash message  name  \\\n",
      "0  350122              None 2017-06-27 16:54:39.437  yy7wdxo    None  None   \n",
      "1  350132              None 2017-06-27 19:32:52.955  Jbp89V2    None  None   \n",
      "2  350135              None 2017-06-27 20:17:56.485  Zme5jvw    None  None   \n",
      "3  350156              None 2017-06-27 21:07:11.395  15AwVEA    None  None   \n",
      "4  350173              None 2017-06-28 23:39:33.547  w5wZX07    None  None   \n",
      "\n",
      "                responded                    sent  status  \\\n",
      "0 2017-06-27 18:17:46.689 2017-06-27 16:55:01.210     1.0   \n",
      "1                     NaT                     NaT     NaN   \n",
      "2                     NaT 2017-06-27 20:19:11.191     0.0   \n",
      "3                     NaT 2017-06-27 21:09:28.214     0.0   \n",
      "4 2017-06-28 23:40:52.116 2017-06-28 23:39:44.230     1.0   \n",
      "\n",
      "                  updated  owner_id  project_id  recipient_id  markup  \n",
      "0 2017-06-27 18:17:46.690    151223    239385.0        350121     0.0  \n",
      "1 2017-06-27 19:32:52.957    151238    324830.0        350131     0.0  \n",
      "2 2017-06-27 20:19:11.192    151224    343114.0        350142     0.0  \n",
      "3 2017-06-27 21:09:28.214    151234    163775.0        350155     0.0  \n",
      "4 2017-06-28 23:40:52.118    301360    301393.0        350171     0.0  \n",
      "saved_searches\n",
      "   id                                    name  \\\n",
      "0   1                              Print rugs   \n",
      "1   3                     Leather case goods.   \n",
      "2   5                        Favorite Vendors   \n",
      "3   6  Sideboards from CFC, Noir, & Palecheck   \n",
      "4   7       Lighting without Hammerton, Ollix   \n",
      "\n",
      "                                               state                 updated  \\\n",
      "0                q=print&nR[processedImages][=][0]=1 2017-06-01 18:56:45.490   \n",
      "1  q=leather&hFR[categories][0]=Furniture%20%3E%2... 2017-06-05 19:20:53.785   \n",
      "2  q=&fE[site][0]=brentanofabrics.com&fE[site][1]... 2017-06-06 16:03:55.859   \n",
      "3  q=&dFR[site][0]=customfurniturela.com&dFR[site... 2017-06-06 18:22:02.818   \n",
      "4  q=&fE[site][0]=olliix.com&fE[site][1]=hammerto... 2017-06-06 18:31:22.277   \n",
      "\n",
      "   user_id  \n",
      "0   151223  \n",
      "1   151223  \n",
      "2   350004  \n",
      "3   151234  \n",
      "4   151234  \n",
      "schema_version\n",
      "   installed_rank version            description      type  \\\n",
      "0               1       1  << Flyway Baseline >>  BASELINE   \n",
      "1               2       2       projects feature       SQL   \n",
      "2               3     2.1  project column update       SQL   \n",
      "3               4       3      categories export       SQL   \n",
      "4               5       4        categories data       SQL   \n",
      "\n",
      "                            script      checksum installed_by  \\\n",
      "0            << Flyway Baseline >>           NaN  designerinc   \n",
      "1         V2__projects_feature.sql  1.692762e+08  designerinc   \n",
      "2  V2.1__project_column_update.sql -1.981511e+09  designerinc   \n",
      "3        V3__categories_export.sql  7.022044e+07  designerinc   \n",
      "4          V4__categories_data.sql -2.132191e+09  designerinc   \n",
      "\n",
      "                installed_on  execution_time  success  \n",
      "0 2016-08-03 18:22:23.565544               0     True  \n",
      "1 2016-08-03 18:22:23.625700              70     True  \n",
      "2 2016-08-17 20:49:47.880255              15     True  \n",
      "3 2016-08-23 03:43:33.321891              80     True  \n",
      "4 2016-08-23 03:43:33.418100              74     True  \n",
      "showrooms\n",
      "    id         city                          name state  \\\n",
      "0    1  Los Angeles                Bassman Blaine    CA   \n",
      "1  396  Los Angeles           Michael Taylor - LA    CA   \n",
      "2  260   Washington                MICHAEL-CLEARY    DC   \n",
      "3  155       Dallas   Allan Knight and Associates    TX   \n",
      "4  143     New York  Harounian Rugs International    NY   \n",
      "\n",
      "                     updated  \n",
      "0 2017-03-06 10:44:54.914533  \n",
      "1 2017-09-26 15:34:54.249000  \n",
      "2 2017-09-14 11:44:29.879000  \n",
      "3 2017-03-08 20:25:07.141000  \n",
      "4 2017-03-06 21:54:26.430000  \n",
      "showrooms_vendors\n",
      "   showroom_id  vendor_id\n",
      "0           90         18\n",
      "1           91         19\n",
      "2          109         12\n",
      "3          117         40\n",
      "4          118         40\n",
      "spring_session\n",
      "                             session_id  creation_time  last_access_time  \\\n",
      "0  17b4c882-58ea-4dfe-b47c-9491148bc31d  1501275795129     1502217429011   \n",
      "1  06c47b02-aead-41f3-b463-62ea8cc8fc5b  1508442038039     1508442249384   \n",
      "2  6561f884-8c29-46b5-a1c6-eaceee1a6900  1501590830707     1502144187936   \n",
      "3  64aa8a92-66f0-4df2-9b3b-13580807e4cb  1501619275497     1505969685777   \n",
      "4  9c2cd42c-72dc-4189-ae05-e8e161f7069d  1504839842690     1504911869062   \n",
      "\n",
      "   max_inactive_interval                 principal_name  \n",
      "0               15552000         marie@marietrohman.com  \n",
      "1               15552000          info@powellbrower.com  \n",
      "2               15552000  lisa.shaffer@lisaandleroy.com  \n",
      "3               15552000     christyarakaki@hotmail.com  \n",
      "4               15552000            jgregorak@gmail.com  \n",
      "spring_session_attributes\n",
      "                             session_id  \\\n",
      "0  ac19501a-8d27-456c-bdf5-d55a0dedac67   \n",
      "1  2e3108e0-6515-4a3e-adc3-353da8a4aa4b   \n",
      "2  bc0c4707-22a9-4451-9bdb-5ae36929551d   \n",
      "3  bc0c4707-22a9-4451-9bdb-5ae36929551d   \n",
      "4  e7323b07-bf32-4a1c-b1d3-cda1e5bddda3   \n",
      "\n",
      "                                      attribute_name  \\\n",
      "0  org.springframework.security.web.csrf.HttpSess...   \n",
      "1                                               user   \n",
      "2                            SPRING_SECURITY_CONTEXT   \n",
      "3                                               user   \n",
      "4                            SPRING_SECURITY_CONTEXT   \n",
      "\n",
      "                                     attribute_bytes  \n",
      "0  [�, �, \u0000, \u0005, s, r, \u0000, 6, o, r, g, ., s, p, r, ...  \n",
      "1  [�, �, \u0000, \u0005, t, \u0000, \u0012, h, i, @, b, a, n, d, d, ...  \n",
      "2  [�, �, \u0000, \u0005, s, r, \u0000, =, o, r, g, ., s, p, r, ...  \n",
      "3  [�, �, \u0000, \u0005, t, \u0000, \u001b, c, a, l, i, e, @, c, h, ...  \n",
      "4  [�, �, \u0000, \u0005, s, r, \u0000, =, o, r, g, ., s, p, r, ...  \n",
      "styles\n",
      "   id          name\n",
      "0   1   Mid Century\n",
      "1   2   Traditional\n",
      "2   3         Asian\n",
      "3   4  Contemporary\n",
      "4   5        Rustic\n",
      "user_addresses\n",
      "   id is_default      type  address_id  user_id\n",
      "0   1       None  SHIPPING           1   151223\n",
      "1   2       None  SHIPPING           2   151224\n",
      "2   3       None  SHIPPING           3   151224\n",
      "3   4       None  SHIPPING           4   151223\n",
      "4   5       None  SHIPPING           5   151223\n",
      "users\n",
      "       id                             email          full_name  \\\n",
      "0  350354      nancylaneinteriors@gmail.com      Nancy Barnett   \n",
      "1  156319      aleisha.schoffman@kravet.com  Aleisha Schoffman   \n",
      "2  351081  natalie@thesittingroomstudio.com   Natalie  Talley    \n",
      "3  151235         info@laurabrittdesign.com        Laura Britt   \n",
      "4  343284               ceid.lcla@gmail.com      Cynthia Eagle   \n",
      "\n",
      "                                        stormpathurl logourl  \\\n",
      "0  https://api.stormpath.com/v1/accounts/1YXBfpl8...    None   \n",
      "1  https://api.stormpath.com/v1/accounts/4poWWBW8...    None   \n",
      "2                                               None    None   \n",
      "3  https://api.stormpath.com/v1/accounts/2NK0uSNv...    None   \n",
      "4  https://api.stormpath.com/v1/accounts/1wabBERW...    None   \n",
      "\n",
      "                              company plaid_access_token stripe_customer_id  \\\n",
      "0           Nancy Lane Interiors, LLC               None               None   \n",
      "1                              Kravet               None               None   \n",
      "2            The Sitting Room Studio                None               None   \n",
      "3              Laura Britt Design LLC               None               None   \n",
      "4  Cynthia Eagle Interior Design, LLC               None               None   \n",
      "\n",
      "   shopify_customer_id                                        custom_data  \\\n",
      "0                  NaN  {u'resellerState': u'texas', u'company': u'Nan...   \n",
      "1                  NaN                            {u'company': u'Kravet'}   \n",
      "2         7.330043e+09          {u'company': u'The Sitting Room Studio '}   \n",
      "3                  NaN            {u'company': u'Laura Britt Design LLC'}   \n",
      "4                  NaN  {u'company': u'Cynthia Eagle Interior Design, ...   \n",
      "\n",
      "               created_at  enabled  verified  \\\n",
      "0 2017-07-08 19:46:56.847     True      True   \n",
      "1 2016-08-19 15:00:08.716     True     False   \n",
      "2 2017-08-16 20:19:34.381     True      True   \n",
      "3 2016-08-04 22:03:41.808     True     False   \n",
      "4 2017-04-26 17:17:39.329     True      True   \n",
      "\n",
      "                                            password                 updated  \\\n",
      "0  $2a$04$isea3PGzN9rjiNM8ZksSAu4nQSimpZdlmmkdgkg... 2017-08-02 20:09:35.229   \n",
      "1  $2a$13$W3YONsdhSKo6j7Bu4NxMV.n.ZvWkJ2eGeIzAhyq... 2017-07-25 23:48:36.402   \n",
      "2  $2a$04$jlQS09zDvB1LIvI2feS6KucIh2mLCpmKdcVq80e... 2017-08-16 20:36:58.685   \n",
      "3  $2a$13$2j5mldNaKd8143qx7FbAMuQaTTFDIjYDQ8GHayl... 2017-07-26 00:30:01.637   \n",
      "4  $2a$13$ekRKScJznIHyAKYLBWTQZuoRs5FmIc1J.znLocj... 2017-07-25 23:48:00.695   \n",
      "\n",
      "  user_roles first_name  last_name google_id  \n",
      "0     [USER]      Nancy    Barnett      None  \n",
      "1     [USER]    Aleisha  Schoffman      None  \n",
      "2     [USER]   Natalie     Talley       None  \n",
      "3     [USER]      Laura      Britt      None  \n",
      "4     [USER]    Cynthia      Eagle      None  \n",
      "vendors\n",
      "   id               name                   url  \\\n",
      "0  84  Julian Chichester  julianchichester.com   \n",
      "1  85              Knoll             knoll.com   \n",
      "2  93    Lindsey Adelman    lindseyadelman.com   \n",
      "3   4          Arteriors     arteriorshome.com   \n",
      "4  42           Emissary       emissaryusa.com   \n",
      "\n",
      "                                 logourl  \\\n",
      "0  di/vendors/logos/ttteszvafh00wlkj7h1k   \n",
      "1  di/vendors/logos/cqok2vpmabrn77mun6dv   \n",
      "2  di/vendors/logos/qomaxnjsz4h7og1b8xrp   \n",
      "3  di/vendors/logos/qyuyfbcmlwmnnejj4ltx   \n",
      "4                                   None   \n",
      "\n",
      "                                                 bio price_level  \\\n",
      "0                                                          THREE   \n",
      "1  Knoll is Modern Always, because modern always ...       THREE   \n",
      "2                                                           FOUR   \n",
      "3                                                            TWO   \n",
      "4                                                            ONE   \n",
      "\n",
      "                     updated hidden  verified_only email  \\\n",
      "0 2017-03-09 00:41:29.071000  False          False  None   \n",
      "1 2017-03-09 00:41:54.316000  False          False  None   \n",
      "2 2017-03-06 10:44:54.914533  False          False  None   \n",
      "3 2017-11-03 22:47:33.733000  False          False         \n",
      "4 2017-03-06 10:44:54.914533  False          False  None   \n",
      "\n",
      "                                       return_policy  \n",
      "0                                               None  \n",
      "1                                               None  \n",
      "2                                               None  \n",
      "3  Arteriors will accept returns on defective or ...  \n",
      "4                                               None  \n",
      "vendors_styles\n",
      "   vendor_id  style_id\n",
      "0         43         2\n",
      "1         43         3\n",
      "2        130         5\n",
      "3         96         3\n",
      "4         96         5\n"
     ]
    }
   ],
   "source": [
    "for i in table_names:\n",
    "    print i\n",
    "    print d[i].head()"
   ]
  },
  {
   "cell_type": "code",
   "execution_count": 13,
   "metadata": {},
   "outputs": [
    {
     "data": {
      "text/html": [
       "<div>\n",
       "<style>\n",
       "    .dataframe thead tr:only-child th {\n",
       "        text-align: right;\n",
       "    }\n",
       "\n",
       "    .dataframe thead th {\n",
       "        text-align: left;\n",
       "    }\n",
       "\n",
       "    .dataframe tbody tr th {\n",
       "        vertical-align: top;\n",
       "    }\n",
       "</style>\n",
       "<table border=\"1\" class=\"dataframe\">\n",
       "  <thead>\n",
       "    <tr style=\"text-align: right;\">\n",
       "      <th></th>\n",
       "    </tr>\n",
       "  </thead>\n",
       "  <tbody>\n",
       "  </tbody>\n",
       "</table>\n",
       "</div>"
      ],
      "text/plain": [
       "Empty DataFrame\n",
       "Columns: []\n",
       "Index: []"
      ]
     },
     "execution_count": 13,
     "metadata": {},
     "output_type": "execute_result"
    }
   ],
   "source": [
    "cur.execute(\"SELECT * FROM categories_products;\")\n",
    "\n",
    "the_data = cur.fetchall()\n",
    "\n",
    "colnames = [desc[0] for desc in cur.description]\n",
    "\n",
    "the_frame = pd.DataFrame(the_data)\n",
    "# the_frame.columns = colnames\n",
    "the_frame.head()\n"
   ]
  },
  {
   "cell_type": "markdown",
   "metadata": {},
   "source": [
    "## Tables with no valuable information\n",
    "categories_products is an empty table\n",
    "\n",
    "clients: 80 rows has email, user_id (of creator), name, deleted (only 2 True), updated timestamp\n",
    "\n",
    "\n",
    "proposal_product: client feedback on items. Only 172 rows of feedback. Positive (\"this looks like a cool feature\") / Negative (\"Oh Hell No!\") notes ... and only 5 blocks of text."
   ]
  },
  {
   "cell_type": "markdown",
   "metadata": {},
   "source": [
    "## Tables with potentially interesting information\n",
    "\n",
    "Addresses: Low priority. with 43 states and 94 cities represented, could I find a relationship between styles and location\n",
    "\n",
    "Categories: Turn into a set of objects with lower nodes holding item information and higher nodes as collections of that information. Determine the node level for useful information.\n",
    "\n",
    "projects_products: multiple rows per project. user_id, product_ids. Identify relationships by product --> if in same project, add to relationship list. Convert to default dictionary or counter of related products\n",
    "materials - finish: pull info from description for materials (800+ baskets, ~7 items per basket ... 5.7k unique items.\n",
    "\n"
   ]
  },
  {
   "cell_type": "markdown",
   "metadata": {},
   "source": [
    "## Table Relationships\n",
    "Addresses (1178 rows) used in users? clients? ?????\n",
    "    id (primary key), address_line1 (427 entries), address_line2 (79 entries), city (427), country (1178), state (427), zip_code (1178 *required information), phone (124), company (10), email (10), contact (10)\n",
    "    \n",
    "  "
   ]
  },
  {
   "cell_type": "markdown",
   "metadata": {},
   "source": [
    "### Addresses"
   ]
  },
  {
   "cell_type": "code",
   "execution_count": 14,
   "metadata": {
    "scrolled": true
   },
   "outputs": [
    {
     "name": "stdout",
     "output_type": "stream",
     "text": [
      "<class 'pandas.core.frame.DataFrame'>\n",
      "RangeIndex: 1178 entries, 0 to 1177\n",
      "Data columns (total 11 columns):\n",
      "id               1178 non-null int64\n",
      "address_line1    427 non-null object\n",
      "address_line2    79 non-null object\n",
      "city             427 non-null object\n",
      "country          1178 non-null object\n",
      "state            427 non-null object\n",
      "zip_code         1178 non-null object\n",
      "phone            124 non-null object\n",
      "company          10 non-null object\n",
      "email            10 non-null object\n",
      "contact          10 non-null object\n",
      "dtypes: int64(1), object(10)\n",
      "memory usage: 101.3+ KB\n"
     ]
    }
   ],
   "source": [
    "d['addresses'].info()"
   ]
  },
  {
   "cell_type": "code",
   "execution_count": 15,
   "metadata": {},
   "outputs": [
    {
     "name": "stdout",
     "output_type": "stream",
     "text": [
      "id 1178\n",
      "address_line1 122\n",
      "address_line2 40\n",
      "city 94\n",
      "country 1\n",
      "state 43\n",
      "zip_code 375\n",
      "phone 64\n",
      "company 7\n",
      "email 7\n",
      "contact 8\n"
     ]
    }
   ],
   "source": [
    "for i in d['addresses'].columns:\n",
    "    print i, len(d['addresses'][i].unique())"
   ]
  },
  {
   "cell_type": "markdown",
   "metadata": {},
   "source": [
    "### Category Features\n",
    "\n",
    "There are 413 category \"types\".\n",
    "There are 107 category \"classifications\"."
   ]
  },
  {
   "cell_type": "code",
   "execution_count": 16,
   "metadata": {},
   "outputs": [
    {
     "data": {
      "text/html": [
       "<div>\n",
       "<style>\n",
       "    .dataframe thead tr:only-child th {\n",
       "        text-align: right;\n",
       "    }\n",
       "\n",
       "    .dataframe thead th {\n",
       "        text-align: left;\n",
       "    }\n",
       "\n",
       "    .dataframe tbody tr th {\n",
       "        vertical-align: top;\n",
       "    }\n",
       "</style>\n",
       "<table border=\"1\" class=\"dataframe\">\n",
       "  <thead>\n",
       "    <tr style=\"text-align: right;\">\n",
       "      <th></th>\n",
       "      <th>category_id</th>\n",
       "      <th>feature</th>\n",
       "    </tr>\n",
       "  </thead>\n",
       "  <tbody>\n",
       "    <tr>\n",
       "      <th>27</th>\n",
       "      <td>2</td>\n",
       "      <td>bath set</td>\n",
       "    </tr>\n",
       "    <tr>\n",
       "      <th>28</th>\n",
       "      <td>2</td>\n",
       "      <td>towel rack</td>\n",
       "    </tr>\n",
       "    <tr>\n",
       "      <th>29</th>\n",
       "      <td>2</td>\n",
       "      <td>toilet paper holder</td>\n",
       "    </tr>\n",
       "    <tr>\n",
       "      <th>30</th>\n",
       "      <td>2</td>\n",
       "      <td>towel bar</td>\n",
       "    </tr>\n",
       "    <tr>\n",
       "      <th>31</th>\n",
       "      <td>2</td>\n",
       "      <td>toilet paper bar</td>\n",
       "    </tr>\n",
       "    <tr>\n",
       "      <th>32</th>\n",
       "      <td>2</td>\n",
       "      <td>bathroom shelf</td>\n",
       "    </tr>\n",
       "    <tr>\n",
       "      <th>33</th>\n",
       "      <td>2</td>\n",
       "      <td>towel</td>\n",
       "    </tr>\n",
       "    <tr>\n",
       "      <th>34</th>\n",
       "      <td>2</td>\n",
       "      <td>bath sheet</td>\n",
       "    </tr>\n",
       "    <tr>\n",
       "      <th>35</th>\n",
       "      <td>2</td>\n",
       "      <td>bath towel</td>\n",
       "    </tr>\n",
       "    <tr>\n",
       "      <th>36</th>\n",
       "      <td>2</td>\n",
       "      <td>shower curtain</td>\n",
       "    </tr>\n",
       "    <tr>\n",
       "      <th>37</th>\n",
       "      <td>2</td>\n",
       "      <td>bathroom towel</td>\n",
       "    </tr>\n",
       "    <tr>\n",
       "      <th>38</th>\n",
       "      <td>2</td>\n",
       "      <td>medicine cabinet</td>\n",
       "    </tr>\n",
       "    <tr>\n",
       "      <th>39</th>\n",
       "      <td>2</td>\n",
       "      <td>bathroom storage</td>\n",
       "    </tr>\n",
       "    <tr>\n",
       "      <th>40</th>\n",
       "      <td>2</td>\n",
       "      <td>bathroom cabinet</td>\n",
       "    </tr>\n",
       "  </tbody>\n",
       "</table>\n",
       "</div>"
      ],
      "text/plain": [
       "    category_id              feature\n",
       "27            2             bath set\n",
       "28            2           towel rack\n",
       "29            2  toilet paper holder\n",
       "30            2            towel bar\n",
       "31            2     toilet paper bar\n",
       "32            2       bathroom shelf\n",
       "33            2                towel\n",
       "34            2           bath sheet\n",
       "35            2           bath towel\n",
       "36            2       shower curtain\n",
       "37            2       bathroom towel\n",
       "38            2     medicine cabinet\n",
       "39            2     bathroom storage\n",
       "40            2     bathroom cabinet"
      ]
     },
     "execution_count": 16,
     "metadata": {},
     "output_type": "execute_result"
    }
   ],
   "source": [
    "d['category_features'][d['category_features']['category_id'] ==2]"
   ]
  },
  {
   "cell_type": "code",
   "execution_count": 17,
   "metadata": {},
   "outputs": [
    {
     "name": "stdout",
     "output_type": "stream",
     "text": [
      "category_id 107\n",
      "feature 413\n"
     ]
    }
   ],
   "source": [
    "for i in d['category_features'].columns:\n",
    "    print i, len(d['category_features'][i].unique())"
   ]
  },
  {
   "cell_type": "code",
   "execution_count": 18,
   "metadata": {
    "collapsed": true
   },
   "outputs": [],
   "source": [
    "test = list(d['category_features']['feature'])"
   ]
  },
  {
   "cell_type": "code",
   "execution_count": 19,
   "metadata": {
    "collapsed": true
   },
   "outputs": [],
   "source": [
    "# test = sorted(test)\n",
    "# print test"
   ]
  },
  {
   "cell_type": "code",
   "execution_count": 20,
   "metadata": {},
   "outputs": [
    {
     "data": {
      "text/html": [
       "<div>\n",
       "<style>\n",
       "    .dataframe thead tr:only-child th {\n",
       "        text-align: right;\n",
       "    }\n",
       "\n",
       "    .dataframe thead th {\n",
       "        text-align: left;\n",
       "    }\n",
       "\n",
       "    .dataframe tbody tr th {\n",
       "        vertical-align: top;\n",
       "    }\n",
       "</style>\n",
       "<table border=\"1\" class=\"dataframe\">\n",
       "  <thead>\n",
       "    <tr style=\"text-align: right;\">\n",
       "      <th></th>\n",
       "      <th>category_id</th>\n",
       "      <th>feature</th>\n",
       "    </tr>\n",
       "  </thead>\n",
       "  <tbody>\n",
       "  </tbody>\n",
       "</table>\n",
       "</div>"
      ],
      "text/plain": [
       "Empty DataFrame\n",
       "Columns: [category_id, feature]\n",
       "Index: []"
      ]
     },
     "execution_count": 20,
     "metadata": {},
     "output_type": "execute_result"
    }
   ],
   "source": [
    "d['category_features'][d['category_features']['feature'] == 'text']"
   ]
  },
  {
   "cell_type": "markdown",
   "metadata": {},
   "source": [
    "### Clients\n"
   ]
  },
  {
   "cell_type": "code",
   "execution_count": 21,
   "metadata": {},
   "outputs": [
    {
     "name": "stdout",
     "output_type": "stream",
     "text": [
      "id 80\n",
      "deleted 2\n",
      "name 77\n",
      "email 77\n",
      "updated 80\n",
      "user_id 60\n"
     ]
    }
   ],
   "source": [
    "for i in d['clients'].columns:\n",
    "    print i, len(d['clients'][i].unique())"
   ]
  },
  {
   "cell_type": "markdown",
   "metadata": {},
   "source": [
    "### Users"
   ]
  },
  {
   "cell_type": "code",
   "execution_count": 22,
   "metadata": {},
   "outputs": [
    {
     "name": "stdout",
     "output_type": "stream",
     "text": [
      "id 3126\n",
      "email 3126\n",
      "full_name 3058\n",
      "stormpathurl 1795\n",
      "logourl 141\n",
      "company 2971\n",
      "plaid_access_token 22\n",
      "stripe_customer_id 44\n",
      "shopify_customer_id 1489\n",
      "created_at 3121\n",
      "enabled 1\n",
      "verified 2\n",
      "password 3123\n",
      "updated 3123\n",
      "user_roles set([u'ADMIN', u'USER'])\n",
      "first_name 1458\n",
      "last_name 2545\n",
      "google_id 98\n"
     ]
    }
   ],
   "source": [
    "ret = set()\n",
    "for i in d['users'].columns:\n",
    "    if i != 'custom_data':\n",
    "        if i == 'user_roles':\n",
    "            for j in d['users'][i]:\n",
    "                ret.update(j)\n",
    "            print i, ret\n",
    "        else:\n",
    "            print i, len(d['users'][i].unique())"
   ]
  },
  {
   "cell_type": "code",
   "execution_count": 23,
   "metadata": {},
   "outputs": [
    {
     "name": "stdout",
     "output_type": "stream",
     "text": [
      "<class 'pandas.core.frame.DataFrame'>\n",
      "RangeIndex: 3126 entries, 0 to 3125\n",
      "Data columns (total 19 columns):\n",
      "id                     3126 non-null int64\n",
      "email                  3126 non-null object\n",
      "full_name              3125 non-null object\n",
      "stormpathurl           1794 non-null object\n",
      "logourl                140 non-null object\n",
      "company                3060 non-null object\n",
      "plaid_access_token     21 non-null object\n",
      "stripe_customer_id     43 non-null object\n",
      "shopify_customer_id    1488 non-null float64\n",
      "custom_data            3126 non-null object\n",
      "created_at             3120 non-null datetime64[ns]\n",
      "enabled                3126 non-null bool\n",
      "verified               3126 non-null bool\n",
      "password               3126 non-null object\n",
      "updated                3122 non-null datetime64[ns]\n",
      "user_roles             3126 non-null object\n",
      "first_name             3126 non-null object\n",
      "last_name              3126 non-null object\n",
      "google_id              97 non-null object\n",
      "dtypes: bool(2), datetime64[ns](2), float64(1), int64(1), object(13)\n",
      "memory usage: 421.3+ KB\n"
     ]
    }
   ],
   "source": [
    "d['users'].info()"
   ]
  },
  {
   "cell_type": "markdown",
   "metadata": {},
   "source": [
    "## How to download meta data from algolia system\n",
    "\n",
    "Search does not currently work with API. MUST HIDE AND ALIAS passwords before uploading"
   ]
  },
  {
   "cell_type": "code",
   "execution_count": 24,
   "metadata": {
    "collapsed": true
   },
   "outputs": [],
   "source": [
    "from algoliasearch import algoliasearch\n",
    "# from pymongo import MongoClient\n",
    "# import json\n",
    "import time\n"
   ]
  },
  {
   "cell_type": "code",
   "execution_count": 25,
   "metadata": {
    "collapsed": true
   },
   "outputs": [],
   "source": [
    "# client = MongoClient()"
   ]
  },
  {
   "cell_type": "code",
   "execution_count": null,
   "metadata": {
    "collapsed": true
   },
   "outputs": [],
   "source": [
    "# del db_products\n",
    "# db_products = client.db_products"
   ]
  },
  {
   "cell_type": "code",
   "execution_count": null,
   "metadata": {
    "collapsed": true
   },
   "outputs": [],
   "source": [
    "# import unicodedata"
   ]
  },
  {
   "cell_type": "code",
   "execution_count": null,
   "metadata": {
    "collapsed": true
   },
   "outputs": [],
   "source": [
    "400*40/31./60\n",
    "\n",
    "\n",
    "# cl = algoliasearch.Client(\"88M6DNE4VR\", 'a1d710a60be87b6f6688be3d3b13221c')\n",
    "# index = cl.init_index('di_raw_products_prod')"
   ]
  },
  {
   "cell_type": "code",
   "execution_count": null,
   "metadata": {
    "collapsed": true
   },
   "outputs": [],
   "source": [
    "# print cl.get_api_key_acl(\"a1d710a60be87b6f6688be3d3b13221c\")"
   ]
  },
  {
   "cell_type": "code",
   "execution_count": null,
   "metadata": {
    "collapsed": true
   },
   "outputs": [],
   "source": [
    "# query = {'query':''}\n",
    "# d_test = index.search(\"table\")#, \"attributesToRetrieve\": \"hits\"})"
   ]
  },
  {
   "cell_type": "code",
   "execution_count": null,
   "metadata": {
    "collapsed": true,
    "scrolled": false
   },
   "outputs": [],
   "source": [
    "# print len(d_test['hits'])\n",
    "# d_test['hits']"
   ]
  },
  {
   "cell_type": "code",
   "execution_count": null,
   "metadata": {
    "collapsed": true
   },
   "outputs": [],
   "source": [
    "# for key, val in d_dyn.iteritems():\n",
    "\n",
    "# index.search({\"query\":webscrapingtest,\"filter\":\"hitsPerPage\"})\n",
    "\n",
    "# index = client.init_index(\"contacts\")\n",
    "\n",
    "# import time\n",
    "# individual_page_hits = {}\n",
    "# for key, val in d_dyn.iteritems():\n",
    "#     time.sleep(5)\n",
    "#     query = {'query':val}\n",
    "#     d_test = index.search(\n",
    "#                {\"query\":query, \"attributesToRetrieve\": \"hits\"})\n",
    "# #                    request_options=request_options)\n",
    "#     individual_page_hits[key] = d_test[\"hits\"]"
   ]
  },
  {
   "cell_type": "code",
   "execution_count": null,
   "metadata": {
    "collapsed": true,
    "scrolled": false
   },
   "outputs": [],
   "source": [
    "# for key, val in individual_page_hits.iteritems():\n",
    "#     print key, val\n",
    "    "
   ]
  },
  {
   "cell_type": "code",
   "execution_count": null,
   "metadata": {
    "collapsed": true
   },
   "outputs": [],
   "source": [
    "# # items = n/dev/load(\"scraped_data_as_dict.npy\")\n",
    "# items_max = max(items.iterkeys())\n",
    "# print items_max"
   ]
  },
  {
   "cell_type": "code",
   "execution_count": null,
   "metadata": {
    "collapsed": true
   },
   "outputs": [],
   "source": [
    "\n",
    "# c = 0\n",
    "# for idx,i in enumerate(d['products']['dynamoid']):\n",
    "#     if c == 75000:\n",
    "#         break\n",
    "#     if idx > items_max:\n",
    "#         try:\n",
    "#             query = i\n",
    "#             items[idx] = index.search(query)['hits']\n",
    "#             c+=1\n",
    "#             continue\n",
    "#         except:\n",
    "#             print 'fail: {}'.format(i)"
   ]
  },
  {
   "cell_type": "code",
   "execution_count": null,
   "metadata": {
    "collapsed": true
   },
   "outputs": [],
   "source": [
    "# len(items)\n",
    "# items = {}"
   ]
  },
  {
   "cell_type": "code",
   "execution_count": null,
   "metadata": {
    "collapsed": true
   },
   "outputs": [],
   "source": [
    "# import numpy as np\n",
    "# np.save('scraped_data_as_dict375k.npy', items)"
   ]
  },
  {
   "cell_type": "code",
   "execution_count": null,
   "metadata": {
    "collapsed": true,
    "scrolled": false
   },
   "outputs": [],
   "source": [
    "# # items[84856]\n",
    "# c=0\n",
    "# for key, val in items.iteritems():\n",
    "#     if val == []:\n",
    "#         c+=1\n",
    "# print items_max -c - 375000"
   ]
  },
  {
   "cell_type": "code",
   "execution_count": null,
   "metadata": {
    "collapsed": true
   },
   "outputs": [],
   "source": []
  },
  {
   "cell_type": "code",
   "execution_count": null,
   "metadata": {
    "collapsed": true
   },
   "outputs": [],
   "source": [
    "# # mongodb client stuff\n",
    "\n",
    "# query = \"\" # Empty query will match all records\n",
    "\n",
    "# res = index.browse_all({\"query\":query})\n",
    "\n",
    "# # while \"cursor\" in res:\n",
    "# #     print res\n",
    "# for hit in res:\n",
    "# #     h = json.loads(hit)\n",
    "# #     df = pd.read_json(h)\n",
    "# #     print df\n",
    "#     print hit\n",
    "#     db_products.insert(res)\n",
    "\n",
    "# query = \"\" # Empty query will match all records\n",
    "\n",
    "# res = index.search({\"query\": query}, None)\n",
    "\n",
    "# while \"cursor\" in res:\n",
    "#     print res\n",
    "#     db_products.insert(res)\n",
    "#     # Filters are embeded in the cursor\n",
    "#     res = index.search(None, res[\"cursor\"])\n",
    "    "
   ]
  },
  {
   "cell_type": "code",
   "execution_count": null,
   "metadata": {
    "collapsed": true
   },
   "outputs": [],
   "source": [
    "# print db_products"
   ]
  },
  {
   "cell_type": "code",
   "execution_count": null,
   "metadata": {
    "collapsed": true
   },
   "outputs": [],
   "source": [
    "# cols = db_products.collection_names"
   ]
  },
  {
   "cell_type": "code",
   "execution_count": null,
   "metadata": {
    "collapsed": true
   },
   "outputs": [],
   "source": [
    "# for c in cols:\n",
    "#     print c"
   ]
  },
  {
   "cell_type": "markdown",
   "metadata": {
    "collapsed": true
   },
   "source": [
    "## Upload transactions / orders data from Shopify"
   ]
  },
  {
   "cell_type": "code",
   "execution_count": 26,
   "metadata": {
    "collapsed": true
   },
   "outputs": [],
   "source": [
    "df_transactions = pd.read_csv('/home/brent/Downloads/transactions_export.csv')"
   ]
  },
  {
   "cell_type": "code",
   "execution_count": 27,
   "metadata": {},
   "outputs": [
    {
     "data": {
      "text/html": [
       "<div>\n",
       "<style>\n",
       "    .dataframe thead tr:only-child th {\n",
       "        text-align: right;\n",
       "    }\n",
       "\n",
       "    .dataframe thead th {\n",
       "        text-align: left;\n",
       "    }\n",
       "\n",
       "    .dataframe tbody tr th {\n",
       "        vertical-align: top;\n",
       "    }\n",
       "</style>\n",
       "<table border=\"1\" class=\"dataframe\">\n",
       "  <thead>\n",
       "    <tr style=\"text-align: right;\">\n",
       "      <th></th>\n",
       "      <th>Order</th>\n",
       "      <th>Name</th>\n",
       "      <th>Kind</th>\n",
       "      <th>Gateway</th>\n",
       "      <th>Created At</th>\n",
       "      <th>Status</th>\n",
       "      <th>Amount</th>\n",
       "      <th>Currency</th>\n",
       "      <th>Card Type</th>\n",
       "    </tr>\n",
       "  </thead>\n",
       "  <tbody>\n",
       "    <tr>\n",
       "      <th>0</th>\n",
       "      <td>171163090950</td>\n",
       "      <td>#1244</td>\n",
       "      <td>capture</td>\n",
       "      <td>NaN</td>\n",
       "      <td>2018-01-09 10:07:46 -0800</td>\n",
       "      <td>success</td>\n",
       "      <td>2160.31</td>\n",
       "      <td>USD</td>\n",
       "      <td>NaN</td>\n",
       "    </tr>\n",
       "    <tr>\n",
       "      <th>1</th>\n",
       "      <td>169617096710</td>\n",
       "      <td>#1243</td>\n",
       "      <td>capture</td>\n",
       "      <td>NaN</td>\n",
       "      <td>2018-01-08 10:48:09 -0800</td>\n",
       "      <td>success</td>\n",
       "      <td>131.84</td>\n",
       "      <td>USD</td>\n",
       "      <td>NaN</td>\n",
       "    </tr>\n",
       "    <tr>\n",
       "      <th>2</th>\n",
       "      <td>162022326278</td>\n",
       "      <td>#1241</td>\n",
       "      <td>capture</td>\n",
       "      <td>NaN</td>\n",
       "      <td>2018-01-03 10:42:49 -0800</td>\n",
       "      <td>success</td>\n",
       "      <td>279.00</td>\n",
       "      <td>USD</td>\n",
       "      <td>NaN</td>\n",
       "    </tr>\n",
       "    <tr>\n",
       "      <th>3</th>\n",
       "      <td>161044201478</td>\n",
       "      <td>#1240</td>\n",
       "      <td>capture</td>\n",
       "      <td>NaN</td>\n",
       "      <td>2018-01-02 17:55:24 -0800</td>\n",
       "      <td>success</td>\n",
       "      <td>55.00</td>\n",
       "      <td>USD</td>\n",
       "      <td>NaN</td>\n",
       "    </tr>\n",
       "    <tr>\n",
       "      <th>4</th>\n",
       "      <td>142717616134</td>\n",
       "      <td>#1239</td>\n",
       "      <td>sale</td>\n",
       "      <td>manual</td>\n",
       "      <td>2017-12-21 14:47:08 -0800</td>\n",
       "      <td>success</td>\n",
       "      <td>2950.00</td>\n",
       "      <td>USD</td>\n",
       "      <td>NaN</td>\n",
       "    </tr>\n",
       "  </tbody>\n",
       "</table>\n",
       "</div>"
      ],
      "text/plain": [
       "          Order   Name     Kind Gateway                 Created At   Status  \\\n",
       "0  171163090950  #1244  capture     NaN  2018-01-09 10:07:46 -0800  success   \n",
       "1  169617096710  #1243  capture     NaN  2018-01-08 10:48:09 -0800  success   \n",
       "2  162022326278  #1241  capture     NaN  2018-01-03 10:42:49 -0800  success   \n",
       "3  161044201478  #1240  capture     NaN  2018-01-02 17:55:24 -0800  success   \n",
       "4  142717616134  #1239     sale  manual  2017-12-21 14:47:08 -0800  success   \n",
       "\n",
       "    Amount Currency Card Type  \n",
       "0  2160.31      USD       NaN  \n",
       "1   131.84      USD       NaN  \n",
       "2   279.00      USD       NaN  \n",
       "3    55.00      USD       NaN  \n",
       "4  2950.00      USD       NaN  "
      ]
     },
     "execution_count": 27,
     "metadata": {},
     "output_type": "execute_result"
    }
   ],
   "source": [
    "df_transactions.head()"
   ]
  },
  {
   "cell_type": "code",
   "execution_count": 28,
   "metadata": {},
   "outputs": [
    {
     "name": "stdout",
     "output_type": "stream",
     "text": [
      "<class 'pandas.core.frame.DataFrame'>\n",
      "RangeIndex: 208 entries, 0 to 207\n",
      "Data columns (total 9 columns):\n",
      "Order         208 non-null int64\n",
      "Name          208 non-null object\n",
      "Kind          208 non-null object\n",
      "Gateway       63 non-null object\n",
      "Created At    208 non-null object\n",
      "Status        208 non-null object\n",
      "Amount        208 non-null float64\n",
      "Currency      208 non-null object\n",
      "Card Type     30 non-null object\n",
      "dtypes: float64(1), int64(1), object(7)\n",
      "memory usage: 14.7+ KB\n"
     ]
    }
   ],
   "source": [
    "df_transactions.info()"
   ]
  },
  {
   "cell_type": "code",
   "execution_count": 29,
   "metadata": {},
   "outputs": [
    {
     "data": {
      "text/plain": [
       "array(['capture', 'sale', 'refund', 'void'], dtype=object)"
      ]
     },
     "execution_count": 29,
     "metadata": {},
     "output_type": "execute_result"
    }
   ],
   "source": [
    "df_transactions['Kind'].unique()"
   ]
  },
  {
   "cell_type": "code",
   "execution_count": 30,
   "metadata": {
    "collapsed": true
   },
   "outputs": [],
   "source": [
    "good_outcomes = ['capture', 'sale']\n",
    "df_transactions_go = df_transactions[(df_transactions['Kind'] == 'capture') | (df_transactions['Kind'] == 'sale')]"
   ]
  },
  {
   "cell_type": "code",
   "execution_count": 31,
   "metadata": {},
   "outputs": [
    {
     "name": "stdout",
     "output_type": "stream",
     "text": [
      "<class 'pandas.core.frame.DataFrame'>\n",
      "Int64Index: 188 entries, 0 to 207\n",
      "Data columns (total 9 columns):\n",
      "Order         188 non-null int64\n",
      "Name          188 non-null object\n",
      "Kind          188 non-null object\n",
      "Gateway       54 non-null object\n",
      "Created At    188 non-null object\n",
      "Status        188 non-null object\n",
      "Amount        188 non-null float64\n",
      "Currency      188 non-null object\n",
      "Card Type     27 non-null object\n",
      "dtypes: float64(1), int64(1), object(7)\n",
      "memory usage: 14.7+ KB\n"
     ]
    }
   ],
   "source": [
    "df_transactions_go.info()"
   ]
  },
  {
   "cell_type": "code",
   "execution_count": 32,
   "metadata": {
    "scrolled": true
   },
   "outputs": [
    {
     "data": {
      "text/html": [
       "<div>\n",
       "<style>\n",
       "    .dataframe thead tr:only-child th {\n",
       "        text-align: right;\n",
       "    }\n",
       "\n",
       "    .dataframe thead th {\n",
       "        text-align: left;\n",
       "    }\n",
       "\n",
       "    .dataframe tbody tr th {\n",
       "        vertical-align: top;\n",
       "    }\n",
       "</style>\n",
       "<table border=\"1\" class=\"dataframe\">\n",
       "  <thead>\n",
       "    <tr style=\"text-align: right;\">\n",
       "      <th></th>\n",
       "      <th>Order</th>\n",
       "      <th>Amount</th>\n",
       "    </tr>\n",
       "  </thead>\n",
       "  <tbody>\n",
       "    <tr>\n",
       "      <th>count</th>\n",
       "      <td>1.880000e+02</td>\n",
       "      <td>188.000000</td>\n",
       "    </tr>\n",
       "    <tr>\n",
       "      <th>mean</th>\n",
       "      <td>2.512542e+10</td>\n",
       "      <td>923.708404</td>\n",
       "    </tr>\n",
       "    <tr>\n",
       "      <th>std</th>\n",
       "      <td>4.024382e+10</td>\n",
       "      <td>1740.678216</td>\n",
       "    </tr>\n",
       "    <tr>\n",
       "      <th>min</th>\n",
       "      <td>4.580904e+09</td>\n",
       "      <td>1.000000</td>\n",
       "    </tr>\n",
       "    <tr>\n",
       "      <th>25%</th>\n",
       "      <td>5.368233e+09</td>\n",
       "      <td>144.250000</td>\n",
       "    </tr>\n",
       "    <tr>\n",
       "      <th>50%</th>\n",
       "      <td>6.303138e+09</td>\n",
       "      <td>331.070000</td>\n",
       "    </tr>\n",
       "    <tr>\n",
       "      <th>75%</th>\n",
       "      <td>2.255419e+10</td>\n",
       "      <td>1015.480000</td>\n",
       "    </tr>\n",
       "    <tr>\n",
       "      <th>max</th>\n",
       "      <td>1.711631e+11</td>\n",
       "      <td>13844.970000</td>\n",
       "    </tr>\n",
       "  </tbody>\n",
       "</table>\n",
       "</div>"
      ],
      "text/plain": [
       "              Order        Amount\n",
       "count  1.880000e+02    188.000000\n",
       "mean   2.512542e+10    923.708404\n",
       "std    4.024382e+10   1740.678216\n",
       "min    4.580904e+09      1.000000\n",
       "25%    5.368233e+09    144.250000\n",
       "50%    6.303138e+09    331.070000\n",
       "75%    2.255419e+10   1015.480000\n",
       "max    1.711631e+11  13844.970000"
      ]
     },
     "execution_count": 32,
     "metadata": {},
     "output_type": "execute_result"
    }
   ],
   "source": [
    "df_transactions_go.describe()"
   ]
  },
  {
   "cell_type": "code",
   "execution_count": 33,
   "metadata": {},
   "outputs": [
    {
     "data": {
      "text/plain": [
       "923.708404255319"
      ]
     },
     "execution_count": 33,
     "metadata": {},
     "output_type": "execute_result"
    }
   ],
   "source": [
    "df_transactions_go['Amount'].sum() / 188\n"
   ]
  },
  {
   "cell_type": "code",
   "execution_count": 34,
   "metadata": {
    "collapsed": true
   },
   "outputs": [],
   "source": [
    "df_orders = pd.read_csv('/home/brent/Downloads/orders_export.csv')"
   ]
  },
  {
   "cell_type": "code",
   "execution_count": 35,
   "metadata": {
    "scrolled": false
   },
   "outputs": [
    {
     "name": "stdout",
     "output_type": "stream",
     "text": [
      "<class 'pandas.core.frame.DataFrame'>\n",
      "RangeIndex: 568 entries, 0 to 567\n",
      "Data columns (total 67 columns):\n",
      "Name                           568 non-null object\n",
      "Email                          555 non-null object\n",
      "Financial Status               244 non-null object\n",
      "Paid at                        160 non-null object\n",
      "Fulfillment Status             244 non-null object\n",
      "Fulfilled at                   62 non-null object\n",
      "Accepts Marketing              244 non-null object\n",
      "Currency                       244 non-null object\n",
      "Subtotal                       244 non-null float64\n",
      "Shipping                       244 non-null float64\n",
      "Taxes                          244 non-null float64\n",
      "Total                          244 non-null float64\n",
      "Discount Code                  0 non-null float64\n",
      "Discount Amount                244 non-null float64\n",
      "Shipping Method                158 non-null object\n",
      "Created at                     568 non-null object\n",
      "Lineitem quantity              568 non-null int64\n",
      "Lineitem name                  568 non-null object\n",
      "Lineitem price                 568 non-null float64\n",
      "Lineitem compare at price      0 non-null float64\n",
      "Lineitem sku                   4 non-null object\n",
      "Lineitem requires shipping     568 non-null bool\n",
      "Lineitem taxable               568 non-null bool\n",
      "Lineitem fulfillment status    568 non-null object\n",
      "Billing Name                   241 non-null object\n",
      "Billing Street                 56 non-null object\n",
      "Billing Address1               56 non-null object\n",
      "Billing Address2               5 non-null object\n",
      "Billing Company                30 non-null object\n",
      "Billing City                   56 non-null object\n",
      "Billing Zip                    56 non-null object\n",
      "Billing Province               56 non-null object\n",
      "Billing Country                56 non-null object\n",
      "Billing Phone                  10 non-null object\n",
      "Shipping Name                  59 non-null object\n",
      "Shipping Street                59 non-null object\n",
      "Shipping Address1              59 non-null object\n",
      "Shipping Address2              16 non-null object\n",
      "Shipping Company               25 non-null object\n",
      "Shipping City                  59 non-null object\n",
      "Shipping Zip                   59 non-null float64\n",
      "Shipping Province              59 non-null object\n",
      "Shipping Country               59 non-null object\n",
      "Shipping Phone                 29 non-null object\n",
      "Notes                          8 non-null object\n",
      "Note Attributes                20 non-null object\n",
      "Cancelled at                   14 non-null object\n",
      "Payment Method                 51 non-null object\n",
      "Payment Reference              196 non-null object\n",
      "Refunded Amount                244 non-null float64\n",
      "Vendor                         410 non-null object\n",
      "Id                             244 non-null float64\n",
      "Tags                           14 non-null object\n",
      "Risk Level                     244 non-null object\n",
      "Source                         244 non-null object\n",
      "Lineitem discount              568 non-null float64\n",
      "Tax 1 Name                     7 non-null object\n",
      "Tax 1 Value                    7 non-null float64\n",
      "Tax 2 Name                     0 non-null float64\n",
      "Tax 2 Value                    0 non-null float64\n",
      "Tax 3 Name                     0 non-null float64\n",
      "Tax 3 Value                    0 non-null float64\n",
      "Tax 4 Name                     0 non-null float64\n",
      "Tax 4 Value                    0 non-null float64\n",
      "Tax 5 Name                     0 non-null float64\n",
      "Tax 5 Value                    0 non-null float64\n",
      "Phone                          0 non-null float64\n",
      "dtypes: bool(2), float64(22), int64(1), object(42)\n",
      "memory usage: 289.6+ KB\n"
     ]
    }
   ],
   "source": [
    "df_orders.info()"
   ]
  },
  {
   "cell_type": "markdown",
   "metadata": {},
   "source": [
    "### Transactions / Payments\n",
    "There have been 568. Averaging at **Classified**\n",
    "\n",
    "### Method types\n",
    "There are three: manual (inputs), Shopify Payments (TBD), Bank Deposit (as described), NaN\n",
    "\n",
    "### Unique Items Purchased\n",
    " 1054"
   ]
  },
  {
   "cell_type": "code",
   "execution_count": 36,
   "metadata": {},
   "outputs": [
    {
     "data": {
      "text/plain": [
       "array([nan, 'manual', 'Shopify Payments', 'Bank Deposit'], dtype=object)"
      ]
     },
     "execution_count": 36,
     "metadata": {},
     "output_type": "execute_result"
    }
   ],
   "source": [
    "df_orders['Payment Method'].unique()"
   ]
  },
  {
   "cell_type": "code",
   "execution_count": 37,
   "metadata": {},
   "outputs": [
    {
     "data": {
      "text/plain": [
       "1054"
      ]
     },
     "execution_count": 37,
     "metadata": {},
     "output_type": "execute_result"
    }
   ],
   "source": [
    "len(d['orders']['shopify_id'].unique())"
   ]
  },
  {
   "cell_type": "code",
   "execution_count": 38,
   "metadata": {
    "scrolled": true
   },
   "outputs": [
    {
     "data": {
      "text/plain": [
       "748.2156147540987"
      ]
     },
     "execution_count": 38,
     "metadata": {},
     "output_type": "execute_result"
    }
   ],
   "source": [
    "df_orders['Total'].sum() / 244"
   ]
  },
  {
   "cell_type": "code",
   "execution_count": 39,
   "metadata": {},
   "outputs": [
    {
     "data": {
      "text/plain": [
       "count      244.000000\n",
       "mean       748.215615\n",
       "std       1567.106280\n",
       "min          0.000000\n",
       "25%         83.305000\n",
       "50%        289.950000\n",
       "75%        725.740000\n",
       "max      13844.970000\n",
       "Name: Total, dtype: float64"
      ]
     },
     "execution_count": 39,
     "metadata": {},
     "output_type": "execute_result"
    }
   ],
   "source": [
    "df_orders['Total'].describe()"
   ]
  },
  {
   "cell_type": "code",
   "execution_count": 40,
   "metadata": {
    "collapsed": true
   },
   "outputs": [],
   "source": [
    "totals = df_orders['Total'][(df_orders['Total'] > 0.0)]"
   ]
  },
  {
   "cell_type": "code",
   "execution_count": 41,
   "metadata": {},
   "outputs": [
    {
     "data": {
      "text/plain": [
       "800.721973684211"
      ]
     },
     "execution_count": 41,
     "metadata": {},
     "output_type": "execute_result"
    }
   ],
   "source": [
    "totals.mean()"
   ]
  },
  {
   "cell_type": "markdown",
   "metadata": {},
   "source": [
    "## Order Size"
   ]
  },
  {
   "cell_type": "code",
   "execution_count": 42,
   "metadata": {},
   "outputs": [
    {
     "name": "stderr",
     "output_type": "stream",
     "text": [
      "/home/brent/anaconda2/lib/python2.7/site-packages/matplotlib/figure.py:403: UserWarning: matplotlib is currently using a non-GUI backend, so cannot show the figure\n",
      "  \"matplotlib is currently using a non-GUI backend, \"\n"
     ]
    },
    {
     "data": {
      "image/png": "[encoded data removed]",
      "text/plain": [
       "<matplotlib.figure.Figure at 0x7fcd99fa9b10>"
      ]
     },
     "metadata": {},
     "output_type": "display_data"
    },
    {
     "data": {
      "image/png": "[encoded data removed]",
      "text/plain": [
       "<matplotlib.figure.Figure at 0x7fcd98c3c6d0>"
      ]
     },
     "metadata": {},
     "output_type": "display_data"
    },
    {
     "data": {
      "image/png": "[encoded data removed]",
      "text/plain": [
       "<matplotlib.figure.Figure at 0x7fcd98b85ed0>"
      ]
     },
     "metadata": {},
     "output_type": "display_data"
    },
    {
     "data": {
      "image/png": "[encoded data removed]",
      "text/plain": [
       "<matplotlib.figure.Figure at 0x7fcd9776bcd0>"
      ]
     },
     "metadata": {},
     "output_type": "display_data"
    }
   ],
   "source": [
    "\n",
    "for i in range(0,4):\n",
    "    fig, ax = plt.subplots(1,1)\n",
    "\n",
    "    ax.set_xlim(0,(i+1)*2000-1000)\n",
    "    ax.set_title('100 bins, Cutoff ${}k'.format(5*(i+1)))\n",
    "    ax.set_xlabel('price point ($)')\n",
    "    ax.set_ylabel('number of orders per price point bin')\n",
    "    ax.hist(totals,bins=500)\n",
    "    fig.show()\n"
   ]
  },
  {
   "cell_type": "markdown",
   "metadata": {},
   "source": [
    "## Products and how the calls work for product information\n",
    "Product title is not in the dataset. All are set to \"None\" or left blank.\n"
   ]
  },
  {
   "cell_type": "code",
   "execution_count": 43,
   "metadata": {
    "scrolled": false
   },
   "outputs": [
    {
     "name": "stdout",
     "output_type": "stream",
     "text": [
      "<class 'pandas.core.frame.DataFrame'>\n",
      "RangeIndex: 401907 entries, 0 to 401906\n",
      "Data columns (total 6 columns):\n",
      "id            401907 non-null int64\n",
      "dynamoid      401907 non-null object\n",
      "price         50538 non-null object\n",
      "shopify_id    2707 non-null float64\n",
      "image         56100 non-null object\n",
      "title         56118 non-null object\n",
      "dtypes: float64(1), int64(1), object(4)\n",
      "memory usage: 18.4+ MB\n"
     ]
    }
   ],
   "source": [
    "\n",
    "d['products'].info()"
   ]
  },
  {
   "cell_type": "code",
   "execution_count": 44,
   "metadata": {
    "collapsed": true
   },
   "outputs": [],
   "source": [
    "titles = d['products']['title'].head(1000)"
   ]
  },
  {
   "cell_type": "code",
   "execution_count": 45,
   "metadata": {
    "collapsed": true
   },
   "outputs": [],
   "source": [
    "images = d['products']['image'].head(1000)"
   ]
  },
  {
   "cell_type": "code",
   "execution_count": 46,
   "metadata": {},
   "outputs": [
    {
     "data": {
      "text/plain": [
       "array([None], dtype=object)"
      ]
     },
     "execution_count": 46,
     "metadata": {},
     "output_type": "execute_result"
    }
   ],
   "source": [
    "images.unique()"
   ]
  },
  {
   "cell_type": "code",
   "execution_count": 47,
   "metadata": {
    "collapsed": true
   },
   "outputs": [],
   "source": [
    "# d_dyn = {}\n",
    "# c = 0\n",
    "# for idx,i in enumerate(d['products']['dynamoid']):\n",
    "#     if c == 100:\n",
    "#         break\n",
    "#     elif \"|\" not in i:\n",
    "#         d_dyn[d['products']['id'][idx]] = i\n",
    "#         c+=1\n",
    "#     else:\n",
    "#         d_dyn[d['products']['id'][idx]] = i.split('|')[-1]\n",
    "#         c+=1"
   ]
  },
  {
   "cell_type": "code",
   "execution_count": 48,
   "metadata": {
    "collapsed": true
   },
   "outputs": [],
   "source": [
    "# c3 = 0\n",
    "# c1 = 0\n",
    "# for key,val in d_dyn.iteritems():\n",
    "#     if len(val) == 3:\n",
    "        \n",
    "#         c3+=1\n",
    "#     elif len(val) == 1:\n",
    "#         c1 += 1\n",
    "#         last = key\n",
    "# print c1, c3, last"
   ]
  },
  {
   "cell_type": "code",
   "execution_count": 49,
   "metadata": {
    "collapsed": true
   },
   "outputs": [],
   "source": [
    "# len(d_dyn)"
   ]
  },
  {
   "cell_type": "code",
   "execution_count": 50,
   "metadata": {
    "collapsed": true
   },
   "outputs": [],
   "source": [
    "# s = set()\n",
    "# for key, val in d_dyn.iteritems():\n",
    "#     s.add(val)\n"
   ]
  },
  {
   "cell_type": "code",
   "execution_count": 51,
   "metadata": {
    "collapsed": true
   },
   "outputs": [],
   "source": [
    "# len(s)"
   ]
  },
  {
   "cell_type": "code",
   "execution_count": null,
   "metadata": {
    "collapsed": true
   },
   "outputs": [],
   "source": []
  },
  {
   "cell_type": "code",
   "execution_count": 52,
   "metadata": {
    "collapsed": true
   },
   "outputs": [],
   "source": [
    "# webscrapingtest = d_dyn[last]"
   ]
  },
  {
   "cell_type": "code",
   "execution_count": 53,
   "metadata": {
    "collapsed": true
   },
   "outputs": [],
   "source": [
    "# d['products']['dynamoid_list_0'] = np.nan\n",
    "# d['products']['dynamoid_list_1'] = np.nan\n",
    "# d['products']['dynamoid_list_2'] = np.nan\n",
    "\n",
    "# for idx,i in enumerate(d['products']['dynamoid']):\n",
    "#     lst = i.split('|')\n",
    "#     for j in xrange(0,3):\n",
    "#         d['products']['dynamoid_list_{}'.format(j)][idx] = lst[j]"
   ]
  },
  {
   "cell_type": "code",
   "execution_count": 54,
   "metadata": {
    "collapsed": true
   },
   "outputs": [],
   "source": [
    "test = d['products']['dynamoid'][1]"
   ]
  },
  {
   "cell_type": "code",
   "execution_count": 55,
   "metadata": {},
   "outputs": [
    {
     "data": {
      "text/plain": [
       "str"
      ]
     },
     "execution_count": 55,
     "metadata": {},
     "output_type": "execute_result"
    }
   ],
   "source": [
    "type(test)"
   ]
  },
  {
   "cell_type": "code",
   "execution_count": 56,
   "metadata": {},
   "outputs": [
    {
     "name": "stdout",
     "output_type": "stream",
     "text": [
      "product|3|-810119018\n"
     ]
    }
   ],
   "source": [
    "print test"
   ]
  },
  {
   "cell_type": "code",
   "execution_count": 57,
   "metadata": {
    "collapsed": true
   },
   "outputs": [],
   "source": [
    "testsplit = test.split('|')"
   ]
  },
  {
   "cell_type": "code",
   "execution_count": 58,
   "metadata": {},
   "outputs": [
    {
     "name": "stdout",
     "output_type": "stream",
     "text": [
      "['product', '3', '-810119018']\n"
     ]
    }
   ],
   "source": [
    "print testsplit"
   ]
  },
  {
   "cell_type": "markdown",
   "metadata": {},
   "source": [
    "## Projects_products\n",
    "\n",
    "There are 5786 unique products in the projects_products table, in 836 projects. (6.92 items per basket)"
   ]
  },
  {
   "cell_type": "code",
   "execution_count": 59,
   "metadata": {},
   "outputs": [
    {
     "data": {
      "text/html": [
       "<div>\n",
       "<style>\n",
       "    .dataframe thead tr:only-child th {\n",
       "        text-align: right;\n",
       "    }\n",
       "\n",
       "    .dataframe thead th {\n",
       "        text-align: left;\n",
       "    }\n",
       "\n",
       "    .dataframe tbody tr th {\n",
       "        vertical-align: top;\n",
       "    }\n",
       "</style>\n",
       "<table border=\"1\" class=\"dataframe\">\n",
       "  <thead>\n",
       "    <tr style=\"text-align: right;\">\n",
       "      <th></th>\n",
       "      <th>project_id</th>\n",
       "      <th>product_id</th>\n",
       "      <th>id</th>\n",
       "      <th>created_at</th>\n",
       "      <th>author_id</th>\n",
       "    </tr>\n",
       "  </thead>\n",
       "  <tbody>\n",
       "    <tr>\n",
       "      <th>0</th>\n",
       "      <td>342904</td>\n",
       "      <td>40624</td>\n",
       "      <td>1664</td>\n",
       "      <td>2017-02-22 12:11:18.419</td>\n",
       "      <td>342802</td>\n",
       "    </tr>\n",
       "    <tr>\n",
       "      <th>1</th>\n",
       "      <td>342906</td>\n",
       "      <td>95888</td>\n",
       "      <td>1665</td>\n",
       "      <td>2017-02-22 22:08:09.993</td>\n",
       "      <td>151238</td>\n",
       "    </tr>\n",
       "    <tr>\n",
       "      <th>2</th>\n",
       "      <td>342907</td>\n",
       "      <td>304156</td>\n",
       "      <td>1666</td>\n",
       "      <td>2017-02-22 22:11:04.604</td>\n",
       "      <td>342905</td>\n",
       "    </tr>\n",
       "    <tr>\n",
       "      <th>3</th>\n",
       "      <td>342907</td>\n",
       "      <td>304157</td>\n",
       "      <td>1667</td>\n",
       "      <td>2017-02-22 22:11:13.147</td>\n",
       "      <td>342905</td>\n",
       "    </tr>\n",
       "    <tr>\n",
       "      <th>4</th>\n",
       "      <td>342907</td>\n",
       "      <td>96139</td>\n",
       "      <td>1668</td>\n",
       "      <td>2017-02-22 22:12:27.017</td>\n",
       "      <td>342905</td>\n",
       "    </tr>\n",
       "  </tbody>\n",
       "</table>\n",
       "</div>"
      ],
      "text/plain": [
       "   project_id  product_id    id              created_at  author_id\n",
       "0      342904       40624  1664 2017-02-22 12:11:18.419     342802\n",
       "1      342906       95888  1665 2017-02-22 22:08:09.993     151238\n",
       "2      342907      304156  1666 2017-02-22 22:11:04.604     342905\n",
       "3      342907      304157  1667 2017-02-22 22:11:13.147     342905\n",
       "4      342907       96139  1668 2017-02-22 22:12:27.017     342905"
      ]
     },
     "execution_count": 59,
     "metadata": {},
     "output_type": "execute_result"
    }
   ],
   "source": [
    "d['projects_products'].head()"
   ]
  },
  {
   "cell_type": "code",
   "execution_count": 60,
   "metadata": {},
   "outputs": [
    {
     "name": "stdout",
     "output_type": "stream",
     "text": [
      "<class 'pandas.core.frame.DataFrame'>\n",
      "RangeIndex: 6355 entries, 0 to 6354\n",
      "Data columns (total 5 columns):\n",
      "project_id    6355 non-null int64\n",
      "product_id    6355 non-null int64\n",
      "id            6355 non-null int64\n",
      "created_at    6355 non-null datetime64[ns]\n",
      "author_id     6355 non-null int64\n",
      "dtypes: datetime64[ns](1), int64(4)\n",
      "memory usage: 248.3 KB\n"
     ]
    }
   ],
   "source": [
    "d['projects_products'].info()"
   ]
  },
  {
   "cell_type": "code",
   "execution_count": 61,
   "metadata": {},
   "outputs": [
    {
     "name": "stdout",
     "output_type": "stream",
     "text": [
      "project_id 836\n",
      "product_id 5786\n",
      "id 6355\n",
      "created_at 4694\n",
      "author_id 425\n"
     ]
    }
   ],
   "source": [
    "for i in d['projects_products'].columns:\n",
    "    print i, len(d['projects_products'][i].unique())"
   ]
  },
  {
   "cell_type": "code",
   "execution_count": null,
   "metadata": {
    "collapsed": true
   },
   "outputs": [],
   "source": [
    "\n"
   ]
  },
  {
   "cell_type": "markdown",
   "metadata": {},
   "source": [
    "## Proposal_product\n"
   ]
  },
  {
   "cell_type": "code",
   "execution_count": 62,
   "metadata": {},
   "outputs": [
    {
     "data": {
      "text/html": [
       "<div>\n",
       "<style>\n",
       "    .dataframe thead tr:only-child th {\n",
       "        text-align: right;\n",
       "    }\n",
       "\n",
       "    .dataframe thead th {\n",
       "        text-align: left;\n",
       "    }\n",
       "\n",
       "    .dataframe tbody tr th {\n",
       "        vertical-align: top;\n",
       "    }\n",
       "</style>\n",
       "<table border=\"1\" class=\"dataframe\">\n",
       "  <thead>\n",
       "    <tr style=\"text-align: right;\">\n",
       "      <th></th>\n",
       "      <th>id</th>\n",
       "      <th>client_note</th>\n",
       "      <th>client_price</th>\n",
       "      <th>designer_note</th>\n",
       "      <th>display_order</th>\n",
       "      <th>image</th>\n",
       "      <th>quantity</th>\n",
       "      <th>status</th>\n",
       "      <th>title</th>\n",
       "      <th>trade_price</th>\n",
       "      <th>updated</th>\n",
       "      <th>product_id</th>\n",
       "      <th>proposal_id</th>\n",
       "      <th>description</th>\n",
       "      <th>trade_shipping</th>\n",
       "      <th>client_shipping</th>\n",
       "    </tr>\n",
       "  </thead>\n",
       "  <tbody>\n",
       "    <tr>\n",
       "      <th>0</th>\n",
       "      <td>366391</td>\n",
       "      <td>None</td>\n",
       "      <td>1573.00</td>\n",
       "      <td>None</td>\n",
       "      <td>2</td>\n",
       "      <td>https://cdn.shopify.com/s/files/1/1595/8663/pr...</td>\n",
       "      <td>1</td>\n",
       "      <td>NaN</td>\n",
       "      <td>Grasshopper Wall Lamp</td>\n",
       "      <td>1573.00</td>\n",
       "      <td>2017-08-30 01:40:44.306</td>\n",
       "      <td>None</td>\n",
       "      <td>366390</td>\n",
       "      <td></td>\n",
       "      <td>0.00</td>\n",
       "      <td>0.00</td>\n",
       "    </tr>\n",
       "    <tr>\n",
       "      <th>1</th>\n",
       "      <td>350130</td>\n",
       "      <td></td>\n",
       "      <td>278.00</td>\n",
       "      <td>None</td>\n",
       "      <td>0</td>\n",
       "      <td>di/products/e551c6c336ae0621b3be943da80018c7</td>\n",
       "      <td>1</td>\n",
       "      <td>0.0</td>\n",
       "      <td>Living on the Edge Sofa Table</td>\n",
       "      <td>241.50</td>\n",
       "      <td>2017-06-27 18:17:46.633</td>\n",
       "      <td>None</td>\n",
       "      <td>350122</td>\n",
       "      <td>None</td>\n",
       "      <td>0.00</td>\n",
       "      <td>0.00</td>\n",
       "    </tr>\n",
       "    <tr>\n",
       "      <th>2</th>\n",
       "      <td>350128</td>\n",
       "      <td></td>\n",
       "      <td>0.00</td>\n",
       "      <td>None</td>\n",
       "      <td>1</td>\n",
       "      <td>di/products/product|3|1261197341</td>\n",
       "      <td>8</td>\n",
       "      <td>0.0</td>\n",
       "      <td>Colvin Console Table</td>\n",
       "      <td>458.00</td>\n",
       "      <td>2017-06-27 18:17:46.655</td>\n",
       "      <td>None</td>\n",
       "      <td>350122</td>\n",
       "      <td>None</td>\n",
       "      <td>0.00</td>\n",
       "      <td>0.00</td>\n",
       "    </tr>\n",
       "    <tr>\n",
       "      <th>3</th>\n",
       "      <td>350129</td>\n",
       "      <td>Oh hell no!</td>\n",
       "      <td>255.67</td>\n",
       "      <td>None</td>\n",
       "      <td>2</td>\n",
       "      <td>di/products/ceb19954b768fdeae7e96c83d927004f</td>\n",
       "      <td>1</td>\n",
       "      <td>1.0</td>\n",
       "      <td>Claudius Cabinet</td>\n",
       "      <td>229.99</td>\n",
       "      <td>2017-06-27 18:17:46.672</td>\n",
       "      <td>None</td>\n",
       "      <td>350122</td>\n",
       "      <td>None</td>\n",
       "      <td>0.00</td>\n",
       "      <td>0.00</td>\n",
       "    </tr>\n",
       "    <tr>\n",
       "      <th>4</th>\n",
       "      <td>350127</td>\n",
       "      <td>Looks too juvenile.</td>\n",
       "      <td>214.00</td>\n",
       "      <td>None</td>\n",
       "      <td>3</td>\n",
       "      <td>di/products/2a03bd6ff5dc7e8b5114c39a4330e5b9</td>\n",
       "      <td>1</td>\n",
       "      <td>1.0</td>\n",
       "      <td>Mid-Century 2 Dr Console Table</td>\n",
       "      <td>199.50</td>\n",
       "      <td>2017-06-27 18:17:46.685</td>\n",
       "      <td>None</td>\n",
       "      <td>350122</td>\n",
       "      <td>None</td>\n",
       "      <td>0.00</td>\n",
       "      <td>0.00</td>\n",
       "    </tr>\n",
       "  </tbody>\n",
       "</table>\n",
       "</div>"
      ],
      "text/plain": [
       "       id          client_note client_price designer_note  display_order  \\\n",
       "0  366391                 None      1573.00          None              2   \n",
       "1  350130                            278.00          None              0   \n",
       "2  350128                              0.00          None              1   \n",
       "3  350129          Oh hell no!       255.67          None              2   \n",
       "4  350127  Looks too juvenile.       214.00          None              3   \n",
       "\n",
       "                                               image  quantity  status  \\\n",
       "0  https://cdn.shopify.com/s/files/1/1595/8663/pr...         1     NaN   \n",
       "1       di/products/e551c6c336ae0621b3be943da80018c7         1     0.0   \n",
       "2                   di/products/product|3|1261197341         8     0.0   \n",
       "3       di/products/ceb19954b768fdeae7e96c83d927004f         1     1.0   \n",
       "4       di/products/2a03bd6ff5dc7e8b5114c39a4330e5b9         1     1.0   \n",
       "\n",
       "                            title trade_price                 updated  \\\n",
       "0           Grasshopper Wall Lamp     1573.00 2017-08-30 01:40:44.306   \n",
       "1   Living on the Edge Sofa Table      241.50 2017-06-27 18:17:46.633   \n",
       "2            Colvin Console Table      458.00 2017-06-27 18:17:46.655   \n",
       "3                Claudius Cabinet      229.99 2017-06-27 18:17:46.672   \n",
       "4  Mid-Century 2 Dr Console Table      199.50 2017-06-27 18:17:46.685   \n",
       "\n",
       "  product_id  proposal_id description trade_shipping client_shipping  \n",
       "0       None       366390                       0.00            0.00  \n",
       "1       None       350122        None           0.00            0.00  \n",
       "2       None       350122        None           0.00            0.00  \n",
       "3       None       350122        None           0.00            0.00  \n",
       "4       None       350122        None           0.00            0.00  "
      ]
     },
     "execution_count": 62,
     "metadata": {},
     "output_type": "execute_result"
    }
   ],
   "source": [
    "d['proposal_product'].head()"
   ]
  },
  {
   "cell_type": "code",
   "execution_count": 63,
   "metadata": {},
   "outputs": [
    {
     "name": "stdout",
     "output_type": "stream",
     "text": [
      "<class 'pandas.core.frame.DataFrame'>\n",
      "RangeIndex: 172 entries, 0 to 171\n",
      "Data columns (total 16 columns):\n",
      "id                 172 non-null int64\n",
      "client_note        18 non-null object\n",
      "client_price       172 non-null object\n",
      "designer_note      0 non-null object\n",
      "display_order      172 non-null int64\n",
      "image              172 non-null object\n",
      "quantity           172 non-null int64\n",
      "status             18 non-null float64\n",
      "title              172 non-null object\n",
      "trade_price        172 non-null object\n",
      "updated            172 non-null datetime64[ns]\n",
      "product_id         0 non-null object\n",
      "proposal_id        172 non-null int64\n",
      "description        156 non-null object\n",
      "trade_shipping     172 non-null object\n",
      "client_shipping    172 non-null object\n",
      "dtypes: datetime64[ns](1), float64(1), int64(4), object(10)\n",
      "memory usage: 21.6+ KB\n"
     ]
    }
   ],
   "source": [
    "d['proposal_product'].info()"
   ]
  },
  {
   "cell_type": "code",
   "execution_count": 64,
   "metadata": {},
   "outputs": [
    {
     "name": "stdout",
     "output_type": "stream",
     "text": [
      "id 172\n",
      "client_note 6\n",
      "client_price 121\n",
      "designer_note 1\n",
      "display_order 14\n",
      "image 143\n",
      "quantity 7\n",
      "status 3\n",
      "title 142\n",
      "trade_price 109\n",
      "updated 133\n",
      "product_id 1\n",
      "proposal_id 60\n",
      "description 35\n",
      "trade_shipping 5\n",
      "client_shipping 8\n"
     ]
    }
   ],
   "source": [
    "for i in d['proposal_product'].columns:\n",
    "    print i, len(d['proposal_product'][i].unique())"
   ]
  },
  {
   "cell_type": "code",
   "execution_count": 65,
   "metadata": {},
   "outputs": [
    {
     "data": {
      "text/html": [
       "<div>\n",
       "<style>\n",
       "    .dataframe thead tr:only-child th {\n",
       "        text-align: right;\n",
       "    }\n",
       "\n",
       "    .dataframe thead th {\n",
       "        text-align: left;\n",
       "    }\n",
       "\n",
       "    .dataframe tbody tr th {\n",
       "        vertical-align: top;\n",
       "    }\n",
       "</style>\n",
       "<table border=\"1\" class=\"dataframe\">\n",
       "  <thead>\n",
       "    <tr style=\"text-align: right;\">\n",
       "      <th></th>\n",
       "      <th>id</th>\n",
       "      <th>client_note</th>\n",
       "      <th>client_price</th>\n",
       "      <th>designer_note</th>\n",
       "      <th>display_order</th>\n",
       "      <th>image</th>\n",
       "      <th>quantity</th>\n",
       "      <th>status</th>\n",
       "      <th>title</th>\n",
       "      <th>trade_price</th>\n",
       "      <th>updated</th>\n",
       "      <th>product_id</th>\n",
       "      <th>proposal_id</th>\n",
       "      <th>description</th>\n",
       "      <th>trade_shipping</th>\n",
       "      <th>client_shipping</th>\n",
       "    </tr>\n",
       "  </thead>\n",
       "  <tbody>\n",
       "    <tr>\n",
       "      <th>0</th>\n",
       "      <td>366391</td>\n",
       "      <td>None</td>\n",
       "      <td>1573.00</td>\n",
       "      <td>None</td>\n",
       "      <td>2</td>\n",
       "      <td>https://cdn.shopify.com/s/files/1/1595/8663/pr...</td>\n",
       "      <td>1</td>\n",
       "      <td>NaN</td>\n",
       "      <td>Grasshopper Wall Lamp</td>\n",
       "      <td>1573.00</td>\n",
       "      <td>2017-08-30 01:40:44.306</td>\n",
       "      <td>None</td>\n",
       "      <td>366390</td>\n",
       "      <td></td>\n",
       "      <td>0.00</td>\n",
       "      <td>0.00</td>\n",
       "    </tr>\n",
       "    <tr>\n",
       "      <th>1</th>\n",
       "      <td>350130</td>\n",
       "      <td></td>\n",
       "      <td>278.00</td>\n",
       "      <td>None</td>\n",
       "      <td>0</td>\n",
       "      <td>di/products/e551c6c336ae0621b3be943da80018c7</td>\n",
       "      <td>1</td>\n",
       "      <td>0.0</td>\n",
       "      <td>Living on the Edge Sofa Table</td>\n",
       "      <td>241.50</td>\n",
       "      <td>2017-06-27 18:17:46.633</td>\n",
       "      <td>None</td>\n",
       "      <td>350122</td>\n",
       "      <td>None</td>\n",
       "      <td>0.00</td>\n",
       "      <td>0.00</td>\n",
       "    </tr>\n",
       "    <tr>\n",
       "      <th>2</th>\n",
       "      <td>350128</td>\n",
       "      <td></td>\n",
       "      <td>0.00</td>\n",
       "      <td>None</td>\n",
       "      <td>1</td>\n",
       "      <td>di/products/product|3|1261197341</td>\n",
       "      <td>8</td>\n",
       "      <td>0.0</td>\n",
       "      <td>Colvin Console Table</td>\n",
       "      <td>458.00</td>\n",
       "      <td>2017-06-27 18:17:46.655</td>\n",
       "      <td>None</td>\n",
       "      <td>350122</td>\n",
       "      <td>None</td>\n",
       "      <td>0.00</td>\n",
       "      <td>0.00</td>\n",
       "    </tr>\n",
       "    <tr>\n",
       "      <th>3</th>\n",
       "      <td>350129</td>\n",
       "      <td>Oh hell no!</td>\n",
       "      <td>255.67</td>\n",
       "      <td>None</td>\n",
       "      <td>2</td>\n",
       "      <td>di/products/ceb19954b768fdeae7e96c83d927004f</td>\n",
       "      <td>1</td>\n",
       "      <td>1.0</td>\n",
       "      <td>Claudius Cabinet</td>\n",
       "      <td>229.99</td>\n",
       "      <td>2017-06-27 18:17:46.672</td>\n",
       "      <td>None</td>\n",
       "      <td>350122</td>\n",
       "      <td>None</td>\n",
       "      <td>0.00</td>\n",
       "      <td>0.00</td>\n",
       "    </tr>\n",
       "    <tr>\n",
       "      <th>4</th>\n",
       "      <td>350127</td>\n",
       "      <td>Looks too juvenile.</td>\n",
       "      <td>214.00</td>\n",
       "      <td>None</td>\n",
       "      <td>3</td>\n",
       "      <td>di/products/2a03bd6ff5dc7e8b5114c39a4330e5b9</td>\n",
       "      <td>1</td>\n",
       "      <td>1.0</td>\n",
       "      <td>Mid-Century 2 Dr Console Table</td>\n",
       "      <td>199.50</td>\n",
       "      <td>2017-06-27 18:17:46.685</td>\n",
       "      <td>None</td>\n",
       "      <td>350122</td>\n",
       "      <td>None</td>\n",
       "      <td>0.00</td>\n",
       "      <td>0.00</td>\n",
       "    </tr>\n",
       "    <tr>\n",
       "      <th>5</th>\n",
       "      <td>350133</td>\n",
       "      <td>None</td>\n",
       "      <td>0.00</td>\n",
       "      <td>None</td>\n",
       "      <td>0</td>\n",
       "      <td>di/products/c7bf389460a5b1516ce27a90cdbf3a1c</td>\n",
       "      <td>1</td>\n",
       "      <td>NaN</td>\n",
       "      <td>Simpson Console</td>\n",
       "      <td>258.99</td>\n",
       "      <td>2017-06-27 19:32:52.958</td>\n",
       "      <td>None</td>\n",
       "      <td>350132</td>\n",
       "      <td>None</td>\n",
       "      <td>0.00</td>\n",
       "      <td>0.00</td>\n",
       "    </tr>\n",
       "    <tr>\n",
       "      <th>6</th>\n",
       "      <td>350149</td>\n",
       "      <td>None</td>\n",
       "      <td>0.00</td>\n",
       "      <td>None</td>\n",
       "      <td>1</td>\n",
       "      <td>di/products/566d3ad1f80f097480b025428a67a722</td>\n",
       "      <td>1</td>\n",
       "      <td>NaN</td>\n",
       "      <td>DOMINION CAMBRIDGE BED WITH LEATHER PANEL FOR ...</td>\n",
       "      <td>0.00</td>\n",
       "      <td>2017-06-27 20:18:22.960</td>\n",
       "      <td>None</td>\n",
       "      <td>350135</td>\n",
       "      <td>None</td>\n",
       "      <td>0.00</td>\n",
       "      <td>0.00</td>\n",
       "    </tr>\n",
       "    <tr>\n",
       "      <th>7</th>\n",
       "      <td>350150</td>\n",
       "      <td>None</td>\n",
       "      <td>0.00</td>\n",
       "      <td>None</td>\n",
       "      <td>4</td>\n",
       "      <td>di/products/da1893608d9957367a5ce7e26569e0e9</td>\n",
       "      <td>1</td>\n",
       "      <td>NaN</td>\n",
       "      <td>8789 UPHOLSTERED BED</td>\n",
       "      <td>0.00</td>\n",
       "      <td>2017-06-27 20:18:22.961</td>\n",
       "      <td>None</td>\n",
       "      <td>350135</td>\n",
       "      <td>None</td>\n",
       "      <td>0.00</td>\n",
       "      <td>0.00</td>\n",
       "    </tr>\n",
       "    <tr>\n",
       "      <th>8</th>\n",
       "      <td>350151</td>\n",
       "      <td>None</td>\n",
       "      <td>0.00</td>\n",
       "      <td>None</td>\n",
       "      <td>3</td>\n",
       "      <td>di/products/2fd976c073e6d4d29fd6bc4eee0f99c6</td>\n",
       "      <td>1</td>\n",
       "      <td>NaN</td>\n",
       "      <td>Tompkins Upholstered Bed with Low Footboard (Q...</td>\n",
       "      <td>0.00</td>\n",
       "      <td>2017-06-27 20:18:22.963</td>\n",
       "      <td>None</td>\n",
       "      <td>350135</td>\n",
       "      <td>None</td>\n",
       "      <td>0.00</td>\n",
       "      <td>0.00</td>\n",
       "    </tr>\n",
       "    <tr>\n",
       "      <th>9</th>\n",
       "      <td>350152</td>\n",
       "      <td>None</td>\n",
       "      <td>3000.00</td>\n",
       "      <td>None</td>\n",
       "      <td>5</td>\n",
       "      <td>customproducts/bxrvwabzxxvbld0bd5xc</td>\n",
       "      <td>1</td>\n",
       "      <td>NaN</td>\n",
       "      <td>really groovy sofa</td>\n",
       "      <td>1500.00</td>\n",
       "      <td>2017-06-27 20:18:22.964</td>\n",
       "      <td>None</td>\n",
       "      <td>350135</td>\n",
       "      <td>None</td>\n",
       "      <td>0.00</td>\n",
       "      <td>0.00</td>\n",
       "    </tr>\n",
       "    <tr>\n",
       "      <th>10</th>\n",
       "      <td>350153</td>\n",
       "      <td>None</td>\n",
       "      <td>0.00</td>\n",
       "      <td>None</td>\n",
       "      <td>2</td>\n",
       "      <td>di/products/d208d87a9df5b0b5e0af8d2ec983ffde</td>\n",
       "      <td>1</td>\n",
       "      <td>NaN</td>\n",
       "      <td>UPHOLSTERED BED (KING)</td>\n",
       "      <td>8730.00</td>\n",
       "      <td>2017-06-27 20:18:22.965</td>\n",
       "      <td>None</td>\n",
       "      <td>350135</td>\n",
       "      <td>None</td>\n",
       "      <td>0.00</td>\n",
       "      <td>0.00</td>\n",
       "    </tr>\n",
       "    <tr>\n",
       "      <th>11</th>\n",
       "      <td>350154</td>\n",
       "      <td>None</td>\n",
       "      <td>3000.00</td>\n",
       "      <td>None</td>\n",
       "      <td>0</td>\n",
       "      <td>di/products/5d469040cbe009e99fc761e19c726c5a</td>\n",
       "      <td>1</td>\n",
       "      <td>NaN</td>\n",
       "      <td>LEATHER QUEEN HEADBOARD W/ RAILS</td>\n",
       "      <td>1950.00</td>\n",
       "      <td>2017-06-27 20:18:22.967</td>\n",
       "      <td>None</td>\n",
       "      <td>350135</td>\n",
       "      <td>None</td>\n",
       "      <td>0.00</td>\n",
       "      <td>0.00</td>\n",
       "    </tr>\n",
       "    <tr>\n",
       "      <th>12</th>\n",
       "      <td>350162</td>\n",
       "      <td>None</td>\n",
       "      <td>0.00</td>\n",
       "      <td>None</td>\n",
       "      <td>0</td>\n",
       "      <td>di/products/product|3|-48978831</td>\n",
       "      <td>1</td>\n",
       "      <td>NaN</td>\n",
       "      <td>Quick Ship &gt; Hadley 9 drawer buffet, Walnut/Metal</td>\n",
       "      <td>4492.50</td>\n",
       "      <td>2017-06-27 21:08:09.795</td>\n",
       "      <td>None</td>\n",
       "      <td>350156</td>\n",
       "      <td>None</td>\n",
       "      <td>0.00</td>\n",
       "      <td>0.00</td>\n",
       "    </tr>\n",
       "    <tr>\n",
       "      <th>13</th>\n",
       "      <td>350163</td>\n",
       "      <td>None</td>\n",
       "      <td>0.00</td>\n",
       "      <td>None</td>\n",
       "      <td>2</td>\n",
       "      <td>di/products/product|3|-35917578</td>\n",
       "      <td>1</td>\n",
       "      <td>NaN</td>\n",
       "      <td>Consoles &gt; Bluma Console</td>\n",
       "      <td>0.00</td>\n",
       "      <td>2017-06-27 21:08:09.797</td>\n",
       "      <td>None</td>\n",
       "      <td>350156</td>\n",
       "      <td>None</td>\n",
       "      <td>0.00</td>\n",
       "      <td>0.00</td>\n",
       "    </tr>\n",
       "    <tr>\n",
       "      <th>14</th>\n",
       "      <td>350164</td>\n",
       "      <td>None</td>\n",
       "      <td>0.00</td>\n",
       "      <td>None</td>\n",
       "      <td>4</td>\n",
       "      <td>customproducts/eoxivrflgqeidsg5i3nh</td>\n",
       "      <td>1</td>\n",
       "      <td>NaN</td>\n",
       "      <td>Dorothee's uploaded image</td>\n",
       "      <td>0.00</td>\n",
       "      <td>2017-06-27 21:08:09.798</td>\n",
       "      <td>None</td>\n",
       "      <td>350156</td>\n",
       "      <td>None</td>\n",
       "      <td>0.00</td>\n",
       "      <td>0.00</td>\n",
       "    </tr>\n",
       "    <tr>\n",
       "      <th>15</th>\n",
       "      <td>350165</td>\n",
       "      <td>None</td>\n",
       "      <td>0.00</td>\n",
       "      <td>None</td>\n",
       "      <td>3</td>\n",
       "      <td>di/products/9c0046fea8ed004efc2ba201da5178b4</td>\n",
       "      <td>1</td>\n",
       "      <td>NaN</td>\n",
       "      <td>LEATHER MID CREDENZA</td>\n",
       "      <td>0.00</td>\n",
       "      <td>2017-06-27 21:08:09.799</td>\n",
       "      <td>None</td>\n",
       "      <td>350156</td>\n",
       "      <td>None</td>\n",
       "      <td>0.00</td>\n",
       "      <td>0.00</td>\n",
       "    </tr>\n",
       "    <tr>\n",
       "      <th>16</th>\n",
       "      <td>350166</td>\n",
       "      <td>None</td>\n",
       "      <td>0.00</td>\n",
       "      <td>None</td>\n",
       "      <td>1</td>\n",
       "      <td>di/products/product|3|2088333540</td>\n",
       "      <td>1</td>\n",
       "      <td>NaN</td>\n",
       "      <td>New Items &gt; Adriane Console</td>\n",
       "      <td>0.00</td>\n",
       "      <td>2017-06-27 21:08:09.801</td>\n",
       "      <td>None</td>\n",
       "      <td>350156</td>\n",
       "      <td>None</td>\n",
       "      <td>0.00</td>\n",
       "      <td>0.00</td>\n",
       "    </tr>\n",
       "    <tr>\n",
       "      <th>17</th>\n",
       "      <td>350174</td>\n",
       "      <td>This is a cool feature.</td>\n",
       "      <td>208.00</td>\n",
       "      <td>None</td>\n",
       "      <td>0</td>\n",
       "      <td>di/products/504c97a15798397490d16c06b17fbf43</td>\n",
       "      <td>1</td>\n",
       "      <td>0.0</td>\n",
       "      <td>Goucho End Table</td>\n",
       "      <td>162.44</td>\n",
       "      <td>2017-06-28 23:40:52.111</td>\n",
       "      <td>None</td>\n",
       "      <td>350173</td>\n",
       "      <td>3 weeks</td>\n",
       "      <td>0.00</td>\n",
       "      <td>0.00</td>\n",
       "    </tr>\n",
       "    <tr>\n",
       "      <th>18</th>\n",
       "      <td>350178</td>\n",
       "      <td>None</td>\n",
       "      <td>0.00</td>\n",
       "      <td>None</td>\n",
       "      <td>0</td>\n",
       "      <td>di/products/product|3|-2144051559</td>\n",
       "      <td>1</td>\n",
       "      <td>NaN</td>\n",
       "      <td>Reclaimed Lumber Spanish Dining Table</td>\n",
       "      <td>0.00</td>\n",
       "      <td>2017-06-28 23:50:16.847</td>\n",
       "      <td>None</td>\n",
       "      <td>350177</td>\n",
       "      <td></td>\n",
       "      <td>0.00</td>\n",
       "      <td>0.00</td>\n",
       "    </tr>\n",
       "    <tr>\n",
       "      <th>19</th>\n",
       "      <td>350179</td>\n",
       "      <td>None</td>\n",
       "      <td>0.00</td>\n",
       "      <td>None</td>\n",
       "      <td>1</td>\n",
       "      <td>di/products/95967a2689bc187d3c7d59099756c485</td>\n",
       "      <td>1</td>\n",
       "      <td>NaN</td>\n",
       "      <td>08067</td>\n",
       "      <td>0.00</td>\n",
       "      <td>2017-06-28 23:50:16.848</td>\n",
       "      <td>None</td>\n",
       "      <td>350177</td>\n",
       "      <td></td>\n",
       "      <td>0.00</td>\n",
       "      <td>0.00</td>\n",
       "    </tr>\n",
       "    <tr>\n",
       "      <th>20</th>\n",
       "      <td>350183</td>\n",
       "      <td>None</td>\n",
       "      <td>200.00</td>\n",
       "      <td>None</td>\n",
       "      <td>0</td>\n",
       "      <td>di/products/ee24842b7348b0bceddf72c316285986</td>\n",
       "      <td>1</td>\n",
       "      <td>NaN</td>\n",
       "      <td>Standard Pagoda Bed</td>\n",
       "      <td>100.00</td>\n",
       "      <td>2017-06-29 13:04:31.921</td>\n",
       "      <td>None</td>\n",
       "      <td>350182</td>\n",
       "      <td></td>\n",
       "      <td>0.00</td>\n",
       "      <td>0.00</td>\n",
       "    </tr>\n",
       "    <tr>\n",
       "      <th>21</th>\n",
       "      <td>350188</td>\n",
       "      <td></td>\n",
       "      <td>20.00</td>\n",
       "      <td>None</td>\n",
       "      <td>0</td>\n",
       "      <td>di/products/26262f9eb607178f9d9c2438fbff3db8</td>\n",
       "      <td>1</td>\n",
       "      <td>0.0</td>\n",
       "      <td>Chavi, Small Bench</td>\n",
       "      <td>10.00</td>\n",
       "      <td>2017-06-29 14:30:57.454</td>\n",
       "      <td>None</td>\n",
       "      <td>350186</td>\n",
       "      <td>small bench</td>\n",
       "      <td>0.00</td>\n",
       "      <td>0.00</td>\n",
       "    </tr>\n",
       "    <tr>\n",
       "      <th>22</th>\n",
       "      <td>350187</td>\n",
       "      <td></td>\n",
       "      <td>100.00</td>\n",
       "      <td>None</td>\n",
       "      <td>1</td>\n",
       "      <td>customproducts/ygjq63s7fs4osd8ioszh</td>\n",
       "      <td>1</td>\n",
       "      <td>1.0</td>\n",
       "      <td>dining chair</td>\n",
       "      <td>50.00</td>\n",
       "      <td>2017-06-29 14:30:57.467</td>\n",
       "      <td>None</td>\n",
       "      <td>350186</td>\n",
       "      <td>blue</td>\n",
       "      <td>0.00</td>\n",
       "      <td>0.00</td>\n",
       "    </tr>\n",
       "    <tr>\n",
       "      <th>23</th>\n",
       "      <td>350196</td>\n",
       "      <td>None</td>\n",
       "      <td>6084.00</td>\n",
       "      <td>None</td>\n",
       "      <td>0</td>\n",
       "      <td>di/products/81caf041b87a284eca89abf655d44c08</td>\n",
       "      <td>1</td>\n",
       "      <td>NaN</td>\n",
       "      <td>Saarinen Dining Table - 54\" Round</td>\n",
       "      <td>4679.95</td>\n",
       "      <td>2017-06-30 00:08:08.136</td>\n",
       "      <td>None</td>\n",
       "      <td>350195</td>\n",
       "      <td></td>\n",
       "      <td>0.00</td>\n",
       "      <td>0.00</td>\n",
       "    </tr>\n",
       "    <tr>\n",
       "      <th>24</th>\n",
       "      <td>350208</td>\n",
       "      <td>None</td>\n",
       "      <td>166.00</td>\n",
       "      <td>None</td>\n",
       "      <td>0</td>\n",
       "      <td>di/products/product|3|676042635</td>\n",
       "      <td>1</td>\n",
       "      <td>NaN</td>\n",
       "      <td>503050</td>\n",
       "      <td>166.00</td>\n",
       "      <td>2017-06-30 16:00:11.533</td>\n",
       "      <td>None</td>\n",
       "      <td>350206</td>\n",
       "      <td></td>\n",
       "      <td>0.00</td>\n",
       "      <td>0.00</td>\n",
       "    </tr>\n",
       "    <tr>\n",
       "      <th>25</th>\n",
       "      <td>350277</td>\n",
       "      <td>None</td>\n",
       "      <td>1200.00</td>\n",
       "      <td>None</td>\n",
       "      <td>0</td>\n",
       "      <td>di/products/product|3|-149813884</td>\n",
       "      <td>1</td>\n",
       "      <td>NaN</td>\n",
       "      <td>Plateau Bed</td>\n",
       "      <td>0.00</td>\n",
       "      <td>2017-07-02 19:28:55.111</td>\n",
       "      <td>None</td>\n",
       "      <td>350276</td>\n",
       "      <td></td>\n",
       "      <td>0.00</td>\n",
       "      <td>0.00</td>\n",
       "    </tr>\n",
       "    <tr>\n",
       "      <th>26</th>\n",
       "      <td>350282</td>\n",
       "      <td>None</td>\n",
       "      <td>0.00</td>\n",
       "      <td>None</td>\n",
       "      <td>0</td>\n",
       "      <td>di/products/e715905317a48d55560d1685a242169b</td>\n",
       "      <td>1</td>\n",
       "      <td>NaN</td>\n",
       "      <td>Ursa Large LED Outdoor Sconce</td>\n",
       "      <td>0.00</td>\n",
       "      <td>2017-07-02 20:32:46.428</td>\n",
       "      <td>None</td>\n",
       "      <td>350281</td>\n",
       "      <td></td>\n",
       "      <td>0.00</td>\n",
       "      <td>0.00</td>\n",
       "    </tr>\n",
       "    <tr>\n",
       "      <th>27</th>\n",
       "      <td>350341</td>\n",
       "      <td>None</td>\n",
       "      <td>0.00</td>\n",
       "      <td>None</td>\n",
       "      <td>0</td>\n",
       "      <td>di/products/e715905317a48d55560d1685a242169b</td>\n",
       "      <td>1</td>\n",
       "      <td>NaN</td>\n",
       "      <td>Ursa Large LED Outdoor Sconce</td>\n",
       "      <td>0.00</td>\n",
       "      <td>2017-07-07 17:29:08.766</td>\n",
       "      <td>None</td>\n",
       "      <td>350340</td>\n",
       "      <td></td>\n",
       "      <td>0.00</td>\n",
       "      <td>0.00</td>\n",
       "    </tr>\n",
       "    <tr>\n",
       "      <th>28</th>\n",
       "      <td>350380</td>\n",
       "      <td>None</td>\n",
       "      <td>660.17</td>\n",
       "      <td>None</td>\n",
       "      <td>6</td>\n",
       "      <td>di/products/c328773c06cfae1f2950308eb5b6cb3f</td>\n",
       "      <td>1</td>\n",
       "      <td>NaN</td>\n",
       "      <td>Dauphine TV Stand Large</td>\n",
       "      <td>660.17</td>\n",
       "      <td>2017-07-12 03:04:12.217</td>\n",
       "      <td>None</td>\n",
       "      <td>350379</td>\n",
       "      <td></td>\n",
       "      <td>0.00</td>\n",
       "      <td>0.00</td>\n",
       "    </tr>\n",
       "    <tr>\n",
       "      <th>29</th>\n",
       "      <td>350381</td>\n",
       "      <td>None</td>\n",
       "      <td>1589.03</td>\n",
       "      <td>None</td>\n",
       "      <td>7</td>\n",
       "      <td>di/products/f35e04bbb7acf585c958f7c702b77aeb</td>\n",
       "      <td>1</td>\n",
       "      <td>NaN</td>\n",
       "      <td>Hooker Furniture Home Entertainment Melange Sl...</td>\n",
       "      <td>1589.03</td>\n",
       "      <td>2017-07-12 03:04:12.219</td>\n",
       "      <td>None</td>\n",
       "      <td>350379</td>\n",
       "      <td></td>\n",
       "      <td>0.00</td>\n",
       "      <td>0.00</td>\n",
       "    </tr>\n",
       "    <tr>\n",
       "      <th>...</th>\n",
       "      <td>...</td>\n",
       "      <td>...</td>\n",
       "      <td>...</td>\n",
       "      <td>...</td>\n",
       "      <td>...</td>\n",
       "      <td>...</td>\n",
       "      <td>...</td>\n",
       "      <td>...</td>\n",
       "      <td>...</td>\n",
       "      <td>...</td>\n",
       "      <td>...</td>\n",
       "      <td>...</td>\n",
       "      <td>...</td>\n",
       "      <td>...</td>\n",
       "      <td>...</td>\n",
       "      <td>...</td>\n",
       "    </tr>\n",
       "    <tr>\n",
       "      <th>142</th>\n",
       "      <td>382036</td>\n",
       "      <td>None</td>\n",
       "      <td>133.65</td>\n",
       "      <td>None</td>\n",
       "      <td>0</td>\n",
       "      <td>https://cdn.shopify.com/s/files/1/1595/8663/pr...</td>\n",
       "      <td>10</td>\n",
       "      <td>NaN</td>\n",
       "      <td>Obeliska, 3 Lt Chandelier</td>\n",
       "      <td>99.00</td>\n",
       "      <td>2017-10-24 00:06:39.442</td>\n",
       "      <td>None</td>\n",
       "      <td>382035</td>\n",
       "      <td></td>\n",
       "      <td>0.00</td>\n",
       "      <td>24.00</td>\n",
       "    </tr>\n",
       "    <tr>\n",
       "      <th>143</th>\n",
       "      <td>382169</td>\n",
       "      <td>None</td>\n",
       "      <td>153.80</td>\n",
       "      <td>None</td>\n",
       "      <td>5</td>\n",
       "      <td>https://cdn.shopify.com/s/files/1/1595/8663/pr...</td>\n",
       "      <td>1</td>\n",
       "      <td>NaN</td>\n",
       "      <td>52GCMU0235 Music Lover I</td>\n",
       "      <td>153.80</td>\n",
       "      <td>2017-10-28 17:54:33.051</td>\n",
       "      <td>None</td>\n",
       "      <td>382162</td>\n",
       "      <td></td>\n",
       "      <td>0.00</td>\n",
       "      <td>0.00</td>\n",
       "    </tr>\n",
       "    <tr>\n",
       "      <th>144</th>\n",
       "      <td>382170</td>\n",
       "      <td>None</td>\n",
       "      <td>57.00</td>\n",
       "      <td>None</td>\n",
       "      <td>2</td>\n",
       "      <td>https://cdn.shopify.com/s/files/1/1595/8663/pr...</td>\n",
       "      <td>1</td>\n",
       "      <td>NaN</td>\n",
       "      <td>52GC4350 Digital Deco IV</td>\n",
       "      <td>57.00</td>\n",
       "      <td>2017-10-28 17:54:33.052</td>\n",
       "      <td>None</td>\n",
       "      <td>382162</td>\n",
       "      <td></td>\n",
       "      <td>0.00</td>\n",
       "      <td>0.00</td>\n",
       "    </tr>\n",
       "    <tr>\n",
       "      <th>145</th>\n",
       "      <td>382171</td>\n",
       "      <td>None</td>\n",
       "      <td>153.80</td>\n",
       "      <td>None</td>\n",
       "      <td>6</td>\n",
       "      <td>https://cdn.shopify.com/s/files/1/1595/8663/pr...</td>\n",
       "      <td>1</td>\n",
       "      <td>NaN</td>\n",
       "      <td>52GCMU0236 Music Lover II</td>\n",
       "      <td>153.80</td>\n",
       "      <td>2017-10-28 17:54:33.052</td>\n",
       "      <td>None</td>\n",
       "      <td>382162</td>\n",
       "      <td></td>\n",
       "      <td>0.00</td>\n",
       "      <td>0.00</td>\n",
       "    </tr>\n",
       "    <tr>\n",
       "      <th>146</th>\n",
       "      <td>382172</td>\n",
       "      <td>None</td>\n",
       "      <td>900.00</td>\n",
       "      <td>None</td>\n",
       "      <td>10</td>\n",
       "      <td>https://cdn.shopify.com/s/files/1/1595/8663/pr...</td>\n",
       "      <td>1</td>\n",
       "      <td>NaN</td>\n",
       "      <td>RAINIER</td>\n",
       "      <td>900.00</td>\n",
       "      <td>2017-10-28 17:54:33.053</td>\n",
       "      <td>None</td>\n",
       "      <td>382162</td>\n",
       "      <td></td>\n",
       "      <td>0.00</td>\n",
       "      <td>0.00</td>\n",
       "    </tr>\n",
       "    <tr>\n",
       "      <th>147</th>\n",
       "      <td>382173</td>\n",
       "      <td>None</td>\n",
       "      <td>57.00</td>\n",
       "      <td>None</td>\n",
       "      <td>3</td>\n",
       "      <td>https://cdn.shopify.com/s/files/1/1595/8663/pr...</td>\n",
       "      <td>1</td>\n",
       "      <td>NaN</td>\n",
       "      <td>52GC4351 Digital Deco V</td>\n",
       "      <td>57.00</td>\n",
       "      <td>2017-10-28 17:54:33.053</td>\n",
       "      <td>None</td>\n",
       "      <td>382162</td>\n",
       "      <td></td>\n",
       "      <td>0.00</td>\n",
       "      <td>0.00</td>\n",
       "    </tr>\n",
       "    <tr>\n",
       "      <th>148</th>\n",
       "      <td>410049</td>\n",
       "      <td>None</td>\n",
       "      <td>1560.00</td>\n",
       "      <td>None</td>\n",
       "      <td>0</td>\n",
       "      <td>di/products/15297acdf58c2ddf4629bdc5c9b2e61a</td>\n",
       "      <td>1</td>\n",
       "      <td>NaN</td>\n",
       "      <td>Coastal Living Resort-Ocean Breakers TV Consol...</td>\n",
       "      <td>1200.00</td>\n",
       "      <td>2017-11-27 14:51:16.367</td>\n",
       "      <td>None</td>\n",
       "      <td>410048</td>\n",
       "      <td>Wave-like ripples are the hallmark of our Ocea...</td>\n",
       "      <td>200.00</td>\n",
       "      <td>200.00</td>\n",
       "    </tr>\n",
       "    <tr>\n",
       "      <th>149</th>\n",
       "      <td>382110</td>\n",
       "      <td>None</td>\n",
       "      <td>627.75</td>\n",
       "      <td>None</td>\n",
       "      <td>0</td>\n",
       "      <td>di/products/YNd1zB0-IRCK-152A</td>\n",
       "      <td>1</td>\n",
       "      <td>NaN</td>\n",
       "      <td>Evelyn Nesting Coffee Table</td>\n",
       "      <td>465.00</td>\n",
       "      <td>2017-10-26 14:03:03.619</td>\n",
       "      <td>None</td>\n",
       "      <td>382101</td>\n",
       "      <td>Stacked and structured, slim iron legs lend ed...</td>\n",
       "      <td>0.00</td>\n",
       "      <td>0.00</td>\n",
       "    </tr>\n",
       "    <tr>\n",
       "      <th>150</th>\n",
       "      <td>382111</td>\n",
       "      <td>None</td>\n",
       "      <td>1363.50</td>\n",
       "      <td>None</td>\n",
       "      <td>1</td>\n",
       "      <td>di/products/EyVKA8W-VBEN-018</td>\n",
       "      <td>1</td>\n",
       "      <td>NaN</td>\n",
       "      <td>Shagreen Nesting Coffee Table-Brass</td>\n",
       "      <td>1010.00</td>\n",
       "      <td>2017-10-26 14:03:03.620</td>\n",
       "      <td>None</td>\n",
       "      <td>382101</td>\n",
       "      <td>Antique brass-finished iron curves like a cres...</td>\n",
       "      <td>0.00</td>\n",
       "      <td>0.00</td>\n",
       "    </tr>\n",
       "    <tr>\n",
       "      <th>151</th>\n",
       "      <td>382147</td>\n",
       "      <td></td>\n",
       "      <td>808.50</td>\n",
       "      <td>None</td>\n",
       "      <td>0</td>\n",
       "      <td>di/products/KZG8Mw6-VPRD-03B-11</td>\n",
       "      <td>1</td>\n",
       "      <td>0.0</td>\n",
       "      <td>Post &amp; Rail Sideboard 5drw/2dr-Sun Ash</td>\n",
       "      <td>735.00</td>\n",
       "      <td>2017-10-27 17:49:55.262</td>\n",
       "      <td>None</td>\n",
       "      <td>382144</td>\n",
       "      <td>Item Number  : VPRD-03B-11   Collection  : Pos...</td>\n",
       "      <td>0.00</td>\n",
       "      <td>0.00</td>\n",
       "    </tr>\n",
       "    <tr>\n",
       "      <th>152</th>\n",
       "      <td>382148</td>\n",
       "      <td></td>\n",
       "      <td>390.50</td>\n",
       "      <td>None</td>\n",
       "      <td>1</td>\n",
       "      <td>di/products/j8wjanm-VTIL-002-64</td>\n",
       "      <td>2</td>\n",
       "      <td>0.0</td>\n",
       "      <td>Tiller Nightstand</td>\n",
       "      <td>355.00</td>\n",
       "      <td>2017-10-27 17:49:55.270</td>\n",
       "      <td>None</td>\n",
       "      <td>382144</td>\n",
       "      <td>Reclaimed materials deliver depth to streamlin...</td>\n",
       "      <td>0.00</td>\n",
       "      <td>0.00</td>\n",
       "    </tr>\n",
       "    <tr>\n",
       "      <th>153</th>\n",
       "      <td>382163</td>\n",
       "      <td>None</td>\n",
       "      <td>154.00</td>\n",
       "      <td>None</td>\n",
       "      <td>1</td>\n",
       "      <td>https://cdn.shopify.com/s/files/1/1595/8663/pr...</td>\n",
       "      <td>1</td>\n",
       "      <td>NaN</td>\n",
       "      <td>Rock Stock</td>\n",
       "      <td>154.00</td>\n",
       "      <td>2017-10-28 17:54:33.049</td>\n",
       "      <td>None</td>\n",
       "      <td>382162</td>\n",
       "      <td></td>\n",
       "      <td>0.00</td>\n",
       "      <td>0.00</td>\n",
       "    </tr>\n",
       "    <tr>\n",
       "      <th>154</th>\n",
       "      <td>382164</td>\n",
       "      <td>None</td>\n",
       "      <td>154.00</td>\n",
       "      <td>None</td>\n",
       "      <td>9</td>\n",
       "      <td>https://cdn.shopify.com/s/files/1/1595/8663/pr...</td>\n",
       "      <td>1</td>\n",
       "      <td>NaN</td>\n",
       "      <td>52GC40140 Undwinding</td>\n",
       "      <td>154.00</td>\n",
       "      <td>2017-10-28 17:54:33.049</td>\n",
       "      <td>None</td>\n",
       "      <td>382162</td>\n",
       "      <td></td>\n",
       "      <td>0.00</td>\n",
       "      <td>0.00</td>\n",
       "    </tr>\n",
       "    <tr>\n",
       "      <th>155</th>\n",
       "      <td>382165</td>\n",
       "      <td>None</td>\n",
       "      <td>57.00</td>\n",
       "      <td>None</td>\n",
       "      <td>4</td>\n",
       "      <td>https://cdn.shopify.com/s/files/1/1595/8663/pr...</td>\n",
       "      <td>1</td>\n",
       "      <td>NaN</td>\n",
       "      <td>52GC4353 Digital Deco VII</td>\n",
       "      <td>57.00</td>\n",
       "      <td>2017-10-28 17:54:33.050</td>\n",
       "      <td>None</td>\n",
       "      <td>382162</td>\n",
       "      <td></td>\n",
       "      <td>0.00</td>\n",
       "      <td>0.00</td>\n",
       "    </tr>\n",
       "    <tr>\n",
       "      <th>156</th>\n",
       "      <td>382166</td>\n",
       "      <td>None</td>\n",
       "      <td>153.80</td>\n",
       "      <td>None</td>\n",
       "      <td>8</td>\n",
       "      <td>https://cdn.shopify.com/s/files/1/1595/8663/pr...</td>\n",
       "      <td>1</td>\n",
       "      <td>NaN</td>\n",
       "      <td>52GCMU0238 Music Lover IV</td>\n",
       "      <td>153.80</td>\n",
       "      <td>2017-10-28 17:54:33.050</td>\n",
       "      <td>None</td>\n",
       "      <td>382162</td>\n",
       "      <td></td>\n",
       "      <td>0.00</td>\n",
       "      <td>0.00</td>\n",
       "    </tr>\n",
       "    <tr>\n",
       "      <th>157</th>\n",
       "      <td>382167</td>\n",
       "      <td>None</td>\n",
       "      <td>149.95</td>\n",
       "      <td>None</td>\n",
       "      <td>0</td>\n",
       "      <td>https://cdn.shopify.com/s/files/1/1595/8663/pr...</td>\n",
       "      <td>2</td>\n",
       "      <td>NaN</td>\n",
       "      <td>KS 2150BSL</td>\n",
       "      <td>149.95</td>\n",
       "      <td>2017-10-28 17:54:33.051</td>\n",
       "      <td>None</td>\n",
       "      <td>382162</td>\n",
       "      <td></td>\n",
       "      <td>0.00</td>\n",
       "      <td>0.00</td>\n",
       "    </tr>\n",
       "    <tr>\n",
       "      <th>158</th>\n",
       "      <td>382168</td>\n",
       "      <td>None</td>\n",
       "      <td>699.95</td>\n",
       "      <td>None</td>\n",
       "      <td>11</td>\n",
       "      <td>https://cdn.shopify.com/s/files/1/1595/8663/pr...</td>\n",
       "      <td>2</td>\n",
       "      <td>NaN</td>\n",
       "      <td>FARRAR I</td>\n",
       "      <td>699.95</td>\n",
       "      <td>2017-10-28 17:54:33.051</td>\n",
       "      <td>None</td>\n",
       "      <td>382162</td>\n",
       "      <td></td>\n",
       "      <td>0.00</td>\n",
       "      <td>0.00</td>\n",
       "    </tr>\n",
       "    <tr>\n",
       "      <th>159</th>\n",
       "      <td>383579</td>\n",
       "      <td>None</td>\n",
       "      <td>23.00</td>\n",
       "      <td>None</td>\n",
       "      <td>1</td>\n",
       "      <td>https://cdn.shopify.com/s/files/1/1595/8663/pr...</td>\n",
       "      <td>2</td>\n",
       "      <td>NaN</td>\n",
       "      <td>HEX HBR</td>\n",
       "      <td>23.00</td>\n",
       "      <td>2017-10-31 21:17:19.943</td>\n",
       "      <td>None</td>\n",
       "      <td>383578</td>\n",
       "      <td></td>\n",
       "      <td>0.00</td>\n",
       "      <td>0.00</td>\n",
       "    </tr>\n",
       "    <tr>\n",
       "      <th>160</th>\n",
       "      <td>383580</td>\n",
       "      <td>None</td>\n",
       "      <td>11.00</td>\n",
       "      <td>None</td>\n",
       "      <td>0</td>\n",
       "      <td>https://cdn.shopify.com/s/files/1/1595/8663/pr...</td>\n",
       "      <td>9</td>\n",
       "      <td>NaN</td>\n",
       "      <td>LUCAS HBR</td>\n",
       "      <td>11.00</td>\n",
       "      <td>2017-10-31 21:17:19.944</td>\n",
       "      <td>None</td>\n",
       "      <td>383578</td>\n",
       "      <td></td>\n",
       "      <td>0.00</td>\n",
       "      <td>0.00</td>\n",
       "    </tr>\n",
       "    <tr>\n",
       "      <th>161</th>\n",
       "      <td>386354</td>\n",
       "      <td>None</td>\n",
       "      <td>718.62</td>\n",
       "      <td>None</td>\n",
       "      <td>1</td>\n",
       "      <td>https://cdn.shopify.com/s/files/1/1595/8663/pr...</td>\n",
       "      <td>1</td>\n",
       "      <td>NaN</td>\n",
       "      <td>ALLEGRO EXTENSION DINING TABLE</td>\n",
       "      <td>513.30</td>\n",
       "      <td>2017-11-03 21:03:40.286</td>\n",
       "      <td>None</td>\n",
       "      <td>386353</td>\n",
       "      <td></td>\n",
       "      <td>23.99</td>\n",
       "      <td>23.99</td>\n",
       "    </tr>\n",
       "    <tr>\n",
       "      <th>162</th>\n",
       "      <td>386355</td>\n",
       "      <td>None</td>\n",
       "      <td>420.00</td>\n",
       "      <td>None</td>\n",
       "      <td>0</td>\n",
       "      <td>https://cdn.shopify.com/s/files/1/1595/8663/pr...</td>\n",
       "      <td>1</td>\n",
       "      <td>NaN</td>\n",
       "      <td>Trestle Dining/ Gathering Table</td>\n",
       "      <td>300.00</td>\n",
       "      <td>2017-11-03 21:03:40.287</td>\n",
       "      <td>None</td>\n",
       "      <td>386353</td>\n",
       "      <td></td>\n",
       "      <td>23.99</td>\n",
       "      <td>23.99</td>\n",
       "    </tr>\n",
       "    <tr>\n",
       "      <th>163</th>\n",
       "      <td>408643</td>\n",
       "      <td>None</td>\n",
       "      <td>606.25</td>\n",
       "      <td>None</td>\n",
       "      <td>1</td>\n",
       "      <td>https://cdn.shopify.com/s/files/1/1595/8663/pr...</td>\n",
       "      <td>2</td>\n",
       "      <td>NaN</td>\n",
       "      <td>Nomad Chair-Plush Azure</td>\n",
       "      <td>485.00</td>\n",
       "      <td>2017-11-16 19:00:34.624</td>\n",
       "      <td>None</td>\n",
       "      <td>406777</td>\n",
       "      <td></td>\n",
       "      <td>0.00</td>\n",
       "      <td>0.00</td>\n",
       "    </tr>\n",
       "    <tr>\n",
       "      <th>164</th>\n",
       "      <td>408644</td>\n",
       "      <td>None</td>\n",
       "      <td>812.50</td>\n",
       "      <td>None</td>\n",
       "      <td>2</td>\n",
       "      <td>https://cdn.shopify.com/s/files/1/1595/8663/pr...</td>\n",
       "      <td>2</td>\n",
       "      <td>NaN</td>\n",
       "      <td>Dottie Club Chair-Noble Platinum</td>\n",
       "      <td>650.00</td>\n",
       "      <td>2017-11-16 19:00:34.625</td>\n",
       "      <td>None</td>\n",
       "      <td>406777</td>\n",
       "      <td></td>\n",
       "      <td>0.00</td>\n",
       "      <td>0.00</td>\n",
       "    </tr>\n",
       "    <tr>\n",
       "      <th>165</th>\n",
       "      <td>408645</td>\n",
       "      <td>None</td>\n",
       "      <td>831.25</td>\n",
       "      <td>None</td>\n",
       "      <td>4</td>\n",
       "      <td>https://cdn.shopify.com/s/files/1/1595/8663/pr...</td>\n",
       "      <td>2</td>\n",
       "      <td>NaN</td>\n",
       "      <td>Copeland Chair-Imperial Shadow</td>\n",
       "      <td>665.00</td>\n",
       "      <td>2017-11-16 19:00:34.625</td>\n",
       "      <td>None</td>\n",
       "      <td>406777</td>\n",
       "      <td></td>\n",
       "      <td>0.00</td>\n",
       "      <td>0.00</td>\n",
       "    </tr>\n",
       "    <tr>\n",
       "      <th>166</th>\n",
       "      <td>408646</td>\n",
       "      <td>None</td>\n",
       "      <td>506.25</td>\n",
       "      <td>None</td>\n",
       "      <td>3</td>\n",
       "      <td>https://cdn.shopify.com/s/files/1/1595/8663/pr...</td>\n",
       "      <td>2</td>\n",
       "      <td>NaN</td>\n",
       "      <td>Nexus Chair</td>\n",
       "      <td>405.00</td>\n",
       "      <td>2017-11-16 19:00:34.626</td>\n",
       "      <td>None</td>\n",
       "      <td>406777</td>\n",
       "      <td></td>\n",
       "      <td>0.00</td>\n",
       "      <td>0.00</td>\n",
       "    </tr>\n",
       "    <tr>\n",
       "      <th>167</th>\n",
       "      <td>408647</td>\n",
       "      <td>None</td>\n",
       "      <td>637.50</td>\n",
       "      <td>None</td>\n",
       "      <td>0</td>\n",
       "      <td>https://cdn.shopify.com/s/files/1/1595/8663/pr...</td>\n",
       "      <td>2</td>\n",
       "      <td>NaN</td>\n",
       "      <td>Gary Club Chair</td>\n",
       "      <td>510.00</td>\n",
       "      <td>2017-11-16 19:00:34.626</td>\n",
       "      <td>None</td>\n",
       "      <td>406777</td>\n",
       "      <td></td>\n",
       "      <td>0.00</td>\n",
       "      <td>0.00</td>\n",
       "    </tr>\n",
       "    <tr>\n",
       "      <th>168</th>\n",
       "      <td>410025</td>\n",
       "      <td>None</td>\n",
       "      <td>0.00</td>\n",
       "      <td>None</td>\n",
       "      <td>1</td>\n",
       "      <td>https://cdn.shopify.com/s/files/1/1595/8663/pr...</td>\n",
       "      <td>1</td>\n",
       "      <td>NaN</td>\n",
       "      <td>April Nesting End Tables</td>\n",
       "      <td>275.00</td>\n",
       "      <td>2017-11-23 19:15:58.275</td>\n",
       "      <td>None</td>\n",
       "      <td>410020</td>\n",
       "      <td></td>\n",
       "      <td>0.00</td>\n",
       "      <td>0.00</td>\n",
       "    </tr>\n",
       "    <tr>\n",
       "      <th>169</th>\n",
       "      <td>410026</td>\n",
       "      <td>None</td>\n",
       "      <td>0.00</td>\n",
       "      <td>None</td>\n",
       "      <td>2</td>\n",
       "      <td>https://cdn.shopify.com/s/files/1/1595/8663/pr...</td>\n",
       "      <td>1</td>\n",
       "      <td>NaN</td>\n",
       "      <td>Warner 1 Light Semi Flush Oil Rubbed Bronze Fi...</td>\n",
       "      <td>55.00</td>\n",
       "      <td>2017-11-23 19:15:58.275</td>\n",
       "      <td>None</td>\n",
       "      <td>410020</td>\n",
       "      <td></td>\n",
       "      <td>0.00</td>\n",
       "      <td>0.00</td>\n",
       "    </tr>\n",
       "    <tr>\n",
       "      <th>170</th>\n",
       "      <td>410027</td>\n",
       "      <td>None</td>\n",
       "      <td>0.00</td>\n",
       "      <td>None</td>\n",
       "      <td>3</td>\n",
       "      <td>https://cdn.shopify.com/s/files/1/1595/8663/pr...</td>\n",
       "      <td>1</td>\n",
       "      <td>NaN</td>\n",
       "      <td>Leona End Table</td>\n",
       "      <td>185.00</td>\n",
       "      <td>2017-11-23 19:15:58.276</td>\n",
       "      <td>None</td>\n",
       "      <td>410020</td>\n",
       "      <td></td>\n",
       "      <td>0.00</td>\n",
       "      <td>0.00</td>\n",
       "    </tr>\n",
       "    <tr>\n",
       "      <th>171</th>\n",
       "      <td>410028</td>\n",
       "      <td>None</td>\n",
       "      <td>0.00</td>\n",
       "      <td>None</td>\n",
       "      <td>0</td>\n",
       "      <td>https://cdn.shopify.com/s/files/1/1595/8663/pr...</td>\n",
       "      <td>1</td>\n",
       "      <td>NaN</td>\n",
       "      <td>Cobalt Table Lamp</td>\n",
       "      <td>126.00</td>\n",
       "      <td>2017-11-23 19:15:58.276</td>\n",
       "      <td>None</td>\n",
       "      <td>410020</td>\n",
       "      <td></td>\n",
       "      <td>0.00</td>\n",
       "      <td>0.00</td>\n",
       "    </tr>\n",
       "  </tbody>\n",
       "</table>\n",
       "<p>172 rows × 16 columns</p>\n",
       "</div>"
      ],
      "text/plain": [
       "         id               client_note client_price designer_note  \\\n",
       "0    366391                      None      1573.00          None   \n",
       "1    350130                                 278.00          None   \n",
       "2    350128                                   0.00          None   \n",
       "3    350129               Oh hell no!       255.67          None   \n",
       "4    350127       Looks too juvenile.       214.00          None   \n",
       "5    350133                      None         0.00          None   \n",
       "6    350149                      None         0.00          None   \n",
       "7    350150                      None         0.00          None   \n",
       "8    350151                      None         0.00          None   \n",
       "9    350152                      None      3000.00          None   \n",
       "10   350153                      None         0.00          None   \n",
       "11   350154                      None      3000.00          None   \n",
       "12   350162                      None         0.00          None   \n",
       "13   350163                      None         0.00          None   \n",
       "14   350164                      None         0.00          None   \n",
       "15   350165                      None         0.00          None   \n",
       "16   350166                      None         0.00          None   \n",
       "17   350174  This is a cool feature.        208.00          None   \n",
       "18   350178                      None         0.00          None   \n",
       "19   350179                      None         0.00          None   \n",
       "20   350183                      None       200.00          None   \n",
       "21   350188                                  20.00          None   \n",
       "22   350187                                 100.00          None   \n",
       "23   350196                      None      6084.00          None   \n",
       "24   350208                      None       166.00          None   \n",
       "25   350277                      None      1200.00          None   \n",
       "26   350282                      None         0.00          None   \n",
       "27   350341                      None         0.00          None   \n",
       "28   350380                      None       660.17          None   \n",
       "29   350381                      None      1589.03          None   \n",
       "..      ...                       ...          ...           ...   \n",
       "142  382036                      None       133.65          None   \n",
       "143  382169                      None       153.80          None   \n",
       "144  382170                      None        57.00          None   \n",
       "145  382171                      None       153.80          None   \n",
       "146  382172                      None       900.00          None   \n",
       "147  382173                      None        57.00          None   \n",
       "148  410049                      None      1560.00          None   \n",
       "149  382110                      None       627.75          None   \n",
       "150  382111                      None      1363.50          None   \n",
       "151  382147                                 808.50          None   \n",
       "152  382148                                 390.50          None   \n",
       "153  382163                      None       154.00          None   \n",
       "154  382164                      None       154.00          None   \n",
       "155  382165                      None        57.00          None   \n",
       "156  382166                      None       153.80          None   \n",
       "157  382167                      None       149.95          None   \n",
       "158  382168                      None       699.95          None   \n",
       "159  383579                      None        23.00          None   \n",
       "160  383580                      None        11.00          None   \n",
       "161  386354                      None       718.62          None   \n",
       "162  386355                      None       420.00          None   \n",
       "163  408643                      None       606.25          None   \n",
       "164  408644                      None       812.50          None   \n",
       "165  408645                      None       831.25          None   \n",
       "166  408646                      None       506.25          None   \n",
       "167  408647                      None       637.50          None   \n",
       "168  410025                      None         0.00          None   \n",
       "169  410026                      None         0.00          None   \n",
       "170  410027                      None         0.00          None   \n",
       "171  410028                      None         0.00          None   \n",
       "\n",
       "     display_order                                              image  \\\n",
       "0                2  https://cdn.shopify.com/s/files/1/1595/8663/pr...   \n",
       "1                0       di/products/e551c6c336ae0621b3be943da80018c7   \n",
       "2                1                   di/products/product|3|1261197341   \n",
       "3                2       di/products/ceb19954b768fdeae7e96c83d927004f   \n",
       "4                3       di/products/2a03bd6ff5dc7e8b5114c39a4330e5b9   \n",
       "5                0       di/products/c7bf389460a5b1516ce27a90cdbf3a1c   \n",
       "6                1       di/products/566d3ad1f80f097480b025428a67a722   \n",
       "7                4       di/products/da1893608d9957367a5ce7e26569e0e9   \n",
       "8                3       di/products/2fd976c073e6d4d29fd6bc4eee0f99c6   \n",
       "9                5                customproducts/bxrvwabzxxvbld0bd5xc   \n",
       "10               2       di/products/d208d87a9df5b0b5e0af8d2ec983ffde   \n",
       "11               0       di/products/5d469040cbe009e99fc761e19c726c5a   \n",
       "12               0                    di/products/product|3|-48978831   \n",
       "13               2                    di/products/product|3|-35917578   \n",
       "14               4                customproducts/eoxivrflgqeidsg5i3nh   \n",
       "15               3       di/products/9c0046fea8ed004efc2ba201da5178b4   \n",
       "16               1                   di/products/product|3|2088333540   \n",
       "17               0       di/products/504c97a15798397490d16c06b17fbf43   \n",
       "18               0                  di/products/product|3|-2144051559   \n",
       "19               1       di/products/95967a2689bc187d3c7d59099756c485   \n",
       "20               0       di/products/ee24842b7348b0bceddf72c316285986   \n",
       "21               0       di/products/26262f9eb607178f9d9c2438fbff3db8   \n",
       "22               1                customproducts/ygjq63s7fs4osd8ioszh   \n",
       "23               0       di/products/81caf041b87a284eca89abf655d44c08   \n",
       "24               0                    di/products/product|3|676042635   \n",
       "25               0                   di/products/product|3|-149813884   \n",
       "26               0       di/products/e715905317a48d55560d1685a242169b   \n",
       "27               0       di/products/e715905317a48d55560d1685a242169b   \n",
       "28               6       di/products/c328773c06cfae1f2950308eb5b6cb3f   \n",
       "29               7       di/products/f35e04bbb7acf585c958f7c702b77aeb   \n",
       "..             ...                                                ...   \n",
       "142              0  https://cdn.shopify.com/s/files/1/1595/8663/pr...   \n",
       "143              5  https://cdn.shopify.com/s/files/1/1595/8663/pr...   \n",
       "144              2  https://cdn.shopify.com/s/files/1/1595/8663/pr...   \n",
       "145              6  https://cdn.shopify.com/s/files/1/1595/8663/pr...   \n",
       "146             10  https://cdn.shopify.com/s/files/1/1595/8663/pr...   \n",
       "147              3  https://cdn.shopify.com/s/files/1/1595/8663/pr...   \n",
       "148              0       di/products/15297acdf58c2ddf4629bdc5c9b2e61a   \n",
       "149              0                      di/products/YNd1zB0-IRCK-152A   \n",
       "150              1                       di/products/EyVKA8W-VBEN-018   \n",
       "151              0                    di/products/KZG8Mw6-VPRD-03B-11   \n",
       "152              1                    di/products/j8wjanm-VTIL-002-64   \n",
       "153              1  https://cdn.shopify.com/s/files/1/1595/8663/pr...   \n",
       "154              9  https://cdn.shopify.com/s/files/1/1595/8663/pr...   \n",
       "155              4  https://cdn.shopify.com/s/files/1/1595/8663/pr...   \n",
       "156              8  https://cdn.shopify.com/s/files/1/1595/8663/pr...   \n",
       "157              0  https://cdn.shopify.com/s/files/1/1595/8663/pr...   \n",
       "158             11  https://cdn.shopify.com/s/files/1/1595/8663/pr...   \n",
       "159              1  https://cdn.shopify.com/s/files/1/1595/8663/pr...   \n",
       "160              0  https://cdn.shopify.com/s/files/1/1595/8663/pr...   \n",
       "161              1  https://cdn.shopify.com/s/files/1/1595/8663/pr...   \n",
       "162              0  https://cdn.shopify.com/s/files/1/1595/8663/pr...   \n",
       "163              1  https://cdn.shopify.com/s/files/1/1595/8663/pr...   \n",
       "164              2  https://cdn.shopify.com/s/files/1/1595/8663/pr...   \n",
       "165              4  https://cdn.shopify.com/s/files/1/1595/8663/pr...   \n",
       "166              3  https://cdn.shopify.com/s/files/1/1595/8663/pr...   \n",
       "167              0  https://cdn.shopify.com/s/files/1/1595/8663/pr...   \n",
       "168              1  https://cdn.shopify.com/s/files/1/1595/8663/pr...   \n",
       "169              2  https://cdn.shopify.com/s/files/1/1595/8663/pr...   \n",
       "170              3  https://cdn.shopify.com/s/files/1/1595/8663/pr...   \n",
       "171              0  https://cdn.shopify.com/s/files/1/1595/8663/pr...   \n",
       "\n",
       "     quantity  status                                              title  \\\n",
       "0           1     NaN                              Grasshopper Wall Lamp   \n",
       "1           1     0.0                      Living on the Edge Sofa Table   \n",
       "2           8     0.0                               Colvin Console Table   \n",
       "3           1     1.0                                   Claudius Cabinet   \n",
       "4           1     1.0                     Mid-Century 2 Dr Console Table   \n",
       "5           1     NaN                                    Simpson Console   \n",
       "6           1     NaN  DOMINION CAMBRIDGE BED WITH LEATHER PANEL FOR ...   \n",
       "7           1     NaN                               8789 UPHOLSTERED BED   \n",
       "8           1     NaN  Tompkins Upholstered Bed with Low Footboard (Q...   \n",
       "9           1     NaN                                 really groovy sofa   \n",
       "10          1     NaN                             UPHOLSTERED BED (KING)   \n",
       "11          1     NaN                   LEATHER QUEEN HEADBOARD W/ RAILS   \n",
       "12          1     NaN  Quick Ship > Hadley 9 drawer buffet, Walnut/Metal   \n",
       "13          1     NaN                           Consoles > Bluma Console   \n",
       "14          1     NaN                          Dorothee's uploaded image   \n",
       "15          1     NaN                               LEATHER MID CREDENZA   \n",
       "16          1     NaN                        New Items > Adriane Console   \n",
       "17          1     0.0                                   Goucho End Table   \n",
       "18          1     NaN              Reclaimed Lumber Spanish Dining Table   \n",
       "19          1     NaN                                              08067   \n",
       "20          1     NaN                                Standard Pagoda Bed   \n",
       "21          1     0.0                                 Chavi, Small Bench   \n",
       "22          1     1.0                                       dining chair   \n",
       "23          1     NaN                  Saarinen Dining Table - 54\" Round   \n",
       "24          1     NaN                                             503050   \n",
       "25          1     NaN                                        Plateau Bed   \n",
       "26          1     NaN                      Ursa Large LED Outdoor Sconce   \n",
       "27          1     NaN                      Ursa Large LED Outdoor Sconce   \n",
       "28          1     NaN                            Dauphine TV Stand Large   \n",
       "29          1     NaN  Hooker Furniture Home Entertainment Melange Sl...   \n",
       "..        ...     ...                                                ...   \n",
       "142        10     NaN                          Obeliska, 3 Lt Chandelier   \n",
       "143         1     NaN                           52GCMU0235 Music Lover I   \n",
       "144         1     NaN                           52GC4350 Digital Deco IV   \n",
       "145         1     NaN                          52GCMU0236 Music Lover II   \n",
       "146         1     NaN                                            RAINIER   \n",
       "147         1     NaN                            52GC4351 Digital Deco V   \n",
       "148         1     NaN  Coastal Living Resort-Ocean Breakers TV Consol...   \n",
       "149         1     NaN                        Evelyn Nesting Coffee Table   \n",
       "150         1     NaN                Shagreen Nesting Coffee Table-Brass   \n",
       "151         1     0.0             Post & Rail Sideboard 5drw/2dr-Sun Ash   \n",
       "152         2     0.0                                  Tiller Nightstand   \n",
       "153         1     NaN                                         Rock Stock   \n",
       "154         1     NaN                               52GC40140 Undwinding   \n",
       "155         1     NaN                          52GC4353 Digital Deco VII   \n",
       "156         1     NaN                          52GCMU0238 Music Lover IV   \n",
       "157         2     NaN                                         KS 2150BSL   \n",
       "158         2     NaN                                           FARRAR I   \n",
       "159         2     NaN                                            HEX HBR   \n",
       "160         9     NaN                                          LUCAS HBR   \n",
       "161         1     NaN                     ALLEGRO EXTENSION DINING TABLE   \n",
       "162         1     NaN                    Trestle Dining/ Gathering Table   \n",
       "163         2     NaN                            Nomad Chair-Plush Azure   \n",
       "164         2     NaN                   Dottie Club Chair-Noble Platinum   \n",
       "165         2     NaN                     Copeland Chair-Imperial Shadow   \n",
       "166         2     NaN                                        Nexus Chair   \n",
       "167         2     NaN                                    Gary Club Chair   \n",
       "168         1     NaN                           April Nesting End Tables   \n",
       "169         1     NaN  Warner 1 Light Semi Flush Oil Rubbed Bronze Fi...   \n",
       "170         1     NaN                                    Leona End Table   \n",
       "171         1     NaN                                  Cobalt Table Lamp   \n",
       "\n",
       "    trade_price                 updated product_id  proposal_id  \\\n",
       "0       1573.00 2017-08-30 01:40:44.306       None       366390   \n",
       "1        241.50 2017-06-27 18:17:46.633       None       350122   \n",
       "2        458.00 2017-06-27 18:17:46.655       None       350122   \n",
       "3        229.99 2017-06-27 18:17:46.672       None       350122   \n",
       "4        199.50 2017-06-27 18:17:46.685       None       350122   \n",
       "5        258.99 2017-06-27 19:32:52.958       None       350132   \n",
       "6          0.00 2017-06-27 20:18:22.960       None       350135   \n",
       "7          0.00 2017-06-27 20:18:22.961       None       350135   \n",
       "8          0.00 2017-06-27 20:18:22.963       None       350135   \n",
       "9       1500.00 2017-06-27 20:18:22.964       None       350135   \n",
       "10      8730.00 2017-06-27 20:18:22.965       None       350135   \n",
       "11      1950.00 2017-06-27 20:18:22.967       None       350135   \n",
       "12      4492.50 2017-06-27 21:08:09.795       None       350156   \n",
       "13         0.00 2017-06-27 21:08:09.797       None       350156   \n",
       "14         0.00 2017-06-27 21:08:09.798       None       350156   \n",
       "15         0.00 2017-06-27 21:08:09.799       None       350156   \n",
       "16         0.00 2017-06-27 21:08:09.801       None       350156   \n",
       "17       162.44 2017-06-28 23:40:52.111       None       350173   \n",
       "18         0.00 2017-06-28 23:50:16.847       None       350177   \n",
       "19         0.00 2017-06-28 23:50:16.848       None       350177   \n",
       "20       100.00 2017-06-29 13:04:31.921       None       350182   \n",
       "21        10.00 2017-06-29 14:30:57.454       None       350186   \n",
       "22        50.00 2017-06-29 14:30:57.467       None       350186   \n",
       "23      4679.95 2017-06-30 00:08:08.136       None       350195   \n",
       "24       166.00 2017-06-30 16:00:11.533       None       350206   \n",
       "25         0.00 2017-07-02 19:28:55.111       None       350276   \n",
       "26         0.00 2017-07-02 20:32:46.428       None       350281   \n",
       "27         0.00 2017-07-07 17:29:08.766       None       350340   \n",
       "28       660.17 2017-07-12 03:04:12.217       None       350379   \n",
       "29      1589.03 2017-07-12 03:04:12.219       None       350379   \n",
       "..          ...                     ...        ...          ...   \n",
       "142       99.00 2017-10-24 00:06:39.442       None       382035   \n",
       "143      153.80 2017-10-28 17:54:33.051       None       382162   \n",
       "144       57.00 2017-10-28 17:54:33.052       None       382162   \n",
       "145      153.80 2017-10-28 17:54:33.052       None       382162   \n",
       "146      900.00 2017-10-28 17:54:33.053       None       382162   \n",
       "147       57.00 2017-10-28 17:54:33.053       None       382162   \n",
       "148     1200.00 2017-11-27 14:51:16.367       None       410048   \n",
       "149      465.00 2017-10-26 14:03:03.619       None       382101   \n",
       "150     1010.00 2017-10-26 14:03:03.620       None       382101   \n",
       "151      735.00 2017-10-27 17:49:55.262       None       382144   \n",
       "152      355.00 2017-10-27 17:49:55.270       None       382144   \n",
       "153      154.00 2017-10-28 17:54:33.049       None       382162   \n",
       "154      154.00 2017-10-28 17:54:33.049       None       382162   \n",
       "155       57.00 2017-10-28 17:54:33.050       None       382162   \n",
       "156      153.80 2017-10-28 17:54:33.050       None       382162   \n",
       "157      149.95 2017-10-28 17:54:33.051       None       382162   \n",
       "158      699.95 2017-10-28 17:54:33.051       None       382162   \n",
       "159       23.00 2017-10-31 21:17:19.943       None       383578   \n",
       "160       11.00 2017-10-31 21:17:19.944       None       383578   \n",
       "161      513.30 2017-11-03 21:03:40.286       None       386353   \n",
       "162      300.00 2017-11-03 21:03:40.287       None       386353   \n",
       "163      485.00 2017-11-16 19:00:34.624       None       406777   \n",
       "164      650.00 2017-11-16 19:00:34.625       None       406777   \n",
       "165      665.00 2017-11-16 19:00:34.625       None       406777   \n",
       "166      405.00 2017-11-16 19:00:34.626       None       406777   \n",
       "167      510.00 2017-11-16 19:00:34.626       None       406777   \n",
       "168      275.00 2017-11-23 19:15:58.275       None       410020   \n",
       "169       55.00 2017-11-23 19:15:58.275       None       410020   \n",
       "170      185.00 2017-11-23 19:15:58.276       None       410020   \n",
       "171      126.00 2017-11-23 19:15:58.276       None       410020   \n",
       "\n",
       "                                           description trade_shipping  \\\n",
       "0                                                                0.00   \n",
       "1                                                 None           0.00   \n",
       "2                                                 None           0.00   \n",
       "3                                                 None           0.00   \n",
       "4                                                 None           0.00   \n",
       "5                                                 None           0.00   \n",
       "6                                                 None           0.00   \n",
       "7                                                 None           0.00   \n",
       "8                                                 None           0.00   \n",
       "9                                                 None           0.00   \n",
       "10                                                None           0.00   \n",
       "11                                                None           0.00   \n",
       "12                                                None           0.00   \n",
       "13                                                None           0.00   \n",
       "14                                                None           0.00   \n",
       "15                                                None           0.00   \n",
       "16                                                None           0.00   \n",
       "17                                            3 weeks            0.00   \n",
       "18                                                               0.00   \n",
       "19                                                               0.00   \n",
       "20                                                               0.00   \n",
       "21                                         small bench           0.00   \n",
       "22                                                blue           0.00   \n",
       "23                                                               0.00   \n",
       "24                                                               0.00   \n",
       "25                                                               0.00   \n",
       "26                                                               0.00   \n",
       "27                                                               0.00   \n",
       "28                                                               0.00   \n",
       "29                                                               0.00   \n",
       "..                                                 ...            ...   \n",
       "142                                                              0.00   \n",
       "143                                                              0.00   \n",
       "144                                                              0.00   \n",
       "145                                                              0.00   \n",
       "146                                                              0.00   \n",
       "147                                                              0.00   \n",
       "148  Wave-like ripples are the hallmark of our Ocea...         200.00   \n",
       "149  Stacked and structured, slim iron legs lend ed...           0.00   \n",
       "150  Antique brass-finished iron curves like a cres...           0.00   \n",
       "151  Item Number  : VPRD-03B-11   Collection  : Pos...           0.00   \n",
       "152  Reclaimed materials deliver depth to streamlin...           0.00   \n",
       "153                                                              0.00   \n",
       "154                                                              0.00   \n",
       "155                                                              0.00   \n",
       "156                                                              0.00   \n",
       "157                                                              0.00   \n",
       "158                                                              0.00   \n",
       "159                                                              0.00   \n",
       "160                                                              0.00   \n",
       "161                                                             23.99   \n",
       "162                                                             23.99   \n",
       "163                                                              0.00   \n",
       "164                                                              0.00   \n",
       "165                                                              0.00   \n",
       "166                                                              0.00   \n",
       "167                                                              0.00   \n",
       "168                                                              0.00   \n",
       "169                                                              0.00   \n",
       "170                                                              0.00   \n",
       "171                                                              0.00   \n",
       "\n",
       "    client_shipping  \n",
       "0              0.00  \n",
       "1              0.00  \n",
       "2              0.00  \n",
       "3              0.00  \n",
       "4              0.00  \n",
       "5              0.00  \n",
       "6              0.00  \n",
       "7              0.00  \n",
       "8              0.00  \n",
       "9              0.00  \n",
       "10             0.00  \n",
       "11             0.00  \n",
       "12             0.00  \n",
       "13             0.00  \n",
       "14             0.00  \n",
       "15             0.00  \n",
       "16             0.00  \n",
       "17             0.00  \n",
       "18             0.00  \n",
       "19             0.00  \n",
       "20             0.00  \n",
       "21             0.00  \n",
       "22             0.00  \n",
       "23             0.00  \n",
       "24             0.00  \n",
       "25             0.00  \n",
       "26             0.00  \n",
       "27             0.00  \n",
       "28             0.00  \n",
       "29             0.00  \n",
       "..              ...  \n",
       "142           24.00  \n",
       "143            0.00  \n",
       "144            0.00  \n",
       "145            0.00  \n",
       "146            0.00  \n",
       "147            0.00  \n",
       "148          200.00  \n",
       "149            0.00  \n",
       "150            0.00  \n",
       "151            0.00  \n",
       "152            0.00  \n",
       "153            0.00  \n",
       "154            0.00  \n",
       "155            0.00  \n",
       "156            0.00  \n",
       "157            0.00  \n",
       "158            0.00  \n",
       "159            0.00  \n",
       "160            0.00  \n",
       "161           23.99  \n",
       "162           23.99  \n",
       "163            0.00  \n",
       "164            0.00  \n",
       "165            0.00  \n",
       "166            0.00  \n",
       "167            0.00  \n",
       "168            0.00  \n",
       "169            0.00  \n",
       "170            0.00  \n",
       "171            0.00  \n",
       "\n",
       "[172 rows x 16 columns]"
      ]
     },
     "execution_count": 65,
     "metadata": {},
     "output_type": "execute_result"
    }
   ],
   "source": [
    "d[\n",
    "    'proposal_product'\n",
    "]"
   ]
  },
  {
   "cell_type": "markdown",
   "metadata": {},
   "source": [
    "## Saved_searches\n",
    "Only 34 entries - not useful for proposal data for now\n",
    "\n",
    "State is the call to get to where the last screen view can be called\n",
    "\n",
    "Would need to scrape detail from the screen at which \"state is saved\"."
   ]
  },
  {
   "cell_type": "code",
   "execution_count": 66,
   "metadata": {},
   "outputs": [
    {
     "data": {
      "text/html": [
       "<div>\n",
       "<style>\n",
       "    .dataframe thead tr:only-child th {\n",
       "        text-align: right;\n",
       "    }\n",
       "\n",
       "    .dataframe thead th {\n",
       "        text-align: left;\n",
       "    }\n",
       "\n",
       "    .dataframe tbody tr th {\n",
       "        vertical-align: top;\n",
       "    }\n",
       "</style>\n",
       "<table border=\"1\" class=\"dataframe\">\n",
       "  <thead>\n",
       "    <tr style=\"text-align: right;\">\n",
       "      <th></th>\n",
       "      <th>id</th>\n",
       "      <th>name</th>\n",
       "      <th>state</th>\n",
       "      <th>updated</th>\n",
       "      <th>user_id</th>\n",
       "    </tr>\n",
       "  </thead>\n",
       "  <tbody>\n",
       "    <tr>\n",
       "      <th>0</th>\n",
       "      <td>1</td>\n",
       "      <td>Print rugs</td>\n",
       "      <td>q=print&amp;nR[processedImages][=][0]=1</td>\n",
       "      <td>2017-06-01 18:56:45.490</td>\n",
       "      <td>151223</td>\n",
       "    </tr>\n",
       "    <tr>\n",
       "      <th>1</th>\n",
       "      <td>3</td>\n",
       "      <td>Leather case goods.</td>\n",
       "      <td>q=leather&amp;hFR[categories][0]=Furniture%20%3E%2...</td>\n",
       "      <td>2017-06-05 19:20:53.785</td>\n",
       "      <td>151223</td>\n",
       "    </tr>\n",
       "    <tr>\n",
       "      <th>2</th>\n",
       "      <td>5</td>\n",
       "      <td>Favorite Vendors</td>\n",
       "      <td>q=&amp;fE[site][0]=brentanofabrics.com&amp;fE[site][1]...</td>\n",
       "      <td>2017-06-06 16:03:55.859</td>\n",
       "      <td>350004</td>\n",
       "    </tr>\n",
       "    <tr>\n",
       "      <th>3</th>\n",
       "      <td>6</td>\n",
       "      <td>Sideboards from CFC, Noir, &amp; Palecheck</td>\n",
       "      <td>q=&amp;dFR[site][0]=customfurniturela.com&amp;dFR[site...</td>\n",
       "      <td>2017-06-06 18:22:02.818</td>\n",
       "      <td>151234</td>\n",
       "    </tr>\n",
       "    <tr>\n",
       "      <th>4</th>\n",
       "      <td>7</td>\n",
       "      <td>Lighting without Hammerton, Ollix</td>\n",
       "      <td>q=&amp;fE[site][0]=olliix.com&amp;fE[site][1]=hammerto...</td>\n",
       "      <td>2017-06-06 18:31:22.277</td>\n",
       "      <td>151234</td>\n",
       "    </tr>\n",
       "  </tbody>\n",
       "</table>\n",
       "</div>"
      ],
      "text/plain": [
       "   id                                    name  \\\n",
       "0   1                              Print rugs   \n",
       "1   3                     Leather case goods.   \n",
       "2   5                        Favorite Vendors   \n",
       "3   6  Sideboards from CFC, Noir, & Palecheck   \n",
       "4   7       Lighting without Hammerton, Ollix   \n",
       "\n",
       "                                               state                 updated  \\\n",
       "0                q=print&nR[processedImages][=][0]=1 2017-06-01 18:56:45.490   \n",
       "1  q=leather&hFR[categories][0]=Furniture%20%3E%2... 2017-06-05 19:20:53.785   \n",
       "2  q=&fE[site][0]=brentanofabrics.com&fE[site][1]... 2017-06-06 16:03:55.859   \n",
       "3  q=&dFR[site][0]=customfurniturela.com&dFR[site... 2017-06-06 18:22:02.818   \n",
       "4  q=&fE[site][0]=olliix.com&fE[site][1]=hammerto... 2017-06-06 18:31:22.277   \n",
       "\n",
       "   user_id  \n",
       "0   151223  \n",
       "1   151223  \n",
       "2   350004  \n",
       "3   151234  \n",
       "4   151234  "
      ]
     },
     "execution_count": 66,
     "metadata": {},
     "output_type": "execute_result"
    }
   ],
   "source": [
    "d['saved_searches'].head()"
   ]
  },
  {
   "cell_type": "code",
   "execution_count": 67,
   "metadata": {},
   "outputs": [
    {
     "name": "stdout",
     "output_type": "stream",
     "text": [
      "<class 'pandas.core.frame.DataFrame'>\n",
      "RangeIndex: 34 entries, 0 to 33\n",
      "Data columns (total 5 columns):\n",
      "id         34 non-null int64\n",
      "name       34 non-null object\n",
      "state      34 non-null object\n",
      "updated    34 non-null datetime64[ns]\n",
      "user_id    34 non-null int64\n",
      "dtypes: datetime64[ns](1), int64(2), object(2)\n",
      "memory usage: 1.4+ KB\n"
     ]
    }
   ],
   "source": [
    "d['saved_searches'].info()"
   ]
  },
  {
   "cell_type": "code",
   "execution_count": 68,
   "metadata": {},
   "outputs": [
    {
     "name": "stdout",
     "output_type": "stream",
     "text": [
      "id 34\n",
      "name 34\n",
      "state 32\n",
      "updated 34\n",
      "user_id 27\n"
     ]
    }
   ],
   "source": [
    "for i in d['saved_searches'].columns:\n",
    "    print i, len(d['saved_searches'][i].unique())"
   ]
  },
  {
   "cell_type": "markdown",
   "metadata": {},
   "source": [
    "# Web Scraping test"
   ]
  },
  {
   "cell_type": "code",
   "execution_count": null,
   "metadata": {
    "collapsed": true
   },
   "outputs": [],
   "source": []
  },
  {
   "cell_type": "markdown",
   "metadata": {},
   "source": [
    "# Get grouping information"
   ]
  },
  {
   "cell_type": "code",
   "execution_count": 69,
   "metadata": {},
   "outputs": [
    {
     "name": "stdout",
     "output_type": "stream",
     "text": [
      "<class 'pandas.core.frame.DataFrame'>\n",
      "RangeIndex: 624 entries, 0 to 623\n",
      "Data columns (total 5 columns):\n",
      "id         624 non-null int64\n",
      "city       624 non-null object\n",
      "name       624 non-null object\n",
      "state      624 non-null object\n",
      "updated    623 non-null datetime64[ns]\n",
      "dtypes: datetime64[ns](1), int64(1), object(3)\n",
      "memory usage: 24.4+ KB\n"
     ]
    }
   ],
   "source": [
    "d['showrooms'].info()"
   ]
  },
  {
   "cell_type": "code",
   "execution_count": 70,
   "metadata": {},
   "outputs": [
    {
     "name": "stdout",
     "output_type": "stream",
     "text": [
      "<class 'pandas.core.frame.DataFrame'>\n",
      "RangeIndex: 1507 entries, 0 to 1506\n",
      "Data columns (total 2 columns):\n",
      "showroom_id    1507 non-null int64\n",
      "vendor_id      1507 non-null int64\n",
      "dtypes: int64(2)\n",
      "memory usage: 23.6 KB\n"
     ]
    }
   ],
   "source": [
    "d['showrooms_vendors'].info()"
   ]
  },
  {
   "cell_type": "code",
   "execution_count": 71,
   "metadata": {},
   "outputs": [
    {
     "name": "stdout",
     "output_type": "stream",
     "text": [
      "showroom_id 619\n",
      "vendor_id 287\n"
     ]
    }
   ],
   "source": [
    "for i in d['showrooms_vendors'].columns:\n",
    "    print i, len(d['showrooms_vendors'][i].unique())"
   ]
  },
  {
   "cell_type": "code",
   "execution_count": 72,
   "metadata": {},
   "outputs": [
    {
     "name": "stdout",
     "output_type": "stream",
     "text": [
      "<class 'pandas.core.frame.DataFrame'>\n",
      "RangeIndex: 481 entries, 0 to 480\n",
      "Data columns (total 11 columns):\n",
      "id               481 non-null int64\n",
      "name             481 non-null object\n",
      "url              481 non-null object\n",
      "logourl          414 non-null object\n",
      "bio              480 non-null object\n",
      "price_level      263 non-null object\n",
      "updated          481 non-null datetime64[ns]\n",
      "hidden           480 non-null object\n",
      "verified_only    481 non-null bool\n",
      "email            126 non-null object\n",
      "return_policy    113 non-null object\n",
      "dtypes: bool(1), datetime64[ns](1), int64(1), object(8)\n",
      "memory usage: 38.1+ KB\n"
     ]
    }
   ],
   "source": [
    "d['vendors'].info()"
   ]
  },
  {
   "cell_type": "code",
   "execution_count": 73,
   "metadata": {},
   "outputs": [
    {
     "name": "stdout",
     "output_type": "stream",
     "text": [
      "id 481\n",
      "name 477\n",
      "url 481\n",
      "logourl 415\n",
      "bio 374\n",
      "price_level 5\n",
      "updated 475\n",
      "hidden 3\n",
      "verified_only 2\n",
      "email 29\n",
      "return_policy 36\n"
     ]
    }
   ],
   "source": [
    "for i in d['vendors'].columns:\n",
    "    print i, len(d['vendors'][i].unique())"
   ]
  },
  {
   "cell_type": "markdown",
   "metadata": {
    "collapsed": true
   },
   "source": [
    "# Upload into mongodb"
   ]
  },
  {
   "cell_type": "code",
   "execution_count": 74,
   "metadata": {
    "collapsed": true
   },
   "outputs": [],
   "source": [
    "# pymongo.version\n",
    "import pprint\n",
    "import pymongo\n",
    "import pyspark\n",
    "import pandas as pd\n",
    "import numpy as np\n",
    "import json\n"
   ]
  },
  {
   "cell_type": "code",
   "execution_count": 75,
   "metadata": {
    "collapsed": true
   },
   "outputs": [],
   "source": [
    "cl = pymongo.MongoClient()\n",
    "\n",
    "coll = cl.desinc_collection.products_db\n",
    "coll2 = cl.desinc_db.products_coll"
   ]
  },
  {
   "cell_type": "code",
   "execution_count": null,
   "metadata": {
    "collapsed": true
   },
   "outputs": [],
   "source": [
    "pprint.pprint(coll.find_one())"
   ]
  },
  {
   "cell_type": "code",
   "execution_count": null,
   "metadata": {
    "collapsed": true
   },
   "outputs": [],
   "source": [
    "# pprint.pprint(coll.find_one({'objectID':}))"
   ]
  },
  {
   "cell_type": "code",
   "execution_count": null,
   "metadata": {
    "collapsed": true
   },
   "outputs": [],
   "source": [
    "import re\n",
    "import bson\n",
    "import collections  # From Python standard library.\n",
    "from bson.codec_options import CodecOptions"
   ]
  },
  {
   "cell_type": "code",
   "execution_count": null,
   "metadata": {
    "collapsed": true
   },
   "outputs": [],
   "source": []
  },
  {
   "cell_type": "code",
   "execution_count": null,
   "metadata": {
    "collapsed": true
   },
   "outputs": [],
   "source": []
  },
  {
   "cell_type": "code",
   "execution_count": null,
   "metadata": {
    "collapsed": true
   },
   "outputs": [],
   "source": [
    "# regex = re.compile(r'product|3|-810119018')\n",
    "cursor = coll.find()"
   ]
  },
  {
   "cell_type": "code",
   "execution_count": null,
   "metadata": {
    "collapsed": true
   },
   "outputs": [],
   "source": [
    "cl.drop_database(cl.desinc_db)"
   ]
  },
  {
   "cell_type": "code",
   "execution_count": null,
   "metadata": {
    "collapsed": true
   },
   "outputs": [],
   "source": [
    "for doc in cursor:\n",
    "    for key, val in doc.iteritems():\n",
    "        if key == \"_id\":\n",
    "            continue\n",
    "        else:\n",
    "#             row = bson.raw_bson.RawBSONDocument(val)\n",
    "        \n",
    "#             print val\n",
    "            dic = {}\n",
    "            for i in val:\n",
    "                \n",
    "#             row = bson.raw_bson.(val)\n",
    "#             print row\n",
    "#         bson.iteritems(row):\n",
    "                coll2.insert_one(i)\n",
    "\n",
    "\n",
    "\n",
    "#         options = CodecOptions(document_class=collections.OrderedDict)\n",
    "#         decoded_doc = bson.BSON.decode(row, codec_options=options)\n",
    "#         print decoded_doc"
   ]
  },
  {
   "cell_type": "code",
   "execution_count": null,
   "metadata": {
    "collapsed": true
   },
   "outputs": [],
   "source": []
  },
  {
   "cell_type": "code",
   "execution_count": 76,
   "metadata": {
    "collapsed": true
   },
   "outputs": [],
   "source": [
    "# cl.drop_database(cl.desinc_collection2)\n",
    "cursor = coll2.find()\n",
    "df = pd.DataFrame(list(cursor))"
   ]
  },
  {
   "cell_type": "code",
   "execution_count": 85,
   "metadata": {
    "collapsed": true
   },
   "outputs": [],
   "source": [
    "from designerinc.Data import pull_df_from_mongo\n",
    "# with open(\"designerinc/Data\"):\n",
    "#     import df\n",
    "# from 'designerinc/Data/' import df.py\n",
    "# # from Data import df\n",
    "# df = df.run()"
   ]
  },
  {
   "cell_type": "code",
   "execution_count": 86,
   "metadata": {
    "collapsed": true
   },
   "outputs": [],
   "source": [
    "df = pull_df_from_mongo.main()"
   ]
  },
  {
   "cell_type": "code",
   "execution_count": 98,
   "metadata": {
    "collapsed": true
   },
   "outputs": [],
   "source": [
    "randos = df.sample(n=3)"
   ]
  },
  {
   "cell_type": "code",
   "execution_count": 99,
   "metadata": {},
   "outputs": [
    {
     "data": {
      "text/html": [
       "<div>\n",
       "<style>\n",
       "    .dataframe thead tr:only-child th {\n",
       "        text-align: right;\n",
       "    }\n",
       "\n",
       "    .dataframe thead th {\n",
       "        text-align: left;\n",
       "    }\n",
       "\n",
       "    .dataframe tbody tr th {\n",
       "        vertical-align: top;\n",
       "    }\n",
       "</style>\n",
       "<table border=\"1\" class=\"dataframe\">\n",
       "  <thead>\n",
       "    <tr style=\"text-align: right;\">\n",
       "      <th></th>\n",
       "      <th>_highlightResult</th>\n",
       "      <th>_id</th>\n",
       "      <th>_styles</th>\n",
       "      <th>brand</th>\n",
       "      <th>cleanSpecs</th>\n",
       "      <th>colors</th>\n",
       "      <th>diffbotUri</th>\n",
       "      <th>dimensions</th>\n",
       "      <th>directCategory</th>\n",
       "      <th>hidden</th>\n",
       "      <th>...</th>\n",
       "      <th>specs</th>\n",
       "      <th>styles</th>\n",
       "      <th>text</th>\n",
       "      <th>title</th>\n",
       "      <th>tradePrice</th>\n",
       "      <th>type</th>\n",
       "      <th>upc</th>\n",
       "      <th>url</th>\n",
       "      <th>variations</th>\n",
       "      <th>visibleVerified</th>\n",
       "    </tr>\n",
       "  </thead>\n",
       "  <tbody>\n",
       "    <tr>\n",
       "      <th>130680</th>\n",
       "      <td>{u'sku': {u'matchLevel': u'none', u'value': u'...</td>\n",
       "      <td>5a6021d8f636802e547fb315</td>\n",
       "      <td>NaN</td>\n",
       "      <td>NaN</td>\n",
       "      <td>NaN</td>\n",
       "      <td>NaN</td>\n",
       "      <td>c95f5801bffea7f272adfd4c94bc9c87</td>\n",
       "      <td>{u'width': u'24', u'depth': u'22', u'height': ...</td>\n",
       "      <td>Furniture &gt; Seating &gt; Lounge and Club Chairs</td>\n",
       "      <td>0.0</td>\n",
       "      <td>...</td>\n",
       "      <td>{u'Finish': u'PF307 / Swedish Blue', u'Dimensi...</td>\n",
       "      <td>[Traditional, Transitional]</td>\n",
       "      <td>Chesapeake Chair - Arm</td>\n",
       "      <td>Chesapeake Chair - Arm</td>\n",
       "      <td>NaN</td>\n",
       "      <td>NaN</td>\n",
       "      <td>NaN</td>\n",
       "      <td>http://www.davidiatesta.com/product-details/ch...</td>\n",
       "      <td>NaN</td>\n",
       "      <td>0.0</td>\n",
       "    </tr>\n",
       "    <tr>\n",
       "      <th>95656</th>\n",
       "      <td>{u'sku': {u'matchLevel': u'none', u'value': u'...</td>\n",
       "      <td>5a6021caf636802e547f2a45</td>\n",
       "      <td>NaN</td>\n",
       "      <td>NaN</td>\n",
       "      <td>NaN</td>\n",
       "      <td>NaN</td>\n",
       "      <td>d100c17cb6d480eaeacc38ffac49bbcd</td>\n",
       "      <td>NaN</td>\n",
       "      <td>Furniture &gt; Tables &gt; Desks &gt; Executive Desk</td>\n",
       "      <td>0.0</td>\n",
       "      <td>...</td>\n",
       "      <td>{}</td>\n",
       "      <td>[Traditional]</td>\n",
       "      <td>AVAILABLE IN BLACK LACQUER FINISH WITH GILDED ...</td>\n",
       "      <td>ITALIAN HOOF-FOOTED DESK WITH TOOLED LEATHER TOP</td>\n",
       "      <td>NaN</td>\n",
       "      <td>NaN</td>\n",
       "      <td>NaN</td>\n",
       "      <td>http://www.cachecollection.com/details.cfm?ID=...</td>\n",
       "      <td>NaN</td>\n",
       "      <td>1.0</td>\n",
       "    </tr>\n",
       "    <tr>\n",
       "      <th>8022</th>\n",
       "      <td>{u'hierarchicalCategories': {u'lvl0': [{u'matc...</td>\n",
       "      <td>5a6021a9f636802e547dd3f3</td>\n",
       "      <td>Transitional,Arts and Crafts,Industrial,Mid Ce...</td>\n",
       "      <td>NaN</td>\n",
       "      <td>{}</td>\n",
       "      <td>NaN</td>\n",
       "      <td>product|3|1173576564</td>\n",
       "      <td>NaN</td>\n",
       "      <td>Wallcoverings &gt; Wallpaper</td>\n",
       "      <td>0.0</td>\n",
       "      <td>...</td>\n",
       "      <td>{u'minimum_order': u'15 Yds', u'maintenance': ...</td>\n",
       "      <td>[Arts and Crafts, Asian, Coastal, Contemporary...</td>\n",
       "      <td>Vinyl Max's Metallic Raffia - Brown Sugar</td>\n",
       "      <td>Vinyl Max's Metallic Raffia - Brown Sugar</td>\n",
       "      <td>NaN</td>\n",
       "      <td>product</td>\n",
       "      <td>NaN</td>\n",
       "      <td>http://www.phillipjeffries.com/products/7726--...</td>\n",
       "      <td>NaN</td>\n",
       "      <td>0.0</td>\n",
       "    </tr>\n",
       "  </tbody>\n",
       "</table>\n",
       "<p>3 rows × 51 columns</p>\n",
       "</div>"
      ],
      "text/plain": [
       "                                         _highlightResult  \\\n",
       "130680  {u'sku': {u'matchLevel': u'none', u'value': u'...   \n",
       "95656   {u'sku': {u'matchLevel': u'none', u'value': u'...   \n",
       "8022    {u'hierarchicalCategories': {u'lvl0': [{u'matc...   \n",
       "\n",
       "                             _id  \\\n",
       "130680  5a6021d8f636802e547fb315   \n",
       "95656   5a6021caf636802e547f2a45   \n",
       "8022    5a6021a9f636802e547dd3f3   \n",
       "\n",
       "                                                  _styles brand cleanSpecs  \\\n",
       "130680                                                NaN   NaN        NaN   \n",
       "95656                                                 NaN   NaN        NaN   \n",
       "8022    Transitional,Arts and Crafts,Industrial,Mid Ce...   NaN         {}   \n",
       "\n",
       "        colors                        diffbotUri  \\\n",
       "130680     NaN  c95f5801bffea7f272adfd4c94bc9c87   \n",
       "95656      NaN  d100c17cb6d480eaeacc38ffac49bbcd   \n",
       "8022       NaN              product|3|1173576564   \n",
       "\n",
       "                                               dimensions  \\\n",
       "130680  {u'width': u'24', u'depth': u'22', u'height': ...   \n",
       "95656                                                 NaN   \n",
       "8022                                                  NaN   \n",
       "\n",
       "                                      directCategory  hidden       ...         \\\n",
       "130680  Furniture > Seating > Lounge and Club Chairs     0.0       ...          \n",
       "95656    Furniture > Tables > Desks > Executive Desk     0.0       ...          \n",
       "8022                       Wallcoverings > Wallpaper     0.0       ...          \n",
       "\n",
       "                                                    specs  \\\n",
       "130680  {u'Finish': u'PF307 / Swedish Blue', u'Dimensi...   \n",
       "95656                                                  {}   \n",
       "8022    {u'minimum_order': u'15 Yds', u'maintenance': ...   \n",
       "\n",
       "                                                   styles  \\\n",
       "130680                        [Traditional, Transitional]   \n",
       "95656                                       [Traditional]   \n",
       "8022    [Arts and Crafts, Asian, Coastal, Contemporary...   \n",
       "\n",
       "                                                     text  \\\n",
       "130680                             Chesapeake Chair - Arm   \n",
       "95656   AVAILABLE IN BLACK LACQUER FINISH WITH GILDED ...   \n",
       "8022            Vinyl Max's Metallic Raffia - Brown Sugar   \n",
       "\n",
       "                                                   title tradePrice     type  \\\n",
       "130680                            Chesapeake Chair - Arm        NaN      NaN   \n",
       "95656   ITALIAN HOOF-FOOTED DESK WITH TOOLED LEATHER TOP        NaN      NaN   \n",
       "8022           Vinyl Max's Metallic Raffia - Brown Sugar        NaN  product   \n",
       "\n",
       "        upc                                                url variations  \\\n",
       "130680  NaN  http://www.davidiatesta.com/product-details/ch...        NaN   \n",
       "95656   NaN  http://www.cachecollection.com/details.cfm?ID=...        NaN   \n",
       "8022    NaN  http://www.phillipjeffries.com/products/7726--...        NaN   \n",
       "\n",
       "        visibleVerified  \n",
       "130680              0.0  \n",
       "95656               1.0  \n",
       "8022                0.0  \n",
       "\n",
       "[3 rows x 51 columns]"
      ]
     },
     "execution_count": 99,
     "metadata": {},
     "output_type": "execute_result"
    }
   ],
   "source": [
    "randos"
   ]
  },
  {
   "cell_type": "code",
   "execution_count": null,
   "metadata": {
    "collapsed": true
   },
   "outputs": [],
   "source": []
  },
  {
   "cell_type": "code",
   "execution_count": null,
   "metadata": {
    "collapsed": true
   },
   "outputs": [],
   "source": []
  },
  {
   "cell_type": "code",
   "execution_count": null,
   "metadata": {
    "collapsed": true
   },
   "outputs": [],
   "source": []
  },
  {
   "cell_type": "code",
   "execution_count": 87,
   "metadata": {
    "scrolled": true
   },
   "outputs": [
    {
     "name": "stdout",
     "output_type": "stream",
     "text": [
      "<class 'pandas.core.frame.DataFrame'>\n",
      "RangeIndex: 186626 entries, 0 to 186625\n",
      "Data columns (total 51 columns):\n",
      "_highlightResult           186626 non-null object\n",
      "_id                        186626 non-null object\n",
      "_styles                    42266 non-null object\n",
      "brand                      21554 non-null object\n",
      "cleanSpecs                 14853 non-null object\n",
      "colors                     0 non-null float64\n",
      "diffbotUri                 186626 non-null object\n",
      "dimensions                 85678 non-null object\n",
      "directCategory             178158 non-null object\n",
      "hidden                     105523 non-null float64\n",
      "hierarchicalCategories     177920 non-null object\n",
      "images                     181254 non-null object\n",
      "in_page_variations         7808 non-null object\n",
      "isbn                       0 non-null float64\n",
      "mpn                        2601 non-null object\n",
      "normalizedDimensions       186254 non-null object\n",
      "objectID                   186626 non-null object\n",
      "offerPriceDetails          39833 non-null object\n",
      "otherImages                1144 non-null object\n",
      "overriddenStyles           105580 non-null float64\n",
      "pageUrl                    43663 non-null object\n",
      "predominantColorsResult    168993 non-null object\n",
      "prefixCode                 0 non-null float64\n",
      "priceLevel                 128823 non-null object\n",
      "priceRange                 0 non-null float64\n",
      "primaryImage               206 non-null object\n",
      "private                    92535 non-null float64\n",
      "processedCategory          186626 non-null object\n",
      "processedImages            186626 non-null object\n",
      "productId                  34402 non-null object\n",
      "productOrigin              0 non-null float64\n",
      "projects                   1 non-null object\n",
      "regularPrice               3376 non-null object\n",
      "regularPriceDetails        3376 non-null object\n",
      "resolvedPageUrl            1485 non-null object\n",
      "saveAmount                 9 non-null object\n",
      "saveAmountDetails          9 non-null object\n",
      "shippingAmount             0 non-null float64\n",
      "showrooms                  130123 non-null object\n",
      "site                       184116 non-null object\n",
      "sku                        163771 non-null object\n",
      "specs                      186255 non-null object\n",
      "styles                     141966 non-null object\n",
      "text                       165945 non-null object\n",
      "title                      186393 non-null object\n",
      "tradePrice                 107606 non-null float64\n",
      "type                       43663 non-null object\n",
      "upc                        8260 non-null object\n",
      "url                        176784 non-null object\n",
      "variations                 6332 non-null object\n",
      "visibleVerified            87800 non-null float64\n",
      "dtypes: float64(11), object(40)\n",
      "memory usage: 72.6+ MB\n"
     ]
    }
   ],
   "source": [
    "df.info()"
   ]
  },
  {
   "cell_type": "code",
   "execution_count": 78,
   "metadata": {
    "scrolled": false
   },
   "outputs": [
    {
     "data": {
      "text/html": [
       "<div>\n",
       "<style>\n",
       "    .dataframe thead tr:only-child th {\n",
       "        text-align: right;\n",
       "    }\n",
       "\n",
       "    .dataframe thead th {\n",
       "        text-align: left;\n",
       "    }\n",
       "\n",
       "    .dataframe tbody tr th {\n",
       "        vertical-align: top;\n",
       "    }\n",
       "</style>\n",
       "<table border=\"1\" class=\"dataframe\">\n",
       "  <thead>\n",
       "    <tr style=\"text-align: right;\">\n",
       "      <th></th>\n",
       "      <th>_highlightResult</th>\n",
       "      <th>_id</th>\n",
       "      <th>_styles</th>\n",
       "      <th>brand</th>\n",
       "      <th>cleanSpecs</th>\n",
       "      <th>colors</th>\n",
       "      <th>diffbotUri</th>\n",
       "      <th>dimensions</th>\n",
       "      <th>directCategory</th>\n",
       "      <th>hidden</th>\n",
       "      <th>...</th>\n",
       "      <th>specs</th>\n",
       "      <th>styles</th>\n",
       "      <th>text</th>\n",
       "      <th>title</th>\n",
       "      <th>tradePrice</th>\n",
       "      <th>type</th>\n",
       "      <th>upc</th>\n",
       "      <th>url</th>\n",
       "      <th>variations</th>\n",
       "      <th>visibleVerified</th>\n",
       "    </tr>\n",
       "  </thead>\n",
       "  <tbody>\n",
       "    <tr>\n",
       "      <th>0</th>\n",
       "      <td>{u'sku': {u'matchLevel': u'none', u'value': u'...</td>\n",
       "      <td>5a6021a7f636802e547db49d</td>\n",
       "      <td>NaN</td>\n",
       "      <td>NaN</td>\n",
       "      <td>NaN</td>\n",
       "      <td>NaN</td>\n",
       "      <td>product|3|-810119018</td>\n",
       "      <td>NaN</td>\n",
       "      <td>Furniture &gt; Case Goods &gt; Book Cases and Etageres</td>\n",
       "      <td>NaN</td>\n",
       "      <td>...</td>\n",
       "      <td>{}</td>\n",
       "      <td>[Asian, Coastal , Contemporary, Country , Indu...</td>\n",
       "      <td>Details\\nRustic Pine 3 Tiered Bookcase\\nDimens...</td>\n",
       "      <td>Accent Furniture</td>\n",
       "      <td>450.0</td>\n",
       "      <td>product</td>\n",
       "      <td>NaN</td>\n",
       "      <td>http://redlabelhome.com/index.php/accent-furni...</td>\n",
       "      <td>NaN</td>\n",
       "      <td>NaN</td>\n",
       "    </tr>\n",
       "    <tr>\n",
       "      <th>1</th>\n",
       "      <td>{u'sku': {u'matchLevel': u'none', u'value': u'...</td>\n",
       "      <td>5a6021a7f636802e547db49e</td>\n",
       "      <td>NaN</td>\n",
       "      <td>NaN</td>\n",
       "      <td>NaN</td>\n",
       "      <td>NaN</td>\n",
       "      <td>product|3|-810118923</td>\n",
       "      <td>NaN</td>\n",
       "      <td>NaN</td>\n",
       "      <td>NaN</td>\n",
       "      <td>...</td>\n",
       "      <td>{}</td>\n",
       "      <td>[Asian, Coastal , Contemporary, Country , Indu...</td>\n",
       "      <td>3 Tiered Display Stand (Wood + Iron)\\nDimensio...</td>\n",
       "      <td>Accent Furniture</td>\n",
       "      <td>250.0</td>\n",
       "      <td>product</td>\n",
       "      <td>NaN</td>\n",
       "      <td>http://redlabelhome.com/index.php/accent-furni...</td>\n",
       "      <td>NaN</td>\n",
       "      <td>NaN</td>\n",
       "    </tr>\n",
       "    <tr>\n",
       "      <th>2</th>\n",
       "      <td>{u'sku': {u'matchLevel': u'none', u'value': u'...</td>\n",
       "      <td>5a6021a7f636802e547db49f</td>\n",
       "      <td>NaN</td>\n",
       "      <td>NaN</td>\n",
       "      <td>{}</td>\n",
       "      <td>NaN</td>\n",
       "      <td>product|3|-810118769</td>\n",
       "      <td>NaN</td>\n",
       "      <td>Furniture &gt; Tables &gt; Side Table</td>\n",
       "      <td>NaN</td>\n",
       "      <td>...</td>\n",
       "      <td>{u'botton_side_table-short-16_h_x_20_d': u'Dim...</td>\n",
       "      <td>[Asian, Coastal , Contemporary, Country , Indu...</td>\n",
       "      <td>Details\\nBotton Side Table - Short - 16\" H x 2...</td>\n",
       "      <td>Accent Furniture</td>\n",
       "      <td>149.0</td>\n",
       "      <td>product</td>\n",
       "      <td>NaN</td>\n",
       "      <td>http://redlabelhome.com/index.php/accent-furni...</td>\n",
       "      <td>NaN</td>\n",
       "      <td>NaN</td>\n",
       "    </tr>\n",
       "    <tr>\n",
       "      <th>3</th>\n",
       "      <td>{u'sku': {u'matchLevel': u'none', u'value': u'...</td>\n",
       "      <td>5a6021a7f636802e547db4a0</td>\n",
       "      <td>NaN</td>\n",
       "      <td>NaN</td>\n",
       "      <td>NaN</td>\n",
       "      <td>NaN</td>\n",
       "      <td>product|3|-810119019</td>\n",
       "      <td>NaN</td>\n",
       "      <td>NaN</td>\n",
       "      <td>NaN</td>\n",
       "      <td>...</td>\n",
       "      <td>NaN</td>\n",
       "      <td>NaN</td>\n",
       "      <td>Details\\nRustic Pine 5 Shelves Bookcase\\nDimen...</td>\n",
       "      <td>Accent Furniture</td>\n",
       "      <td>499.0</td>\n",
       "      <td>product</td>\n",
       "      <td>NaN</td>\n",
       "      <td>http://redlabelhome.com/index.php/accent-furni...</td>\n",
       "      <td>NaN</td>\n",
       "      <td>NaN</td>\n",
       "    </tr>\n",
       "    <tr>\n",
       "      <th>4</th>\n",
       "      <td>{u'sku': {u'matchLevel': u'none', u'value': u'...</td>\n",
       "      <td>5a6021a7f636802e547db4a1</td>\n",
       "      <td>NaN</td>\n",
       "      <td>NaN</td>\n",
       "      <td>NaN</td>\n",
       "      <td>NaN</td>\n",
       "      <td>product|3|-810119022</td>\n",
       "      <td>NaN</td>\n",
       "      <td>Furniture &gt; Tables &gt; Console</td>\n",
       "      <td>NaN</td>\n",
       "      <td>...</td>\n",
       "      <td>{}</td>\n",
       "      <td>[Asian, Coastal , Contemporary, Country , Indu...</td>\n",
       "      <td>Details\\nRustic Pine Console Table\\nDimensions...</td>\n",
       "      <td>Accent Furniture</td>\n",
       "      <td>375.0</td>\n",
       "      <td>product</td>\n",
       "      <td>NaN</td>\n",
       "      <td>http://redlabelhome.com/index.php/accent-furni...</td>\n",
       "      <td>NaN</td>\n",
       "      <td>NaN</td>\n",
       "    </tr>\n",
       "  </tbody>\n",
       "</table>\n",
       "<p>5 rows × 51 columns</p>\n",
       "</div>"
      ],
      "text/plain": [
       "                                    _highlightResult  \\\n",
       "0  {u'sku': {u'matchLevel': u'none', u'value': u'...   \n",
       "1  {u'sku': {u'matchLevel': u'none', u'value': u'...   \n",
       "2  {u'sku': {u'matchLevel': u'none', u'value': u'...   \n",
       "3  {u'sku': {u'matchLevel': u'none', u'value': u'...   \n",
       "4  {u'sku': {u'matchLevel': u'none', u'value': u'...   \n",
       "\n",
       "                        _id _styles brand cleanSpecs  colors  \\\n",
       "0  5a6021a7f636802e547db49d     NaN   NaN        NaN     NaN   \n",
       "1  5a6021a7f636802e547db49e     NaN   NaN        NaN     NaN   \n",
       "2  5a6021a7f636802e547db49f     NaN   NaN         {}     NaN   \n",
       "3  5a6021a7f636802e547db4a0     NaN   NaN        NaN     NaN   \n",
       "4  5a6021a7f636802e547db4a1     NaN   NaN        NaN     NaN   \n",
       "\n",
       "             diffbotUri dimensions  \\\n",
       "0  product|3|-810119018        NaN   \n",
       "1  product|3|-810118923        NaN   \n",
       "2  product|3|-810118769        NaN   \n",
       "3  product|3|-810119019        NaN   \n",
       "4  product|3|-810119022        NaN   \n",
       "\n",
       "                                     directCategory  hidden       ...         \\\n",
       "0  Furniture > Case Goods > Book Cases and Etageres     NaN       ...          \n",
       "1                                               NaN     NaN       ...          \n",
       "2                   Furniture > Tables > Side Table     NaN       ...          \n",
       "3                                               NaN     NaN       ...          \n",
       "4                      Furniture > Tables > Console     NaN       ...          \n",
       "\n",
       "                                               specs  \\\n",
       "0                                                 {}   \n",
       "1                                                 {}   \n",
       "2  {u'botton_side_table-short-16_h_x_20_d': u'Dim...   \n",
       "3                                                NaN   \n",
       "4                                                 {}   \n",
       "\n",
       "                                              styles  \\\n",
       "0  [Asian, Coastal , Contemporary, Country , Indu...   \n",
       "1  [Asian, Coastal , Contemporary, Country , Indu...   \n",
       "2  [Asian, Coastal , Contemporary, Country , Indu...   \n",
       "3                                                NaN   \n",
       "4  [Asian, Coastal , Contemporary, Country , Indu...   \n",
       "\n",
       "                                                text             title  \\\n",
       "0  Details\\nRustic Pine 3 Tiered Bookcase\\nDimens...  Accent Furniture   \n",
       "1  3 Tiered Display Stand (Wood + Iron)\\nDimensio...  Accent Furniture   \n",
       "2  Details\\nBotton Side Table - Short - 16\" H x 2...  Accent Furniture   \n",
       "3  Details\\nRustic Pine 5 Shelves Bookcase\\nDimen...  Accent Furniture   \n",
       "4  Details\\nRustic Pine Console Table\\nDimensions...  Accent Furniture   \n",
       "\n",
       "  tradePrice     type  upc                                                url  \\\n",
       "0      450.0  product  NaN  http://redlabelhome.com/index.php/accent-furni...   \n",
       "1      250.0  product  NaN  http://redlabelhome.com/index.php/accent-furni...   \n",
       "2      149.0  product  NaN  http://redlabelhome.com/index.php/accent-furni...   \n",
       "3      499.0  product  NaN  http://redlabelhome.com/index.php/accent-furni...   \n",
       "4      375.0  product  NaN  http://redlabelhome.com/index.php/accent-furni...   \n",
       "\n",
       "  variations  visibleVerified  \n",
       "0        NaN              NaN  \n",
       "1        NaN              NaN  \n",
       "2        NaN              NaN  \n",
       "3        NaN              NaN  \n",
       "4        NaN              NaN  \n",
       "\n",
       "[5 rows x 51 columns]"
      ]
     },
     "execution_count": 78,
     "metadata": {},
     "output_type": "execute_result"
    }
   ],
   "source": [
    "df.head()"
   ]
  },
  {
   "cell_type": "markdown",
   "metadata": {},
   "source": [
    "# Drop Columns"
   ]
  },
  {
   "cell_type": "code",
   "execution_count": 79,
   "metadata": {
    "collapsed": true
   },
   "outputs": [],
   "source": [
    "drop_cols = ['_id','cleanSpecs','colors',\"isbn\",\"prefixCode\",\"priceRange\",\"primaryImage\",\"productOrigin\",\"projects\",\"otherImages\",\"saveAmount\",\"saveAmountDetails\"]\n",
    "df.drop(drop_cols,axis=1,inplace=True)"
   ]
  },
  {
   "cell_type": "markdown",
   "metadata": {},
   "source": [
    "# Extract From Columns"
   ]
  },
  {
   "cell_type": "markdown",
   "metadata": {},
   "source": [
    "_highlightResult text, site and tile"
   ]
  },
  {
   "cell_type": "code",
   "execution_count": 80,
   "metadata": {
    "collapsed": true
   },
   "outputs": [],
   "source": [
    "lst = list(df['_highlightResult'])\n",
    "grab_cols = [\"text\",\"site\",\"title\"]\n",
    "\n",
    "\n",
    "\n",
    "for col in grab_cols:\n",
    "    \n",
    "    df[\"HR{}\".format(col)] = 0\n",
    "    load1 = []\n",
    "    for i in lst:\n",
    "        try:\n",
    "            load1.append(i[col])\n",
    "        except:\n",
    "            load1.append(np.NaN)\n",
    "    df[\"HR{}\".format(col)] = load1"
   ]
  },
  {
   "cell_type": "markdown",
   "metadata": {},
   "source": [
    "### extract from HRtext"
   ]
  },
  {
   "cell_type": "code",
   "execution_count": 81,
   "metadata": {
    "collapsed": true
   },
   "outputs": [],
   "source": [
    "lst = list(df['HRtext'])\n",
    "grab_cols = ['value']\n",
    "\n",
    "for col in grab_cols:\n",
    "    load1 = []\n",
    "    for i in lst:\n",
    "        try:\n",
    "            load1.append(i[col])\n",
    "        except:\n",
    "            load1.append(np.NaN)\n",
    "    df['HRtext'] = load1"
   ]
  },
  {
   "cell_type": "markdown",
   "metadata": {},
   "source": [
    "### extract from HRsite"
   ]
  },
  {
   "cell_type": "code",
   "execution_count": 82,
   "metadata": {
    "collapsed": true
   },
   "outputs": [],
   "source": [
    "lst = list(df['HRsite'])\n",
    "grab_cols = ['value']\n",
    "\n",
    "for col in grab_cols:\n",
    "    load1 = []\n",
    "    for i in lst:\n",
    "        try:\n",
    "            load1.append(i[col])\n",
    "        except:\n",
    "            load1.append(np.NaN)\n",
    "    df['HRsite'] = load1"
   ]
  },
  {
   "cell_type": "markdown",
   "metadata": {},
   "source": [
    "### extract from HRtitle"
   ]
  },
  {
   "cell_type": "code",
   "execution_count": 83,
   "metadata": {
    "collapsed": true
   },
   "outputs": [],
   "source": [
    "lst = list(df['HRtitle'])\n",
    "grab_cols = ['value']\n",
    "\n",
    "for col in grab_cols:\n",
    "    load1 = []\n",
    "    for i in lst:\n",
    "        try:\n",
    "            load1.append(i[col])\n",
    "        except:\n",
    "            load1.append(np.NaN)\n",
    "    df['HRtitle'] = load1"
   ]
  },
  {
   "cell_type": "markdown",
   "metadata": {},
   "source": [
    "### remove orignial column"
   ]
  },
  {
   "cell_type": "code",
   "execution_count": 84,
   "metadata": {
    "collapsed": true
   },
   "outputs": [],
   "source": [
    "df.drop(\"_highlightResult\",axis=1,inplace=True)"
   ]
  },
  {
   "cell_type": "markdown",
   "metadata": {},
   "source": [
    "# Check styles for useful data"
   ]
  },
  {
   "cell_type": "code",
   "execution_count": 85,
   "metadata": {
    "collapsed": true
   },
   "outputs": [],
   "source": [
    "check = df['_styles']"
   ]
  },
  {
   "cell_type": "code",
   "execution_count": 86,
   "metadata": {
    "collapsed": true
   },
   "outputs": [],
   "source": [
    "check2 = set(check)"
   ]
  },
  {
   "cell_type": "code",
   "execution_count": 87,
   "metadata": {
    "collapsed": true
   },
   "outputs": [],
   "source": [
    "categories = set()\n",
    "for i in check2:\n",
    "    try:\n",
    "        lst = str(i).split(\",\")\n",
    "        categories.update(lst)\n",
    "    except:\n",
    "        continue\n",
    "categories.remove('nan')"
   ]
  },
  {
   "cell_type": "code",
   "execution_count": 88,
   "metadata": {},
   "outputs": [
    {
     "data": {
      "text/plain": [
       "{'Abstract',\n",
       " 'Art Deco',\n",
       " 'Art Nouveau',\n",
       " 'Arts and Crafts',\n",
       " 'Asian',\n",
       " 'Baroque',\n",
       " 'Classic',\n",
       " 'Coastal',\n",
       " 'Coastal ',\n",
       " 'Contemporary',\n",
       " 'Country',\n",
       " 'Country ',\n",
       " 'Floral',\n",
       " 'Folk Art',\n",
       " 'Geometric',\n",
       " 'Gothic',\n",
       " 'Hollywood Regency',\n",
       " 'Industrial',\n",
       " 'Louis XVI',\n",
       " 'Mid Century',\n",
       " 'Mid-Century',\n",
       " 'Modern',\n",
       " 'Neoclassical',\n",
       " 'Prints',\n",
       " 'Regency',\n",
       " 'Rococo',\n",
       " 'Rustic',\n",
       " 'Solid',\n",
       " 'Southwestern',\n",
       " 'Stripe',\n",
       " 'Traditional',\n",
       " 'Transitional',\n",
       " 'Transitional ',\n",
       " 'Tribal',\n",
       " 'Victorian',\n",
       " 'Woven'}"
      ]
     },
     "execution_count": 88,
     "metadata": {},
     "output_type": "execute_result"
    }
   ],
   "source": [
    "categories"
   ]
  },
  {
   "cell_type": "code",
   "execution_count": null,
   "metadata": {
    "collapsed": true
   },
   "outputs": [],
   "source": []
  },
  {
   "cell_type": "markdown",
   "metadata": {},
   "source": [
    "## Update styles, create dummies"
   ]
  },
  {
   "cell_type": "code",
   "execution_count": 89,
   "metadata": {
    "collapsed": true
   },
   "outputs": [],
   "source": [
    "check = df['_styles']\n",
    "for i in list(categories):\n",
    "    col = []\n",
    "    df[\"{}_style\".format(str(i))] = 0\n",
    "    for row in check:\n",
    "        if str(i) in str(row):\n",
    "            col.append(1)\n",
    "        else:\n",
    "            col.append(0)\n",
    "    df['{}_style'.format(str(i))] = col\n",
    "    "
   ]
  },
  {
   "cell_type": "code",
   "execution_count": 90,
   "metadata": {
    "collapsed": true
   },
   "outputs": [],
   "source": [
    "df.drop(\"_styles\",axis=1,inplace=True)"
   ]
  },
  {
   "cell_type": "markdown",
   "metadata": {},
   "source": [
    "### Combine style columns, fix column titles"
   ]
  },
  {
   "cell_type": "code",
   "execution_count": 91,
   "metadata": {
    "collapsed": true
   },
   "outputs": [],
   "source": [
    "df['Mid-Century_style'] = df['Mid Century_style'] + df['Mid-Century_style']\n",
    "df['Coastal_style'] = df['Coastal _style'] + df['Coastal_style']\n",
    "df['Country_style'] = df['Country _style'] + df['Country_style']\n"
   ]
  },
  {
   "cell_type": "code",
   "execution_count": 92,
   "metadata": {
    "collapsed": true
   },
   "outputs": [],
   "source": [
    "\n",
    "comb = ['Mid Century_style','Coastal _style',\"Country_style\"]\n",
    "df.drop(comb,axis=1,inplace=True)"
   ]
  },
  {
   "cell_type": "markdown",
   "metadata": {},
   "source": [
    "### Remove spaces in cols"
   ]
  },
  {
   "cell_type": "code",
   "execution_count": 93,
   "metadata": {
    "collapsed": true
   },
   "outputs": [],
   "source": [
    "cols = list(df.columns)\n",
    "for idx,col in enumerate(cols):\n",
    "    if \" \" in str(col):\n",
    "        cols[idx] = str(col).replace(\" \",\"\")\n",
    "    else:\n",
    "        cols[idx] = str(col)\n",
    "df.columns = cols"
   ]
  },
  {
   "cell_type": "code",
   "execution_count": 94,
   "metadata": {
    "scrolled": true
   },
   "outputs": [
    {
     "data": {
      "text/plain": [
       "['brand',\n",
       " 'diffbotUri',\n",
       " 'dimensions',\n",
       " 'directCategory',\n",
       " 'hidden',\n",
       " 'hierarchicalCategories',\n",
       " 'images',\n",
       " 'in_page_variations',\n",
       " 'mpn',\n",
       " 'normalizedDimensions',\n",
       " 'objectID',\n",
       " 'offerPriceDetails',\n",
       " 'overriddenStyles',\n",
       " 'pageUrl',\n",
       " 'predominantColorsResult',\n",
       " 'priceLevel',\n",
       " 'private',\n",
       " 'processedCategory',\n",
       " 'processedImages',\n",
       " 'productId',\n",
       " 'regularPrice',\n",
       " 'regularPriceDetails',\n",
       " 'resolvedPageUrl',\n",
       " 'shippingAmount',\n",
       " 'showrooms',\n",
       " 'site',\n",
       " 'sku',\n",
       " 'specs',\n",
       " 'styles',\n",
       " 'text',\n",
       " 'title',\n",
       " 'tradePrice',\n",
       " 'type',\n",
       " 'upc',\n",
       " 'url',\n",
       " 'variations',\n",
       " 'visibleVerified',\n",
       " 'HRtext',\n",
       " 'HRsite',\n",
       " 'HRtitle',\n",
       " 'Mid-Century_style',\n",
       " 'Rustic_style',\n",
       " 'ArtsandCrafts_style',\n",
       " 'Geometric_style',\n",
       " 'Rococo_style',\n",
       " 'FolkArt_style',\n",
       " 'Regency_style',\n",
       " 'Neoclassical_style',\n",
       " 'Stripe_style',\n",
       " 'Floral_style',\n",
       " 'Country_style',\n",
       " 'Transitional_style',\n",
       " 'Solid_style',\n",
       " 'Tribal_style',\n",
       " 'Traditional_style',\n",
       " 'Victorian_style',\n",
       " 'ArtNouveau_style',\n",
       " 'HollywoodRegency_style',\n",
       " 'Baroque_style',\n",
       " 'Woven_style',\n",
       " 'Prints_style',\n",
       " 'Industrial_style',\n",
       " 'Classic_style',\n",
       " 'Abstract_style',\n",
       " 'Modern_style',\n",
       " 'Contemporary_style',\n",
       " 'Transitional_style',\n",
       " 'Gothic_style',\n",
       " 'Asian_style',\n",
       " 'Coastal_style',\n",
       " 'Southwestern_style',\n",
       " 'ArtDeco_style',\n",
       " 'LouisXVI_style']"
      ]
     },
     "execution_count": 94,
     "metadata": {},
     "output_type": "execute_result"
    }
   ],
   "source": [
    "cols"
   ]
  },
  {
   "cell_type": "markdown",
   "metadata": {},
   "source": [
    "## Check the brand column\n",
    "\n",
    "2980 unique brands.\n",
    "May use data for styles and copy info over"
   ]
  },
  {
   "cell_type": "code",
   "execution_count": 95,
   "metadata": {
    "collapsed": true
   },
   "outputs": [],
   "source": [
    "check = df['brand']"
   ]
  },
  {
   "cell_type": "code",
   "execution_count": 96,
   "metadata": {},
   "outputs": [
    {
     "name": "stdout",
     "output_type": "stream",
     "text": [
      "total unique brand items:  2980   total items:  186626\n"
     ]
    }
   ],
   "source": [
    "print \"total unique brand items: \", len(set(check)), \"  total items: \",len(check)"
   ]
  },
  {
   "cell_type": "markdown",
   "metadata": {},
   "source": [
    "## review cleanSpecs\n",
    "only None,  nan, and {}, so remove col."
   ]
  },
  {
   "cell_type": "code",
   "execution_count": 97,
   "metadata": {
    "collapsed": true
   },
   "outputs": [],
   "source": [
    "# check = df['cleanSpecs']"
   ]
  },
  {
   "cell_type": "code",
   "execution_count": 98,
   "metadata": {
    "collapsed": true
   },
   "outputs": [],
   "source": [
    "# print \"total unique cleanSpecs items: \", len(set(check)), \"  total items: \",len(check)"
   ]
  },
  {
   "cell_type": "code",
   "execution_count": 99,
   "metadata": {},
   "outputs": [
    {
     "name": "stdout",
     "output_type": "stream",
     "text": [
      "nan\n"
     ]
    }
   ],
   "source": [
    "check2 = list(check)\n",
    "print check2[0]"
   ]
  },
  {
   "cell_type": "code",
   "execution_count": 100,
   "metadata": {},
   "outputs": [
    {
     "name": "stdout",
     "output_type": "stream",
     "text": [
      "Confetti\n",
      "Confetti\n",
      "GLOBAL\n",
      "Paris\n",
      "Interiors\n",
      "GLOBAL\n",
      "Leandre\n",
      "GLOBAL\n",
      "Porto\n",
      "Dennis\n",
      "GLOBAL\n",
      "Bongo\n",
      "Japanese Paper\n",
      "Manhattan\n",
      "GLOBAL\n",
      "Palazzo\n",
      "Japanese Paper\n",
      "June Sofa\n",
      "Sassari\n",
      "Sassari\n",
      "Carlisle\n",
      "Timo\n",
      "Miramont\n",
      "Bradington-Young\n",
      "Bradington-Young\n",
      "B&W\n",
      "Bradington-Young\n",
      "Hatteras Hammocks\n",
      "Interiors\n",
      "Madison\n",
      "Greer\n",
      "Bradington-Young\n",
      "Vizcaya\n",
      "BOLLE\n",
      "Asta\n",
      "Chicago Heights\n",
      "Deluna\n",
      "Seeton Sidechair\n",
      "GLOBAL\n",
      "Franklin\n",
      "GLOBAL\n",
      "Nexus\n",
      "Odeon\n",
      "Bradington-Young\n",
      "WREN\n",
      "Jade\n",
      "Curio Cabinets\n",
      "Ripley\n",
      "Antler\n",
      "Bradington-Young\n",
      "Midas\n",
      "Interiors\n",
      "Bradington-Young\n",
      "Ansel\n",
      "Bradington-Young\n",
      "Eaton\n",
      "Chute Vase\n",
      "URBN\n",
      "URBN\n",
      "URBN\n",
      "Creslow\n",
      "Giatti\n",
      "Normandie Manor\n",
      "CHICO\n",
      "Briana\n",
      "Jasper\n",
      "River Sketch\n",
      "BOLTON\n",
      "GLOBAL\n",
      "Rowley\n",
      "Barclay\n",
      "Interiors\n",
      "Soho Luxe\n",
      "Westall\n",
      "Lancaster\n",
      "GLOBAL\n",
      "Home Accents\n",
      "Pacific Canyon\n",
      "Moana\n",
      "Stanton\n",
      "Ninghsha\n",
      "Vernazza Vase\n",
      "Hatteras Hammocks\n",
      "Shutters\n",
      "GLOBAL\n",
      "Rancho\n",
      "Bradington-Young\n",
      "Interiors\n",
      "AUBREY\n",
      "Lumiere\n",
      "Danielle\n",
      "Solstice\n",
      "Luna\n",
      "Padima\n",
      "Jute\n",
      "Jute\n",
      "Bradington-Young\n",
      "Caribou\n",
      "Hatteras Hammocks\n",
      "Manhattan\n"
     ]
    }
   ],
   "source": [
    "c = 0\n",
    "for i in check2:\n",
    "    if i in [{},None,check2[0]]:\n",
    "        pass\n",
    "    else:\n",
    "        print i\n",
    "        c+=1\n",
    "    if c==100:\n",
    "        break"
   ]
  },
  {
   "cell_type": "code",
   "execution_count": null,
   "metadata": {
    "collapsed": true
   },
   "outputs": [],
   "source": []
  },
  {
   "cell_type": "code",
   "execution_count": null,
   "metadata": {
    "collapsed": true
   },
   "outputs": [],
   "source": []
  },
  {
   "cell_type": "code",
   "execution_count": null,
   "metadata": {
    "collapsed": true
   },
   "outputs": [],
   "source": []
  },
  {
   "cell_type": "code",
   "execution_count": 101,
   "metadata": {},
   "outputs": [
    {
     "name": "stdout",
     "output_type": "stream",
     "text": [
      "Index([u'brand', u'diffbotUri', u'dimensions', u'directCategory', u'hidden',\n",
      "       u'hierarchicalCategories', u'images', u'in_page_variations', u'mpn',\n",
      "       u'normalizedDimensions', u'objectID', u'offerPriceDetails',\n",
      "       u'overriddenStyles', u'pageUrl', u'predominantColorsResult',\n",
      "       u'priceLevel', u'private', u'processedCategory', u'processedImages',\n",
      "       u'productId', u'regularPrice', u'regularPriceDetails',\n",
      "       u'resolvedPageUrl', u'shippingAmount', u'showrooms', u'site', u'sku',\n",
      "       u'specs', u'styles', u'text', u'title', u'tradePrice', u'type', u'upc',\n",
      "       u'url', u'variations', u'visibleVerified', u'HRtext', u'HRsite',\n",
      "       u'HRtitle', u'Mid-Century_style', u'Rustic_style',\n",
      "       u'ArtsandCrafts_style', u'Geometric_style', u'Rococo_style',\n",
      "       u'FolkArt_style', u'Regency_style', u'Neoclassical_style',\n",
      "       u'Stripe_style', u'Floral_style', u'Country_style',\n",
      "       u'Transitional_style', u'Solid_style', u'Tribal_style',\n",
      "       u'Traditional_style', u'Victorian_style', u'ArtNouveau_style',\n",
      "       u'HollywoodRegency_style', u'Baroque_style', u'Woven_style',\n",
      "       u'Prints_style', u'Industrial_style', u'Classic_style',\n",
      "       u'Abstract_style', u'Modern_style', u'Contemporary_style',\n",
      "       u'Transitional_style', u'Gothic_style', u'Asian_style',\n",
      "       u'Coastal_style', u'Southwestern_style', u'ArtDeco_style',\n",
      "       u'LouisXVI_style'],\n",
      "      dtype='object')\n"
     ]
    }
   ],
   "source": [
    "cols = df.columns\n",
    "print cols"
   ]
  },
  {
   "cell_type": "markdown",
   "metadata": {},
   "source": [
    "### diffbotUri is the same as objectID column\n",
    "\n"
   ]
  },
  {
   "cell_type": "code",
   "execution_count": 102,
   "metadata": {},
   "outputs": [
    {
     "name": "stdout",
     "output_type": "stream",
     "text": [
      "identicals:  186626\n",
      "total unique diffbotUri items:  173454   total items:  186626\n"
     ]
    }
   ],
   "source": [
    "\n",
    "check = df['diffbotUri']\n",
    "check2 = df['objectID']\n",
    "c=0\n",
    "for idx,i in enumerate(check):\n",
    "    if check2[idx] == i:\n",
    "        c+=1\n",
    "print \"identicals: \",c\n",
    "print \"total unique diffbotUri items: \", len(set(check)), \"  total items: \",len(check)"
   ]
  },
  {
   "cell_type": "code",
   "execution_count": 103,
   "metadata": {
    "collapsed": true
   },
   "outputs": [],
   "source": [
    "df.drop('diffbotUri',axis=1,inplace=True)"
   ]
  },
  {
   "cell_type": "markdown",
   "metadata": {},
   "source": [
    "### Check dimensions"
   ]
  },
  {
   "cell_type": "code",
   "execution_count": 104,
   "metadata": {
    "collapsed": true
   },
   "outputs": [],
   "source": [
    "check = df['dimensions']"
   ]
  },
  {
   "cell_type": "code",
   "execution_count": 105,
   "metadata": {},
   "outputs": [
    {
     "name": "stdout",
     "output_type": "stream",
     "text": [
      "{u'width': u'34', u'height': u'29'}\n",
      "{u'width': u'32', u'height': u'45'}\n",
      "{u'width': u'36', u'height': u'24'}\n",
      "{u'width': u'10', u'height': u'29'}\n",
      "{u'width': u'24', u'height': u'21'}\n",
      "{u'width': u'48', u'height': u'26'}\n",
      "{u'width': u'48', u'height': u'26'}\n",
      "{u'width': u'36', u'height': u'24'}\n",
      "{u'width': u'8-34', u'height': u'16'}\n",
      "{u'width': u'36', u'height': u'24'}\n",
      "{u'width': u'36', u'height': u'24'}\n",
      "{u'width': u'36', u'height': u'24'}\n",
      "{u'width': u'36', u'height': u'24'}\n",
      "{u'width': u'36', u'height': u'24'}\n",
      "{u'width': u'36', u'height': u'24'}\n",
      "{u'width': u'36', u'height': u'24'}\n",
      "{u'width': u'36', u'height': u'24'}\n",
      "{u'width': u'36', u'height': u'24'}\n",
      "{u'width': u'36', u'height': u'24'}\n",
      "{u'width': u'Max.  71', u'depth': u'28', u'height': u'40.50'}\n",
      "{u'width': u'14.75', u'depth': u'14', u'height': u'26.50'}\n",
      "{u'width': u'89', u'depth': u'Max.  41', u'height': u'38'}\n",
      "{u'width': u'89', u'depth': u'43', u'height': u'38'}\n",
      "{u'width': u'36', u'height': u'24'}\n",
      "{u'width': u'10', u'height': u'25'}\n",
      "{u'width': u'12', u'depth': u'6', u'height': u'16'}\n",
      "{u'diam': u'43', u'height': u'15'}\n",
      "{u'diam': u'24', u'height': u'22'}\n",
      "{u'diam': u'38', u'height': u'19'}\n",
      "{u'diam': u'26', u'height': u'24'}\n",
      "{u'width': u'18', u'length': u'54', u'height': u'30'}\n",
      "{u'diam': u'21', u'height': u'30'}\n",
      "{u'diam': u'21', u'height': u'30'}\n",
      "{u'diam': u'21', u'height': u'30'}\n",
      "{u'diam': u'21', u'height': u'30'}\n",
      "{u'diam': u'20', u'height': u'24'}\n",
      "{u'diam': u'20', u'height': u'24'}\n",
      "{u'width': u'30', u'height': u'16'}\n",
      "{u'diam': u'22', u'height': u'20'}\n",
      "{u'diam': u'22', u'height': u'20'}\n",
      "{u'width': u'30', u'length': u'50', u'height': u'16'}\n",
      "{u'diam': u'22', u'height': u'21 \\xbd'}\n",
      "{u'diam': u'22', u'height': u'21 \\xbd'}\n",
      "{u'diam': u'18', u'height': u'20'}\n",
      "{u'diam': u'40', u'height': u'16'}\n",
      "{u'diam': u'40', u'height': u'16'}\n",
      "{u'diam': u'24', u'height': u'22'}\n",
      "{u'diam': u'24', u'height': u'22'}\n",
      "{u'width': u'18', u'length': u'54', u'height': u'30'}\n",
      "{u'diam': u'48', u'height': u'30'}\n",
      "{u'width': u'18', u'length': u'24', u'height': u'24'}\n",
      "{u'width': u'20', u'length': u'56', u'height': u'30'}\n",
      "{u'width': u'19', u'length': u'19', u'height': u'37-1/2'}\n",
      "{u'width': u'63', u'length': u'75', u'height': u'6'}\n",
      "{u'width': u'63', u'length': u'79', u'height': u'6'}\n",
      "{u'length': u'63', u'height': u'63'}\n",
      "{u'diam': u'24', u'height': u'23'}\n",
      "{u'width': u'42', u'length': u'42', u'height': u'17'}\n",
      "{u'width': u'28', u'length': u'28', u'height': u'26'}\n",
      "{u'width': u'20', u'length': u'54', u'height': u'30'}\n",
      "{u'diam': u'34', u'height': u'29'}\n",
      "{u'diam': u'42', u'height': u'29 1/2'}\n",
      "{u'diam': u'48', u'height': u'29 1/2'}\n",
      "{u'diam': u'34', u'height': u'29'}\n",
      "{u'diam': u'48', u'height': u'29 1/2'}\n",
      "{u'height': u'29 1/2'}\n",
      "{u'width': u'18', u'length': u'72', u'height': u'78'}\n",
      "{u'diam': u'48', u'height': u'31'}\n",
      "{u'diam': u'42', u'height': u'19'}\n",
      "{u'diam': u'24', u'height': u'24'}\n",
      "{u'diam': u'16', u'height': u'24'}\n",
      "{u'diam': u'15', u'height': u'24'}\n",
      "{u'width': u'18', u'length': u'56', u'height': u'30'}\n",
      "{u'width': u'18', u'length': u'56', u'height': u'30'}\n",
      "{u'diam': u'42', u'height': u'36'}\n",
      "{u'width': u'22', u'length': u'22', u'height': u'22'}\n",
      "{u'width': u'22', u'length': u'22', u'height': u'22'}\n",
      "{u'width': u'28', u'length': u'50', u'height': u'16'}\n",
      "{u'width': u'28', u'length': u'50', u'height': u'16'}\n",
      "{u'width': u'40', u'length': u'40', u'height': u'16'}\n",
      "{u'width': u'40', u'length': u'40', u'height': u'16'}\n",
      "{u'width': u'25-1/2', u'length': u'34', u'height': u'31'}\n",
      "{u'width': u'25-1/2', u'length': u'34', u'height': u'31'}\n",
      "{u'diam': u'22', u'height': u'22'}\n",
      "{u'width': u'42', u'length': u'42', u'height': u'14'}\n",
      "{u'width': u'21', u'length': u'28', u'height': u'21'}\n",
      "{u'width': u'18', u'length': u'61-1/2', u'height': u'30'}\n",
      "{u'width': u'42', u'length': u'42', u'height': u'14'}\n",
      "{u'width': u'21', u'length': u'28', u'height': u'21'}\n",
      "{u'width': u'18', u'length': u'61-1/2', u'height': u'30'}\n",
      "{u'width': u'42', u'length': u'42', u'height': u'14'}\n",
      "{u'length': u'43\\xbd', u'height': u'20'}\n",
      "{u'diam': u'24', u'height': u'28'}\n",
      "{u'width': u'18', u'length': u'54', u'height': u'29'}\n",
      "{u'width': u'44', u'length': u'44', u'height': u'19'}\n",
      "{u'width': u'29', u'length': u'29', u'height': u'25'}\n",
      "{u'width': u'22', u'length': u'55', u'height': u'30'}\n",
      "{u'width': u'40', u'length': u'40', u'height': u'19'}\n",
      "{u'width': u'24', u'length': u'24', u'height': u'24'}\n",
      "{u'width': u'18', u'length': u'54', u'height': u'30'}\n"
     ]
    }
   ],
   "source": [
    "c=0\n",
    "for i in check:\n",
    "    if i not in [check[0],{}]:\n",
    "        print i\n",
    "        c+=1\n",
    "    if c == 100:\n",
    "        break"
   ]
  },
  {
   "cell_type": "code",
   "execution_count": 106,
   "metadata": {},
   "outputs": [
    {
     "name": "stdout",
     "output_type": "stream",
     "text": [
      "set([u'diameter', u'arm_width', u'diam', u'projection', u'wide', u'back_rail_height', u'length', u'deep', u'height', u'width', u'depth', u'overall_height', u'footboard_height', u'tall', u'seat_height', u'seat_width', u'arm_height', u'seat_depth', u'arm height', u'backplate'])\n"
     ]
    }
   ],
   "source": [
    "check = df['dimensions']\n",
    "dimensions = set()\n",
    "for i in check:\n",
    "    if i in [check[0],{}]:\n",
    "        continue\n",
    "    \n",
    "    else:\n",
    "        for dim,val in i.iteritems():\n",
    "            dimensions.add(dim)\n",
    "#     dimensions.add(type(i))\n",
    "print dimensions"
   ]
  },
  {
   "cell_type": "code",
   "execution_count": 107,
   "metadata": {
    "collapsed": true
   },
   "outputs": [],
   "source": [
    "# [u'diameter', u'arm_width', u'diam', u'projection', u'wide', u'back_rail_height', u'length', u'deep', u'height', u'width', u'depth', u'overall_height', u'footboard_height', u'tall', u'seat_height', u'seat_width', u'arm_height', u'seat_depth', u'arm height', u'backplate']"
   ]
  },
  {
   "cell_type": "code",
   "execution_count": null,
   "metadata": {
    "collapsed": true
   },
   "outputs": [],
   "source": []
  },
  {
   "cell_type": "code",
   "execution_count": 108,
   "metadata": {
    "scrolled": false
   },
   "outputs": [
    {
     "name": "stdout",
     "output_type": "stream",
     "text": [
      "dim_diameter\n",
      "0 dim_diameter 0\n",
      "20000 dim_diameter 0\n",
      "40000 dim_diameter 57\n",
      "60000 dim_diameter 57\n",
      "80000 dim_diameter 57\n",
      "100000 dim_diameter 628\n",
      "120000 dim_diameter 770\n",
      "140000 dim_diameter 1404\n",
      "160000 dim_diameter 1408\n",
      "180000 dim_diameter 1408\n",
      "dim_arm_width\n",
      "0 dim_arm_width 0\n",
      "20000 dim_arm_width 0\n",
      "40000 dim_arm_width 0\n",
      "60000 dim_arm_width 0\n",
      "80000 dim_arm_width 0\n",
      "100000 dim_arm_width 0\n",
      "120000 dim_arm_width 0\n",
      "140000 dim_arm_width 70\n",
      "160000 dim_arm_width 71\n",
      "180000 dim_arm_width 71\n",
      "dim_diam\n",
      "0 dim_diam 0\n",
      "20000 dim_diam 0\n",
      "40000 dim_diam 150\n",
      "60000 dim_diam 962\n",
      "80000 dim_diam 3760\n",
      "100000 dim_diam 4188\n",
      "120000 dim_diam 4661\n",
      "140000 dim_diam 4868\n",
      "160000 dim_diam 4889\n",
      "180000 dim_diam 4890\n",
      "dim_projection\n",
      "0 dim_projection 0\n",
      "20000 dim_projection 0\n",
      "40000 dim_projection 0\n",
      "60000 dim_projection 5\n",
      "80000 dim_projection 5\n",
      "100000 dim_projection 81\n",
      "120000 dim_projection 81\n",
      "140000 dim_projection 81\n",
      "160000 dim_projection 81\n",
      "180000 dim_projection 81\n",
      "dim_wide\n",
      "0 dim_wide 0\n",
      "20000 dim_wide 0\n",
      "40000 dim_wide 0\n",
      "60000 dim_wide 0\n",
      "80000 dim_wide 0\n",
      "100000 dim_wide 0\n",
      "120000 dim_wide 13\n",
      "140000 dim_wide 13\n",
      "160000 dim_wide 14\n",
      "180000 dim_wide 14\n",
      "dim_back_rail_height\n",
      "0 dim_back_rail_height 0\n",
      "20000 dim_back_rail_height 0\n",
      "40000 dim_back_rail_height 0\n",
      "60000 dim_back_rail_height 0\n",
      "80000 dim_back_rail_height 0\n",
      "100000 dim_back_rail_height 0\n",
      "120000 dim_back_rail_height 0\n",
      "140000 dim_back_rail_height 1740\n",
      "160000 dim_back_rail_height 1763\n",
      "180000 dim_back_rail_height 1766\n",
      "dim_length\n",
      "0 dim_length 0\n",
      "20000 dim_length 0\n",
      "40000 dim_length 714\n",
      "60000 dim_length 1336\n",
      "80000 dim_length 9527\n",
      "100000 dim_length 10181\n",
      "120000 dim_length 10337\n",
      "140000 dim_length 12221\n",
      "160000 dim_length 12300\n",
      "180000 dim_length 12314\n",
      "dim_deep\n",
      "0 dim_deep 0\n",
      "20000 dim_deep 0\n",
      "40000 dim_deep 0\n",
      "60000 dim_deep 2\n",
      "80000 dim_deep 2\n",
      "100000 dim_deep 123\n",
      "120000 dim_deep 146\n",
      "140000 dim_deep 146\n",
      "160000 dim_deep 148\n",
      "180000 dim_deep 149\n",
      "dim_height\n",
      "0 dim_height 0\n",
      "20000 dim_height 24\n",
      "40000 dim_height 2478\n",
      "60000 dim_height 11142\n",
      "80000 dim_height 27283\n",
      "100000 dim_height 42389\n",
      "120000 dim_height 55218\n",
      "140000 dim_height 69287\n",
      "160000 dim_height 69988\n",
      "180000 dim_height 70048\n",
      "dim_width\n",
      "0 dim_width 0\n",
      "20000 dim_width 24\n",
      "40000 dim_width 3329\n",
      "60000 dim_width 10322\n",
      "80000 dim_width 22389\n",
      "100000 dim_width 35918\n",
      "120000 dim_width 50481\n",
      "140000 dim_width 63541\n",
      "160000 dim_width 64198\n",
      "180000 dim_width 64255\n",
      "dim_depth\n",
      "0 dim_depth 0\n",
      "20000 dim_depth 4\n",
      "40000 dim_depth 2392\n",
      "60000 dim_depth 8069\n",
      "80000 dim_depth 14197\n",
      "100000 dim_depth 26090\n",
      "120000 dim_depth 31479\n",
      "140000 dim_depth 41033\n",
      "160000 dim_depth 41580\n",
      "180000 dim_depth 41616\n",
      "dim_overall_height\n",
      "0 dim_overall_height 0\n",
      "20000 dim_overall_height 0\n",
      "40000 dim_overall_height 0\n",
      "60000 dim_overall_height 0\n",
      "80000 dim_overall_height 0\n",
      "100000 dim_overall_height 0\n",
      "120000 dim_overall_height 0\n",
      "140000 dim_overall_height 13\n",
      "160000 dim_overall_height 13\n",
      "180000 dim_overall_height 13\n",
      "dim_footboard_height\n",
      "0 dim_footboard_height 0\n",
      "20000 dim_footboard_height 0\n",
      "40000 dim_footboard_height 0\n",
      "60000 dim_footboard_height 0\n",
      "80000 dim_footboard_height 0\n",
      "100000 dim_footboard_height 0\n",
      "120000 dim_footboard_height 0\n",
      "140000 dim_footboard_height 181\n",
      "160000 dim_footboard_height 181\n",
      "180000 dim_footboard_height 182\n",
      "dim_tall\n",
      "0 dim_tall 0\n",
      "20000 dim_tall 0\n",
      "40000 dim_tall 0\n",
      "60000 dim_tall 0\n",
      "80000 dim_tall 0\n",
      "100000 dim_tall 1\n",
      "120000 dim_tall 1\n",
      "140000 dim_tall 1\n",
      "160000 dim_tall 1\n",
      "180000 dim_tall 1\n",
      "dim_seat_height\n",
      "0 dim_seat_height 0\n",
      "20000 dim_seat_height 0\n",
      "40000 dim_seat_height 0\n",
      "60000 dim_seat_height 0\n",
      "80000 dim_seat_height 573\n",
      "100000 dim_seat_height 2536\n",
      "120000 dim_seat_height 2826\n",
      "140000 dim_seat_height 5941\n",
      "160000 dim_seat_height 5994\n",
      "180000 dim_seat_height 6001\n",
      "dim_seat_width\n",
      "0 dim_seat_width 0\n",
      "20000 dim_seat_width 0\n",
      "40000 dim_seat_width 0\n",
      "60000 dim_seat_width 0\n",
      "80000 dim_seat_width 414\n",
      "100000 dim_seat_width 414\n",
      "120000 dim_seat_width 660\n",
      "140000 dim_seat_width 660\n",
      "160000 dim_seat_width 663\n",
      "180000 dim_seat_width 665\n",
      "dim_arm_height\n",
      "0 dim_arm_height 0\n",
      "20000 dim_arm_height 0\n",
      "40000 dim_arm_height 0\n",
      "60000 dim_arm_height 0\n",
      "80000 dim_arm_height 395\n",
      "100000 dim_arm_height 1175\n",
      "120000 dim_arm_height 1191\n",
      "140000 dim_arm_height 3422\n",
      "160000 dim_arm_height 3459\n",
      "180000 dim_arm_height 3465\n",
      "dim_seat_depth\n",
      "0 dim_seat_depth 0\n",
      "20000 dim_seat_depth 0\n",
      "40000 dim_seat_depth 0\n",
      "60000 dim_seat_depth 0\n",
      "80000 dim_seat_depth 425\n",
      "100000 dim_seat_depth 425\n",
      "120000 dim_seat_depth 685\n",
      "140000 dim_seat_depth 820\n",
      "160000 dim_seat_depth 824\n",
      "180000 dim_seat_depth 827\n",
      "dim_arm height\n",
      "0 dim_arm height 0\n",
      "20000 dim_arm height 0\n",
      "40000 dim_arm height 0\n",
      "60000 dim_arm height 0\n",
      "80000 dim_arm height 34\n",
      "100000 dim_arm height 34\n",
      "120000 dim_arm height 34\n",
      "140000 dim_arm height 34\n",
      "160000 dim_arm height 34\n",
      "180000 dim_arm height 34\n",
      "dim_backplate\n",
      "0 dim_backplate 0\n",
      "20000 dim_backplate 0\n",
      "40000 dim_backplate 0\n",
      "60000 dim_backplate 5\n",
      "80000 dim_backplate 5\n",
      "100000 dim_backplate 5\n",
      "120000 dim_backplate 5\n",
      "140000 dim_backplate 5\n",
      "160000 dim_backplate 5\n",
      "180000 dim_backplate 5\n"
     ]
    }
   ],
   "source": [
    "for dim in list(dimensions):\n",
    "    name = \"dim_{}\".format(str(dim))\n",
    "    df[name] = 0\n",
    "    col = []\n",
    "    print name\n",
    "    c = 0\n",
    "    for idx,i in enumerate(check):\n",
    "        if idx%20000 == 0:\n",
    "            print idx,name, c\n",
    "        try:\n",
    "            if dim in i.iterkeys():\n",
    "                c+=1\n",
    "                col.append(i[dim])\n",
    "            else:\n",
    "                col.append(0)\n",
    "        except:\n",
    "            col.append(0)\n",
    "    df[name] = col\n",
    "                "
   ]
  },
  {
   "cell_type": "code",
   "execution_count": 109,
   "metadata": {},
   "outputs": [
    {
     "name": "stdout",
     "output_type": "stream",
     "text": [
      "['brand', 'dimensions', 'directCategory', 'hidden', 'hierarchicalCategories', 'images', 'in_page_variations', 'mpn', 'normalizedDimensions', 'objectID', 'offerPriceDetails', 'overriddenStyles', 'pageUrl', 'predominantColorsResult', 'priceLevel', 'private', 'processedCategory', 'processedImages', 'productId', 'regularPrice', 'regularPriceDetails', 'resolvedPageUrl', 'shippingAmount', 'showrooms', 'site', 'sku', 'specs', 'styles', 'text', 'title', 'tradePrice', 'type', 'upc', 'url', 'variations', 'visibleVerified', 'HRtext', 'HRsite', 'HRtitle', 'Mid-Century_style', 'Rustic_style', 'ArtsandCrafts_style', 'Geometric_style', 'Rococo_style', 'FolkArt_style', 'Regency_style', 'Neoclassical_style', 'Stripe_style', 'Floral_style', 'Country_style', 'Transitional_style', 'Solid_style', 'Tribal_style', 'Traditional_style', 'Victorian_style', 'ArtNouveau_style', 'HollywoodRegency_style', 'Baroque_style', 'Woven_style', 'Prints_style', 'Industrial_style', 'Classic_style', 'Abstract_style', 'Modern_style', 'Contemporary_style', 'Transitional_style', 'Gothic_style', 'Asian_style', 'Coastal_style', 'Southwestern_style', 'ArtDeco_style', 'LouisXVI_style', 'dim_diameter', 'dim_arm_width', 'dim_diam', 'dim_projection', 'dim_wide', 'dim_back_rail_height', 'dim_length', 'dim_deep', 'dim_height', 'dim_width', 'dim_depth', 'dim_overall_height', 'dim_footboard_height', 'dim_tall', 'dim_seat_height', 'dim_seat_width', 'dim_arm_height', 'dim_seat_depth', 'dim_arm height', 'dim_backplate']\n"
     ]
    }
   ],
   "source": [
    "lst=list(df.columns)\n",
    "print lst\n",
    "# df.drop([72,74],axis=1,inplace=True)"
   ]
  },
  {
   "cell_type": "code",
   "execution_count": null,
   "metadata": {
    "collapsed": true
   },
   "outputs": [],
   "source": []
  },
  {
   "cell_type": "code",
   "execution_count": 110,
   "metadata": {},
   "outputs": [
    {
     "name": "stdout",
     "output_type": "stream",
     "text": [
      "dim_diameter unique:    324 usable:   1409\n",
      "dim_arm_width unique:    14 usable:   71\n",
      "dim_diam unique:    625 usable:   4893\n",
      "dim_projection unique:    33 usable:   81\n",
      "dim_wide unique:    13 usable:   14\n",
      "dim_back_rail_height unique:    27 usable:   1768\n",
      "dim_length unique:    990 usable:   12318\n",
      "dim_deep unique:    51 usable:   149\n",
      "dim_height unique:    3013 usable:   70078\n",
      "dim_width unique:    2865 usable:   64278\n",
      "dim_depth unique:    1559 usable:   41631\n",
      "dim_overall_height unique:    11 usable:   13\n",
      "dim_footboard_height unique:    51 usable:   182\n",
      "dim_tall unique:    2 usable:   1\n",
      "dim_seat_height unique:    142 usable:   6004\n",
      "dim_seat_width unique:    112 usable:   666\n",
      "dim_arm_height unique:    77 usable:   3468\n",
      "dim_seat_depth unique:    74 usable:   828\n",
      "dim_arm height unique:    20 usable:   34\n",
      "dim_backplate unique:    2 usable:   5\n"
     ]
    }
   ],
   "source": [
    "for i in dimensions:\n",
    "    try:\n",
    "        name = \"dim_{}\".format(str(i))\n",
    "        print name, \"unique:   \", len(set(df[name])), \"usable:  \", sum([1 if j != 0 else 0 for j in list(df[name])])\n",
    "    except:\n",
    "        continue"
   ]
  },
  {
   "cell_type": "code",
   "execution_count": 111,
   "metadata": {
    "collapsed": true
   },
   "outputs": [],
   "source": [
    "# df['dim_diameter'][0]"
   ]
  },
  {
   "cell_type": "code",
   "execution_count": 112,
   "metadata": {
    "collapsed": true
   },
   "outputs": [],
   "source": [
    "# df.drop(['dim_dim_diameter', 'dim_dim_arm_width', 'dim_dim_diam', 'dim_dim_projection', 'dim_dim_wide', 'dim_dim_back_rail_height', 'dim_dim_length', 'dim_dim_deep', 'dim_dim_height', 'dim_dim_width', 'dim_dim_depth', 'dim_dim_overall_height', 'dim_dim_footboard_height', 'dim_dim_tall', 'dim_dim_seat_height', 'dim_dim_seat_width', 'dim_dim_arm_height', 'dim_dim_seat_depth', 'dim_dim_arm height', 'dim_dim_backplate'],axis=1,inplace=True)"
   ]
  },
  {
   "cell_type": "code",
   "execution_count": 113,
   "metadata": {
    "scrolled": true
   },
   "outputs": [
    {
     "name": "stdout",
     "output_type": "stream",
     "text": [
      "<class 'pandas.core.frame.DataFrame'>\n",
      "RangeIndex: 186626 entries, 0 to 186625\n",
      "Data columns (total 92 columns):\n",
      "brand                      21554 non-null object\n",
      "dimensions                 85678 non-null object\n",
      "directCategory             178158 non-null object\n",
      "hidden                     105523 non-null float64\n",
      "hierarchicalCategories     177920 non-null object\n",
      "images                     181254 non-null object\n",
      "in_page_variations         7808 non-null object\n",
      "mpn                        2601 non-null object\n",
      "normalizedDimensions       186254 non-null object\n",
      "objectID                   186626 non-null object\n",
      "offerPriceDetails          39833 non-null object\n",
      "overriddenStyles           105580 non-null float64\n",
      "pageUrl                    43663 non-null object\n",
      "predominantColorsResult    168993 non-null object\n",
      "priceLevel                 128823 non-null object\n",
      "private                    92535 non-null float64\n",
      "processedCategory          186626 non-null object\n",
      "processedImages            186626 non-null object\n",
      "productId                  34402 non-null object\n",
      "regularPrice               3376 non-null object\n",
      "regularPriceDetails        3376 non-null object\n",
      "resolvedPageUrl            1485 non-null object\n",
      "shippingAmount             0 non-null float64\n",
      "showrooms                  130123 non-null object\n",
      "site                       184116 non-null object\n",
      "sku                        163771 non-null object\n",
      "specs                      186255 non-null object\n",
      "styles                     141966 non-null object\n",
      "text                       165945 non-null object\n",
      "title                      186393 non-null object\n",
      "tradePrice                 107606 non-null float64\n",
      "type                       43663 non-null object\n",
      "upc                        8260 non-null object\n",
      "url                        176784 non-null object\n",
      "variations                 6332 non-null object\n",
      "visibleVerified            87800 non-null float64\n",
      "HRtext                     165945 non-null object\n",
      "HRsite                     184116 non-null object\n",
      "HRtitle                    186393 non-null object\n",
      "Mid-Century_style          186626 non-null int64\n",
      "Rustic_style               186626 non-null int64\n",
      "ArtsandCrafts_style        186626 non-null int64\n",
      "Geometric_style            186626 non-null int64\n",
      "Rococo_style               186626 non-null int64\n",
      "FolkArt_style              186626 non-null int64\n",
      "Regency_style              186626 non-null int64\n",
      "Neoclassical_style         186626 non-null int64\n",
      "Stripe_style               186626 non-null int64\n",
      "Floral_style               186626 non-null int64\n",
      "Country_style              186626 non-null int64\n",
      "Transitional_style         186626 non-null int64\n",
      "Solid_style                186626 non-null int64\n",
      "Tribal_style               186626 non-null int64\n",
      "Traditional_style          186626 non-null int64\n",
      "Victorian_style            186626 non-null int64\n",
      "ArtNouveau_style           186626 non-null int64\n",
      "HollywoodRegency_style     186626 non-null int64\n",
      "Baroque_style              186626 non-null int64\n",
      "Woven_style                186626 non-null int64\n",
      "Prints_style               186626 non-null int64\n",
      "Industrial_style           186626 non-null int64\n",
      "Classic_style              186626 non-null int64\n",
      "Abstract_style             186626 non-null int64\n",
      "Modern_style               186626 non-null int64\n",
      "Contemporary_style         186626 non-null int64\n",
      "Transitional_style         186626 non-null int64\n",
      "Gothic_style               186626 non-null int64\n",
      "Asian_style                186626 non-null int64\n",
      "Coastal_style              186626 non-null int64\n",
      "Southwestern_style         186626 non-null int64\n",
      "ArtDeco_style              186626 non-null int64\n",
      "LouisXVI_style             186626 non-null int64\n",
      "dim_diameter               186626 non-null object\n",
      "dim_arm_width              186626 non-null object\n",
      "dim_diam                   186591 non-null object\n",
      "dim_projection             186626 non-null object\n",
      "dim_wide                   186626 non-null object\n",
      "dim_back_rail_height       186626 non-null object\n",
      "dim_length                 186617 non-null object\n",
      "dim_deep                   186626 non-null object\n",
      "dim_height                 186626 non-null object\n",
      "dim_width                  186625 non-null object\n",
      "dim_depth                  186626 non-null object\n",
      "dim_overall_height         186626 non-null object\n",
      "dim_footboard_height       186626 non-null object\n",
      "dim_tall                   186626 non-null object\n",
      "dim_seat_height            186626 non-null object\n",
      "dim_seat_width             186626 non-null object\n",
      "dim_arm_height             186626 non-null object\n",
      "dim_seat_depth             186626 non-null object\n",
      "dim_arm height             186626 non-null object\n",
      "dim_backplate              186626 non-null object\n",
      "dtypes: float64(6), int64(33), object(53)\n",
      "memory usage: 131.0+ MB\n"
     ]
    }
   ],
   "source": [
    "df.info()"
   ]
  },
  {
   "cell_type": "code",
   "execution_count": 114,
   "metadata": {
    "collapsed": true
   },
   "outputs": [],
   "source": [
    "check = df['directCategory']"
   ]
  },
  {
   "cell_type": "code",
   "execution_count": 115,
   "metadata": {
    "scrolled": true
   },
   "outputs": [
    {
     "name": "stdout",
     "output_type": "stream",
     "text": [
      "total unique directCategory items:  157   total items:  186626\n"
     ]
    }
   ],
   "source": [
    "print \"total unique directCategory items: \", len(set(check)), \"  total items: \",len(check)"
   ]
  },
  {
   "cell_type": "code",
   "execution_count": 116,
   "metadata": {
    "scrolled": true
   },
   "outputs": [
    {
     "data": {
      "text/plain": [
       "{nan,\n",
       " u'Accessories',\n",
       " u'Accessories > Bath Accessories',\n",
       " u'Accessories > Bedding and Throws',\n",
       " u'Accessories > Bookends',\n",
       " u'Accessories > Bowls and Baskets',\n",
       " u'Accessories > Boxes',\n",
       " u'Accessories > Candles and Candle Holders',\n",
       " u'Accessories > Clocks',\n",
       " u'Accessories > Coat Racks',\n",
       " u'Accessories > Decorative Objects',\n",
       " u'Accessories > Desk Accessories',\n",
       " u'Accessories > Fireplace',\n",
       " u'Accessories > Jewelry Boxes and Cabinets',\n",
       " u'Accessories > Lanterns',\n",
       " u'Accessories > Mirrors',\n",
       " u'Accessories > Picture Frames',\n",
       " u'Accessories > Pillows',\n",
       " u'Accessories > Screens',\n",
       " u'Accessories > Serveware',\n",
       " u'Accessories > Silk Plants',\n",
       " u'Accessories > Trays',\n",
       " u'Accessories > Vases and Vessels',\n",
       " u'Accessories > Wall Shelves',\n",
       " u'Art',\n",
       " u'Art > Childrens',\n",
       " u'Art > Sculptures',\n",
       " u'Art > Wall Art',\n",
       " u'Art > Wall Sculpture',\n",
       " u'Bedding and Throws > Coverlets > Bed Skirt > Cal king',\n",
       " u'Bedding and Throws > Sheeting > Cases > King',\n",
       " u'Bedding and Throws > Sheeting > Fitted > King',\n",
       " u'Bedding and Throws > Sheeting > Flat > King',\n",
       " u'Finish Samples > Metal > Iron and Steel',\n",
       " u'Finish Samples > Wood > Oak',\n",
       " u'Finish Samples > Wood > Walnut',\n",
       " u'Furniture',\n",
       " u'Furniture > Beds',\n",
       " u'Furniture > Beds > Beds',\n",
       " u'Furniture > Beds > Headboards',\n",
       " u'Furniture > Case Goods',\n",
       " u'Furniture > Case Goods > Armoire',\n",
       " u'Furniture > Case Goods > Bar Cabinets and Carts',\n",
       " u'Furniture > Case Goods > Bar Carts and Cabinets',\n",
       " u'Furniture > Case Goods > Book Cases and Etageres',\n",
       " u'Furniture > Case Goods > Chest and Commodes',\n",
       " u'Furniture > Case Goods > Curio and China Cabinets',\n",
       " u'Furniture > Case Goods > Dressers',\n",
       " u'Furniture > Case Goods > File Cabinet',\n",
       " u'Furniture > Case Goods > Media Cabinet and Console',\n",
       " u'Furniture > Case Goods > Sideboard and Credenza',\n",
       " u'Furniture > Kids',\n",
       " u'Furniture > Kids > Bedroom',\n",
       " u'Furniture > Kids > Seating',\n",
       " u'Furniture > Kids > Storage',\n",
       " u'Furniture > Seating',\n",
       " u'Furniture > Seating  > Sofa',\n",
       " u'Furniture > Seating > Accent and Occasional',\n",
       " u'Furniture > Seating > Benches',\n",
       " u'Furniture > Seating > Chaises',\n",
       " u'Furniture > Seating > Corner Chairs',\n",
       " u'Furniture > Seating > Day Beds',\n",
       " u'Furniture > Seating > Desk Chairs',\n",
       " u'Furniture > Seating > Dining and Side Chairs',\n",
       " u'Furniture > Seating > Hanging Chairs',\n",
       " u'Furniture > Seating > Lounge and Club Chairs',\n",
       " u'Furniture > Seating > Ottomans',\n",
       " u'Furniture > Seating > Rocking Chairs',\n",
       " u'Furniture > Seating > Slipper Chairs',\n",
       " u'Furniture > Seating > Sofa',\n",
       " u'Furniture > Seating > Sofa > Loveseats and Settees',\n",
       " u'Furniture > Seating > Sofa > Sectional',\n",
       " u'Furniture > Seating > Sofa > Sleeper',\n",
       " u'Furniture > Seating > Sofa > Sofa',\n",
       " u'Furniture > Seating > Stools',\n",
       " u'Furniture > Seating > Swivel Chairs',\n",
       " u'Furniture > Tables',\n",
       " u'Furniture > Tables > Center Table',\n",
       " u'Furniture > Tables > Coffee & Cocktail',\n",
       " u'Furniture > Tables > Coffee and Cocktail',\n",
       " u'Furniture > Tables > Console',\n",
       " u'Furniture > Tables > Desks',\n",
       " u'Furniture > Tables > Desks > Executive Desk',\n",
       " u'Furniture > Tables > Desks > Secretary',\n",
       " u'Furniture > Tables > Desks > Writing Table',\n",
       " u'Furniture > Tables > Dining',\n",
       " u'Furniture > Tables > Game Table',\n",
       " u'Furniture > Tables > Nesting Tables',\n",
       " u'Furniture > Tables > Night Stands',\n",
       " u'Furniture > Tables > Pedestals',\n",
       " u'Furniture > Tables > Side Table',\n",
       " u'Furniture > Tables > Vanities',\n",
       " u'Lighting',\n",
       " u'Lighting >  Chandeliers and Pendants',\n",
       " u'Lighting > Billiard Lights',\n",
       " u'Lighting > Chandeliers and Pendants',\n",
       " u'Lighting > Exterior',\n",
       " u'Lighting > Exterior > Chandeliers and Pendants',\n",
       " u'Lighting > Exterior > Solar',\n",
       " u'Lighting > Exterior > Table Lamps',\n",
       " u'Lighting > Exterior > Wall and Sconces',\n",
       " u'Lighting > Floor Lamps',\n",
       " u'Lighting > Floor lamps',\n",
       " u'Lighting > Flush Mounts',\n",
       " u'Lighting > Table Lamps',\n",
       " u'Lighting > Table lamps',\n",
       " u'Lighting > Wall Lights and Sconces',\n",
       " u'Lighting > Wall Lights and Sconces > Picture Lights',\n",
       " u'Outdoor',\n",
       " u'Outdoor > Accessories',\n",
       " u'Outdoor > Accessories > Fountains',\n",
       " u'Outdoor > Accessories > Pillows',\n",
       " u'Outdoor > Accessories > Planters',\n",
       " u'Outdoor > Accessories > Wall Decor',\n",
       " u'Outdoor > Seating',\n",
       " u'Outdoor > Seating > Armchairs',\n",
       " u'Outdoor > Seating > Benches',\n",
       " u'Outdoor > Seating > Chaises',\n",
       " u'Outdoor > Seating > Day Beds',\n",
       " u'Outdoor > Seating > Hanging Chairs',\n",
       " u'Outdoor > Seating > Lounge Chairs',\n",
       " u'Outdoor > Seating > Ottomans',\n",
       " u'Outdoor > Seating > Side Chairs',\n",
       " u'Outdoor > Seating > Sofa',\n",
       " u'Outdoor > Seating > Sofa > Love Seat',\n",
       " u'Outdoor > Seating > Sofa > Sectional',\n",
       " u'Outdoor > Seating > Sofa > Sofa',\n",
       " u'Outdoor > Seating > Stools',\n",
       " u'Outdoor > Tables',\n",
       " u'Outdoor > Tables > Center Table',\n",
       " u'Outdoor > Tables > Coffee and Cocktail',\n",
       " u'Outdoor > Tables > Console',\n",
       " u'Outdoor > Tables > Dining',\n",
       " u'Outdoor > Tables > Side Table',\n",
       " u'Outdoor > Umbrellas',\n",
       " u'Rugs > Area Rugs',\n",
       " u'Rugs and Carpets',\n",
       " u'Rugs and Carpets > Area Rugs',\n",
       " u'Textiles',\n",
       " u'Textiles > Drapery > Linen',\n",
       " u'Textiles > Drapery > Sheer',\n",
       " u'Textiles > Leather',\n",
       " u'Textiles > Multipurpose',\n",
       " u'Textiles > Multipurpose > Embroidery',\n",
       " u'Textiles > Multipurpose > Moire',\n",
       " u'Textiles > Multipurpose > Print',\n",
       " u'Textiles > Multipurpose > Print > Hand Block',\n",
       " u'Textiles > Multipurpose > Weave',\n",
       " u'Textiles > Trim > Tassel Fringe',\n",
       " u'Textiles > Upholstery',\n",
       " u'Textiles > Upholstery > Faux Leather',\n",
       " u'Textiles > Wallcoverings',\n",
       " u'Wallcoverings > Wallpaper',\n",
       " u'Window > Hardware',\n",
       " u'Window > Panels',\n",
       " u'Window > hardware',\n",
       " u'Window > panels'}"
      ]
     },
     "execution_count": 116,
     "metadata": {},
     "output_type": "execute_result"
    }
   ],
   "source": [
    "set(check)"
   ]
  },
  {
   "cell_type": "code",
   "execution_count": 117,
   "metadata": {
    "collapsed": true,
    "scrolled": false
   },
   "outputs": [],
   "source": [
    "from collections import Counter\n"
   ]
  },
  {
   "cell_type": "code",
   "execution_count": 118,
   "metadata": {
    "collapsed": true,
    "scrolled": false
   },
   "outputs": [],
   "source": [
    "counter = Counter(check)\n"
   ]
  },
  {
   "cell_type": "code",
   "execution_count": 119,
   "metadata": {
    "collapsed": true,
    "scrolled": false
   },
   "outputs": [],
   "source": [
    "dict_test = dict(counter)\n",
    "# df_test = pd.DataFrame.from_dict(dict_test)\n",
    "# for key,val in counter.iteritems():\n",
    "#     key,val\n",
    "# df_test.head()"
   ]
  },
  {
   "cell_type": "code",
   "execution_count": 120,
   "metadata": {},
   "outputs": [
    {
     "name": "stdout",
     "output_type": "stream",
     "text": [
      "nan 8468\n",
      "Furniture > Tables > Side Table 6551\n",
      "Accessories 5932\n",
      "Accessories > Vases and Vessels 4735\n",
      "Furniture > Seating > Dining and Side Chairs 9250\n",
      "Rugs and Carpets > Area Rugs 20026\n",
      "Furniture > Tables > Dining 3526\n",
      "Accessories > Decorative Objects 3395\n",
      "Furniture > Beds > Beds 2160\n",
      "Accessories > Mirrors 4452\n",
      "Wallcoverings > Wallpaper 4060\n",
      "Furniture > Seating > Lounge and Club Chairs 11635\n",
      "Accessories > Pillows 2839\n",
      "Furniture > Tables > Coffee and Cocktail 3895\n",
      "Furniture > Seating > Ottomans 3192\n",
      "Lighting > Table Lamps 6612\n",
      "Accessories > Bedding and Throws 2576\n",
      "Art > Wall Art 10085\n",
      "Lighting > Chandeliers and Pendants 8750\n",
      "Furniture > Tables > Console 2141\n",
      "Lighting > Wall Lights and Sconces 4643\n",
      "Furniture > Seating > Sofa > Sofa 3495\n",
      "Furniture > Seating > Stools 5815\n"
     ]
    }
   ],
   "source": [
    "for key, value in dict_test.iteritems():\n",
    "    if value >2000:\n",
    "        print key, value"
   ]
  },
  {
   "cell_type": "code",
   "execution_count": 121,
   "metadata": {
    "collapsed": true
   },
   "outputs": [],
   "source": [
    "check = df['hierarchicalCategories']"
   ]
  },
  {
   "cell_type": "code",
   "execution_count": 122,
   "metadata": {},
   "outputs": [
    {
     "data": {
      "text/plain": [
       "{u'lvl0': [u'Furniture'],\n",
       " u'lvl1': [u'Furniture > Case Goods'],\n",
       " u'lvl2': [u'Furniture > Case Goods > Book Cases and Etageres']}"
      ]
     },
     "execution_count": 122,
     "metadata": {},
     "output_type": "execute_result"
    }
   ],
   "source": [
    "check[0]"
   ]
  },
  {
   "cell_type": "code",
   "execution_count": 123,
   "metadata": {
    "collapsed": true
   },
   "outputs": [],
   "source": [
    "check = df['hidden']\n",
    "# print \"total unique hidden items: \", len(set(check)), \"  total items: \",len(check)"
   ]
  },
  {
   "cell_type": "code",
   "execution_count": 124,
   "metadata": {},
   "outputs": [
    {
     "name": "stdout",
     "output_type": "stream",
     "text": [
      "X:  nan\n",
      "81103\n",
      "105523\n"
     ]
    }
   ],
   "source": [
    "nans = 0\n",
    "c = 0\n",
    "x = check[0]\n",
    "print \"X: \",x\n",
    "for i in check:\n",
    "#     print i, type(i)\n",
    "    if i == 0.:\n",
    "        c+=1\n",
    "    else:\n",
    "        nans+=1\n",
    "#         nans+=1\n",
    "#     elif i == 0.0:\n",
    "#         nans+=1\n",
    "#     else:\n",
    "# #         print type(i)\n",
    "#         c+=1\n",
    "#         if c ==20:\n",
    "#             break\n",
    "print nans\n",
    "print c"
   ]
  },
  {
   "cell_type": "code",
   "execution_count": 125,
   "metadata": {
    "collapsed": true
   },
   "outputs": [],
   "source": [
    "df.drop('hidden',axis=1,inplace=True)\n"
   ]
  },
  {
   "cell_type": "code",
   "execution_count": 126,
   "metadata": {
    "collapsed": true
   },
   "outputs": [],
   "source": [
    "check = df['images']"
   ]
  },
  {
   "cell_type": "code",
   "execution_count": 127,
   "metadata": {},
   "outputs": [
    {
     "data": {
      "text/plain": [
       "[{u'primary': 1,\n",
       "  u'title': u'Rustic Pine 3 Tiered Bookcase',\n",
       "  u'url': u'http://redlabelhome.com/media/catalog/product/cache/4/image/570x495/9df78eab33525d08d6e5fb8d27136e95/8/8/8805.jpg'}]"
      ]
     },
     "execution_count": 127,
     "metadata": {},
     "output_type": "execute_result"
    }
   ],
   "source": [
    "check[0]"
   ]
  },
  {
   "cell_type": "code",
   "execution_count": 128,
   "metadata": {
    "collapsed": true
   },
   "outputs": [],
   "source": [
    "col = []\n",
    "for i in df['images']:\n",
    "    try:\n",
    "        col.append(i[0]['url'])\n",
    "    except:\n",
    "        col.append(0)\n",
    "df['images'] = col"
   ]
  },
  {
   "cell_type": "code",
   "execution_count": 129,
   "metadata": {
    "collapsed": true
   },
   "outputs": [],
   "source": [
    "check = df['images']"
   ]
  },
  {
   "cell_type": "code",
   "execution_count": 130,
   "metadata": {},
   "outputs": [
    {
     "data": {
      "text/plain": [
       "u'http://redlabelhome.com/media/catalog/product/cache/4/image/570x495/9df78eab33525d08d6e5fb8d27136e95/8/8/8805.jpg'"
      ]
     },
     "execution_count": 130,
     "metadata": {},
     "output_type": "execute_result"
    }
   ],
   "source": [
    "check[0]"
   ]
  },
  {
   "cell_type": "code",
   "execution_count": null,
   "metadata": {
    "collapsed": true
   },
   "outputs": [],
   "source": []
  },
  {
   "cell_type": "code",
   "execution_count": null,
   "metadata": {
    "collapsed": true
   },
   "outputs": [],
   "source": []
  },
  {
   "cell_type": "code",
   "execution_count": null,
   "metadata": {
    "collapsed": true
   },
   "outputs": [],
   "source": []
  },
  {
   "cell_type": "code",
   "execution_count": null,
   "metadata": {
    "collapsed": true
   },
   "outputs": [],
   "source": []
  },
  {
   "cell_type": "code",
   "execution_count": null,
   "metadata": {
    "collapsed": true
   },
   "outputs": [],
   "source": []
  },
  {
   "cell_type": "code",
   "execution_count": null,
   "metadata": {
    "collapsed": true
   },
   "outputs": [],
   "source": []
  },
  {
   "cell_type": "code",
   "execution_count": null,
   "metadata": {
    "collapsed": true
   },
   "outputs": [],
   "source": []
  },
  {
   "cell_type": "code",
   "execution_count": 172,
   "metadata": {
    "collapsed": true
   },
   "outputs": [],
   "source": [
    "check = df['styles']\n",
    "sets = set()\n",
    "# print \"total unique styles items: \", len(set(check)), \"  total items: \",len(check)\n",
    "# counter = Counter(check)\n",
    "for i in check:\n",
    "    try:\n",
    "        len(i)\n",
    "        sets.add(\",\".join(i))\n",
    "    except:\n",
    "        continue\n",
    "    "
   ]
  },
  {
   "cell_type": "code",
   "execution_count": 205,
   "metadata": {
    "collapsed": true
   },
   "outputs": [],
   "source": [
    "col = []\n",
    "col2 = []\n",
    "col3 = []\n",
    "for i in check:\n",
    "    ret = \"\"\n",
    "    try:\n",
    "        col.append(len(i))\n",
    "        if col[-1] > 1:\n",
    "            col2.append(1)\n",
    "            col3.append(1)\n",
    "        elif col[-1] == 1:\n",
    "            col2.append(0)\n",
    "            col3.append(1)\n",
    "        else:\n",
    "            col2.append(0)\n",
    "            col3.append(0)\n",
    "    except:\n",
    "        col.append(0)\n",
    "        col2.append(0)\n",
    "        col3.append(0)\n",
    "        continue"
   ]
  },
  {
   "cell_type": "code",
   "execution_count": 207,
   "metadata": {
    "scrolled": true
   },
   "outputs": [
    {
     "name": "stdout",
     "output_type": "stream",
     "text": [
      "total classifications and rows:   526026 186626\n",
      "total multiple classifications and rows:   113243 186626\n",
      "total classification rows:   141966 186626\n"
     ]
    }
   ],
   "source": [
    "print \"total classifications and rows:  \",sum(col), len(col)\n",
    "print \"total multiple classifications and rows:  \",sum(col2), len(col2)\n",
    "print \"total classification rows:  \",sum(col3), len(col3)"
   ]
  },
  {
   "cell_type": "markdown",
   "metadata": {},
   "source": [
    "### look into fast text\n",
    " - eda why fields and visualization\n",
    " - feature selection\n",
    " - model analysis - fill in the classifier"
   ]
  },
  {
   "cell_type": "code",
   "execution_count": null,
   "metadata": {
    "collapsed": true
   },
   "outputs": [],
   "source": []
  },
  {
   "cell_type": "code",
   "execution_count": null,
   "metadata": {
    "collapsed": true
   },
   "outputs": [],
   "source": []
  },
  {
   "cell_type": "code",
   "execution_count": 133,
   "metadata": {},
   "outputs": [
    {
     "name": "stdout",
     "output_type": "stream",
     "text": [
      "Industrial,Mid Century,Transitional\n",
      "Mid Century,Rustic,Traditional,Transitional\n",
      "Contemporary,Modern,Rustic\n",
      "Industrial,Mid Century,Rustic\n",
      "Coastal ,Industrial,Rustic\n",
      "Art Deco,Contemporary,Industrial,Mid Century,Traditional\n",
      "Country,Industrial,Mid Century,Modern,Rustic,Transitional\n",
      "Art Deco,Traditional,Transitional\n",
      "Contemporary,Modern,Rustic,Transitional\n",
      "Arts and Crafts,Coastal ,Contemporary,Country ,Hollywood Regency,Industrial,Rustic,Traditional,Transitional \n",
      "Arts and Crafts,Asian,Coastal,Contemporary,Country,Industrial,Mid Century,Rustic,Traditional,Transitional\n",
      "Asian,Hollywood Regency,Mid Century,Regency\n",
      "Mid Century\n",
      "Coastal,Hollywood Regency,Modern\n",
      "Asian,Contemporary,Transitional\n",
      "Contemporary,Traditional,Transitional\n",
      "Arts and Crafts,Contemporary,Industrial,Traditional,Transitional\n",
      "Asian,Traditional,Transitional \n",
      "Arts and Crafts,Asian,Coastal,Contemporary,Country,Hollywood Regency,Industrial,Modern,Rustic,Traditional,Transitional\n",
      "Contemporary,Rustic,Traditional\n"
     ]
    }
   ],
   "source": [
    "c=0\n",
    "for i in sets:\n",
    "    print i\n",
    "    c+=1\n",
    "    if c==20:\n",
    "        break"
   ]
  },
  {
   "cell_type": "code",
   "execution_count": 171,
   "metadata": {
    "collapsed": true
   },
   "outputs": [],
   "source": [
    "col = []\n",
    "for i in df['styles']:\n",
    "    try:\n",
    "        col.append(\",\".join(i).replace(\" \",\"\"))\n",
    "    except:\n",
    "        col.append(\"no_styles\")\n",
    "df['styles_list'] = col"
   ]
  },
  {
   "cell_type": "code",
   "execution_count": 135,
   "metadata": {
    "collapsed": true
   },
   "outputs": [],
   "source": [
    "check = df['text']\n",
    "check2 = df[\"HRtext\"]"
   ]
  },
  {
   "cell_type": "code",
   "execution_count": 136,
   "metadata": {},
   "outputs": [
    {
     "name": "stdout",
     "output_type": "stream",
     "text": [
      "Details\n",
      "Rustic Pine 3 Tiered Bookcase\n",
      "Dimensions - 59\"L x 43\"H x 16\"W\n",
      "Minimum Order Quantity- 1\n",
      "Case Quantity - 1\n",
      "Details\n",
      "Rustic Pine <em>3</em> Tiered Bookcase\n",
      "Dimensions - 59\"L x 43\"H x 16\"W\n",
      "Minimum Order Quantity- 1\n",
      "Case Quantity - 1\n"
     ]
    }
   ],
   "source": [
    "print (check[0])\n",
    "print (check2[0])"
   ]
  },
  {
   "cell_type": "code",
   "execution_count": 137,
   "metadata": {},
   "outputs": [
    {
     "name": "stdout",
     "output_type": "stream",
     "text": [
      "2\n"
     ]
    }
   ],
   "source": [
    "for i in check[:1]:\n",
    "    text = str(i).lower()\n",
    "    print text.count(\"quantity\")\n",
    "    "
   ]
  },
  {
   "cell_type": "code",
   "execution_count": 138,
   "metadata": {
    "collapsed": true
   },
   "outputs": [],
   "source": [
    "for material in list(materials):\n",
    "    mat = material.lower()\n",
    "    name = 'mat_{}'.format(mat)\n",
    "    df[name] = 0\n",
    "    col = []\n",
    "\n",
    "    for text in df['text']:\n",
    "        try:\n",
    "            strtext = str(text).lower()\n",
    "            col.append(strtext.count(mat))\n",
    "        except:\n",
    "            col.append(0)\n",
    "    df[name] = col"
   ]
  },
  {
   "cell_type": "code",
   "execution_count": 139,
   "metadata": {},
   "outputs": [
    {
     "name": "stdout",
     "output_type": "stream",
     "text": [
      "<class 'pandas.core.frame.DataFrame'>\n",
      "RangeIndex: 186626 entries, 0 to 186625\n",
      "Columns: 123 entries, brand to mat_rattan\n",
      "dtypes: float64(5), int64(64), object(54)\n",
      "memory usage: 175.1+ MB\n"
     ]
    }
   ],
   "source": [
    "df.info()"
   ]
  },
  {
   "cell_type": "code",
   "execution_count": 140,
   "metadata": {},
   "outputs": [
    {
     "name": "stdout",
     "output_type": "stream",
     "text": [
      "gold 6153\n",
      "espresso 520\n",
      "faux leather 268\n",
      "plastic 287\n",
      "chenille 177\n",
      "cotton 4181\n",
      "mahogony 0\n",
      "fabric 8753\n",
      "chrome 1691\n",
      "cherry 1130\n",
      "oak 2961\n",
      "pine 1071\n",
      "walnut 4779\n",
      "wood 27541\n",
      "black 9039\n",
      "microfiber 1000\n",
      "white 10735\n",
      "wool 6651\n",
      "polyurethane 166\n",
      "vinyl 764\n",
      "birch 484\n",
      "beech 267\n",
      "velvet 464\n",
      "brass 7937\n",
      "silver 5483\n",
      "bronze 4681\n",
      "polyester 6721\n",
      "leather 5278\n",
      "metal 10441\n",
      "linen 3599\n",
      "rattan 628\n"
     ]
    }
   ],
   "source": [
    "for material in list(materials):\n",
    "    mat = material.lower()\n",
    "    name = 'mat_{}'.format(mat)\n",
    "    c = 0\n",
    "    for i in df[name]:\n",
    "        c+=i\n",
    "    print material, c"
   ]
  },
  {
   "cell_type": "code",
   "execution_count": 141,
   "metadata": {
    "collapsed": true
   },
   "outputs": [],
   "source": [
    "check = list(df['text'])\n",
    "idx = 0"
   ]
  },
  {
   "cell_type": "code",
   "execution_count": 142,
   "metadata": {
    "scrolled": false
   },
   "outputs": [
    {
     "name": "stdout",
     "output_type": "stream",
     "text": [
      "Details\n",
      "Rustic Pine 3 Tiered Bookcase\n",
      "Dimensions - 59\"L x 43\"H x 16\"W\n",
      "Minimum Order Quantity- 1\n",
      "Case Quantity - 1\n",
      "3 Tiered Display Stand (Wood + Iron)\n",
      "Dimensions -\n",
      "Minimum Order Quantity- 1\n",
      "Case Quantity - 1\n",
      "Details\n",
      "Botton Side Table - Short - 16\" H x 20\" D\n",
      "Dimensions - 16\" H x 20\" D\n",
      "Minimum Order Quantity- 1\n",
      "Case Quantity - 1\n",
      "Details\n",
      "Rustic Pine 5 Shelves Bookcase\n",
      "Dimensions - 79\"H x 39\"L x 16\"W\n",
      "Minimum Order Quantity- 1\n",
      "Case Quantity - 1\n",
      "Details\n",
      "Rustic Pine Console Table\n",
      "Dimensions - 31.5\"H x 47\"L x 16\"W\n",
      "Minimum Order Quantity- 1\n",
      "Case Quantity - 1\n",
      "Details\n",
      "Natural Finish Coffee Table - 27.5\" W x 20\" H\n",
      "Dimensions - 27.5\" W x 20\" H\n",
      "Minimum Order Quantity- 1\n",
      "Case Quantity - 1\n",
      "Details\n",
      "Botton Side Table Large - 34\" H x 20\" D\n",
      "Dimensions - 34\" H x 20\" D\n",
      "Minimum Order Quantity- 1\n",
      "Case Quantity - 1\n",
      "Details\n",
      "Antiqued Gray Bar Chair - 44\" H x 20\" W\n",
      "Dimensions - 44\" H x 20\" W\n",
      "Minimum Order Quantity- 1\n",
      "Case Quantity - 1\n",
      "Details\n",
      "Antiqued Gray 3 Tiered Display- 82\" H x 59\"L x 21\" W\n",
      "Dimensions - 82\" H x 59\"L x 21\" W\n",
      "Minimum Order Quantity- 1\n",
      "Case Quantity - 1\n",
      "Details\n",
      "Natural Finish Nesting Tables ( Set of 3) - 23,21,18\" H x 14,12,10\" W\n",
      "(Set of 3)Dimensions - 23,21,18\" H x 14,12,10\" W\n",
      "Minimum Order Quantity- 1\n",
      "Case Quantity - 1\n"
     ]
    }
   ],
   "source": [
    "for i in range(idx,idx+10):\n",
    "    print check[i]\n",
    "    if i == idx+9:\n",
    "        idx+=10\n",
    "    "
   ]
  },
  {
   "cell_type": "markdown",
   "metadata": {},
   "source": [
    "Add:\n",
    "iron\n",
    "natural\n",
    "gray\n",
    "rustic\n",
    "antiqued\n",
    "oxidized\n",
    "glass"
   ]
  },
  {
   "cell_type": "code",
   "execution_count": null,
   "metadata": {
    "collapsed": true
   },
   "outputs": [],
   "source": []
  },
  {
   "cell_type": "code",
   "execution_count": 143,
   "metadata": {
    "collapsed": true
   },
   "outputs": [],
   "source": [
    "df[\"new_text\"] = df['HRtext'].fillna('')"
   ]
  },
  {
   "cell_type": "code",
   "execution_count": 144,
   "metadata": {
    "collapsed": true
   },
   "outputs": [],
   "source": [
    "from sklearn.feature_extraction.text import TfidfVectorizer as tfidfv\n",
    "import scipy"
   ]
  },
  {
   "cell_type": "code",
   "execution_count": 145,
   "metadata": {
    "collapsed": true
   },
   "outputs": [],
   "source": [
    "test_df = tfidfv()\n",
    "texts = list(df['new_text'])"
   ]
  },
  {
   "cell_type": "code",
   "execution_count": 146,
   "metadata": {
    "collapsed": true
   },
   "outputs": [],
   "source": [
    "results = test_df.fit_transform(texts)"
   ]
  },
  {
   "cell_type": "code",
   "execution_count": 147,
   "metadata": {
    "collapsed": true
   },
   "outputs": [],
   "source": [
    "col = []\n",
    "c = 0\n",
    "for idx,i in enumerate(test):\n",
    "    try:\n",
    "        col.append(len(i.encode('ascii','replace')))\n",
    "    except:\n",
    "        try:\n",
    "            if i == float(np.nan):\n",
    "                col.append('foundit')\n",
    "            else:\n",
    "                col.append('fail')\n",
    "                print type(i)\n",
    "        except:\n",
    "            col.append('fail')\n",
    "            c+=1\n",
    "            print i, idx\n",
    "            if c==10:\n",
    "                break"
   ]
  },
  {
   "cell_type": "code",
   "execution_count": 148,
   "metadata": {},
   "outputs": [
    {
     "data": {
      "text/plain": [
       "0"
      ]
     },
     "execution_count": 148,
     "metadata": {},
     "output_type": "execute_result"
    }
   ],
   "source": [
    "counter = Counter(col)\n",
    "counter['foundit']"
   ]
  },
  {
   "cell_type": "code",
   "execution_count": 149,
   "metadata": {
    "collapsed": true
   },
   "outputs": [],
   "source": [
    "test = df['HRtext']"
   ]
  },
  {
   "cell_type": "markdown",
   "metadata": {},
   "source": [
    "\n",
    "\n"
   ]
  },
  {
   "cell_type": "code",
   "execution_count": 150,
   "metadata": {
    "collapsed": true
   },
   "outputs": [],
   "source": [
    "test = test.fillna(\"\")"
   ]
  },
  {
   "cell_type": "code",
   "execution_count": 151,
   "metadata": {},
   "outputs": [
    {
     "data": {
      "text/plain": [
       "<bound method csr_matrix.check_format of <186626x47656 sparse matrix of type '<type 'numpy.float64'>'\n",
       "\twith 4246634 stored elements in Compressed Sparse Row format>>"
      ]
     },
     "execution_count": 151,
     "metadata": {},
     "output_type": "execute_result"
    }
   ],
   "source": [
    "results.check_format"
   ]
  },
  {
   "cell_type": "code",
   "execution_count": 152,
   "metadata": {
    "collapsed": true
   },
   "outputs": [],
   "source": [
    "# limit to the seating\n",
    "seating_df = df[df['directCategory'] == \"Furniture > Seating > Dining and Side Chairs\"]"
   ]
  },
  {
   "cell_type": "code",
   "execution_count": 153,
   "metadata": {},
   "outputs": [
    {
     "name": "stdout",
     "output_type": "stream",
     "text": [
      "cluster centers:\n",
      "[[  0.00000000e+00   0.00000000e+00   0.00000000e+00 ...,   0.00000000e+00\n",
      "    9.26817995e-03   0.00000000e+00]\n",
      " [  0.00000000e+00   0.00000000e+00   0.00000000e+00 ...,   0.00000000e+00\n",
      "    0.00000000e+00   0.00000000e+00]\n",
      " [  0.00000000e+00   0.00000000e+00   0.00000000e+00 ...,   0.00000000e+00\n",
      "    0.00000000e+00   0.00000000e+00]\n",
      " ..., \n",
      " [  0.00000000e+00   1.94712132e-03   8.99266658e-05 ...,   2.13515211e-04\n",
      "    0.00000000e+00   0.00000000e+00]\n",
      " [  0.00000000e+00   0.00000000e+00   0.00000000e+00 ...,   0.00000000e+00\n",
      "    0.00000000e+00   0.00000000e+00]\n",
      " [  2.71370103e-03   0.00000000e+00   0.00000000e+00 ...,   0.00000000e+00\n",
      "    0.00000000e+00   6.93314133e-04]]\n",
      "top features for each cluster:\n",
      "0: hooker, furniture, room, dining, chair, arm, sanctuary, splatback, upholstered, corsica\n",
      "1: patara, seat, steel, feet, provides, rest, cushion, padded, comfort, 19\n",
      "2: eiffel, seat, upholstered, steel, arm, wool, lead, time, variety, organic\n",
      "3: dervish, loss, seat, harput, wear, year, steel, 25, fabrics, colourfastness\n",
      "4: seat, steel, aria, soho, pasha, wood, lead, time, sled, upholstered\n",
      "5: chair, dining, m2, arm, accent, set, sidechair, armless, white, kaia\n",
      "6: crescent, seat, 23, 75, steel, 17, upholstered, star, lead, time\n",
      "7: specs, height, 24, depth, width, 19, 22, 20, 18, 25\n"
     ]
    }
   ],
   "source": [
    "import os\n",
    "import numpy as np\n",
    "import pandas as pd\n",
    "from sklearn.feature_extraction.text import TfidfVectorizer\n",
    "from sklearn.cluster import KMeans\n",
    "from collections import Counter\n",
    "from scipy.spatial.distance import pdist, squareform\n",
    "import matplotlib.pyplot as plt\n",
    "from scipy.cluster.hierarchy import linkage, dendrogram\n",
    "\n",
    "\n",
    "## K-MEANS\n",
    "\n",
    "vectorizer = TfidfVectorizer(stop_words='english')\n",
    "X = vectorizer.fit_transform(seating_df['new_text'])\n",
    "features = vectorizer.get_feature_names()\n",
    "kmeans = KMeans()\n",
    "kmeans.fit(X)\n",
    "\n",
    "\n",
    "# 2. Print out the centroids.\n",
    "print \"cluster centers:\"\n",
    "print kmeans.cluster_centers_\n",
    "\n",
    "\n",
    "# 3. Find the top 10 features for each cluster.\n",
    "top_centroids = kmeans.cluster_centers_.argsort()[:,-1:-11:-1]\n",
    "print \"top features for each cluster:\"\n",
    "for num, centroid in enumerate(top_centroids):\n",
    "    print \"%d: %s\" % (num, \", \".join(features[i] for i in centroid))"
   ]
  },
  {
   "cell_type": "code",
   "execution_count": 154,
   "metadata": {},
   "outputs": [
    {
     "name": "stdout",
     "output_type": "stream",
     "text": [
      "top features for each cluster with 1000 max features:\n",
      "0: vintage, indian, kantha, c20, fabric, daniel, 01, c40, 10, c50\n",
      "1: seat, patara, feet, legs, steel, level, uneven, surfaces, user, distinctive\n",
      "2: chair, zipper, diner, duo, dream, draco, dowel, dove, double, dolce\n",
      "3: crescent, sword, seat, 23, 75, steel, unique, 17, 20, large\n",
      "4: mw, eiffel, legs, wires, used, black, steel, natural, metal, seat\n",
      "5: wire, eiffel, seat, steel, upholstered, wool, time, lead, metal, weight18\n",
      "6: hilton, armless, accent, chair, zipper, displayed, duo, dream, draco, dowel\n",
      "7: harput, round, wear, fabrics, year, loss, camira, seat, cuz68, cuz15\n",
      "8: specs, 24, chair, 22, dining, 25, 20, 23, 37, 33\n",
      "9: soho, steel, seat, 26, chrome, classy, coating, finished, armchair, sled\n",
      "10: star, eiffel, arm, seat, upholstered, 24, 27, matt, nickel, help\n",
      "11: dining, chair, black, eiffel, zipper, early, dream, draco, dowel, dove\n",
      "12: pasha, 18, 22, seat, low, 34, strengthened, chairs, ergonomic, stretchers\n",
      "13: arm, chair, dining, natural, fabric, seat, walnut, leather, springs, dowel\n",
      "14: dervish, sword, loss, seat, steel, professional, help, changed, modern, excessive\n",
      "15: chair, dining, arm, kaia, gray, black, diner, occasional, seat, upholstered\n",
      "16: arm, eiffel, wood, seat, 25, upholstered, weight20, wool, lead, time\n",
      "17: pasha, steel, images, displayed, cost, apply, option, request, seat, arm\n",
      "18: tower, eiffel, seat, steel, upholstered, ahrome, capped, red, gold, options\n",
      "19: sled, aria, seat, preffered, carpets, smoothly, moves, public, base, sturdiness\n",
      "20: pasha, seat, chrome, steel, ergonomic, chromed, 31, time, lead, upholstered\n",
      "21: crescent, star, seat, 23, 75, 21, requirement, upholstered, 17, nickel\n",
      "22: mw, arm, eiffel, steel, seat, h25, glides, veneer, lead, time\n",
      "23: pasha, slide, steel, seat, inside, ergonomic, plastic, time, lead, upholstered\n",
      "24: set, dining, chairs, chair, specs, dawson, cleo, colfax, camel, jet\n",
      "25: eiffel, wood, seat, upholstered, wool, lead, time, steel, weight18, beech\n",
      "26: star, eiffel, seat, upholstered, weight20, matt, nickel, wool, brushed, time\n",
      "27: crescent, plywood, seat, upholstered, legs, wooden, contemporary, finish, dowel, 35\n",
      "28: crescent, tower, seat, 23, 75, steel, 17, red, gold, options\n",
      "29: soho, wood, 26, seat, colours, ordered, materials, various, classy, stretchers\n",
      "30: dervish, loss, tower, seat, wire, steel, help, professional, changed, modern\n",
      "31: round, crescent, seat, 23, 75, chromed, steel, 44, column, 17\n",
      "32: quadratl, chair, zipper, ease, duo, dream, draco, dowel, dove, double\n",
      "33: furniture, hooker, room, dining, chair, arm, sanctuary, splatback, upholstered, ladderback\n",
      "34: items, returns, final, clearance, sales, distressed, diner, dining, displayed, distinctive\n",
      "35: interiors, 542, new, chair, 555, 541, dining, gustav, arm, upholstered\n",
      "36: aria, steel, seat, dining, chair, fabric, coating, finished, chromed, powder\n",
      "37: polo, bonded, sled, regenerated, wrapped, 22, exclusive, wood, lead, time\n",
      "38: tendy, chair, zipper, ease, duo, dream, draco, dowel, dove, double\n",
      "39: height, depth, width, specs, 24, 25, seat, arm, 18, 19\n",
      "40: wood, polo, capri, walnut, wenge, american, ash, finish, seat, colour\n",
      "41: dervish, loss, seat, steel, star, mw, professional, help, changed, guaranteed\n",
      "42: game, chairs, dining, arm, chair, upholstered, draco, dowel, dove, diner\n",
      "43: wire, eiffel, arm, seat, steel, upholstered, h25, wool, time, lead\n",
      "44: round, eiffel, steel, seat, chromed, upholstered, column, weight40, swivel, 45\n",
      "45: plywood, eiffel, seat, upholstered, wool, 35, time, lead, steel, beech\n",
      "46: dc, london, chair, dining, ribbon, ch, park, chairs, armchair, arm\n",
      "47: crescent, mw, wood, metal, seat, legs, wires, used, black, 23\n",
      "48: harput, loss, seat, wear, year, 25, fabric, guaranteed, excessive, colourfastness\n",
      "49: eiffel, star, seat, steel, upholstered, coated, glides, wool, lead, time\n",
      "50: diana, chair, vanity, dining, zipper, ditta, displayed, distinctive, distressed, double\n",
      "51: dervish, star, seat, requirement, upholstered, matt, nickel, help, professional, changed\n",
      "52: arm, eiffel, seat, wood, upholstered, plywood, wool, 35, lead, time\n",
      "53: gakko, futuristic, folded, grain, birch, seat, built, look, gives, upholstered\n",
      "54: aria, wood, seat, available, strengthened, fabric, stretchers, time, lead, steel\n",
      "55: sled, eiffel, seat, steel, upholstered, arm, wool, wire, time, lead\n",
      "56: ladderback, chair, rush, english, french, upholstered, seat, carved, hand, dining\n",
      "57: height, inches, specs, 19, 18, seat, 20, depth, width, chairs\n",
      "58: accent, chair, seating, hunter, box, 27, porter, crackle, morgan, ottoman\n",
      "59: suffolk, chair, zipper, diner, duo, dream, draco, dowel, dove, double\n",
      "60: siren, dining, arm, chair, dolce, displayed, distinctive, distressed, ditta, zipper\n",
      "61: grace, new, chair, dining, arm, dream, draco, dowel, dove, diner\n",
      "62: sidechair, dc, ingrid, cherry, estelle, campanile, walnut, seeton, morgan, seat\n",
      "63: crescent, star, seat, 23, 75, steel, unique, 17, coated, 20\n",
      "64: stacking, chair, kara, c35, mesh, bistro, louis, relais, velvet, ter\n",
      "65: round, eiffel, arm, seat, h24, weight42, 47, upholstered, wool, time\n",
      "66: flat, soho, lounge, seat, ideally, waiting, elegant, gliders, 40, steel\n",
      "67: armchair, sidechair, dining, chippendale, ii, style, lounge, chair, upholstered, description\n",
      "68: capri, sled, steel, seat, preferred, plastic, time, lead, chrome, carpets\n",
      "69: brown, m2, dining, chair, dark, light, distressed, sadie, barclay, sedia\n",
      "70: patara, seat, feet, legs, uneven, surfaces, level, provides, rest, cushion\n",
      "71: savannah, chair, specs, 19, ditta, dining, displayed, distinctive, distressed, dolce\n",
      "72: grey, m2, chair, dining, cork, light, chloe, lauren, ruth, vivo\n",
      "73: white, dining, chair, paris, renata, loop, evelyn, wald, pom, oh\n",
      "74: isabella, chair, zipper, diner, duo, dream, draco, dowel, dove, double\n",
      "75: tufted, lola, set, avila, armless, marian, chair, dining, button, hancock\n",
      "76: grande, quadratl, chair, zipper, diner, dream, draco, dowel, dove, double\n",
      "77: patara, seat, steel, user, distinctive, provides, rest, cushion, padded, comfort\n",
      "78: nevada, seat, 16, steel, modern, time, lead, moulded, sled, inside\n",
      "79: seat, patara, chromed, steel, slolid, column, round, user, distinctive, provides\n",
      "80: upholstered, chair, dining, seat, ditta, diner, displayed, distinctive, distressed, zipper\n",
      "81: leather, chair, dining, zipper, diner, dream, draco, dowel, dove, double\n",
      "82: host, hostess, chair, martin, arms, 359, marquesa, mahogany, tight, marnie\n",
      "83: melbourne, chair, diner, duo, dream, draco, dowel, dove, double, dolce\n",
      "84: m2, dining, chair, black, white, sierra, lusso, beige, montecristo, red\n",
      "85: flat, aria, seat, gliders, steel, fabric, 35, lead, time, 11\n",
      "86: slipcovered, dining, chair, campaign, high, host, arm, leather, zipper, ditta\n",
      "87: high, edward, beechwood, chair, 26, leg, seat, dowel, dove, diner\n",
      "88: teak, woven, chair, quinta, qs, cotton, arm, material, dimensions, 27\n",
      "89: armless, chair, 10, dining, designer, baughman, milo, chairs, box, request\n",
      "90: 000, chair, host, armless, arm, double, distinctive, distressed, ditta, dolce\n",
      "91: wire, crescent, seat, 23, 75, steel, sled, base, 17, finished\n",
      "92: specs, 19, sh, 18, 36, 20, 21, chair, dining, 22\n",
      "93: sword, eiffel, seat, steel, upholstered, arm, glides, veneer, time, lead\n",
      "94: blue, m2, navy, dining, chair, velvet, jardin, chloe, paris, c41\n",
      "95: moore, sam, room, dining, camel, exposed, chair, living, arm, beckett\n"
     ]
    }
   ],
   "source": [
    "\n",
    "# 4. Limit the number of features and see if the words of the topics change.\n",
    "vectorizer = TfidfVectorizer(stop_words='english', max_features=1000)\n",
    "X = vectorizer.fit_transform(seating_df['new_text'])\n",
    "features = vectorizer.get_feature_names()\n",
    "kmeans = KMeans(n_clusters=int(len(seating_df['new_text'])**(0.5)))\n",
    "kmeans.fit(X)\n",
    "top_centroids = kmeans.cluster_centers_.argsort()[:,-1:-11:-1]\n",
    "print \"top features for each cluster with 1000 max features:\"\n",
    "for num, centroid in enumerate(top_centroids):\n",
    "    print \"%d: %s\" % (num, \", \".join(features[i] for i in centroid))"
   ]
  },
  {
   "cell_type": "code",
   "execution_count": 155,
   "metadata": {
    "scrolled": false
   },
   "outputs": [
    {
     "name": "stdout",
     "output_type": "stream",
     "text": [
      "cluster 0:\n",
      "    C41-32(01) Scandinavian modern style side chair in vintage Indian kantha fabric\n",
      "    Comments on: C50-5(01) Daniel Side Chair in vintage Indian kantha fabric\n",
      "    C20-10(4) Century in vintage Indian kantha fabric\n",
      "cluster 1:\n",
      "    Patara Star Chair, Black Powder Steel Base, Grey Leatherette\n",
      "    Patara 4 Star Chair, Matt Brushed Nickel Base, Grey Fabric (Oalo)\n",
      "    Patara 4 Star Chair, Chrome Base, Grey Leatherette\n",
      "cluster 2:\n",
      "    Touchstone Side Chair\n",
      "    Terry Side Chair\n",
      "    SIDE CHAIR\n",
      "cluster 3:\n",
      "    Crescent Sword Dining Chair, Walnut Veneer Steel Base, Gray And Cream Camira Wool\n",
      "    Crescent Sword Dining Chair, Walnut Veneer Steel Base, Gold Italian Ppm\n",
      "    Crescent Sword Dining Chair, Walnut Veneer Steel Base, Gold Velvet\n",
      "cluster 4:\n",
      "    Eiffel Mw Dining Chair, Stainless Steel Base, Black Ppm\n",
      "    Eiffel Mw Dining Chair, Stainless Steel Base, Orange Ppm\n",
      "    Eiffel Mw Dining Chair, Natural Veneer Steel Base, Orange Ppm\n",
      "cluster 5:\n",
      "    Eiffel Wire Dining Chair, Chrome Base, Red Leatherette\n",
      "    Eiffel Wire Dining Chair, White Powder Base, Dark Grey Camira Wool\n",
      "    Eiffel Wire Dining Chair, Black Powder Base, Brown Leatherette\n",
      "cluster 6:\n",
      "    Hilton Armless Accent Chair\n",
      "    Hilton Armless Accent Chair\n",
      "    Hilton Armless Accent Chair\n",
      "cluster 7:\n",
      "    Harput Round Chair, Stainless Steel Base, Royal Blue camira wool\n",
      "    Harput Round Chair, Stainless Steel Base, Brown Leatherette\n",
      "    Harput Round Chair, Stainless Steel Base, Amber Camira Wool\n",
      "cluster 8:\n",
      "    Calle Dining Arm Chair\n",
      "    MacLaren Dining Chair in Leather\n",
      "    The Casino Chair\n",
      "cluster 9:\n",
      "    Soho Chrome Chair, Chrome Base, Light Grey Leatherette\n",
      "    Soho Chrome Chair, Black Powder Base, Red Leatherette\n",
      "    Soho Chrome Chair, Chrome Base, Brown Leatherette\n",
      "cluster 10:\n",
      "    Eiffel Arm 4 Star Chair, Matt Brushed Nickel Base, Orange Camira Wool\n",
      "    Eiffel Arm 4 Star Chair, Chrome Base, Amber Camira Wool\n",
      "    Eiffel Arm 4 Star Chair, Matt Brushed Nickel Base, Black Ppm\n",
      "cluster 11:\n",
      "    Gilot Dining Chair\n",
      "    Mach Dining Chair Black\n",
      "    BLAKE DINING CHAIR\n",
      "cluster 12:\n",
      "    Pasha Wood High Back Chair, American Walnut Base, Light Grey Leatherette\n",
      "    Pasha Wood High Back Chair, American Walnut Base, Brown Leatherette\n",
      "    Pasha Wood High Back Chair, Solid Beech Wenge Color Base, Orange Camira Wool\n",
      "cluster 13:\n",
      "    744833598 Castilian Leather Arm Chair\n",
      "    Grable Arm Chair\n",
      "    1103 Illusion Arm & Side\n",
      "cluster 14:\n",
      "    Dervish Sword Chair, Natural Veneer Steel Base, Green Leatherette\n",
      "    Dervish Wood Chair, Solid Beech Walnut Base, White Leatherette\n",
      "    Dervish Sword Chair, Natural Veneer Steel Base, Blue Leatherette\n",
      "cluster 15:\n",
      "    Carlton Dining Arm Chair\n",
      "    Reis Chair, Chrome Plated Steel Tubes Base, Silver Camira Wool\n",
      "    Emile Dining Chair set\n",
      "cluster 16:\n",
      "    Eiffel Arm Wood Chair, Solid Beech Walnut Color Base, Sky Blue Camira Wool\n",
      "    Eiffel Arm Wood Chair, Natural Ash Base, Bone Ppm\n",
      "    Eiffel Arm Wood Chair, Solid Beech Walnut Color Base, Dark Red Ppm\n",
      "cluster 17:\n",
      "    Pasha Arm Chair, Stainless Steel Base, Grey Ppm\n",
      "    Pasha Arm Chair, Chrome Base, Light Grey Leatherette\n",
      "    Pasha Arm Chair, Stainless Steel Base, Cream Leatherette\n",
      "cluster 18:\n",
      "    Eiffel Tower Dining Chair, White Brushed Base, Brown Leatherette\n",
      "    Eiffel Tower Dining Chair, Red Brushed Base, Silver Camira Wool\n",
      "    Eiffel Tower Dining Chair, White Brushed Base, Light Grey Leatherette\n",
      "cluster 19:\n",
      "    Aria Sled Wood dining chair, Solid Beech Wenge Base, Red PPM\n",
      "    Aria Sled Wood dining chair, Solid Beech Wenge Base, Brown Leatherette\n",
      "    Aria Sled Wood Dining Chair, Solid Beech Walnut Base, Forest Green Camira Wool\n",
      "cluster 20:\n",
      "    Pasha Chrome High Back Chair, Chrome Base, White Ppm\n",
      "    Pasha Chrome High Back Chair, Chrome Base, Light Grey Leatherette\n",
      "    Pasha Chrome High Back Chair, Chrome Base, Dark Grey Wool\n",
      "cluster 21:\n",
      "    Crescent 4 Star Chair, Matt Brushed Nickel Base, Sky Blue Ppm\n",
      "    Crescent 4 Star Chair, Matt Brushed Nickel Base, White Ppm\n",
      "    Crescent 4 Star Chair, Chrome Base, Red Wool\n",
      "cluster 22:\n",
      "    Eiffel Arm Mw Dining Chair, Black Powder Steel Base, Brown Ppm\n",
      "    Eiffel Arm Mw Dining Chair, Natural Veneer Steel Base, Pistachio Camira Wool\n",
      "    Eiffel Arm Mw Dining Chair, Stainless Steel Base, Deep Maroon Casmira Wool\n",
      "cluster 23:\n",
      "    Pasha Sled Chair, Chrome Base, Orange Camira Wool\n",
      "    Pasha Sled Chair, Stainless Steel Base, Brown Leatherette\n",
      "    Pasha Sled Low Back Chair, Chrome Base, Black Leatherette\n",
      "cluster 24:\n",
      "    A BEAUTIFUL SET OF SIX ITALIAN LOUIS XV PARCEL GILT AND GREEN PAINT DINING CHAIRS\n",
      "    Metro Dining Chair (Set of 2)\n",
      "    Dawson Side Dining Chair (Set of 2)\n",
      "cluster 25:\n",
      "    Eiffel Wood Dining Chair, Solid Beech Wenge Color Base, Sky Blue Camira Wool\n",
      "    Eiffel Wood Dining Chair, Solid Beech Wenge Color Base, Green Ppm\n",
      "    Eiffel Wood Dining Chair, American Walnut Base, Sky Blue Camira Wool\n",
      "cluster 26:\n",
      "    Eiffel 4 Star Dining Chair, Chrome Base, Orange Leatherette\n",
      "    Eiffel 4 Star Dining Chair, Matt Brushed Nickel Base, Silver Camira Wool\n",
      "    Eiffel 4 Star Dining Chair, Matt Brushed Nickel Base, Light Grey Leatherette\n",
      "cluster 27:\n",
      "    Crescent Plywood Dining Chair, Natural Finish Base, Red Wool\n",
      "    Crescent Plywood Dining Chair, Natural Finish Base, Orange Camira Wool\n",
      "    CRESCENT CHAIR\n",
      "cluster 28:\n",
      "    Crescent Tower Chair, White Brushed Base, Red Ppm\n",
      "    Crescent Tower Chair, Chrome Base, Charcoal Wool\n",
      "    Crescent Tower Chair, White Brushed Base, Red Wool\n",
      "cluster 29:\n",
      "    Soho Wood Armchair, Soild Beech Wenge Color Base, White Ppm\n",
      "    Soho Wood Armchair, Soild Beech Walnut Color Base, Grey Ppm\n",
      "    Soho Sled Wood Armchair, Soild Beech Walnut Color Base, Black Genuine Leather\n",
      "cluster 30:\n",
      "    Dervish Wire Chair, Chrome Base, Cany Apple Red Camira Wool\n",
      "    Dervish Tower Dining Chair, Chrome Base, Turquoise Camira Wool\n",
      "    Dervish Wire Chair, Black Powder Base, Gray Leatherette\n",
      "cluster 31:\n",
      "    Crescent Round Chair, Beight Stainless Steel Base, Orange Camira Wool\n",
      "    Crescent Round Chair, Stainless Steel Base, Black Leatherette\n",
      "    Crescent Round Chair, Stainless Steel Base, Orange Camira Wool\n",
      "cluster 32:\n",
      "    QUADRATL SIDE CHAIR\n",
      "    QUADRATL SIDE CHAIR\n",
      "    QUADRATL SIDE CHAIR\n",
      "cluster 33:\n",
      "    Hooker Furniture Dining Room Leesburg Upholstered Arm Chair\n",
      "    Hooker Furniture Dining Room Ebony Churchill Sand Arm Dining Chair\n",
      "    Hooker Furniture Dining Room Tynecastle Ladderback Arm Chair\n",
      "cluster 34:\n",
      "    ALL SALES FINAL / NO RETURNS ON CLEARANCE ITEMS\n",
      "    ALL SALES FINAL / NO RETURNS ON CLEARANCE ITEMS\n",
      "    ALL SALES FINAL / NO RETURNS ON CLEARANCE ITEMS\n",
      "cluster 35:\n",
      "    Interiors – Gustav Side Chair – 330-585\n",
      "    Interiors – Clinton – N1522 Chair\n",
      "    Interiors – Tessa Side Chair – 353-503\n",
      "cluster 36:\n",
      "    Aria Chrome Dining Chair, Chrome Base, Grey Ppm\n",
      "    Aria Chrome Dining Chair, Chrome Base, White Ppm\n",
      "    Aria Chrome Dining Chair, Chrome Base, Deep Maroon Camira Wool\n",
      "cluster 37:\n",
      "    Polo Sled Dining Chair, Stainless Steel Base, Black Bonded Leather\n",
      "    Polo Flat Dining Chair, Chrome Plated Steel Tubes Base, Dark Grey Bonded Leather\n",
      "    Polo Flat Dining Chair, Chrome Plated Steel Tubes Base, Light Brown Bonded Leather\n",
      "cluster 38:\n",
      "    Tendy Side Chair\n",
      "    Tendy Side Chair\n",
      "    Tendy Pro Side Chair\n",
      "cluster 39:\n",
      "    Thomas Pheasant Woven Core Dining Side Chair\n",
      "    The Opera Chair\n",
      "    The Simplified Amulet Chair\n",
      "cluster 40:\n",
      "    Polo Wood Chair, American Natural Ash Base, Dark Grey Bonded Leather\n",
      "    OCEAN SIDE CHAIR WOOD BACK\n",
      "    Capri Wood Dining Chair, Solid Bleech Wenge Base, Red Ppm\n",
      "cluster 41:\n",
      "    Dervish Star  Dining Chair, Light Walnut Veneers Teel Base, Dark Grey Camira Wool\n",
      "    Dervish Mw Chair, Black Powder Steel Base, Gray Leatherette\n",
      "    Dervish Plywood Chair, Walnut Finish Base, Orange Camira Wool\n",
      "cluster 42:\n",
      "    Dining & Game Chairs 852\n",
      "    Dining & Game Chairs 655\n",
      "    259C Asa Game Chair\n",
      "cluster 43:\n",
      "    Eiffel Arm Wire Dining Chair, White Powder Steel Base, Dark Red Ppm\n",
      "    Eiffel Arm Wire Dining Chair, Black Powder Steel Base, White Leatherette\n",
      "    Eiffel Arm Wire Dining Chair, Chrome Base, Dark Red Ppm\n",
      "cluster 44:\n",
      "    Eiffel Round Dining Chair, Stainless Steel Base, Brown Leatherette\n",
      "    Eiffel Round Dining Chair, Stainless Steel Base, Orange Ppm\n",
      "    Eiffel Round Dining Chair, Stainless Steel Base, Bone Ppm\n",
      "cluster 45:\n"
     ]
    },
    {
     "name": "stdout",
     "output_type": "stream",
     "text": [
      "    Eiffel Plywood Dining Chair, Natural Finish Base, Pistachio Camira Wool\n",
      "    Eiffel Plywood Dining Chair, Natural Finish Base, Black Leather (Top-Grain)\n",
      "    Eiffel Plywood Dining Chair, Walnut Finish Base, Red Camira Wool\n",
      "cluster 46:\n",
      "    LONDON DC SIDE CHAIR\n",
      "    #DC-3093-S Hyde Park Dining Side Chair\n",
      "    LONDON DC SIDE CHAIR\n",
      "cluster 47:\n",
      "    Crescent Mw Chair, Walnut Veneer Steel Base, Black Ppm\n",
      "    Crescent Mw Chair, Walnut Veneer Steel Base, Black Leatherette\n",
      "    Crescent Mw Chair, Natural Veneer Steel Base, Black Leather (Top Grain)\n",
      "cluster 48:\n",
      "    Harput Wood Chair, American Walnut Base, Amber Camira Wool\n",
      "    Harput Sword Chair, Natural Veneer Steel Base, Orange Camira Wool\n",
      "    Harput Wood Chair, American Walnut Base, Smoke Blue camira wool\n",
      "cluster 49:\n",
      "    Eiffel Star Dining Chair, Natural Veneer Steel Base, Deep Maroon Casmira Wool\n",
      "    Eiffel Star Dining Chair, Stainless Steel Base, Bone Ppm\n",
      "    Eiffel Star Dining Chair, Stainless Steel Base, Grey And Bronze Italian Ppm\n",
      "cluster 50:\n",
      "    DIANA DINING CHAIR\n",
      "    Diana Side Chair\n",
      "    Diana Side Chair\n",
      "cluster 51:\n",
      "    Dervish 4 Star Dining Chair, Chrome Base, Turquoise Camira Wool\n",
      "    Dervish 4 Star Dining Chair, Matt Brushed Nickel Base, Black Latherette\n",
      "    Dervish 4 Star Dining Chair, Chrome Base, Blue Leatherette\n",
      "cluster 52:\n",
      "    Eiffel Arm Plywood Chair, Walnut Finish Base, Pistachio Camira Wool\n",
      "    Eiffel Arm Plywood Chair, Walnut Finish Base, Deep Maroon Casmira Wool\n",
      "    Eiffel Arm Plywood Chair, Natural Finish Base, Red Camira Wool\n",
      "cluster 53:\n",
      "    Gakko Dining Chair, Chrome Base, Black And White Ppm\n",
      "    Gakko Slide Dining Chair, Chrome Base, Deep Maroon Camira Wool\n",
      "    Gakko Slide Dining Chair, Chrome Base, White Ppm\n",
      "cluster 54:\n",
      "    Aria Wood Dining Chair, Solid Beech Walnut Base, Turquoise Camira Wool\n",
      "    Aria Wood Dining Chair, Solid Beech Walnut Base, Cream Ppm\n",
      "    Aria Wood Dining Chair, American Walnut Base, Forest Green Camira Wool\n",
      "cluster 55:\n",
      "    Eiffel Arm Sled Dining Chair, Black Powder Base, Black Leatherette\n",
      "    Eiffel Arm Sled Dining Chair, Stainless Steel Base, Deep Maroon Casmira Wool\n",
      "    Eiffel Sled Dining Chair, Black Powder Base, Orange Camira Wool\n",
      "cluster 56:\n",
      "    91919 Ladderback Rush Seat Side Chair\n",
      "    6878 LADDERBACK SIDE CHAIR\n",
      "    91919/U Ladderback Upholstered Seat Side Chair\n",
      "cluster 57:\n",
      "    Flow Talon Upholstered Dining Side Chair\n",
      "    Nobile Swing Soft Chairs\n",
      "    Rattan Chair\n",
      "cluster 58:\n",
      "    Chandler Accent Chair\n",
      "    2398 Hunter Accent Chair\n",
      "    Accent Seating Accent Chair with Tufted Back Cushion\n",
      "cluster 59:\n",
      "    SUFFOLK SIDE CHAIR\n",
      "    SUFFOLK SIDE CHAIR\n",
      "    SUFFOLK SIDE CHAIR\n",
      "cluster 60:\n",
      "    SIREN DINING ARM CHAIR\n",
      "    SIREN DINING SIDE CHAIR\n",
      "    SIREN DINING ARM CHAIR\n",
      "cluster 61:\n",
      "    Grace Dining Arm Chair\n",
      "    Grace Dining Side Chair\n",
      "    GRACE\n",
      "NEW\n",
      "cluster 62:\n",
      "    Saxony Sidechair\n",
      "    MORGAN SIDECHAIR IN WALNUT\n",
      "    #DC-364-S Feather Sidechair\n",
      "cluster 63:\n",
      "    Crescent Star Dining Chair, Walnut Veneer Steel Base, Orange Ppm\n",
      "    Crescent Star Dining Chair, Black Powder Steel Base, Red Ppm\n",
      "    Crescent Star Dining Chair, Walnut Veneer Steel Base, Red Ppm\n",
      "cluster 64:\n",
      "    VIK-TER II CUSHIONED STACKING CHAIR WITH ROUND BACK\n",
      "    Louis Stacking Dining Chair, Grape Velvet\n",
      "    Comments on: C35-05 Steel mesh stacking bistro chairs\n",
      "cluster 65:\n",
      "    Eiffel Arm Round Chair, Bright Stainless Steel Base, Dark Grey Camira Wool\n",
      "    Eiffel Arm Round Chair, Stainless Steel Base, Silver Camira Wool\n",
      "    Eiffel Arm Round Chair, Bright Stainless Steel Base, Silver Italian Ppm\n",
      "cluster 66:\n",
      "    Soho Flat Armchair, Chrome Plated Solid Steel Base, Light Grey Leatherette\n",
      "    Soho Flat Lounge Chair, Chrome Plated Solid Steel Base, Brown Leatherette\n",
      "    Soho Flat Lounge Chair, Chrome Plated Solid Steel Base, Black Leatherette\n",
      "cluster 67:\n",
      "    Betty Armchair\n",
      "    Orno Dining Armchair\n",
      "    ATHENA  ARMCHAIR\n",
      "cluster 68:\n",
      "    Capri Chrome Chair, Chrome Plated Steel Tubes Base, Silver Camira Wool\n",
      "    Capri Sled Chair, Stainless Steel Base, Caramel Italian Ppm\n",
      "    Capri Sled Chair, Stainless Steel Base, Bone Ppm\n",
      "cluster 69:\n",
      "    Sadie Dining Chair Dark Brown - M2\n",
      "    Leavenworth Dining Chair Brown\n",
      "    Freeman Dining Chair Light Brown - M2\n",
      "cluster 70:\n",
      "    Patara Wood Chair, Walnut Finish Base, Orange Camira Wool\n",
      "    Patara Wood Chair, Walnut Finish Base, Light Grey Leatherette\n",
      "    Patara Plywood Chair, American Walnut Base, Silver Camira Wool\n",
      "cluster 71:\n",
      "    SAVANNAH SIDE CHAIR\n",
      "    SAVANNAH SIDE CHAIR\n",
      "    SAVANNAH SIDE CHAIR\n",
      "cluster 72:\n",
      "    Florence Dining Chair Walnut Grey Seat - M2\n",
      "    Nadine Leather Side Chair Grey-M2\n",
      "    Cork Dining Chair Grey-M2\n",
      "cluster 73:\n",
      "    Lauren Dining Chair-Ivory White\n",
      "    PARIS DINING CHAIR BLACK&WHITE\n",
      "    Mach Dining Chair White\n",
      "cluster 74:\n",
      "    Isabella Side Chair\n",
      "    Isabella Side Chair\n",
      "    Isabella Side Chair\n",
      "cluster 75:\n",
      "    Marlboro Tufted Back Side Chair\n",
      "    Lola Tufted Armless Chair\n",
      "    15210-B Tufted Back Side Chair w/Box Seat\n",
      "cluster 76:\n",
      "    QUADRATL GRANDE SIDE CHAIR\n",
      "    QUADRATL GRANDE SIDE CHAIR\n",
      "    QUADRATL GRANDE SIDE CHAIR\n",
      "cluster 77:\n",
      "    Patara Sword Dining Chair, Walnut Veneer Steel Base, Orange Fabric (Oalo)\n",
      "    Patara Sword Dining Chair, Walnut Veneer Steel Base, Orange Camira Wool\n",
      "    Patara Sword Dining Chair, Walnut Veneer Steel Base, Deep Maroon Camira Wool\n",
      "cluster 78:\n",
      "    Nevada Arm Wood Chair, Solid Beech Walnut Finish Base, Turquoise Camira Wool\n",
      "    Nevada Sled Chair, Chrome Base, White Leatherette\n",
      "    Nevada Arm Wood Chair, Solid Beech Walnut Finish Base, Black Leatherette\n",
      "cluster 79:\n",
      "    Patara Round Chair, Chrome Base, Turquoise Camira Wool\n",
      "    Patara Round Chair, Chrome Base, Orange Camira Wool\n",
      "    Patara Round Chair, Stainless Steel Base, Light Grey Leatherette\n",
      "cluster 80:\n",
      "    Upholstered Lattice Side Chair\n",
      "    15500 Upholstered Side Chair\n",
      "    Casa D'Onore-Upholstered Side Chair\n",
      "cluster 81:\n",
      "    LEATHER CHAIR\n",
      "    LEATHER DINING SIDE CHAIR\n",
      "    LEATHER CHAIR\n",
      "cluster 82:\n",
      "    42520 Carved Host Chair\n",
      "    Marquesa – 359-X48 – Host Dining Chair (Special Order)\n",
      "    Martin Host Chair with Tight Seat w/out Arms - Ash\n",
      "cluster 83:\n",
      "    MELBOURNE SIDE CHAIR\n",
      "    MELBOURNE SIDE CHAIR\n",
      "    MELBOURNE SIDE CHAIR\n",
      "cluster 84:\n",
      "    Lusso Dining Chair Red-M2\n",
      "    Bali Chair Red-M2\n",
      "    Jackson Dining Chair Beige M2\n",
      "cluster 85:\n",
      "    Aria Flat Chair, Chrome Plated Solid Steel Base, Bone Fabric\n",
      "    Aria Flat Chair, Chrome Plated Solid Steel Base, Grey Brick\n",
      "    Aria Flat Chair, Chrome Plated Solid Steel Base, Black Leatherette\n",
      "cluster 86:\n",
      "    SLIPCOVERED DINING CHAIR\n",
      "    SLIPCOVERED DINING CHAIR\n",
      "    SLIPCOVERED DINING CHAIR\n",
      "cluster 87:\n",
      "    EDWARD BEECHWOOD HIGH BACK SIDE CHAIR\n",
      "    EDWARD BEECHWOOD HIGH BACK SIDE CHAIR\n",
      "    EDWARD BEECHWOOD HIGH BACK SIDE CHAIR\n",
      "cluster 88:\n",
      "    Caius Arm Chair, Teak\n",
      "    Sheba Chair, Teak\n",
      "    Bowie Arm Chair, Teak\n",
      "cluster 89:\n",
      "    MacLaren Armless Dining Chair\n",
      "    Kamila, Armless Chair\n",
      "    4292-10 Finch Armless Chair\n",
      "cluster 90:\n",
      "    6401-000 Chair\n",
      "    6408-000 Chair\n",
      "    3440-000 Host Chair\n",
      "cluster 91:\n",
      "    Crescent Wire Chair, Chrome Base, Pink Wool\n",
      "    Crescent Wire Chair, Chrome Base, Turquoise Camira Wool\n",
      "    Crescent Wire Chair, Chrome Base, Gray And Cream Camira Wool\n",
      "cluster 92:\n",
      "    Louis XVI Gold Leaf Striped Velvet Dining Chairs - Set of 4\n",
      "    Amalfi Wicker Chair\n",
      "    Ries Chair\n",
      "cluster 93:\n",
      "    Eiffel Sword Dining Chair, Natural Veneer Steel Base, Silver Italian Ppm\n",
      "    Eiffel Arm Sword Chair, Walnut Veneer Steel Base, Amber Camira Wool\n",
      "    Eiffel Arm Sword Chair, Walnut Veneer Steel Base, Orange Camira Wool\n",
      "cluster 94:\n",
      "    PARIS DINING CHAIR NAVY BLUE&WHITE\n",
      "    JARDIN SIDE CHAIR, NAVY BLUE\n",
      "    Delaney Side Chair Blue - M2\n",
      "cluster 95:\n",
      "    Sam Moore Dining Room Continental Camel Back Side Dining Chair\n",
      "    Sam Moore Dining Room Beckett Dining Chair\n",
      "    Sam Moore Dining Room Walden Dining\n"
     ]
    }
   ],
   "source": [
    "# 5. Print out the titles of a random sample of the products assigned to each\n",
    "# cluster to get a sense of the topic.\n",
    "assigned_cluster = kmeans.transform(X).argmin(axis=1)\n",
    "for i in range(kmeans.n_clusters):\n",
    "    cluster = np.arange(0, X.shape[0])[assigned_cluster==i]\n",
    "    sample_products = np.random.choice(cluster, 3, replace=False)\n",
    "    print \"cluster %d:\" % i\n",
    "    for product in sample_products:\n",
    "        print \"    %s\" % seating_df.iloc[product]['title']"
   ]
  },
  {
   "cell_type": "code",
   "execution_count": 156,
   "metadata": {
    "scrolled": true
   },
   "outputs": [
    {
     "name": "stdout",
     "output_type": "stream",
     "text": [
      "top 2 topics for each cluster\n",
      "Cluster 0: Contemporary,Mid Century,Transitional\n",
      " Mid Century\n",
      "Cluster 1: Contemporary,Modern\n",
      " no_styles\n",
      "Cluster 2: Contemporary,Modern\n",
      "Cluster 3: Contemporary,Modern,Transitional\n",
      " no_styles\n",
      "Cluster 4: no_styles\n",
      " Contemporary,Modern,Transitional\n",
      "Cluster 5: Contemporary,Modern\n",
      "Cluster 6: Contemporary,Modern,Transitional\n",
      " no_styles\n",
      "Cluster 7: Contemporary,Modern\n",
      "Cluster 8: no_styles\n",
      " Contemporary,Traditional,Transitional\n",
      "Cluster 9: Contemporary,Modern\n",
      "Cluster 10: Contemporary,Modern\n",
      "Cluster 11: Contemporary,Modern\n",
      "Cluster 12: Contemporary,Modern\n",
      "Cluster 13: Contemporary,Modern\n",
      " Contemporary,Traditional,Transitional\n",
      "Cluster 14: Contemporary,Modern\n",
      "Cluster 15: no_styles\n",
      " Traditional\n",
      "Cluster 16: Contemporary,Traditional,Transitional\n",
      " Asian,Coastal,Contemporary,Modern,Transitional\n",
      "Cluster 17: Contemporary,Modern\n",
      " no_styles\n",
      "Cluster 18: Contemporary,Modern\n",
      "Cluster 19: Contemporary,Modern\n",
      "Cluster 20: Contemporary,Modern\n",
      "Cluster 21: Contemporary,Modern\n",
      "Cluster 22: Contemporary,Modern\n",
      "Cluster 23: Contemporary,Modern,Transitional\n",
      " Contemporary,Traditional,Transitional\n",
      "Cluster 24: Contemporary,Modern\n",
      " Asian,Contemporary,Rustic,Transitional\n",
      "Cluster 25: Contemporary,Modern\n",
      " Contemporary,Modern,Transitional\n",
      "Cluster 26: Contemporary,Modern\n",
      "Cluster 27: no_styles\n",
      " Contemporary,Traditional,Transitional\n",
      "Cluster 28: Contemporary,Modern\n",
      "Cluster 29: Contemporary,Modern\n",
      "Cluster 30: Traditional,Transitional\n",
      " Contemporary,Modern,Traditional,Transitional\n",
      "Cluster 31: Contemporary,Modern\n",
      "Cluster 32: Contemporary,Industrial,Mid Century,Transitional\n",
      " no_styles\n",
      "Cluster 33: Contemporary,Modern\n",
      "Cluster 34: Contemporary,Modern\n",
      "Cluster 35: Traditional\n",
      "Cluster 36: Contemporary,Modern\n",
      "Cluster 37: Contemporary,Rustic,Traditional,Transitional\n",
      " Traditional\n",
      "Cluster 38: Contemporary,Modern\n",
      "Cluster 39: Contemporary,Modern\n",
      "Cluster 40: Contemporary,Modern\n",
      "Cluster 41: Contemporary,Modern\n",
      "Cluster 42: no_styles\n",
      " Coastal\n",
      "Cluster 43: Contemporary,Rustic,Traditional,Transitional\n",
      " Rustic\n",
      "Cluster 44: no_styles\n",
      " Arts and Crafts,Country,Rustic,Traditional,Transitional\n",
      "Cluster 45: no_styles\n",
      " Contemporary,Traditional,Transitional\n",
      "Cluster 46: Contemporary,Modern\n",
      " Contemporary,Traditional,Transitional\n",
      "Cluster 47: Contemporary,Modern\n",
      "Cluster 48: no_styles\n",
      " Contemporary,Modern,Transitional\n",
      "Cluster 49: Contemporary,Modern\n",
      "Cluster 50: Contemporary,Modern\n",
      "Cluster 51: Contemporary,Modern\n",
      "Cluster 52: Mid Century\n",
      "Cluster 53: Contemporary\n",
      " Transitional\n",
      "Cluster 54: Contemporary,Modern,Traditional,Transitional\n",
      " Contemporary,Modern,Transitional\n",
      "Cluster 55: Coastal,Contemporary,Mid Century,Traditional,Transitional\n",
      " Asian\n",
      "Cluster 56: Contemporary,Traditional,Transitional\n",
      " Traditional\n",
      "Cluster 57: Contemporary,Traditional,Transitional\n",
      " no_styles\n",
      "Cluster 58: Traditional\n",
      " Traditional,Transitional\n",
      "Cluster 59: Contemporary,Modern\n",
      "Cluster 60: Contemporary\n",
      " Traditional\n",
      "Cluster 61: Contemporary,Traditional,Transitional\n",
      " no_styles\n",
      "Cluster 62: Contemporary,Modern\n",
      "Cluster 63: Contemporary,Traditional,Transitional\n",
      " Contemporary,Modern,Traditional,Transitional\n",
      "Cluster 64: no_styles\n",
      " Mid Century\n",
      "Cluster 65: no_styles\n",
      " Contemporary,Industrial,Mid Century,Transitional\n",
      "Cluster 66: no_styles\n",
      " Contemporary,Rustic,Traditional,Transitional\n",
      "Cluster 67: no_styles\n",
      "Cluster 68: Contemporary,Modern\n",
      "Cluster 69: Contemporary,Modern\n",
      "Cluster 70: Contemporary,Modern\n",
      "Cluster 71: Coastal,Contemporary,Country,Traditional,Transitional\n",
      " Coastal\n",
      "Cluster 72: Contemporary,Modern\n",
      "Cluster 73: no_styles\n",
      " Mid Century\n",
      "Cluster 74: Contemporary,Modern\n",
      "Cluster 75: Contemporary,Traditional,Transitional\n",
      "Cluster 76: Contemporary,Modern\n",
      "Cluster 77: Contemporary,Modern,Transitional\n",
      " Contemporary,Industrial,Mid Century,Transitional\n",
      "Cluster 78: Mid Century\n",
      " Traditional\n",
      "Cluster 79: Coastal,Contemporary,Country,Traditional,Transitional\n",
      "Cluster 80: Contemporary,Modern\n",
      "Cluster 81: Coastal,Contemporary,Country,Traditional,Transitional\n",
      "Cluster 82: Contemporary,Traditional,Transitional\n",
      " no_styles\n",
      "Cluster 83: Contemporary,Modern\n",
      " Contemporary,Modern,Transitional\n",
      "Cluster 84: Contemporary,Traditional,Transitional\n",
      " no_styles\n",
      "Cluster 85: Traditional\n",
      " Traditional,Transitional\n",
      "Cluster 86: Contemporary,Modern\n",
      "Cluster 87: Contemporary,Country,Traditional,Transitional\n",
      " Mid Century\n",
      "Cluster 88: Contemporary,Modern\n",
      "Cluster 89: Contemporary,Country,Industrial,Rustic,Traditional,Transitional\n",
      " Hollywood Regency\n",
      "Cluster 90: Country,Rustic,Traditional\n",
      " Transitional\n",
      "Cluster 91: no_styles\n",
      " Traditional\n",
      "Cluster 92: Coastal,Contemporary,Country,Traditional,Transitional\n",
      "Cluster 93: Contemporary,Modern\n",
      "Cluster 94: no_styles\n",
      " Traditional\n",
      "Cluster 95: Contemporary,Modern,Traditional,Transitional\n",
      " Contemporary,Modern,Transitional\n"
     ]
    }
   ],
   "source": [
    "kmeans = KMeans(n_clusters=int(len(seating_df['new_text'])**(0.5)))\n",
    "kmeans.fit(X)\n",
    "assigned_cluster = kmeans.transform(X).argmin(axis=1)\n",
    "print \"top 2 topics for each cluster\"\n",
    "for i in range(kmeans.n_clusters):\n",
    "    cluster = np.arange(0, X.shape[0])[assigned_cluster==i]\n",
    "    topics = seating_df.iloc[cluster]['styles_list']\n",
    "    most_common = Counter(topics).most_common(5)\n",
    "    print \"Cluster {}: {}\".format(i, most_common[0][0])\n",
    "    if len(most_common) > 1:\n",
    "        print \" {}\".format(most_common[1][0])"
   ]
  },
  {
   "cell_type": "code",
   "execution_count": null,
   "metadata": {
    "collapsed": true,
    "scrolled": true
   },
   "outputs": [],
   "source": []
  },
  {
   "cell_type": "code",
   "execution_count": 165,
   "metadata": {
    "collapsed": true
   },
   "outputs": [],
   "source": [
    "\n",
    "small_mask = np.zeros(len(seating_df)).astype(bool)\n",
    "indices = np.arange(len(seating_df))\n",
    "for category in seating_df['styles_list'].unique():\n",
    "    category_mask = (seating_df['styles_list']==category).values\n",
    "    new_index = np.random.choice(indices[category_mask])\n",
    "    small_mask[new_index] = True\n",
    "additional_indices = np.random.choice(indices[np.logical_not(small_mask)],\n",
    "                                      360 - sum(small_mask),\n",
    "                                      replace=False)\n",
    "small_mask[additional_indices] = True\n",
    "small_df = seating_df.iloc[small_mask]\n",
    "\n"
   ]
  },
  {
   "cell_type": "code",
   "execution_count": 166,
   "metadata": {},
   "outputs": [
    {
     "name": "stderr",
     "output_type": "stream",
     "text": [
      "/home/brent/anaconda2/lib/python2.7/site-packages/ipykernel_launcher.py:19: ClusterWarning: scipy.cluster: The symmetric non-negative hollow observation matrix looks suspiciously like an uncondensed distance matrix\n"
     ]
    },
    {
     "data": {
      "image/png": "[encoded data removed]",
      "text/plain": [
       "<matplotlib.figure.Figure at 0x7fcd832a3e10>"
      ]
     },
     "metadata": {},
     "output_type": "display_data"
    }
   ],
   "source": [
    "\n",
    "# Verify that this is good:\n",
    "# assert len(small_df) == 100\n",
    "# assert len(small_df['styles_list'].unique()) == \\\n",
    "#     len(seating_df['styles_list'].unique())\n",
    "\n",
    "\n",
    "# 2-3. The first step to using scipy's Hierarchical clustering is to first find\n",
    "# out how similar our vectors are to one another.\n",
    "\n",
    "# first vectorize...\n",
    "vectorizer = TfidfVectorizer(stop_words='english', max_features=1000)\n",
    "small_X = vectorizer.fit_transform(small_df['new_text'])\n",
    "small_features = vectorizer.get_feature_names()\n",
    "\n",
    "# now get distances\n",
    "distxy = squareform(pdist(small_X.todense(), metric='cosine'))\n",
    "\n",
    "link = linkage(distxy, method='complete')\n",
    "# 5. Using scipy's dendrogram function plot the linkages as\n",
    "# a hierachical tree.\n",
    "dendro = dendrogram(link, color_threshold=1.5, leaf_font_size=12)\n",
    "plt.show()"
   ]
  },
  {
   "cell_type": "code",
   "execution_count": 170,
   "metadata": {
    "collapsed": true
   },
   "outputs": [
    {
     "data": {
      "image/png": "[encoded data removed]",
      "text/plain": [
       "<matplotlib.figure.Figure at 0x7fcd817b1c50>"
      ]
     },
     "metadata": {},
     "output_type": "display_data"
    }
   ],
   "source": [
    "## HIERARCHICAL TOPICS\n",
    "# 1. To make your clusters more interpretable, change the labels on the data\n",
    "# to be the titles of the articles.\n",
    "dendro = dendrogram(link, color_threshold=1.5, leaf_font_size=3,\n",
    "                    labels=small_df['title'].values)\n",
    "# fix spacing to better view dendrogram and the labels\n",
    "plt.subplots_adjust(top=.99, bottom=0.05, left=0.05, right=.99)\n",
    "plt.savefig('dendrogram.png')\n",
    "plt.show()\n",
    "\n"
   ]
  },
  {
   "cell_type": "code",
   "execution_count": 164,
   "metadata": {
    "scrolled": true
   },
   "outputs": [
    {
     "data": {
      "text/plain": [
       "0         Asian,Coastal ,Contemporary,Country ,Industria...\n",
       "1         Asian,Coastal ,Contemporary,Country ,Industria...\n",
       "2         Asian,Coastal ,Contemporary,Country ,Industria...\n",
       "3                                                 no_styles\n",
       "4         Asian,Coastal ,Contemporary,Country ,Industria...\n",
       "5         Asian,Coastal ,Contemporary,Country ,Industria...\n",
       "6         Asian,Coastal ,Contemporary,Country ,Industria...\n",
       "7         Asian,Coastal ,Contemporary,Country ,Industria...\n",
       "8         Asian,Coastal ,Contemporary,Country ,Industria...\n",
       "9                                                 no_styles\n",
       "10        Asian,Coastal ,Contemporary,Country ,Industria...\n",
       "11        Asian,Coastal ,Contemporary,Country ,Industria...\n",
       "12        Asian,Coastal ,Contemporary,Country ,Industria...\n",
       "13        Asian,Coastal ,Contemporary,Country ,Industria...\n",
       "14        Asian,Coastal ,Contemporary,Country ,Industria...\n",
       "15        Asian,Coastal ,Contemporary,Country ,Industria...\n",
       "16        Asian,Coastal ,Contemporary,Country ,Industria...\n",
       "17        Asian,Coastal ,Contemporary,Country ,Industria...\n",
       "18        Asian,Coastal ,Contemporary,Country ,Industria...\n",
       "19                                                no_styles\n",
       "20                                                no_styles\n",
       "21        Asian,Coastal ,Contemporary,Country ,Industria...\n",
       "22        Asian,Coastal ,Contemporary,Country ,Industria...\n",
       "23        Asian,Coastal ,Contemporary,Country ,Industria...\n",
       "24                        Arts and Crafts,Industrial,Modern\n",
       "25                                                no_styles\n",
       "26                        Arts and Crafts,Industrial,Modern\n",
       "27        Asian,Coastal ,Contemporary,Country ,Industria...\n",
       "28        Asian,Coastal ,Contemporary,Country ,Industria...\n",
       "29                                                no_styles\n",
       "                                ...                        \n",
       "186596                                            no_styles\n",
       "186597                                            no_styles\n",
       "186598                                            no_styles\n",
       "186599                                            no_styles\n",
       "186600                                            no_styles\n",
       "186601                                            no_styles\n",
       "186602                                            no_styles\n",
       "186603                                            no_styles\n",
       "186604                                            no_styles\n",
       "186605                                            no_styles\n",
       "186606                                            no_styles\n",
       "186607                                            no_styles\n",
       "186608                                            no_styles\n",
       "186609                                            no_styles\n",
       "186610                                            no_styles\n",
       "186611                                            no_styles\n",
       "186612                                            no_styles\n",
       "186613                                            no_styles\n",
       "186614                                            no_styles\n",
       "186615                                            no_styles\n",
       "186616                                            no_styles\n",
       "186617                                            no_styles\n",
       "186618                                            no_styles\n",
       "186619                                            no_styles\n",
       "186620                                            no_styles\n",
       "186621    Arts and Crafts,Coastal ,Contemporary,Hollywoo...\n",
       "186622                                            no_styles\n",
       "186623                                      Coastal ,Modern\n",
       "186624                                            no_styles\n",
       "186625                                            no_styles\n",
       "Name: styles_list, Length: 186626, dtype: object"
      ]
     },
     "execution_count": 164,
     "metadata": {},
     "output_type": "execute_result"
    }
   ],
   "source": [
    "df['styles_list']"
   ]
  },
  {
   "cell_type": "code",
   "execution_count": 1,
   "metadata": {},
   "outputs": [
    {
     "ename": "NameError",
     "evalue": "name 'df' is not defined",
     "output_type": "error",
     "traceback": [
      "\u001b[0;31m---------------------------------------------------------------------------\u001b[0m",
      "\u001b[0;31mNameError\u001b[0m                                 Traceback (most recent call last)",
      "\u001b[0;32m<ipython-input-1-857958930b27>\u001b[0m in \u001b[0;36m<module>\u001b[0;34m()\u001b[0m\n\u001b[0;32m----> 1\u001b[0;31m \u001b[0mdf\u001b[0m\u001b[0;34m.\u001b[0m\u001b[0minfo\u001b[0m\u001b[0;34m(\u001b[0m\u001b[0;34m)\u001b[0m\u001b[0;34m\u001b[0m\u001b[0m\n\u001b[0m",
      "\u001b[0;31mNameError\u001b[0m: name 'df' is not defined"
     ]
    }
   ],
   "source": [
    "df.info()"
   ]
  },
  {
   "cell_type": "code",
   "execution_count": null,
   "metadata": {
    "collapsed": true
   },
   "outputs": [],
   "source": []
  },
  {
   "cell_type": "code",
   "execution_count": null,
   "metadata": {
    "collapsed": true
   },
   "outputs": [],
   "source": []
  },
  {
   "cell_type": "code",
   "execution_count": null,
   "metadata": {
    "collapsed": true
   },
   "outputs": [],
   "source": []
  },
  {
   "cell_type": "code",
   "execution_count": null,
   "metadata": {
    "collapsed": true
   },
   "outputs": [],
   "source": []
  },
  {
   "cell_type": "code",
   "execution_count": null,
   "metadata": {
    "collapsed": true
   },
   "outputs": [],
   "source": []
  },
  {
   "cell_type": "code",
   "execution_count": null,
   "metadata": {
    "collapsed": true
   },
   "outputs": [],
   "source": []
  },
  {
   "cell_type": "code",
   "execution_count": null,
   "metadata": {
    "collapsed": true
   },
   "outputs": [],
   "source": []
  },
  {
   "cell_type": "code",
   "execution_count": null,
   "metadata": {
    "collapsed": true
   },
   "outputs": [],
   "source": []
  }
 ],
 "metadata": {
  "kernelspec": {
   "display_name": "Python 2",
   "language": "python",
   "name": "python2"
  },
  "language_info": {
   "codemirror_mode": {
    "name": "ipython",
    "version": 2
   },
   "file_extension": ".py",
   "mimetype": "text/x-python",
   "name": "python",
   "nbconvert_exporter": "python",
   "pygments_lexer": "ipython2",
   "version": "2.7.13"
  }
 },
 "nbformat": 4,
 "nbformat_minor": 2
}
